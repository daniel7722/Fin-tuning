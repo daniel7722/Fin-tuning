{
  "cells": [
    {
      "cell_type": "code",
      "execution_count": 40,
      "metadata": {
        "trusted": true
      },
      "outputs": [],
      "source": [
        "import os\n",
        "import numpy as np\n",
        "import scipy\n",
        "import tensorflow\n",
        "from tensorflow.keras import Model\n",
        "from tensorflow.keras.datasets import cifar10\n",
        "from tensorflow.keras.layers import Add, GlobalAveragePooling2D, Dense, Flatten, Conv2D, Lambda, Input, BatchNormalization, Activation, Dropout\n",
        "from tensorflow.keras.optimizers import schedules\n",
        "from tensorflow.keras.optimizers.legacy import SGD\n",
        "from tensorflow.keras.callbacks import TensorBoard, ModelCheckpoint, EarlyStopping, Callback\n",
        "from tensorflow.summary import create_file_writer\n",
        "import seaborn as sns"
      ]
    },
    {
      "cell_type": "markdown",
      "metadata": {},
      "source": [
        "# Set up Configuration "
      ]
    },
    {
      "cell_type": "code",
      "execution_count": 41,
      "metadata": {},
      "outputs": [],
      "source": [
        "# Model Configuration\n",
        "def model_configuration(): \n",
        "    \"\"\"\n",
        "    Get the model configuration\n",
        "    \"\"\"\n",
        "\n",
        "    # Load dataset for computing dataset size\n",
        "    (input_train, _), (_, _) = load_dataset()\n",
        "\n",
        "    # Generic config\n",
        "    width, height, channels = 32, 32, 3\n",
        "    batch_size = 128\n",
        "    num_classes = 10\n",
        "    validation_split = 0.1\n",
        "    verbose = 1\n",
        "    n = 3\n",
        "    init_fm_dim = 16\n",
        "    shortcut_type = \"identity\"\n",
        "    \n",
        "    # Dataset size\n",
        "    train_size = (1 - validation_split)  * len(input_train)\n",
        "    val_size = (validation_split) * len(input_train)\n",
        "\n",
        "    # Number of steps per epoch is dependent on batch size\n",
        "    maximum_number_iterations = 64000\n",
        "    steps_per_epoch = tensorflow.math.floor(train_size / batch_size)\n",
        "    val_steps_per_epoch = tensorflow.math.floor(val_size / batch_size)\n",
        "    epochs = tensorflow.cast(tensorflow.math.floor(maximum_number_iterations / steps_per_epoch), dtype=tensorflow.int64)\n",
        "\n",
        "    # Define loss function\n",
        "    loss = tensorflow.keras.losses.CategoricalCrossentropy(from_logits=True)\n",
        "\n",
        "    # Learning rate config\n",
        "    boundaries = [20000, 32000, 48000]\n",
        "    values = [0.1, 0.02, 0.01, 0.001]\n",
        "    lr_schedule = schedules.PiecewiseConstantDecay(boundaries, values)\n",
        "\n",
        "    # Set layer init\n",
        "    initialiser = tensorflow.keras.initializers.HeNormal()\n",
        "\n",
        "    # Define optimiser\n",
        "    optimiser_momentum = 0.9\n",
        "    optimiser_additional_metrics = [\"accuracy\"]\n",
        "    optimiser = SGD(learning_rate=lr_schedule, momentum=optimiser_momentum)\n",
        "\n",
        "    # Load Tensorboard callback\n",
        "    tensorboard = TensorBoard(\n",
        "\t    log_dir=os.path.join(os.getcwd(), \"logs\"),\n",
        "\t    histogram_freq=1,\n",
        "\t    write_images=True\n",
        "\t)\n",
        "\n",
        "    # Save a model checkpoint after every epoch\n",
        "    checkpoint = ModelCheckpoint(\n",
        "        os.path.join(os.getcwd(), \"model_checkpoint\"),\n",
        "        save_freq=\"epoch\"\n",
        "    )\n",
        "\n",
        "    # Early stopping callback\n",
        "    early_stopping = EarlyStopping(monitor=\"val_loss\", patience=10, verbose=1, restore_best_weights=True)\n",
        "\n",
        "\n",
        "    # Add callbacks to list\n",
        "    callbacks = [\n",
        "        tensorboard,\n",
        "        checkpoint\n",
        "    ]\n",
        "\n",
        "    #Create config dictionary\n",
        "    config = {\n",
        "        \"width\": width,\n",
        "        \"height\": height,\n",
        "        \"dim\": channels,\n",
        "        \"batch_size\": batch_size,\n",
        "        \"num_classes\": num_classes,\n",
        "        \"validation_split\": validation_split,\n",
        "        \"verbose\": verbose,\n",
        "        \"stack_n\": n,\n",
        "        \"initial_num_feature_maps\": init_fm_dim,\n",
        "        \"training_ds_size\": train_size,\n",
        "        \"steps_per_epoch\": steps_per_epoch,\n",
        "        \"val_steps_per_epoch\": val_steps_per_epoch,\n",
        "        \"num_epochs\": epochs,\n",
        "        \"loss\": loss,\n",
        "        \"optim\": optimiser,\n",
        "        \"optim_learning_rate_schedule\": lr_schedule,\n",
        "        \"optim_momentum\": optimiser_momentum,\n",
        "        \"optim_additional_metrics\": optimiser_additional_metrics,\n",
        "        \"initialiser\": initialiser,\n",
        "        \"callbacks\": callbacks,\n",
        "        \"shortcut_type\": shortcut_type,\n",
        "        \"name\": \"ResNet20\",\n",
        "        \"dropout_rate\": 0.2\n",
        "    }\n",
        "    return config"
      ]
    },
    {
      "cell_type": "markdown",
      "metadata": {},
      "source": [
        "# Loading Dataset"
      ]
    },
    {
      "cell_type": "code",
      "execution_count": 42,
      "metadata": {},
      "outputs": [],
      "source": [
        "def load_dataset():\n",
        "\t\"\"\"\n",
        "\t\tLoad the CIFAR-10 dataset\n",
        "\t\"\"\"\n",
        "\treturn cifar10.load_data()"
      ]
    },
    {
      "cell_type": "markdown",
      "metadata": {},
      "source": [
        "# Preprocessing\n",
        "## Cropping image"
      ]
    },
    {
      "cell_type": "code",
      "execution_count": 43,
      "metadata": {},
      "outputs": [],
      "source": [
        "def random_crop(img, random_crop_size): \n",
        "    # Note: image_data_format is 'channel_last'\n",
        "    # SOURCE: https://jkjung-avt.github.io/keras-image-cropping/\n",
        "\n",
        "    assert img.shape[2] == 3\n",
        "    height, width = img.shape[0], img.shape[1]\n",
        "    dy, dx = random_crop_size\n",
        "    x = np.random.randint(0, width - dx + 1)\n",
        "    y = np.random.randint(0, height - dy + 1)\n",
        "    return img[y:(y+dy), x:(x+dx), :]\n",
        "\n",
        "def crop_generator(batches, crop_length):\n",
        "    \"\"\"\n",
        "    Take as input a Keras ImageGen (Iterator) and generate random crops from the image batches generated by the original iterator\n",
        "    SOURCE: https://jkjung-avt.github.io/keras-image-cropping/\n",
        "    \"\"\"\n",
        "\n",
        "    while True: \n",
        "        batch_x, batch_y = next(batches)\n",
        "        batch_crops = np.zeros((batch_x.shape[0], crop_length, crop_length, 3))\n",
        "        for i in range(batch_x.shape[0]):\n",
        "            batch_crops[i] = random_crop(batch_x[i], (crop_length, crop_length))\n",
        "        yield (batch_crops, batch_y)"
      ]
    },
    {
      "cell_type": "code",
      "execution_count": 44,
      "metadata": {},
      "outputs": [],
      "source": [
        "def preprocessed_dataset(): \n",
        "    \"\"\"\n",
        "    Load and preprocess the CIFAR-10 dataset\n",
        "    \"\"\"\n",
        "    (input_train, target_train), (input_test, target_test) = load_dataset()\n",
        "\n",
        "    # Retrieve shape from model configuration and unpack into components\n",
        "    config = model_configuration()\n",
        "    width, height, dim = config.get(\"width\"), config.get(\"height\"), config.get(\"dim\")\n",
        "    num_classes = config.get(\"num_classes\")\n",
        "\n",
        "    # Data augmentation: perform zero padding on datasets\n",
        "    paddings = tensorflow.constant([[0,0,], [4,4], [4,4], [0,0]])\n",
        "    input_train = tensorflow.pad(input_train, paddings, mode=\"CONSTANT\")\n",
        "\n",
        "    # Convert scalar targets to categorical ones\n",
        "    target_train = tensorflow.keras.utils.to_categorical(target_train, num_classes)\n",
        "    target_test = tensorflow.keras.utils.to_categorical(target_test, num_classes)\n",
        "\n",
        "    # Data generator for training data\n",
        "    train_generator = tensorflow.keras.preprocessing.image.ImageDataGenerator(\n",
        "        validation_split=config.get(\"validation_split\"),\n",
        "        horizontal_flip=True,\n",
        "        rescale=1./255,\n",
        "        preprocessing_function = tensorflow.keras.applications.resnet50.preprocess_input\n",
        "    )\n",
        "\n",
        "    # Generate training and validation batches\n",
        "    train_batches = train_generator.flow(input_train, target_train, batch_size=config.get(\"batch_size\"), subset=\"training\")\n",
        "    validation_batches = train_generator.flow(input_train, target_train, batch_size=config.get(\"batch_size\"), subset=\"validation\")\n",
        "    train_batches = crop_generator(train_batches, config.get(\"height\"))\n",
        "    validation_batches = crop_generator(validation_batches, config.get(\"height\"))\n",
        "\n",
        "    # Data generator for testing data\n",
        "    test_generator = tensorflow.keras.preprocessing.image.ImageDataGenerator(\n",
        "        rescale=1./255,\n",
        "        preprocessing_function = tensorflow.keras.applications.resnet50.preprocess_input\n",
        "    )\n",
        "\n",
        "    # Generate testing batches\n",
        "    test_batches = test_generator.flow(input_test, target_test, batch_size=config.get(\"batch_size\"))\n",
        "\n",
        "    return train_batches, validation_batches, test_batches"
      ]
    },
    {
      "cell_type": "markdown",
      "metadata": {},
      "source": [
        "# Creating the Residual Block"
      ]
    },
    {
      "cell_type": "code",
      "execution_count": 45,
      "metadata": {},
      "outputs": [],
      "source": [
        "def residual_block(x, number_of_filters, match_filter_size=False):\n",
        "    \"\"\"\n",
        "    Residual block for ResNet\n",
        "    \"\"\"\n",
        "    # Retrieve initialiser\n",
        "    config = model_configuration()\n",
        "    initialiser = config.get(\"initialiser\")\n",
        "\n",
        "    # Create skip connection\n",
        "    x_skip = x\n",
        "\n",
        "    # Perform the original mapping\n",
        "    if match_filter_size: \n",
        "        x = Conv2D(number_of_filters, kernel_size=(3, 3), strides=(2, 2), kernel_initializer=initialiser,padding=\"same\")(x_skip)\n",
        "    else: \n",
        "        x = Conv2D(number_of_filters, kernel_size=(3, 3), strides=(1, 1), kernel_initializer=initialiser, padding=\"same\")(x_skip)\n",
        "\n",
        "    x = BatchNormalization(axis=3)(x)\n",
        "    x = Activation(\"relu\")(x)\n",
        "    x = Conv2D(number_of_filters, kernel_size=(3, 3), kernel_initializer=initialiser, padding=\"same\")(x)\n",
        "    x = BatchNormalization(axis=3)(x)\n",
        "\n",
        "    # Perform matching of filter numbers if necessary\n",
        "    if match_filter_size and config.get(\"shortcut_type\") == \"identity\": \n",
        "        x_skip = Lambda(lambda x: tensorflow.pad(x[:, ::2, ::2, :], tensorflow.constant([[0, 0,], [0, 0], [0, 0], [number_of_filters//4, number_of_filters//4]]), mode=\"CONSTANT\"))(x_skip)\n",
        "        x_skip = BatchNormalization(axis=3)(x_skip)\n",
        "    elif match_filter_size and config.get(\"shortcut_type\") == \"projection\":\n",
        "        x_skip = Conv2D(number_of_filters, kernel_size=(1,1), kernel_initializer=initializer, strides=(2,2))(x_skip)\n",
        "    \n",
        "    # Add the skip connection to the regular mapping\n",
        "    x = Add()([x, x_skip])\n",
        "\n",
        "    # Nonlinearly activate the result\n",
        "    x = Activation(\"relu\")(x)\n",
        "\n",
        "    # Return the result\n",
        "    return x"
      ]
    },
    {
      "cell_type": "code",
      "execution_count": 46,
      "metadata": {},
      "outputs": [],
      "source": [
        "def ResidualBlocks(x):\n",
        "    \"\"\" \n",
        "    Set up the residual blocks\n",
        "    \"\"\"\n",
        "\n",
        "    # Retrieve values\n",
        "    config = model_configuration()\n",
        "\n",
        "    # Set initial filter size\n",
        "    filter_size = config.get(\"initial_num_feature_maps\")\n",
        "\n",
        "    # 6n/2n = 3, there are 3 groups of residual blocks\n",
        "    for layer_group in range(3): \n",
        "\n",
        "        # Each block in our code has 2 weighted layers, and each group has 2n such blocks, so we have n blocks per group\n",
        "        for block in range(config.get(\"stack_n\")):\n",
        "\n",
        "            # Perform filter size increase at every first layer in the 2nd block onwards. \n",
        "            if layer_group > 0 and block == 0: \n",
        "                filter_size *= 2\n",
        "                x = residual_block(x, filter_size, match_filter_size=True)\n",
        "            else:\n",
        "                x = residual_block(x, filter_size)\n",
        "\n",
        "    return x"
      ]
    },
    {
      "cell_type": "code",
      "execution_count": 47,
      "metadata": {},
      "outputs": [],
      "source": [
        "def model_base(shp): \n",
        "    \"\"\"\n",
        "    Base Structure of the model, with residual blocks attached\n",
        "    \"\"\"\n",
        "\n",
        "    # Get number of classes from model configuration\n",
        "    config = model_configuration()\n",
        "    initialiser = config.get(\"initialiser\")\n",
        "\n",
        "    # Define model structure\n",
        "    # logits are returned becase Softmax is pushed to loss function\n",
        "    inputs = Input(shape=shp)\n",
        "    x = Conv2D(config.get(\"initial_num_feature_maps\"), kernel_size=(3, 3), strides=(1,1), kernel_initializer=initialiser, padding=\"same\")(inputs)\n",
        "    x = BatchNormalization()(x)\n",
        "    x = Activation(\"relu\")(x)\n",
        "    x = ResidualBlocks(x)\n",
        "    x = GlobalAveragePooling2D()(x)\n",
        "    x = Flatten()(x)\n",
        "    x = Dropout(config.get(\"dropout_rate\"))(x)\n",
        "    outputs = Dense(config.get(\"num_classes\"), kernel_initializer=initialiser)(x)\n",
        "\n",
        "    return inputs, outputs"
      ]
    },
    {
      "cell_type": "markdown",
      "metadata": {},
      "source": [
        "# Model Initialisation"
      ]
    },
    {
      "cell_type": "code",
      "execution_count": 48,
      "metadata": {},
      "outputs": [],
      "source": [
        "def init_model(): \n",
        "    \"\"\"\n",
        "    Initilise a compiled ResNet model\n",
        "    \"\"\"\n",
        "\n",
        "    # Get shape from model configuration\n",
        "    config = model_configuration()\n",
        "\n",
        "    # Get model base\n",
        "    inputs, outputs = model_base((config.get(\"width\"), config.get(\"height\"), config.get(\"dim\")))\n",
        "\n",
        "    # Initialise and compile model\n",
        "    model = Model(inputs, outputs, name=config.get(\"name\"))\n",
        "    model.compile(loss=config.get(\"loss\"), optimizer=config.get(\"optim\"), metrics=config.get(\"optim_additional_metrics\"))\n",
        "\n",
        "    # Print model summary\n",
        "    model.summary()\n",
        "\n",
        "    return model"
      ]
    },
    {
      "cell_type": "markdown",
      "metadata": {},
      "source": [
        "# Training"
      ]
    },
    {
      "cell_type": "code",
      "execution_count": 49,
      "metadata": {
        "trusted": true
      },
      "outputs": [],
      "source": [
        "def train_model(model, train_batches, validation_batches): \n",
        "    \"\"\"\n",
        "    Train an initialised model\n",
        "    \"\"\"\n",
        "\n",
        "    # Get model configuration\n",
        "    config = model_configuration()\n",
        "\n",
        "    # Fit data to model\n",
        "    model.fit(\n",
        "        train_batches,\n",
        "        batch_size=config.get(\"batch_size\"),\n",
        "        epochs=config.get(\"num_epochs\"),\n",
        "        verbose=config.get(\"verbose\"),\n",
        "        callbacks=config.get(\"callbacks\"),\n",
        "        steps_per_epoch=config.get(\"steps_per_epoch\"),\n",
        "        validation_data=validation_batches,\n",
        "        validation_steps=config.get(\"val_steps_per_epoch\")\n",
        "    )\n",
        "    return model\n"
      ]
    },
    {
      "cell_type": "markdown",
      "metadata": {},
      "source": [
        "# Evaluation"
      ]
    },
    {
      "cell_type": "code",
      "execution_count": 50,
      "metadata": {},
      "outputs": [],
      "source": [
        "def evaluate_model(model, test_batches): \n",
        "    \"\"\"\n",
        "    Evaluate a trained model\n",
        "    \"\"\"\n",
        "\n",
        "    # Evaluate the model\n",
        "    score = model.evaluate(test_batches, verbose=0)\n",
        "    print(f'Test loss: {score[0]} / Test accuracy: {score[1]}')"
      ]
    },
    {
      "cell_type": "markdown",
      "metadata": {},
      "source": [
        "# Overall Process"
      ]
    },
    {
      "cell_type": "code",
      "execution_count": 51,
      "metadata": {},
      "outputs": [],
      "source": [
        "def training_process(): \n",
        "    \"\"\"\n",
        "    Run the training process for the ResNet model\n",
        "    \"\"\"\n",
        "\n",
        "    # Get dataset\n",
        "    train_batches, validation_batches, test_batches = preprocessed_dataset()\n",
        "\n",
        "    # Initialise ResNet\n",
        "    resnet = init_model()\n",
        "\n",
        "    # Train ResNet model\n",
        "    trained_resnet = train_model(resnet, train_batches, validation_batches)\n",
        "\n",
        "    # Evaluate ResNet model\n",
        "    evaluate_model(trained_resnet, test_batches)"
      ]
    },
    {
      "cell_type": "code",
      "execution_count": 52,
      "metadata": {},
      "outputs": [
        {
          "name": "stderr",
          "output_type": "stream",
          "text": [
            "/Users/danielhuang/venv-metal/lib/python3.10/site-packages/keras/src/initializers/initializers.py:120: UserWarning: The initializer HeNormal is unseeded and being called multiple times, which will return identical values each time (even if the initializer is unseeded). Please update your code to provide a seed to the initializer, or avoid using the same initializer instance more than once.\n",
            "  warnings.warn(\n"
          ]
        },
        {
          "name": "stdout",
          "output_type": "stream",
          "text": [
            "Model: \"ResNet20\"\n",
            "__________________________________________________________________________________________________\n",
            " Layer (type)                Output Shape                 Param #   Connected to                  \n",
            "==================================================================================================\n",
            " input_4 (InputLayer)        [(None, 32, 32, 3)]          0         []                            \n",
            "                                                                                                  \n",
            " conv2d_57 (Conv2D)          (None, 32, 32, 16)           448       ['input_4[0][0]']             \n",
            "                                                                                                  \n",
            " batch_normalization_64 (Ba  (None, 32, 32, 16)           64        ['conv2d_57[0][0]']           \n",
            " tchNormalization)                                                                                \n",
            "                                                                                                  \n",
            " activation_58 (Activation)  (None, 32, 32, 16)           0         ['batch_normalization_64[0][0]\n",
            "                                                                    ']                            \n",
            "                                                                                                  \n",
            " conv2d_58 (Conv2D)          (None, 32, 32, 16)           2320      ['activation_58[0][0]']       \n",
            "                                                                                                  \n",
            " batch_normalization_65 (Ba  (None, 32, 32, 16)           64        ['conv2d_58[0][0]']           \n",
            " tchNormalization)                                                                                \n",
            "                                                                                                  \n",
            " activation_59 (Activation)  (None, 32, 32, 16)           0         ['batch_normalization_65[0][0]\n",
            "                                                                    ']                            \n",
            "                                                                                                  \n",
            " conv2d_59 (Conv2D)          (None, 32, 32, 16)           2320      ['activation_59[0][0]']       \n",
            "                                                                                                  \n",
            " batch_normalization_66 (Ba  (None, 32, 32, 16)           64        ['conv2d_59[0][0]']           \n",
            " tchNormalization)                                                                                \n",
            "                                                                                                  \n",
            " add_27 (Add)                (None, 32, 32, 16)           0         ['batch_normalization_66[0][0]\n",
            "                                                                    ',                            \n",
            "                                                                     'activation_58[0][0]']       \n",
            "                                                                                                  \n",
            " activation_60 (Activation)  (None, 32, 32, 16)           0         ['add_27[0][0]']              \n",
            "                                                                                                  \n",
            " conv2d_60 (Conv2D)          (None, 32, 32, 16)           2320      ['activation_60[0][0]']       \n",
            "                                                                                                  \n",
            " batch_normalization_67 (Ba  (None, 32, 32, 16)           64        ['conv2d_60[0][0]']           \n",
            " tchNormalization)                                                                                \n",
            "                                                                                                  \n",
            " activation_61 (Activation)  (None, 32, 32, 16)           0         ['batch_normalization_67[0][0]\n",
            "                                                                    ']                            \n",
            "                                                                                                  \n",
            " conv2d_61 (Conv2D)          (None, 32, 32, 16)           2320      ['activation_61[0][0]']       \n",
            "                                                                                                  \n",
            " batch_normalization_68 (Ba  (None, 32, 32, 16)           64        ['conv2d_61[0][0]']           \n",
            " tchNormalization)                                                                                \n",
            "                                                                                                  \n",
            " add_28 (Add)                (None, 32, 32, 16)           0         ['batch_normalization_68[0][0]\n",
            "                                                                    ',                            \n",
            "                                                                     'activation_60[0][0]']       \n",
            "                                                                                                  \n",
            " activation_62 (Activation)  (None, 32, 32, 16)           0         ['add_28[0][0]']              \n",
            "                                                                                                  \n",
            " conv2d_62 (Conv2D)          (None, 32, 32, 16)           2320      ['activation_62[0][0]']       \n",
            "                                                                                                  \n",
            " batch_normalization_69 (Ba  (None, 32, 32, 16)           64        ['conv2d_62[0][0]']           \n",
            " tchNormalization)                                                                                \n",
            "                                                                                                  \n",
            " activation_63 (Activation)  (None, 32, 32, 16)           0         ['batch_normalization_69[0][0]\n",
            "                                                                    ']                            \n",
            "                                                                                                  \n",
            " conv2d_63 (Conv2D)          (None, 32, 32, 16)           2320      ['activation_63[0][0]']       \n",
            "                                                                                                  \n",
            " batch_normalization_70 (Ba  (None, 32, 32, 16)           64        ['conv2d_63[0][0]']           \n",
            " tchNormalization)                                                                                \n",
            "                                                                                                  \n",
            " add_29 (Add)                (None, 32, 32, 16)           0         ['batch_normalization_70[0][0]\n",
            "                                                                    ',                            \n",
            "                                                                     'activation_62[0][0]']       \n",
            "                                                                                                  \n",
            " activation_64 (Activation)  (None, 32, 32, 16)           0         ['add_29[0][0]']              \n",
            "                                                                                                  \n",
            " conv2d_64 (Conv2D)          (None, 16, 16, 32)           4640      ['activation_64[0][0]']       \n",
            "                                                                                                  \n",
            " batch_normalization_71 (Ba  (None, 16, 16, 32)           128       ['conv2d_64[0][0]']           \n",
            " tchNormalization)                                                                                \n",
            "                                                                                                  \n",
            " activation_65 (Activation)  (None, 16, 16, 32)           0         ['batch_normalization_71[0][0]\n",
            "                                                                    ']                            \n",
            "                                                                                                  \n",
            " conv2d_65 (Conv2D)          (None, 16, 16, 32)           9248      ['activation_65[0][0]']       \n",
            "                                                                                                  \n",
            " lambda_6 (Lambda)           (None, 16, 16, 32)           0         ['activation_64[0][0]']       \n",
            "                                                                                                  \n",
            " batch_normalization_72 (Ba  (None, 16, 16, 32)           128       ['conv2d_65[0][0]']           \n",
            " tchNormalization)                                                                                \n",
            "                                                                                                  \n",
            " batch_normalization_73 (Ba  (None, 16, 16, 32)           128       ['lambda_6[0][0]']            \n",
            " tchNormalization)                                                                                \n",
            "                                                                                                  \n",
            " add_30 (Add)                (None, 16, 16, 32)           0         ['batch_normalization_72[0][0]\n",
            "                                                                    ',                            \n",
            "                                                                     'batch_normalization_73[0][0]\n",
            "                                                                    ']                            \n",
            "                                                                                                  \n",
            " activation_66 (Activation)  (None, 16, 16, 32)           0         ['add_30[0][0]']              \n",
            "                                                                                                  \n",
            " conv2d_66 (Conv2D)          (None, 16, 16, 32)           9248      ['activation_66[0][0]']       \n",
            "                                                                                                  \n",
            " batch_normalization_74 (Ba  (None, 16, 16, 32)           128       ['conv2d_66[0][0]']           \n",
            " tchNormalization)                                                                                \n",
            "                                                                                                  \n",
            " activation_67 (Activation)  (None, 16, 16, 32)           0         ['batch_normalization_74[0][0]\n",
            "                                                                    ']                            \n",
            "                                                                                                  \n",
            " conv2d_67 (Conv2D)          (None, 16, 16, 32)           9248      ['activation_67[0][0]']       \n",
            "                                                                                                  \n",
            " batch_normalization_75 (Ba  (None, 16, 16, 32)           128       ['conv2d_67[0][0]']           \n",
            " tchNormalization)                                                                                \n",
            "                                                                                                  \n",
            " add_31 (Add)                (None, 16, 16, 32)           0         ['batch_normalization_75[0][0]\n",
            "                                                                    ',                            \n",
            "                                                                     'activation_66[0][0]']       \n",
            "                                                                                                  \n",
            " activation_68 (Activation)  (None, 16, 16, 32)           0         ['add_31[0][0]']              \n",
            "                                                                                                  \n",
            " conv2d_68 (Conv2D)          (None, 16, 16, 32)           9248      ['activation_68[0][0]']       \n",
            "                                                                                                  \n",
            " batch_normalization_76 (Ba  (None, 16, 16, 32)           128       ['conv2d_68[0][0]']           \n",
            " tchNormalization)                                                                                \n",
            "                                                                                                  \n",
            " activation_69 (Activation)  (None, 16, 16, 32)           0         ['batch_normalization_76[0][0]\n",
            "                                                                    ']                            \n",
            "                                                                                                  \n",
            " conv2d_69 (Conv2D)          (None, 16, 16, 32)           9248      ['activation_69[0][0]']       \n",
            "                                                                                                  \n",
            " batch_normalization_77 (Ba  (None, 16, 16, 32)           128       ['conv2d_69[0][0]']           \n",
            " tchNormalization)                                                                                \n",
            "                                                                                                  \n",
            " add_32 (Add)                (None, 16, 16, 32)           0         ['batch_normalization_77[0][0]\n",
            "                                                                    ',                            \n",
            "                                                                     'activation_68[0][0]']       \n",
            "                                                                                                  \n",
            " activation_70 (Activation)  (None, 16, 16, 32)           0         ['add_32[0][0]']              \n",
            "                                                                                                  \n",
            " conv2d_70 (Conv2D)          (None, 8, 8, 64)             18496     ['activation_70[0][0]']       \n",
            "                                                                                                  \n",
            " batch_normalization_78 (Ba  (None, 8, 8, 64)             256       ['conv2d_70[0][0]']           \n",
            " tchNormalization)                                                                                \n",
            "                                                                                                  \n",
            " activation_71 (Activation)  (None, 8, 8, 64)             0         ['batch_normalization_78[0][0]\n",
            "                                                                    ']                            \n",
            "                                                                                                  \n",
            " conv2d_71 (Conv2D)          (None, 8, 8, 64)             36928     ['activation_71[0][0]']       \n",
            "                                                                                                  \n",
            " lambda_7 (Lambda)           (None, 8, 8, 64)             0         ['activation_70[0][0]']       \n",
            "                                                                                                  \n",
            " batch_normalization_79 (Ba  (None, 8, 8, 64)             256       ['conv2d_71[0][0]']           \n",
            " tchNormalization)                                                                                \n",
            "                                                                                                  \n",
            " batch_normalization_80 (Ba  (None, 8, 8, 64)             256       ['lambda_7[0][0]']            \n",
            " tchNormalization)                                                                                \n",
            "                                                                                                  \n",
            " add_33 (Add)                (None, 8, 8, 64)             0         ['batch_normalization_79[0][0]\n",
            "                                                                    ',                            \n",
            "                                                                     'batch_normalization_80[0][0]\n",
            "                                                                    ']                            \n",
            "                                                                                                  \n",
            " activation_72 (Activation)  (None, 8, 8, 64)             0         ['add_33[0][0]']              \n",
            "                                                                                                  \n",
            " conv2d_72 (Conv2D)          (None, 8, 8, 64)             36928     ['activation_72[0][0]']       \n",
            "                                                                                                  \n",
            " batch_normalization_81 (Ba  (None, 8, 8, 64)             256       ['conv2d_72[0][0]']           \n",
            " tchNormalization)                                                                                \n",
            "                                                                                                  \n",
            " activation_73 (Activation)  (None, 8, 8, 64)             0         ['batch_normalization_81[0][0]\n",
            "                                                                    ']                            \n",
            "                                                                                                  \n",
            " conv2d_73 (Conv2D)          (None, 8, 8, 64)             36928     ['activation_73[0][0]']       \n",
            "                                                                                                  \n",
            " batch_normalization_82 (Ba  (None, 8, 8, 64)             256       ['conv2d_73[0][0]']           \n",
            " tchNormalization)                                                                                \n",
            "                                                                                                  \n",
            " add_34 (Add)                (None, 8, 8, 64)             0         ['batch_normalization_82[0][0]\n",
            "                                                                    ',                            \n",
            "                                                                     'activation_72[0][0]']       \n",
            "                                                                                                  \n",
            " activation_74 (Activation)  (None, 8, 8, 64)             0         ['add_34[0][0]']              \n",
            "                                                                                                  \n",
            " conv2d_74 (Conv2D)          (None, 8, 8, 64)             36928     ['activation_74[0][0]']       \n",
            "                                                                                                  \n",
            " batch_normalization_83 (Ba  (None, 8, 8, 64)             256       ['conv2d_74[0][0]']           \n",
            " tchNormalization)                                                                                \n",
            "                                                                                                  \n",
            " activation_75 (Activation)  (None, 8, 8, 64)             0         ['batch_normalization_83[0][0]\n",
            "                                                                    ']                            \n",
            "                                                                                                  \n",
            " conv2d_75 (Conv2D)          (None, 8, 8, 64)             36928     ['activation_75[0][0]']       \n",
            "                                                                                                  \n",
            " batch_normalization_84 (Ba  (None, 8, 8, 64)             256       ['conv2d_75[0][0]']           \n",
            " tchNormalization)                                                                                \n",
            "                                                                                                  \n",
            " add_35 (Add)                (None, 8, 8, 64)             0         ['batch_normalization_84[0][0]\n",
            "                                                                    ',                            \n",
            "                                                                     'activation_74[0][0]']       \n",
            "                                                                                                  \n",
            " activation_76 (Activation)  (None, 8, 8, 64)             0         ['add_35[0][0]']              \n",
            "                                                                                                  \n",
            " global_average_pooling2d_3  (None, 64)                   0         ['activation_76[0][0]']       \n",
            "  (GlobalAveragePooling2D)                                                                        \n",
            "                                                                                                  \n",
            " flatten_3 (Flatten)         (None, 64)                   0         ['global_average_pooling2d_3[0\n",
            "                                                                    ][0]']                        \n",
            "                                                                                                  \n",
            " dropout_3 (Dropout)         (None, 64)                   0         ['flatten_3[0][0]']           \n",
            "                                                                                                  \n",
            " dense_4 (Dense)             (None, 10)                   650       ['dropout_3[0][0]']           \n",
            "                                                                                                  \n",
            "==================================================================================================\n",
            "Total params: 272170 (1.04 MB)\n",
            "Trainable params: 270602 (1.03 MB)\n",
            "Non-trainable params: 1568 (6.12 KB)\n",
            "__________________________________________________________________________________________________\n",
            "Epoch 1/182\n",
            "351/351 [==============================] - ETA: 0s - loss: 1.7229 - accuracy: 0.3574INFO:tensorflow:Assets written to: /Users/danielhuang/tinyML/Fine-tuning/model_checkpoint/assets\n"
          ]
        },
        {
          "name": "stderr",
          "output_type": "stream",
          "text": [
            "INFO:tensorflow:Assets written to: /Users/danielhuang/tinyML/Fine-tuning/model_checkpoint/assets\n"
          ]
        },
        {
          "name": "stdout",
          "output_type": "stream",
          "text": [
            "351/351 [==============================] - 29s 75ms/step - loss: 1.7229 - accuracy: 0.3574 - val_loss: 3.3909 - val_accuracy: 0.2133\n",
            "Epoch 2/182\n",
            "351/351 [==============================] - ETA: 0s - loss: 1.2653 - accuracy: 0.5366INFO:tensorflow:Assets written to: /Users/danielhuang/tinyML/Fine-tuning/model_checkpoint/assets\n"
          ]
        },
        {
          "name": "stderr",
          "output_type": "stream",
          "text": [
            "INFO:tensorflow:Assets written to: /Users/danielhuang/tinyML/Fine-tuning/model_checkpoint/assets\n"
          ]
        },
        {
          "name": "stdout",
          "output_type": "stream",
          "text": [
            "351/351 [==============================] - 25s 70ms/step - loss: 1.2653 - accuracy: 0.5366 - val_loss: 1.5207 - val_accuracy: 0.5033\n",
            "Epoch 3/182\n",
            "351/351 [==============================] - ETA: 0s - loss: 1.0417 - accuracy: 0.6255INFO:tensorflow:Assets written to: /Users/danielhuang/tinyML/Fine-tuning/model_checkpoint/assets\n"
          ]
        },
        {
          "name": "stderr",
          "output_type": "stream",
          "text": [
            "INFO:tensorflow:Assets written to: /Users/danielhuang/tinyML/Fine-tuning/model_checkpoint/assets\n"
          ]
        },
        {
          "name": "stdout",
          "output_type": "stream",
          "text": [
            "351/351 [==============================] - 26s 72ms/step - loss: 1.0417 - accuracy: 0.6255 - val_loss: 1.3972 - val_accuracy: 0.5495\n",
            "Epoch 4/182\n",
            "351/351 [==============================] - ETA: 0s - loss: 0.8962 - accuracy: 0.6802INFO:tensorflow:Assets written to: /Users/danielhuang/tinyML/Fine-tuning/model_checkpoint/assets\n"
          ]
        },
        {
          "name": "stderr",
          "output_type": "stream",
          "text": [
            "INFO:tensorflow:Assets written to: /Users/danielhuang/tinyML/Fine-tuning/model_checkpoint/assets\n"
          ]
        },
        {
          "name": "stdout",
          "output_type": "stream",
          "text": [
            "351/351 [==============================] - 25s 70ms/step - loss: 0.8962 - accuracy: 0.6802 - val_loss: 1.0918 - val_accuracy: 0.6295\n",
            "Epoch 5/182\n",
            "351/351 [==============================] - ETA: 0s - loss: 0.7869 - accuracy: 0.7245INFO:tensorflow:Assets written to: /Users/danielhuang/tinyML/Fine-tuning/model_checkpoint/assets\n"
          ]
        },
        {
          "name": "stderr",
          "output_type": "stream",
          "text": [
            "INFO:tensorflow:Assets written to: /Users/danielhuang/tinyML/Fine-tuning/model_checkpoint/assets\n"
          ]
        },
        {
          "name": "stdout",
          "output_type": "stream",
          "text": [
            "351/351 [==============================] - 25s 71ms/step - loss: 0.7869 - accuracy: 0.7245 - val_loss: 1.1478 - val_accuracy: 0.6305\n",
            "Epoch 6/182\n",
            "351/351 [==============================] - ETA: 0s - loss: 0.7140 - accuracy: 0.7512INFO:tensorflow:Assets written to: /Users/danielhuang/tinyML/Fine-tuning/model_checkpoint/assets\n"
          ]
        },
        {
          "name": "stderr",
          "output_type": "stream",
          "text": [
            "INFO:tensorflow:Assets written to: /Users/danielhuang/tinyML/Fine-tuning/model_checkpoint/assets\n"
          ]
        },
        {
          "name": "stdout",
          "output_type": "stream",
          "text": [
            "351/351 [==============================] - 25s 71ms/step - loss: 0.7140 - accuracy: 0.7512 - val_loss: 0.7969 - val_accuracy: 0.7217\n",
            "Epoch 7/182\n",
            "351/351 [==============================] - ETA: 0s - loss: 0.6524 - accuracy: 0.7716INFO:tensorflow:Assets written to: /Users/danielhuang/tinyML/Fine-tuning/model_checkpoint/assets\n"
          ]
        },
        {
          "name": "stderr",
          "output_type": "stream",
          "text": [
            "INFO:tensorflow:Assets written to: /Users/danielhuang/tinyML/Fine-tuning/model_checkpoint/assets\n"
          ]
        },
        {
          "name": "stdout",
          "output_type": "stream",
          "text": [
            "351/351 [==============================] - 25s 71ms/step - loss: 0.6524 - accuracy: 0.7716 - val_loss: 0.8769 - val_accuracy: 0.7011\n",
            "Epoch 8/182\n",
            "350/351 [============================>.] - ETA: 0s - loss: 0.6114 - accuracy: 0.7895INFO:tensorflow:Assets written to: /Users/danielhuang/tinyML/Fine-tuning/model_checkpoint/assets\n"
          ]
        },
        {
          "name": "stderr",
          "output_type": "stream",
          "text": [
            "INFO:tensorflow:Assets written to: /Users/danielhuang/tinyML/Fine-tuning/model_checkpoint/assets\n"
          ]
        },
        {
          "name": "stdout",
          "output_type": "stream",
          "text": [
            "351/351 [==============================] - 24s 70ms/step - loss: 0.6116 - accuracy: 0.7893 - val_loss: 0.9801 - val_accuracy: 0.6851\n",
            "Epoch 9/182\n",
            "351/351 [==============================] - ETA: 0s - loss: 0.5675 - accuracy: 0.8037INFO:tensorflow:Assets written to: /Users/danielhuang/tinyML/Fine-tuning/model_checkpoint/assets\n"
          ]
        },
        {
          "name": "stderr",
          "output_type": "stream",
          "text": [
            "INFO:tensorflow:Assets written to: /Users/danielhuang/tinyML/Fine-tuning/model_checkpoint/assets\n"
          ]
        },
        {
          "name": "stdout",
          "output_type": "stream",
          "text": [
            "351/351 [==============================] - 25s 71ms/step - loss: 0.5675 - accuracy: 0.8037 - val_loss: 0.9095 - val_accuracy: 0.7282\n",
            "Epoch 10/182\n",
            "351/351 [==============================] - ETA: 0s - loss: 0.5474 - accuracy: 0.8108INFO:tensorflow:Assets written to: /Users/danielhuang/tinyML/Fine-tuning/model_checkpoint/assets\n"
          ]
        },
        {
          "name": "stderr",
          "output_type": "stream",
          "text": [
            "INFO:tensorflow:Assets written to: /Users/danielhuang/tinyML/Fine-tuning/model_checkpoint/assets\n"
          ]
        },
        {
          "name": "stdout",
          "output_type": "stream",
          "text": [
            "351/351 [==============================] - 26s 74ms/step - loss: 0.5474 - accuracy: 0.8108 - val_loss: 0.7606 - val_accuracy: 0.7360\n",
            "Epoch 11/182\n",
            "351/351 [==============================] - ETA: 0s - loss: 0.5156 - accuracy: 0.8227INFO:tensorflow:Assets written to: /Users/danielhuang/tinyML/Fine-tuning/model_checkpoint/assets\n"
          ]
        },
        {
          "name": "stderr",
          "output_type": "stream",
          "text": [
            "INFO:tensorflow:Assets written to: /Users/danielhuang/tinyML/Fine-tuning/model_checkpoint/assets\n"
          ]
        },
        {
          "name": "stdout",
          "output_type": "stream",
          "text": [
            "351/351 [==============================] - 25s 70ms/step - loss: 0.5156 - accuracy: 0.8227 - val_loss: 0.5784 - val_accuracy: 0.8058\n",
            "Epoch 12/182\n",
            "351/351 [==============================] - ETA: 0s - loss: 0.4925 - accuracy: 0.8305INFO:tensorflow:Assets written to: /Users/danielhuang/tinyML/Fine-tuning/model_checkpoint/assets\n"
          ]
        },
        {
          "name": "stderr",
          "output_type": "stream",
          "text": [
            "INFO:tensorflow:Assets written to: /Users/danielhuang/tinyML/Fine-tuning/model_checkpoint/assets\n"
          ]
        },
        {
          "name": "stdout",
          "output_type": "stream",
          "text": [
            "351/351 [==============================] - 24s 69ms/step - loss: 0.4925 - accuracy: 0.8305 - val_loss: 0.7964 - val_accuracy: 0.7352\n",
            "Epoch 13/182\n",
            "351/351 [==============================] - ETA: 0s - loss: 0.4718 - accuracy: 0.8383INFO:tensorflow:Assets written to: /Users/danielhuang/tinyML/Fine-tuning/model_checkpoint/assets\n"
          ]
        },
        {
          "name": "stderr",
          "output_type": "stream",
          "text": [
            "INFO:tensorflow:Assets written to: /Users/danielhuang/tinyML/Fine-tuning/model_checkpoint/assets\n"
          ]
        },
        {
          "name": "stdout",
          "output_type": "stream",
          "text": [
            "351/351 [==============================] - 24s 69ms/step - loss: 0.4718 - accuracy: 0.8383 - val_loss: 0.6102 - val_accuracy: 0.8015\n",
            "Epoch 14/182\n",
            "351/351 [==============================] - ETA: 0s - loss: 0.4576 - accuracy: 0.8416INFO:tensorflow:Assets written to: /Users/danielhuang/tinyML/Fine-tuning/model_checkpoint/assets\n"
          ]
        },
        {
          "name": "stderr",
          "output_type": "stream",
          "text": [
            "INFO:tensorflow:Assets written to: /Users/danielhuang/tinyML/Fine-tuning/model_checkpoint/assets\n"
          ]
        },
        {
          "name": "stdout",
          "output_type": "stream",
          "text": [
            "351/351 [==============================] - 24s 69ms/step - loss: 0.4576 - accuracy: 0.8416 - val_loss: 0.7547 - val_accuracy: 0.7672\n",
            "Epoch 15/182\n",
            "351/351 [==============================] - ETA: 0s - loss: 0.4400 - accuracy: 0.8474INFO:tensorflow:Assets written to: /Users/danielhuang/tinyML/Fine-tuning/model_checkpoint/assets\n"
          ]
        },
        {
          "name": "stderr",
          "output_type": "stream",
          "text": [
            "INFO:tensorflow:Assets written to: /Users/danielhuang/tinyML/Fine-tuning/model_checkpoint/assets\n"
          ]
        },
        {
          "name": "stdout",
          "output_type": "stream",
          "text": [
            "351/351 [==============================] - 25s 71ms/step - loss: 0.4400 - accuracy: 0.8474 - val_loss: 0.5885 - val_accuracy: 0.8046\n",
            "Epoch 16/182\n",
            "351/351 [==============================] - ETA: 0s - loss: 0.4186 - accuracy: 0.8568INFO:tensorflow:Assets written to: /Users/danielhuang/tinyML/Fine-tuning/model_checkpoint/assets\n"
          ]
        },
        {
          "name": "stderr",
          "output_type": "stream",
          "text": [
            "INFO:tensorflow:Assets written to: /Users/danielhuang/tinyML/Fine-tuning/model_checkpoint/assets\n"
          ]
        },
        {
          "name": "stdout",
          "output_type": "stream",
          "text": [
            "351/351 [==============================] - 25s 71ms/step - loss: 0.4186 - accuracy: 0.8568 - val_loss: 0.6990 - val_accuracy: 0.7642\n",
            "Epoch 17/182\n",
            "351/351 [==============================] - ETA: 0s - loss: 0.4034 - accuracy: 0.8610INFO:tensorflow:Assets written to: /Users/danielhuang/tinyML/Fine-tuning/model_checkpoint/assets\n"
          ]
        },
        {
          "name": "stderr",
          "output_type": "stream",
          "text": [
            "INFO:tensorflow:Assets written to: /Users/danielhuang/tinyML/Fine-tuning/model_checkpoint/assets\n"
          ]
        },
        {
          "name": "stdout",
          "output_type": "stream",
          "text": [
            "351/351 [==============================] - 25s 71ms/step - loss: 0.4034 - accuracy: 0.8610 - val_loss: 0.5791 - val_accuracy: 0.8126\n",
            "Epoch 18/182\n",
            "351/351 [==============================] - ETA: 0s - loss: 0.3926 - accuracy: 0.8643INFO:tensorflow:Assets written to: /Users/danielhuang/tinyML/Fine-tuning/model_checkpoint/assets\n"
          ]
        },
        {
          "name": "stderr",
          "output_type": "stream",
          "text": [
            "INFO:tensorflow:Assets written to: /Users/danielhuang/tinyML/Fine-tuning/model_checkpoint/assets\n"
          ]
        },
        {
          "name": "stdout",
          "output_type": "stream",
          "text": [
            "351/351 [==============================] - 24s 69ms/step - loss: 0.3926 - accuracy: 0.8643 - val_loss: 0.5816 - val_accuracy: 0.8083\n",
            "Epoch 19/182\n",
            "351/351 [==============================] - ETA: 0s - loss: 0.3842 - accuracy: 0.8681INFO:tensorflow:Assets written to: /Users/danielhuang/tinyML/Fine-tuning/model_checkpoint/assets\n"
          ]
        },
        {
          "name": "stderr",
          "output_type": "stream",
          "text": [
            "INFO:tensorflow:Assets written to: /Users/danielhuang/tinyML/Fine-tuning/model_checkpoint/assets\n"
          ]
        },
        {
          "name": "stdout",
          "output_type": "stream",
          "text": [
            "351/351 [==============================] - 25s 72ms/step - loss: 0.3842 - accuracy: 0.8681 - val_loss: 0.5197 - val_accuracy: 0.8268\n",
            "Epoch 20/182\n",
            "351/351 [==============================] - ETA: 0s - loss: 0.3698 - accuracy: 0.8718INFO:tensorflow:Assets written to: /Users/danielhuang/tinyML/Fine-tuning/model_checkpoint/assets\n"
          ]
        },
        {
          "name": "stderr",
          "output_type": "stream",
          "text": [
            "INFO:tensorflow:Assets written to: /Users/danielhuang/tinyML/Fine-tuning/model_checkpoint/assets\n"
          ]
        },
        {
          "name": "stdout",
          "output_type": "stream",
          "text": [
            "351/351 [==============================] - 26s 74ms/step - loss: 0.3698 - accuracy: 0.8718 - val_loss: 0.5231 - val_accuracy: 0.8243\n",
            "Epoch 21/182\n",
            "351/351 [==============================] - ETA: 0s - loss: 0.3601 - accuracy: 0.8764INFO:tensorflow:Assets written to: /Users/danielhuang/tinyML/Fine-tuning/model_checkpoint/assets\n"
          ]
        },
        {
          "name": "stderr",
          "output_type": "stream",
          "text": [
            "INFO:tensorflow:Assets written to: /Users/danielhuang/tinyML/Fine-tuning/model_checkpoint/assets\n"
          ]
        },
        {
          "name": "stdout",
          "output_type": "stream",
          "text": [
            "351/351 [==============================] - 27s 78ms/step - loss: 0.3601 - accuracy: 0.8764 - val_loss: 0.6211 - val_accuracy: 0.8138\n",
            "Epoch 22/182\n",
            "351/351 [==============================] - ETA: 0s - loss: 0.3477 - accuracy: 0.8799INFO:tensorflow:Assets written to: /Users/danielhuang/tinyML/Fine-tuning/model_checkpoint/assets\n"
          ]
        },
        {
          "name": "stderr",
          "output_type": "stream",
          "text": [
            "INFO:tensorflow:Assets written to: /Users/danielhuang/tinyML/Fine-tuning/model_checkpoint/assets\n"
          ]
        },
        {
          "name": "stdout",
          "output_type": "stream",
          "text": [
            "351/351 [==============================] - 25s 70ms/step - loss: 0.3477 - accuracy: 0.8799 - val_loss: 0.7447 - val_accuracy: 0.7672\n",
            "Epoch 23/182\n",
            "351/351 [==============================] - ETA: 0s - loss: 0.3387 - accuracy: 0.8830INFO:tensorflow:Assets written to: /Users/danielhuang/tinyML/Fine-tuning/model_checkpoint/assets\n"
          ]
        },
        {
          "name": "stderr",
          "output_type": "stream",
          "text": [
            "INFO:tensorflow:Assets written to: /Users/danielhuang/tinyML/Fine-tuning/model_checkpoint/assets\n"
          ]
        },
        {
          "name": "stdout",
          "output_type": "stream",
          "text": [
            "351/351 [==============================] - 25s 70ms/step - loss: 0.3387 - accuracy: 0.8830 - val_loss: 0.6987 - val_accuracy: 0.7845\n",
            "Epoch 24/182\n",
            "351/351 [==============================] - ETA: 0s - loss: 0.3323 - accuracy: 0.8841INFO:tensorflow:Assets written to: /Users/danielhuang/tinyML/Fine-tuning/model_checkpoint/assets\n"
          ]
        },
        {
          "name": "stderr",
          "output_type": "stream",
          "text": [
            "INFO:tensorflow:Assets written to: /Users/danielhuang/tinyML/Fine-tuning/model_checkpoint/assets\n"
          ]
        },
        {
          "name": "stdout",
          "output_type": "stream",
          "text": [
            "351/351 [==============================] - 24s 68ms/step - loss: 0.3323 - accuracy: 0.8841 - val_loss: 0.6225 - val_accuracy: 0.7923\n",
            "Epoch 25/182\n",
            "351/351 [==============================] - ETA: 0s - loss: 0.3236 - accuracy: 0.8883INFO:tensorflow:Assets written to: /Users/danielhuang/tinyML/Fine-tuning/model_checkpoint/assets\n"
          ]
        },
        {
          "name": "stderr",
          "output_type": "stream",
          "text": [
            "INFO:tensorflow:Assets written to: /Users/danielhuang/tinyML/Fine-tuning/model_checkpoint/assets\n"
          ]
        },
        {
          "name": "stdout",
          "output_type": "stream",
          "text": [
            "351/351 [==============================] - 24s 68ms/step - loss: 0.3236 - accuracy: 0.8883 - val_loss: 0.4792 - val_accuracy: 0.8428\n",
            "Epoch 26/182\n",
            "351/351 [==============================] - ETA: 0s - loss: 0.3163 - accuracy: 0.8913INFO:tensorflow:Assets written to: /Users/danielhuang/tinyML/Fine-tuning/model_checkpoint/assets\n"
          ]
        },
        {
          "name": "stderr",
          "output_type": "stream",
          "text": [
            "INFO:tensorflow:Assets written to: /Users/danielhuang/tinyML/Fine-tuning/model_checkpoint/assets\n"
          ]
        },
        {
          "name": "stdout",
          "output_type": "stream",
          "text": [
            "351/351 [==============================] - 24s 68ms/step - loss: 0.3163 - accuracy: 0.8913 - val_loss: 0.5469 - val_accuracy: 0.8235\n",
            "Epoch 27/182\n",
            "351/351 [==============================] - ETA: 0s - loss: 0.3111 - accuracy: 0.8919INFO:tensorflow:Assets written to: /Users/danielhuang/tinyML/Fine-tuning/model_checkpoint/assets\n"
          ]
        },
        {
          "name": "stderr",
          "output_type": "stream",
          "text": [
            "INFO:tensorflow:Assets written to: /Users/danielhuang/tinyML/Fine-tuning/model_checkpoint/assets\n"
          ]
        },
        {
          "name": "stdout",
          "output_type": "stream",
          "text": [
            "351/351 [==============================] - 25s 70ms/step - loss: 0.3111 - accuracy: 0.8919 - val_loss: 0.5846 - val_accuracy: 0.8130\n",
            "Epoch 28/182\n",
            "351/351 [==============================] - ETA: 0s - loss: 0.2993 - accuracy: 0.8973INFO:tensorflow:Assets written to: /Users/danielhuang/tinyML/Fine-tuning/model_checkpoint/assets\n"
          ]
        },
        {
          "name": "stderr",
          "output_type": "stream",
          "text": [
            "INFO:tensorflow:Assets written to: /Users/danielhuang/tinyML/Fine-tuning/model_checkpoint/assets\n"
          ]
        },
        {
          "name": "stdout",
          "output_type": "stream",
          "text": [
            "351/351 [==============================] - 26s 73ms/step - loss: 0.2993 - accuracy: 0.8973 - val_loss: 0.5516 - val_accuracy: 0.8186\n",
            "Epoch 29/182\n",
            "351/351 [==============================] - ETA: 0s - loss: 0.2872 - accuracy: 0.9004INFO:tensorflow:Assets written to: /Users/danielhuang/tinyML/Fine-tuning/model_checkpoint/assets\n"
          ]
        },
        {
          "name": "stderr",
          "output_type": "stream",
          "text": [
            "INFO:tensorflow:Assets written to: /Users/danielhuang/tinyML/Fine-tuning/model_checkpoint/assets\n"
          ]
        },
        {
          "name": "stdout",
          "output_type": "stream",
          "text": [
            "351/351 [==============================] - 26s 75ms/step - loss: 0.2872 - accuracy: 0.9004 - val_loss: 0.4734 - val_accuracy: 0.8364\n",
            "Epoch 30/182\n",
            "351/351 [==============================] - ETA: 0s - loss: 0.2866 - accuracy: 0.9007INFO:tensorflow:Assets written to: /Users/danielhuang/tinyML/Fine-tuning/model_checkpoint/assets\n"
          ]
        },
        {
          "name": "stderr",
          "output_type": "stream",
          "text": [
            "INFO:tensorflow:Assets written to: /Users/danielhuang/tinyML/Fine-tuning/model_checkpoint/assets\n"
          ]
        },
        {
          "name": "stdout",
          "output_type": "stream",
          "text": [
            "351/351 [==============================] - 26s 75ms/step - loss: 0.2866 - accuracy: 0.9007 - val_loss: 0.4785 - val_accuracy: 0.8403\n",
            "Epoch 31/182\n",
            "351/351 [==============================] - ETA: 0s - loss: 0.2756 - accuracy: 0.9033INFO:tensorflow:Assets written to: /Users/danielhuang/tinyML/Fine-tuning/model_checkpoint/assets\n"
          ]
        },
        {
          "name": "stderr",
          "output_type": "stream",
          "text": [
            "INFO:tensorflow:Assets written to: /Users/danielhuang/tinyML/Fine-tuning/model_checkpoint/assets\n"
          ]
        },
        {
          "name": "stdout",
          "output_type": "stream",
          "text": [
            "351/351 [==============================] - 29s 82ms/step - loss: 0.2756 - accuracy: 0.9033 - val_loss: 0.5666 - val_accuracy: 0.8118\n",
            "Epoch 32/182\n",
            "351/351 [==============================] - ETA: 0s - loss: 0.2747 - accuracy: 0.9032INFO:tensorflow:Assets written to: /Users/danielhuang/tinyML/Fine-tuning/model_checkpoint/assets\n"
          ]
        },
        {
          "name": "stderr",
          "output_type": "stream",
          "text": [
            "INFO:tensorflow:Assets written to: /Users/danielhuang/tinyML/Fine-tuning/model_checkpoint/assets\n"
          ]
        },
        {
          "name": "stdout",
          "output_type": "stream",
          "text": [
            "351/351 [==============================] - 30s 84ms/step - loss: 0.2747 - accuracy: 0.9032 - val_loss: 0.5544 - val_accuracy: 0.8255\n",
            "Epoch 33/182\n",
            "351/351 [==============================] - ETA: 0s - loss: 0.2672 - accuracy: 0.9063INFO:tensorflow:Assets written to: /Users/danielhuang/tinyML/Fine-tuning/model_checkpoint/assets\n"
          ]
        },
        {
          "name": "stderr",
          "output_type": "stream",
          "text": [
            "INFO:tensorflow:Assets written to: /Users/danielhuang/tinyML/Fine-tuning/model_checkpoint/assets\n"
          ]
        },
        {
          "name": "stdout",
          "output_type": "stream",
          "text": [
            "351/351 [==============================] - 32s 90ms/step - loss: 0.2672 - accuracy: 0.9063 - val_loss: 0.4741 - val_accuracy: 0.8415\n",
            "Epoch 34/182\n",
            "351/351 [==============================] - ETA: 0s - loss: 0.2623 - accuracy: 0.9089INFO:tensorflow:Assets written to: /Users/danielhuang/tinyML/Fine-tuning/model_checkpoint/assets\n"
          ]
        },
        {
          "name": "stderr",
          "output_type": "stream",
          "text": [
            "INFO:tensorflow:Assets written to: /Users/danielhuang/tinyML/Fine-tuning/model_checkpoint/assets\n"
          ]
        },
        {
          "name": "stdout",
          "output_type": "stream",
          "text": [
            "351/351 [==============================] - 29s 82ms/step - loss: 0.2623 - accuracy: 0.9089 - val_loss: 0.4839 - val_accuracy: 0.8491\n",
            "Epoch 35/182\n",
            "351/351 [==============================] - ETA: 0s - loss: 0.2540 - accuracy: 0.9109INFO:tensorflow:Assets written to: /Users/danielhuang/tinyML/Fine-tuning/model_checkpoint/assets\n"
          ]
        },
        {
          "name": "stderr",
          "output_type": "stream",
          "text": [
            "INFO:tensorflow:Assets written to: /Users/danielhuang/tinyML/Fine-tuning/model_checkpoint/assets\n"
          ]
        },
        {
          "name": "stdout",
          "output_type": "stream",
          "text": [
            "351/351 [==============================] - 29s 82ms/step - loss: 0.2540 - accuracy: 0.9109 - val_loss: 0.5082 - val_accuracy: 0.8374\n",
            "Epoch 36/182\n",
            "351/351 [==============================] - ETA: 0s - loss: 0.2482 - accuracy: 0.9138INFO:tensorflow:Assets written to: /Users/danielhuang/tinyML/Fine-tuning/model_checkpoint/assets\n"
          ]
        },
        {
          "name": "stderr",
          "output_type": "stream",
          "text": [
            "INFO:tensorflow:Assets written to: /Users/danielhuang/tinyML/Fine-tuning/model_checkpoint/assets\n"
          ]
        },
        {
          "name": "stdout",
          "output_type": "stream",
          "text": [
            "351/351 [==============================] - 27s 76ms/step - loss: 0.2482 - accuracy: 0.9138 - val_loss: 0.4569 - val_accuracy: 0.8545\n",
            "Epoch 37/182\n",
            "351/351 [==============================] - ETA: 0s - loss: 0.2443 - accuracy: 0.9134INFO:tensorflow:Assets written to: /Users/danielhuang/tinyML/Fine-tuning/model_checkpoint/assets\n"
          ]
        },
        {
          "name": "stderr",
          "output_type": "stream",
          "text": [
            "INFO:tensorflow:Assets written to: /Users/danielhuang/tinyML/Fine-tuning/model_checkpoint/assets\n"
          ]
        },
        {
          "name": "stdout",
          "output_type": "stream",
          "text": [
            "351/351 [==============================] - 26s 74ms/step - loss: 0.2443 - accuracy: 0.9134 - val_loss: 0.5184 - val_accuracy: 0.8356\n",
            "Epoch 38/182\n",
            "351/351 [==============================] - ETA: 0s - loss: 0.2377 - accuracy: 0.9171INFO:tensorflow:Assets written to: /Users/danielhuang/tinyML/Fine-tuning/model_checkpoint/assets\n"
          ]
        },
        {
          "name": "stderr",
          "output_type": "stream",
          "text": [
            "INFO:tensorflow:Assets written to: /Users/danielhuang/tinyML/Fine-tuning/model_checkpoint/assets\n"
          ]
        },
        {
          "name": "stdout",
          "output_type": "stream",
          "text": [
            "351/351 [==============================] - 26s 73ms/step - loss: 0.2377 - accuracy: 0.9171 - val_loss: 0.6021 - val_accuracy: 0.8095\n",
            "Epoch 39/182\n",
            "351/351 [==============================] - ETA: 0s - loss: 0.2358 - accuracy: 0.9168INFO:tensorflow:Assets written to: /Users/danielhuang/tinyML/Fine-tuning/model_checkpoint/assets\n"
          ]
        },
        {
          "name": "stderr",
          "output_type": "stream",
          "text": [
            "INFO:tensorflow:Assets written to: /Users/danielhuang/tinyML/Fine-tuning/model_checkpoint/assets\n"
          ]
        },
        {
          "name": "stdout",
          "output_type": "stream",
          "text": [
            "351/351 [==============================] - 26s 74ms/step - loss: 0.2358 - accuracy: 0.9168 - val_loss: 0.5217 - val_accuracy: 0.8395\n",
            "Epoch 40/182\n",
            "351/351 [==============================] - ETA: 0s - loss: 0.2291 - accuracy: 0.9189INFO:tensorflow:Assets written to: /Users/danielhuang/tinyML/Fine-tuning/model_checkpoint/assets\n"
          ]
        },
        {
          "name": "stderr",
          "output_type": "stream",
          "text": [
            "INFO:tensorflow:Assets written to: /Users/danielhuang/tinyML/Fine-tuning/model_checkpoint/assets\n"
          ]
        },
        {
          "name": "stdout",
          "output_type": "stream",
          "text": [
            "351/351 [==============================] - 27s 76ms/step - loss: 0.2291 - accuracy: 0.9189 - val_loss: 0.4983 - val_accuracy: 0.8442\n",
            "Epoch 41/182\n",
            "351/351 [==============================] - ETA: 0s - loss: 0.2266 - accuracy: 0.9201INFO:tensorflow:Assets written to: /Users/danielhuang/tinyML/Fine-tuning/model_checkpoint/assets\n"
          ]
        },
        {
          "name": "stderr",
          "output_type": "stream",
          "text": [
            "INFO:tensorflow:Assets written to: /Users/danielhuang/tinyML/Fine-tuning/model_checkpoint/assets\n"
          ]
        },
        {
          "name": "stdout",
          "output_type": "stream",
          "text": [
            "351/351 [==============================] - 26s 72ms/step - loss: 0.2266 - accuracy: 0.9201 - val_loss: 0.4139 - val_accuracy: 0.8649\n",
            "Epoch 42/182\n",
            "351/351 [==============================] - ETA: 0s - loss: 0.2225 - accuracy: 0.9223INFO:tensorflow:Assets written to: /Users/danielhuang/tinyML/Fine-tuning/model_checkpoint/assets\n"
          ]
        },
        {
          "name": "stderr",
          "output_type": "stream",
          "text": [
            "INFO:tensorflow:Assets written to: /Users/danielhuang/tinyML/Fine-tuning/model_checkpoint/assets\n"
          ]
        },
        {
          "name": "stdout",
          "output_type": "stream",
          "text": [
            "351/351 [==============================] - 26s 73ms/step - loss: 0.2225 - accuracy: 0.9223 - val_loss: 0.5130 - val_accuracy: 0.8463\n",
            "Epoch 43/182\n",
            "351/351 [==============================] - ETA: 0s - loss: 0.2186 - accuracy: 0.9243INFO:tensorflow:Assets written to: /Users/danielhuang/tinyML/Fine-tuning/model_checkpoint/assets\n"
          ]
        },
        {
          "name": "stderr",
          "output_type": "stream",
          "text": [
            "INFO:tensorflow:Assets written to: /Users/danielhuang/tinyML/Fine-tuning/model_checkpoint/assets\n"
          ]
        },
        {
          "name": "stdout",
          "output_type": "stream",
          "text": [
            "351/351 [==============================] - 26s 74ms/step - loss: 0.2186 - accuracy: 0.9243 - val_loss: 0.5521 - val_accuracy: 0.8317\n",
            "Epoch 44/182\n",
            "351/351 [==============================] - ETA: 0s - loss: 0.2068 - accuracy: 0.9269INFO:tensorflow:Assets written to: /Users/danielhuang/tinyML/Fine-tuning/model_checkpoint/assets\n"
          ]
        },
        {
          "name": "stderr",
          "output_type": "stream",
          "text": [
            "INFO:tensorflow:Assets written to: /Users/danielhuang/tinyML/Fine-tuning/model_checkpoint/assets\n"
          ]
        },
        {
          "name": "stdout",
          "output_type": "stream",
          "text": [
            "351/351 [==============================] - 25s 72ms/step - loss: 0.2068 - accuracy: 0.9269 - val_loss: 0.4377 - val_accuracy: 0.8682\n",
            "Epoch 45/182\n",
            "351/351 [==============================] - ETA: 0s - loss: 0.2086 - accuracy: 0.9270INFO:tensorflow:Assets written to: /Users/danielhuang/tinyML/Fine-tuning/model_checkpoint/assets\n"
          ]
        },
        {
          "name": "stderr",
          "output_type": "stream",
          "text": [
            "INFO:tensorflow:Assets written to: /Users/danielhuang/tinyML/Fine-tuning/model_checkpoint/assets\n"
          ]
        },
        {
          "name": "stdout",
          "output_type": "stream",
          "text": [
            "351/351 [==============================] - 25s 71ms/step - loss: 0.2086 - accuracy: 0.9270 - val_loss: 0.5613 - val_accuracy: 0.8268\n",
            "Epoch 46/182\n",
            "351/351 [==============================] - ETA: 0s - loss: 0.2046 - accuracy: 0.9285INFO:tensorflow:Assets written to: /Users/danielhuang/tinyML/Fine-tuning/model_checkpoint/assets\n"
          ]
        },
        {
          "name": "stderr",
          "output_type": "stream",
          "text": [
            "INFO:tensorflow:Assets written to: /Users/danielhuang/tinyML/Fine-tuning/model_checkpoint/assets\n"
          ]
        },
        {
          "name": "stdout",
          "output_type": "stream",
          "text": [
            "351/351 [==============================] - 25s 71ms/step - loss: 0.2046 - accuracy: 0.9285 - val_loss: 0.5729 - val_accuracy: 0.8356\n",
            "Epoch 47/182\n",
            "350/351 [============================>.] - ETA: 0s - loss: 0.2007 - accuracy: 0.9293INFO:tensorflow:Assets written to: /Users/danielhuang/tinyML/Fine-tuning/model_checkpoint/assets\n"
          ]
        },
        {
          "name": "stderr",
          "output_type": "stream",
          "text": [
            "INFO:tensorflow:Assets written to: /Users/danielhuang/tinyML/Fine-tuning/model_checkpoint/assets\n"
          ]
        },
        {
          "name": "stdout",
          "output_type": "stream",
          "text": [
            "351/351 [==============================] - 24s 69ms/step - loss: 0.2010 - accuracy: 0.9292 - val_loss: 0.4709 - val_accuracy: 0.8551\n",
            "Epoch 48/182\n",
            "351/351 [==============================] - ETA: 0s - loss: 0.1951 - accuracy: 0.9303INFO:tensorflow:Assets written to: /Users/danielhuang/tinyML/Fine-tuning/model_checkpoint/assets\n"
          ]
        },
        {
          "name": "stderr",
          "output_type": "stream",
          "text": [
            "INFO:tensorflow:Assets written to: /Users/danielhuang/tinyML/Fine-tuning/model_checkpoint/assets\n"
          ]
        },
        {
          "name": "stdout",
          "output_type": "stream",
          "text": [
            "351/351 [==============================] - 25s 72ms/step - loss: 0.1951 - accuracy: 0.9303 - val_loss: 0.5099 - val_accuracy: 0.8456\n",
            "Epoch 49/182\n",
            "351/351 [==============================] - ETA: 0s - loss: 0.1979 - accuracy: 0.9292INFO:tensorflow:Assets written to: /Users/danielhuang/tinyML/Fine-tuning/model_checkpoint/assets\n"
          ]
        },
        {
          "name": "stderr",
          "output_type": "stream",
          "text": [
            "INFO:tensorflow:Assets written to: /Users/danielhuang/tinyML/Fine-tuning/model_checkpoint/assets\n"
          ]
        },
        {
          "name": "stdout",
          "output_type": "stream",
          "text": [
            "351/351 [==============================] - 25s 72ms/step - loss: 0.1979 - accuracy: 0.9292 - val_loss: 0.5084 - val_accuracy: 0.8459\n",
            "Epoch 50/182\n",
            "351/351 [==============================] - ETA: 0s - loss: 0.1907 - accuracy: 0.9319INFO:tensorflow:Assets written to: /Users/danielhuang/tinyML/Fine-tuning/model_checkpoint/assets\n"
          ]
        },
        {
          "name": "stderr",
          "output_type": "stream",
          "text": [
            "INFO:tensorflow:Assets written to: /Users/danielhuang/tinyML/Fine-tuning/model_checkpoint/assets\n"
          ]
        },
        {
          "name": "stdout",
          "output_type": "stream",
          "text": [
            "351/351 [==============================] - 25s 71ms/step - loss: 0.1907 - accuracy: 0.9319 - val_loss: 0.4616 - val_accuracy: 0.8662\n",
            "Epoch 51/182\n",
            "351/351 [==============================] - ETA: 0s - loss: 0.1900 - accuracy: 0.9331INFO:tensorflow:Assets written to: /Users/danielhuang/tinyML/Fine-tuning/model_checkpoint/assets\n"
          ]
        },
        {
          "name": "stderr",
          "output_type": "stream",
          "text": [
            "INFO:tensorflow:Assets written to: /Users/danielhuang/tinyML/Fine-tuning/model_checkpoint/assets\n"
          ]
        },
        {
          "name": "stdout",
          "output_type": "stream",
          "text": [
            "351/351 [==============================] - 25s 70ms/step - loss: 0.1900 - accuracy: 0.9331 - val_loss: 0.5023 - val_accuracy: 0.8450\n",
            "Epoch 52/182\n",
            "351/351 [==============================] - ETA: 0s - loss: 0.1851 - accuracy: 0.9342INFO:tensorflow:Assets written to: /Users/danielhuang/tinyML/Fine-tuning/model_checkpoint/assets\n"
          ]
        },
        {
          "name": "stderr",
          "output_type": "stream",
          "text": [
            "INFO:tensorflow:Assets written to: /Users/danielhuang/tinyML/Fine-tuning/model_checkpoint/assets\n"
          ]
        },
        {
          "name": "stdout",
          "output_type": "stream",
          "text": [
            "351/351 [==============================] - 25s 70ms/step - loss: 0.1851 - accuracy: 0.9342 - val_loss: 0.4185 - val_accuracy: 0.8711\n",
            "Epoch 53/182\n",
            "351/351 [==============================] - ETA: 0s - loss: 0.1812 - accuracy: 0.9378INFO:tensorflow:Assets written to: /Users/danielhuang/tinyML/Fine-tuning/model_checkpoint/assets\n"
          ]
        },
        {
          "name": "stderr",
          "output_type": "stream",
          "text": [
            "INFO:tensorflow:Assets written to: /Users/danielhuang/tinyML/Fine-tuning/model_checkpoint/assets\n"
          ]
        },
        {
          "name": "stdout",
          "output_type": "stream",
          "text": [
            "351/351 [==============================] - 25s 71ms/step - loss: 0.1812 - accuracy: 0.9378 - val_loss: 0.4618 - val_accuracy: 0.8608\n",
            "Epoch 54/182\n",
            "351/351 [==============================] - ETA: 0s - loss: 0.1795 - accuracy: 0.9367INFO:tensorflow:Assets written to: /Users/danielhuang/tinyML/Fine-tuning/model_checkpoint/assets\n"
          ]
        },
        {
          "name": "stderr",
          "output_type": "stream",
          "text": [
            "INFO:tensorflow:Assets written to: /Users/danielhuang/tinyML/Fine-tuning/model_checkpoint/assets\n"
          ]
        },
        {
          "name": "stdout",
          "output_type": "stream",
          "text": [
            "351/351 [==============================] - 25s 71ms/step - loss: 0.1795 - accuracy: 0.9367 - val_loss: 0.4531 - val_accuracy: 0.8625\n",
            "Epoch 55/182\n",
            "351/351 [==============================] - ETA: 0s - loss: 0.1758 - accuracy: 0.9373INFO:tensorflow:Assets written to: /Users/danielhuang/tinyML/Fine-tuning/model_checkpoint/assets\n"
          ]
        },
        {
          "name": "stderr",
          "output_type": "stream",
          "text": [
            "INFO:tensorflow:Assets written to: /Users/danielhuang/tinyML/Fine-tuning/model_checkpoint/assets\n"
          ]
        },
        {
          "name": "stdout",
          "output_type": "stream",
          "text": [
            "351/351 [==============================] - 25s 72ms/step - loss: 0.1758 - accuracy: 0.9373 - val_loss: 0.4527 - val_accuracy: 0.8688\n",
            "Epoch 56/182\n",
            "351/351 [==============================] - ETA: 0s - loss: 0.1701 - accuracy: 0.9406INFO:tensorflow:Assets written to: /Users/danielhuang/tinyML/Fine-tuning/model_checkpoint/assets\n"
          ]
        },
        {
          "name": "stderr",
          "output_type": "stream",
          "text": [
            "INFO:tensorflow:Assets written to: /Users/danielhuang/tinyML/Fine-tuning/model_checkpoint/assets\n"
          ]
        },
        {
          "name": "stdout",
          "output_type": "stream",
          "text": [
            "351/351 [==============================] - 26s 73ms/step - loss: 0.1701 - accuracy: 0.9406 - val_loss: 0.4934 - val_accuracy: 0.8467\n",
            "Epoch 57/182\n",
            "351/351 [==============================] - ETA: 0s - loss: 0.1706 - accuracy: 0.9396INFO:tensorflow:Assets written to: /Users/danielhuang/tinyML/Fine-tuning/model_checkpoint/assets\n"
          ]
        },
        {
          "name": "stderr",
          "output_type": "stream",
          "text": [
            "INFO:tensorflow:Assets written to: /Users/danielhuang/tinyML/Fine-tuning/model_checkpoint/assets\n"
          ]
        },
        {
          "name": "stdout",
          "output_type": "stream",
          "text": [
            "351/351 [==============================] - 25s 71ms/step - loss: 0.1706 - accuracy: 0.9396 - val_loss: 0.7617 - val_accuracy: 0.7958\n",
            "Epoch 58/182\n",
            "351/351 [==============================] - ETA: 0s - loss: 0.1300 - accuracy: 0.9548INFO:tensorflow:Assets written to: /Users/danielhuang/tinyML/Fine-tuning/model_checkpoint/assets\n"
          ]
        },
        {
          "name": "stderr",
          "output_type": "stream",
          "text": [
            "INFO:tensorflow:Assets written to: /Users/danielhuang/tinyML/Fine-tuning/model_checkpoint/assets\n"
          ]
        },
        {
          "name": "stdout",
          "output_type": "stream",
          "text": [
            "351/351 [==============================] - 25s 71ms/step - loss: 0.1300 - accuracy: 0.9548 - val_loss: 0.3488 - val_accuracy: 0.8867\n",
            "Epoch 59/182\n",
            "351/351 [==============================] - ETA: 0s - loss: 0.1035 - accuracy: 0.9639INFO:tensorflow:Assets written to: /Users/danielhuang/tinyML/Fine-tuning/model_checkpoint/assets\n"
          ]
        },
        {
          "name": "stderr",
          "output_type": "stream",
          "text": [
            "INFO:tensorflow:Assets written to: /Users/danielhuang/tinyML/Fine-tuning/model_checkpoint/assets\n"
          ]
        },
        {
          "name": "stdout",
          "output_type": "stream",
          "text": [
            "351/351 [==============================] - 25s 71ms/step - loss: 0.1035 - accuracy: 0.9639 - val_loss: 0.3566 - val_accuracy: 0.8927\n",
            "Epoch 60/182\n",
            "351/351 [==============================] - ETA: 0s - loss: 0.0962 - accuracy: 0.9667INFO:tensorflow:Assets written to: /Users/danielhuang/tinyML/Fine-tuning/model_checkpoint/assets\n"
          ]
        },
        {
          "name": "stderr",
          "output_type": "stream",
          "text": [
            "INFO:tensorflow:Assets written to: /Users/danielhuang/tinyML/Fine-tuning/model_checkpoint/assets\n"
          ]
        },
        {
          "name": "stdout",
          "output_type": "stream",
          "text": [
            "351/351 [==============================] - 25s 70ms/step - loss: 0.0962 - accuracy: 0.9667 - val_loss: 0.3716 - val_accuracy: 0.8937\n",
            "Epoch 61/182\n",
            "351/351 [==============================] - ETA: 0s - loss: 0.0952 - accuracy: 0.9663INFO:tensorflow:Assets written to: /Users/danielhuang/tinyML/Fine-tuning/model_checkpoint/assets\n"
          ]
        },
        {
          "name": "stderr",
          "output_type": "stream",
          "text": [
            "INFO:tensorflow:Assets written to: /Users/danielhuang/tinyML/Fine-tuning/model_checkpoint/assets\n"
          ]
        },
        {
          "name": "stdout",
          "output_type": "stream",
          "text": [
            "351/351 [==============================] - 23s 66ms/step - loss: 0.0952 - accuracy: 0.9663 - val_loss: 0.3514 - val_accuracy: 0.8955\n",
            "Epoch 62/182\n",
            "351/351 [==============================] - ETA: 0s - loss: 0.0912 - accuracy: 0.9689INFO:tensorflow:Assets written to: /Users/danielhuang/tinyML/Fine-tuning/model_checkpoint/assets\n"
          ]
        },
        {
          "name": "stderr",
          "output_type": "stream",
          "text": [
            "INFO:tensorflow:Assets written to: /Users/danielhuang/tinyML/Fine-tuning/model_checkpoint/assets\n"
          ]
        },
        {
          "name": "stdout",
          "output_type": "stream",
          "text": [
            "351/351 [==============================] - 24s 67ms/step - loss: 0.0912 - accuracy: 0.9689 - val_loss: 0.3829 - val_accuracy: 0.8904\n",
            "Epoch 63/182\n",
            "350/351 [============================>.] - ETA: 0s - loss: 0.0891 - accuracy: 0.9683INFO:tensorflow:Assets written to: /Users/danielhuang/tinyML/Fine-tuning/model_checkpoint/assets\n"
          ]
        },
        {
          "name": "stderr",
          "output_type": "stream",
          "text": [
            "INFO:tensorflow:Assets written to: /Users/danielhuang/tinyML/Fine-tuning/model_checkpoint/assets\n"
          ]
        },
        {
          "name": "stdout",
          "output_type": "stream",
          "text": [
            "351/351 [==============================] - 24s 68ms/step - loss: 0.0889 - accuracy: 0.9684 - val_loss: 0.3603 - val_accuracy: 0.8961\n",
            "Epoch 64/182\n",
            "351/351 [==============================] - ETA: 0s - loss: 0.0876 - accuracy: 0.9695INFO:tensorflow:Assets written to: /Users/danielhuang/tinyML/Fine-tuning/model_checkpoint/assets\n"
          ]
        },
        {
          "name": "stderr",
          "output_type": "stream",
          "text": [
            "INFO:tensorflow:Assets written to: /Users/danielhuang/tinyML/Fine-tuning/model_checkpoint/assets\n"
          ]
        },
        {
          "name": "stdout",
          "output_type": "stream",
          "text": [
            "351/351 [==============================] - 24s 68ms/step - loss: 0.0876 - accuracy: 0.9695 - val_loss: 0.3989 - val_accuracy: 0.8937\n",
            "Epoch 65/182\n",
            "351/351 [==============================] - ETA: 0s - loss: 0.0826 - accuracy: 0.9703INFO:tensorflow:Assets written to: /Users/danielhuang/tinyML/Fine-tuning/model_checkpoint/assets\n"
          ]
        },
        {
          "name": "stderr",
          "output_type": "stream",
          "text": [
            "INFO:tensorflow:Assets written to: /Users/danielhuang/tinyML/Fine-tuning/model_checkpoint/assets\n"
          ]
        },
        {
          "name": "stdout",
          "output_type": "stream",
          "text": [
            "351/351 [==============================] - 24s 68ms/step - loss: 0.0826 - accuracy: 0.9703 - val_loss: 0.4070 - val_accuracy: 0.8922\n",
            "Epoch 66/182\n",
            "351/351 [==============================] - ETA: 0s - loss: 0.0793 - accuracy: 0.9720INFO:tensorflow:Assets written to: /Users/danielhuang/tinyML/Fine-tuning/model_checkpoint/assets\n"
          ]
        },
        {
          "name": "stderr",
          "output_type": "stream",
          "text": [
            "INFO:tensorflow:Assets written to: /Users/danielhuang/tinyML/Fine-tuning/model_checkpoint/assets\n"
          ]
        },
        {
          "name": "stdout",
          "output_type": "stream",
          "text": [
            "351/351 [==============================] - 25s 70ms/step - loss: 0.0793 - accuracy: 0.9720 - val_loss: 0.3806 - val_accuracy: 0.8908\n",
            "Epoch 67/182\n",
            "351/351 [==============================] - ETA: 0s - loss: 0.0806 - accuracy: 0.9715INFO:tensorflow:Assets written to: /Users/danielhuang/tinyML/Fine-tuning/model_checkpoint/assets\n"
          ]
        },
        {
          "name": "stderr",
          "output_type": "stream",
          "text": [
            "INFO:tensorflow:Assets written to: /Users/danielhuang/tinyML/Fine-tuning/model_checkpoint/assets\n"
          ]
        },
        {
          "name": "stdout",
          "output_type": "stream",
          "text": [
            "351/351 [==============================] - 26s 72ms/step - loss: 0.0806 - accuracy: 0.9715 - val_loss: 0.3651 - val_accuracy: 0.8929\n",
            "Epoch 68/182\n",
            "351/351 [==============================] - ETA: 0s - loss: 0.0763 - accuracy: 0.9733INFO:tensorflow:Assets written to: /Users/danielhuang/tinyML/Fine-tuning/model_checkpoint/assets\n"
          ]
        },
        {
          "name": "stderr",
          "output_type": "stream",
          "text": [
            "INFO:tensorflow:Assets written to: /Users/danielhuang/tinyML/Fine-tuning/model_checkpoint/assets\n"
          ]
        },
        {
          "name": "stdout",
          "output_type": "stream",
          "text": [
            "351/351 [==============================] - 28s 78ms/step - loss: 0.0763 - accuracy: 0.9733 - val_loss: 0.3971 - val_accuracy: 0.8966\n",
            "Epoch 69/182\n",
            "351/351 [==============================] - ETA: 0s - loss: 0.0756 - accuracy: 0.9732INFO:tensorflow:Assets written to: /Users/danielhuang/tinyML/Fine-tuning/model_checkpoint/assets\n"
          ]
        },
        {
          "name": "stderr",
          "output_type": "stream",
          "text": [
            "INFO:tensorflow:Assets written to: /Users/danielhuang/tinyML/Fine-tuning/model_checkpoint/assets\n"
          ]
        },
        {
          "name": "stdout",
          "output_type": "stream",
          "text": [
            "351/351 [==============================] - 26s 74ms/step - loss: 0.0756 - accuracy: 0.9732 - val_loss: 0.4111 - val_accuracy: 0.8918\n",
            "Epoch 70/182\n",
            "351/351 [==============================] - ETA: 0s - loss: 0.0751 - accuracy: 0.9728INFO:tensorflow:Assets written to: /Users/danielhuang/tinyML/Fine-tuning/model_checkpoint/assets\n"
          ]
        },
        {
          "name": "stderr",
          "output_type": "stream",
          "text": [
            "INFO:tensorflow:Assets written to: /Users/danielhuang/tinyML/Fine-tuning/model_checkpoint/assets\n"
          ]
        },
        {
          "name": "stdout",
          "output_type": "stream",
          "text": [
            "351/351 [==============================] - 26s 73ms/step - loss: 0.0751 - accuracy: 0.9728 - val_loss: 0.4013 - val_accuracy: 0.8980\n",
            "Epoch 71/182\n",
            "351/351 [==============================] - ETA: 0s - loss: 0.0747 - accuracy: 0.9738INFO:tensorflow:Assets written to: /Users/danielhuang/tinyML/Fine-tuning/model_checkpoint/assets\n"
          ]
        },
        {
          "name": "stderr",
          "output_type": "stream",
          "text": [
            "INFO:tensorflow:Assets written to: /Users/danielhuang/tinyML/Fine-tuning/model_checkpoint/assets\n"
          ]
        },
        {
          "name": "stdout",
          "output_type": "stream",
          "text": [
            "351/351 [==============================] - 25s 72ms/step - loss: 0.0747 - accuracy: 0.9738 - val_loss: 0.4263 - val_accuracy: 0.8922\n",
            "Epoch 72/182\n",
            "351/351 [==============================] - ETA: 0s - loss: 0.0729 - accuracy: 0.9742INFO:tensorflow:Assets written to: /Users/danielhuang/tinyML/Fine-tuning/model_checkpoint/assets\n"
          ]
        },
        {
          "name": "stderr",
          "output_type": "stream",
          "text": [
            "INFO:tensorflow:Assets written to: /Users/danielhuang/tinyML/Fine-tuning/model_checkpoint/assets\n"
          ]
        },
        {
          "name": "stdout",
          "output_type": "stream",
          "text": [
            "351/351 [==============================] - 24s 69ms/step - loss: 0.0729 - accuracy: 0.9742 - val_loss: 0.4090 - val_accuracy: 0.8966\n",
            "Epoch 73/182\n",
            "351/351 [==============================] - ETA: 0s - loss: 0.0718 - accuracy: 0.9748INFO:tensorflow:Assets written to: /Users/danielhuang/tinyML/Fine-tuning/model_checkpoint/assets\n"
          ]
        },
        {
          "name": "stderr",
          "output_type": "stream",
          "text": [
            "INFO:tensorflow:Assets written to: /Users/danielhuang/tinyML/Fine-tuning/model_checkpoint/assets\n"
          ]
        },
        {
          "name": "stdout",
          "output_type": "stream",
          "text": [
            "351/351 [==============================] - 25s 71ms/step - loss: 0.0718 - accuracy: 0.9748 - val_loss: 0.4138 - val_accuracy: 0.8976\n",
            "Epoch 74/182\n",
            "351/351 [==============================] - ETA: 0s - loss: 0.0709 - accuracy: 0.9741INFO:tensorflow:Assets written to: /Users/danielhuang/tinyML/Fine-tuning/model_checkpoint/assets\n"
          ]
        },
        {
          "name": "stderr",
          "output_type": "stream",
          "text": [
            "INFO:tensorflow:Assets written to: /Users/danielhuang/tinyML/Fine-tuning/model_checkpoint/assets\n"
          ]
        },
        {
          "name": "stdout",
          "output_type": "stream",
          "text": [
            "351/351 [==============================] - 26s 75ms/step - loss: 0.0709 - accuracy: 0.9741 - val_loss: 0.4280 - val_accuracy: 0.8900\n",
            "Epoch 75/182\n",
            "351/351 [==============================] - ETA: 0s - loss: 0.0714 - accuracy: 0.9745INFO:tensorflow:Assets written to: /Users/danielhuang/tinyML/Fine-tuning/model_checkpoint/assets\n"
          ]
        },
        {
          "name": "stderr",
          "output_type": "stream",
          "text": [
            "INFO:tensorflow:Assets written to: /Users/danielhuang/tinyML/Fine-tuning/model_checkpoint/assets\n"
          ]
        },
        {
          "name": "stdout",
          "output_type": "stream",
          "text": [
            "351/351 [==============================] - 26s 74ms/step - loss: 0.0714 - accuracy: 0.9745 - val_loss: 0.4173 - val_accuracy: 0.8933\n",
            "Epoch 76/182\n",
            "351/351 [==============================] - ETA: 0s - loss: 0.0686 - accuracy: 0.9751INFO:tensorflow:Assets written to: /Users/danielhuang/tinyML/Fine-tuning/model_checkpoint/assets\n"
          ]
        },
        {
          "name": "stderr",
          "output_type": "stream",
          "text": [
            "INFO:tensorflow:Assets written to: /Users/danielhuang/tinyML/Fine-tuning/model_checkpoint/assets\n"
          ]
        },
        {
          "name": "stdout",
          "output_type": "stream",
          "text": [
            "351/351 [==============================] - 25s 72ms/step - loss: 0.0686 - accuracy: 0.9751 - val_loss: 0.4196 - val_accuracy: 0.8959\n",
            "Epoch 77/182\n",
            "351/351 [==============================] - ETA: 0s - loss: 0.0710 - accuracy: 0.9754INFO:tensorflow:Assets written to: /Users/danielhuang/tinyML/Fine-tuning/model_checkpoint/assets\n"
          ]
        },
        {
          "name": "stderr",
          "output_type": "stream",
          "text": [
            "INFO:tensorflow:Assets written to: /Users/danielhuang/tinyML/Fine-tuning/model_checkpoint/assets\n"
          ]
        },
        {
          "name": "stdout",
          "output_type": "stream",
          "text": [
            "351/351 [==============================] - 25s 70ms/step - loss: 0.0710 - accuracy: 0.9754 - val_loss: 0.4421 - val_accuracy: 0.8879\n",
            "Epoch 78/182\n",
            "351/351 [==============================] - ETA: 0s - loss: 0.0661 - accuracy: 0.9771INFO:tensorflow:Assets written to: /Users/danielhuang/tinyML/Fine-tuning/model_checkpoint/assets\n"
          ]
        },
        {
          "name": "stderr",
          "output_type": "stream",
          "text": [
            "INFO:tensorflow:Assets written to: /Users/danielhuang/tinyML/Fine-tuning/model_checkpoint/assets\n"
          ]
        },
        {
          "name": "stdout",
          "output_type": "stream",
          "text": [
            "351/351 [==============================] - 25s 70ms/step - loss: 0.0661 - accuracy: 0.9771 - val_loss: 0.4398 - val_accuracy: 0.8875\n",
            "Epoch 79/182\n",
            "351/351 [==============================] - ETA: 0s - loss: 0.0662 - accuracy: 0.9765INFO:tensorflow:Assets written to: /Users/danielhuang/tinyML/Fine-tuning/model_checkpoint/assets\n"
          ]
        },
        {
          "name": "stderr",
          "output_type": "stream",
          "text": [
            "INFO:tensorflow:Assets written to: /Users/danielhuang/tinyML/Fine-tuning/model_checkpoint/assets\n"
          ]
        },
        {
          "name": "stdout",
          "output_type": "stream",
          "text": [
            "351/351 [==============================] - 24s 69ms/step - loss: 0.0662 - accuracy: 0.9765 - val_loss: 0.4240 - val_accuracy: 0.8924\n",
            "Epoch 80/182\n",
            "351/351 [==============================] - ETA: 0s - loss: 0.0650 - accuracy: 0.9777INFO:tensorflow:Assets written to: /Users/danielhuang/tinyML/Fine-tuning/model_checkpoint/assets\n"
          ]
        },
        {
          "name": "stderr",
          "output_type": "stream",
          "text": [
            "INFO:tensorflow:Assets written to: /Users/danielhuang/tinyML/Fine-tuning/model_checkpoint/assets\n"
          ]
        },
        {
          "name": "stdout",
          "output_type": "stream",
          "text": [
            "351/351 [==============================] - 25s 70ms/step - loss: 0.0650 - accuracy: 0.9777 - val_loss: 0.4343 - val_accuracy: 0.8916\n",
            "Epoch 81/182\n",
            "351/351 [==============================] - ETA: 0s - loss: 0.0637 - accuracy: 0.9772INFO:tensorflow:Assets written to: /Users/danielhuang/tinyML/Fine-tuning/model_checkpoint/assets\n"
          ]
        },
        {
          "name": "stderr",
          "output_type": "stream",
          "text": [
            "INFO:tensorflow:Assets written to: /Users/danielhuang/tinyML/Fine-tuning/model_checkpoint/assets\n"
          ]
        },
        {
          "name": "stdout",
          "output_type": "stream",
          "text": [
            "351/351 [==============================] - 27s 77ms/step - loss: 0.0637 - accuracy: 0.9772 - val_loss: 0.4336 - val_accuracy: 0.8933\n",
            "Epoch 82/182\n",
            "351/351 [==============================] - ETA: 0s - loss: 0.0648 - accuracy: 0.9768INFO:tensorflow:Assets written to: /Users/danielhuang/tinyML/Fine-tuning/model_checkpoint/assets\n"
          ]
        },
        {
          "name": "stderr",
          "output_type": "stream",
          "text": [
            "INFO:tensorflow:Assets written to: /Users/danielhuang/tinyML/Fine-tuning/model_checkpoint/assets\n"
          ]
        },
        {
          "name": "stdout",
          "output_type": "stream",
          "text": [
            "351/351 [==============================] - 25s 71ms/step - loss: 0.0648 - accuracy: 0.9768 - val_loss: 0.4538 - val_accuracy: 0.8849\n",
            "Epoch 83/182\n",
            "351/351 [==============================] - ETA: 0s - loss: 0.0616 - accuracy: 0.9780INFO:tensorflow:Assets written to: /Users/danielhuang/tinyML/Fine-tuning/model_checkpoint/assets\n"
          ]
        },
        {
          "name": "stderr",
          "output_type": "stream",
          "text": [
            "INFO:tensorflow:Assets written to: /Users/danielhuang/tinyML/Fine-tuning/model_checkpoint/assets\n"
          ]
        },
        {
          "name": "stdout",
          "output_type": "stream",
          "text": [
            "351/351 [==============================] - 24s 69ms/step - loss: 0.0616 - accuracy: 0.9780 - val_loss: 0.4360 - val_accuracy: 0.8914\n",
            "Epoch 84/182\n",
            "351/351 [==============================] - ETA: 0s - loss: 0.0641 - accuracy: 0.9772INFO:tensorflow:Assets written to: /Users/danielhuang/tinyML/Fine-tuning/model_checkpoint/assets\n"
          ]
        },
        {
          "name": "stderr",
          "output_type": "stream",
          "text": [
            "INFO:tensorflow:Assets written to: /Users/danielhuang/tinyML/Fine-tuning/model_checkpoint/assets\n"
          ]
        },
        {
          "name": "stdout",
          "output_type": "stream",
          "text": [
            "351/351 [==============================] - 24s 69ms/step - loss: 0.0641 - accuracy: 0.9772 - val_loss: 0.4412 - val_accuracy: 0.8980\n",
            "Epoch 85/182\n",
            "351/351 [==============================] - ETA: 0s - loss: 0.0617 - accuracy: 0.9781INFO:tensorflow:Assets written to: /Users/danielhuang/tinyML/Fine-tuning/model_checkpoint/assets\n"
          ]
        },
        {
          "name": "stderr",
          "output_type": "stream",
          "text": [
            "INFO:tensorflow:Assets written to: /Users/danielhuang/tinyML/Fine-tuning/model_checkpoint/assets\n"
          ]
        },
        {
          "name": "stdout",
          "output_type": "stream",
          "text": [
            "351/351 [==============================] - 25s 71ms/step - loss: 0.0617 - accuracy: 0.9781 - val_loss: 0.4469 - val_accuracy: 0.8869\n",
            "Epoch 86/182\n",
            "351/351 [==============================] - ETA: 0s - loss: 0.0622 - accuracy: 0.9784INFO:tensorflow:Assets written to: /Users/danielhuang/tinyML/Fine-tuning/model_checkpoint/assets\n"
          ]
        },
        {
          "name": "stderr",
          "output_type": "stream",
          "text": [
            "INFO:tensorflow:Assets written to: /Users/danielhuang/tinyML/Fine-tuning/model_checkpoint/assets\n"
          ]
        },
        {
          "name": "stdout",
          "output_type": "stream",
          "text": [
            "351/351 [==============================] - 25s 70ms/step - loss: 0.0622 - accuracy: 0.9784 - val_loss: 0.4481 - val_accuracy: 0.8922\n",
            "Epoch 87/182\n",
            "351/351 [==============================] - ETA: 0s - loss: 0.0594 - accuracy: 0.9795INFO:tensorflow:Assets written to: /Users/danielhuang/tinyML/Fine-tuning/model_checkpoint/assets\n"
          ]
        },
        {
          "name": "stderr",
          "output_type": "stream",
          "text": [
            "INFO:tensorflow:Assets written to: /Users/danielhuang/tinyML/Fine-tuning/model_checkpoint/assets\n"
          ]
        },
        {
          "name": "stdout",
          "output_type": "stream",
          "text": [
            "351/351 [==============================] - 26s 74ms/step - loss: 0.0594 - accuracy: 0.9795 - val_loss: 0.4314 - val_accuracy: 0.8990\n",
            "Epoch 88/182\n",
            "351/351 [==============================] - ETA: 0s - loss: 0.0600 - accuracy: 0.9790INFO:tensorflow:Assets written to: /Users/danielhuang/tinyML/Fine-tuning/model_checkpoint/assets\n"
          ]
        },
        {
          "name": "stderr",
          "output_type": "stream",
          "text": [
            "INFO:tensorflow:Assets written to: /Users/danielhuang/tinyML/Fine-tuning/model_checkpoint/assets\n"
          ]
        },
        {
          "name": "stdout",
          "output_type": "stream",
          "text": [
            "351/351 [==============================] - 28s 79ms/step - loss: 0.0600 - accuracy: 0.9790 - val_loss: 0.4602 - val_accuracy: 0.8892\n",
            "Epoch 89/182\n",
            "351/351 [==============================] - ETA: 0s - loss: 0.0601 - accuracy: 0.9800INFO:tensorflow:Assets written to: /Users/danielhuang/tinyML/Fine-tuning/model_checkpoint/assets\n"
          ]
        },
        {
          "name": "stderr",
          "output_type": "stream",
          "text": [
            "INFO:tensorflow:Assets written to: /Users/danielhuang/tinyML/Fine-tuning/model_checkpoint/assets\n"
          ]
        },
        {
          "name": "stdout",
          "output_type": "stream",
          "text": [
            "351/351 [==============================] - 25s 71ms/step - loss: 0.0601 - accuracy: 0.9800 - val_loss: 0.4757 - val_accuracy: 0.8906\n",
            "Epoch 90/182\n",
            "351/351 [==============================] - ETA: 0s - loss: 0.0620 - accuracy: 0.9777INFO:tensorflow:Assets written to: /Users/danielhuang/tinyML/Fine-tuning/model_checkpoint/assets\n"
          ]
        },
        {
          "name": "stderr",
          "output_type": "stream",
          "text": [
            "INFO:tensorflow:Assets written to: /Users/danielhuang/tinyML/Fine-tuning/model_checkpoint/assets\n"
          ]
        },
        {
          "name": "stdout",
          "output_type": "stream",
          "text": [
            "351/351 [==============================] - 26s 75ms/step - loss: 0.0620 - accuracy: 0.9777 - val_loss: 0.4552 - val_accuracy: 0.8924\n",
            "Epoch 91/182\n",
            "351/351 [==============================] - ETA: 0s - loss: 0.0563 - accuracy: 0.9798INFO:tensorflow:Assets written to: /Users/danielhuang/tinyML/Fine-tuning/model_checkpoint/assets\n"
          ]
        },
        {
          "name": "stderr",
          "output_type": "stream",
          "text": [
            "INFO:tensorflow:Assets written to: /Users/danielhuang/tinyML/Fine-tuning/model_checkpoint/assets\n"
          ]
        },
        {
          "name": "stdout",
          "output_type": "stream",
          "text": [
            "351/351 [==============================] - 27s 76ms/step - loss: 0.0563 - accuracy: 0.9798 - val_loss: 0.4748 - val_accuracy: 0.8961\n",
            "Epoch 92/182\n",
            "351/351 [==============================] - ETA: 0s - loss: 0.0554 - accuracy: 0.9806INFO:tensorflow:Assets written to: /Users/danielhuang/tinyML/Fine-tuning/model_checkpoint/assets\n"
          ]
        },
        {
          "name": "stderr",
          "output_type": "stream",
          "text": [
            "INFO:tensorflow:Assets written to: /Users/danielhuang/tinyML/Fine-tuning/model_checkpoint/assets\n"
          ]
        },
        {
          "name": "stdout",
          "output_type": "stream",
          "text": [
            "351/351 [==============================] - 26s 75ms/step - loss: 0.0554 - accuracy: 0.9806 - val_loss: 0.4456 - val_accuracy: 0.8904\n",
            "Epoch 93/182\n",
            "351/351 [==============================] - ETA: 0s - loss: 0.0505 - accuracy: 0.9817INFO:tensorflow:Assets written to: /Users/danielhuang/tinyML/Fine-tuning/model_checkpoint/assets\n"
          ]
        },
        {
          "name": "stderr",
          "output_type": "stream",
          "text": [
            "INFO:tensorflow:Assets written to: /Users/danielhuang/tinyML/Fine-tuning/model_checkpoint/assets\n"
          ]
        },
        {
          "name": "stdout",
          "output_type": "stream",
          "text": [
            "351/351 [==============================] - 25s 72ms/step - loss: 0.0505 - accuracy: 0.9817 - val_loss: 0.4362 - val_accuracy: 0.9009\n",
            "Epoch 94/182\n",
            "351/351 [==============================] - ETA: 0s - loss: 0.0479 - accuracy: 0.9833INFO:tensorflow:Assets written to: /Users/danielhuang/tinyML/Fine-tuning/model_checkpoint/assets\n"
          ]
        },
        {
          "name": "stderr",
          "output_type": "stream",
          "text": [
            "INFO:tensorflow:Assets written to: /Users/danielhuang/tinyML/Fine-tuning/model_checkpoint/assets\n"
          ]
        },
        {
          "name": "stdout",
          "output_type": "stream",
          "text": [
            "351/351 [==============================] - 25s 71ms/step - loss: 0.0479 - accuracy: 0.9833 - val_loss: 0.4529 - val_accuracy: 0.8933\n",
            "Epoch 95/182\n",
            "351/351 [==============================] - ETA: 0s - loss: 0.0464 - accuracy: 0.9834INFO:tensorflow:Assets written to: /Users/danielhuang/tinyML/Fine-tuning/model_checkpoint/assets\n"
          ]
        },
        {
          "name": "stderr",
          "output_type": "stream",
          "text": [
            "INFO:tensorflow:Assets written to: /Users/danielhuang/tinyML/Fine-tuning/model_checkpoint/assets\n"
          ]
        },
        {
          "name": "stdout",
          "output_type": "stream",
          "text": [
            "351/351 [==============================] - 24s 69ms/step - loss: 0.0464 - accuracy: 0.9834 - val_loss: 0.4698 - val_accuracy: 0.8924\n",
            "Epoch 96/182\n",
            "351/351 [==============================] - ETA: 0s - loss: 0.0460 - accuracy: 0.9840INFO:tensorflow:Assets written to: /Users/danielhuang/tinyML/Fine-tuning/model_checkpoint/assets\n"
          ]
        },
        {
          "name": "stderr",
          "output_type": "stream",
          "text": [
            "INFO:tensorflow:Assets written to: /Users/danielhuang/tinyML/Fine-tuning/model_checkpoint/assets\n"
          ]
        },
        {
          "name": "stdout",
          "output_type": "stream",
          "text": [
            "351/351 [==============================] - 24s 68ms/step - loss: 0.0460 - accuracy: 0.9840 - val_loss: 0.4285 - val_accuracy: 0.8968\n",
            "Epoch 97/182\n",
            "351/351 [==============================] - ETA: 0s - loss: 0.0479 - accuracy: 0.9832INFO:tensorflow:Assets written to: /Users/danielhuang/tinyML/Fine-tuning/model_checkpoint/assets\n"
          ]
        },
        {
          "name": "stderr",
          "output_type": "stream",
          "text": [
            "INFO:tensorflow:Assets written to: /Users/danielhuang/tinyML/Fine-tuning/model_checkpoint/assets\n"
          ]
        },
        {
          "name": "stdout",
          "output_type": "stream",
          "text": [
            "351/351 [==============================] - 24s 69ms/step - loss: 0.0479 - accuracy: 0.9832 - val_loss: 0.4712 - val_accuracy: 0.8978\n",
            "Epoch 98/182\n",
            "351/351 [==============================] - ETA: 0s - loss: 0.0467 - accuracy: 0.9831INFO:tensorflow:Assets written to: /Users/danielhuang/tinyML/Fine-tuning/model_checkpoint/assets\n"
          ]
        },
        {
          "name": "stderr",
          "output_type": "stream",
          "text": [
            "INFO:tensorflow:Assets written to: /Users/danielhuang/tinyML/Fine-tuning/model_checkpoint/assets\n"
          ]
        },
        {
          "name": "stdout",
          "output_type": "stream",
          "text": [
            "351/351 [==============================] - 24s 69ms/step - loss: 0.0467 - accuracy: 0.9831 - val_loss: 0.4495 - val_accuracy: 0.8961\n",
            "Epoch 99/182\n",
            "351/351 [==============================] - ETA: 0s - loss: 0.0445 - accuracy: 0.9846INFO:tensorflow:Assets written to: /Users/danielhuang/tinyML/Fine-tuning/model_checkpoint/assets\n"
          ]
        },
        {
          "name": "stderr",
          "output_type": "stream",
          "text": [
            "INFO:tensorflow:Assets written to: /Users/danielhuang/tinyML/Fine-tuning/model_checkpoint/assets\n"
          ]
        },
        {
          "name": "stdout",
          "output_type": "stream",
          "text": [
            "351/351 [==============================] - 24s 67ms/step - loss: 0.0445 - accuracy: 0.9846 - val_loss: 0.4550 - val_accuracy: 0.8968\n",
            "Epoch 100/182\n",
            "351/351 [==============================] - ETA: 0s - loss: 0.0442 - accuracy: 0.9842INFO:tensorflow:Assets written to: /Users/danielhuang/tinyML/Fine-tuning/model_checkpoint/assets\n"
          ]
        },
        {
          "name": "stderr",
          "output_type": "stream",
          "text": [
            "INFO:tensorflow:Assets written to: /Users/danielhuang/tinyML/Fine-tuning/model_checkpoint/assets\n"
          ]
        },
        {
          "name": "stdout",
          "output_type": "stream",
          "text": [
            "351/351 [==============================] - 24s 69ms/step - loss: 0.0442 - accuracy: 0.9842 - val_loss: 0.4692 - val_accuracy: 0.8951\n",
            "Epoch 101/182\n",
            "351/351 [==============================] - ETA: 0s - loss: 0.0437 - accuracy: 0.9847INFO:tensorflow:Assets written to: /Users/danielhuang/tinyML/Fine-tuning/model_checkpoint/assets\n"
          ]
        },
        {
          "name": "stderr",
          "output_type": "stream",
          "text": [
            "INFO:tensorflow:Assets written to: /Users/danielhuang/tinyML/Fine-tuning/model_checkpoint/assets\n"
          ]
        },
        {
          "name": "stdout",
          "output_type": "stream",
          "text": [
            "351/351 [==============================] - 24s 70ms/step - loss: 0.0437 - accuracy: 0.9847 - val_loss: 0.4399 - val_accuracy: 0.9007\n",
            "Epoch 102/182\n",
            "351/351 [==============================] - ETA: 0s - loss: 0.0441 - accuracy: 0.9849INFO:tensorflow:Assets written to: /Users/danielhuang/tinyML/Fine-tuning/model_checkpoint/assets\n"
          ]
        },
        {
          "name": "stderr",
          "output_type": "stream",
          "text": [
            "INFO:tensorflow:Assets written to: /Users/danielhuang/tinyML/Fine-tuning/model_checkpoint/assets\n"
          ]
        },
        {
          "name": "stdout",
          "output_type": "stream",
          "text": [
            "351/351 [==============================] - 25s 70ms/step - loss: 0.0441 - accuracy: 0.9849 - val_loss: 0.4448 - val_accuracy: 0.8980\n",
            "Epoch 103/182\n",
            "351/351 [==============================] - ETA: 0s - loss: 0.0434 - accuracy: 0.9851INFO:tensorflow:Assets written to: /Users/danielhuang/tinyML/Fine-tuning/model_checkpoint/assets\n"
          ]
        },
        {
          "name": "stderr",
          "output_type": "stream",
          "text": [
            "INFO:tensorflow:Assets written to: /Users/danielhuang/tinyML/Fine-tuning/model_checkpoint/assets\n"
          ]
        },
        {
          "name": "stdout",
          "output_type": "stream",
          "text": [
            "351/351 [==============================] - 25s 72ms/step - loss: 0.0434 - accuracy: 0.9851 - val_loss: 0.4682 - val_accuracy: 0.8961\n",
            "Epoch 104/182\n",
            "351/351 [==============================] - ETA: 0s - loss: 0.0442 - accuracy: 0.9846INFO:tensorflow:Assets written to: /Users/danielhuang/tinyML/Fine-tuning/model_checkpoint/assets\n"
          ]
        },
        {
          "name": "stderr",
          "output_type": "stream",
          "text": [
            "INFO:tensorflow:Assets written to: /Users/danielhuang/tinyML/Fine-tuning/model_checkpoint/assets\n"
          ]
        },
        {
          "name": "stdout",
          "output_type": "stream",
          "text": [
            "351/351 [==============================] - 25s 71ms/step - loss: 0.0442 - accuracy: 0.9846 - val_loss: 0.5262 - val_accuracy: 0.8861\n",
            "Epoch 105/182\n",
            "351/351 [==============================] - ETA: 0s - loss: 0.0439 - accuracy: 0.9844INFO:tensorflow:Assets written to: /Users/danielhuang/tinyML/Fine-tuning/model_checkpoint/assets\n"
          ]
        },
        {
          "name": "stderr",
          "output_type": "stream",
          "text": [
            "INFO:tensorflow:Assets written to: /Users/danielhuang/tinyML/Fine-tuning/model_checkpoint/assets\n"
          ]
        },
        {
          "name": "stdout",
          "output_type": "stream",
          "text": [
            "351/351 [==============================] - 25s 70ms/step - loss: 0.0439 - accuracy: 0.9844 - val_loss: 0.4678 - val_accuracy: 0.8941\n",
            "Epoch 106/182\n",
            "350/351 [============================>.] - ETA: 0s - loss: 0.0437 - accuracy: 0.9851INFO:tensorflow:Assets written to: /Users/danielhuang/tinyML/Fine-tuning/model_checkpoint/assets\n"
          ]
        },
        {
          "name": "stderr",
          "output_type": "stream",
          "text": [
            "INFO:tensorflow:Assets written to: /Users/danielhuang/tinyML/Fine-tuning/model_checkpoint/assets\n"
          ]
        },
        {
          "name": "stdout",
          "output_type": "stream",
          "text": [
            "351/351 [==============================] - 25s 71ms/step - loss: 0.0437 - accuracy: 0.9851 - val_loss: 0.4769 - val_accuracy: 0.8920\n",
            "Epoch 107/182\n",
            "351/351 [==============================] - ETA: 0s - loss: 0.0416 - accuracy: 0.9852INFO:tensorflow:Assets written to: /Users/danielhuang/tinyML/Fine-tuning/model_checkpoint/assets\n"
          ]
        },
        {
          "name": "stderr",
          "output_type": "stream",
          "text": [
            "INFO:tensorflow:Assets written to: /Users/danielhuang/tinyML/Fine-tuning/model_checkpoint/assets\n"
          ]
        },
        {
          "name": "stdout",
          "output_type": "stream",
          "text": [
            "351/351 [==============================] - 26s 74ms/step - loss: 0.0416 - accuracy: 0.9852 - val_loss: 0.4471 - val_accuracy: 0.8990\n",
            "Epoch 108/182\n",
            "351/351 [==============================] - ETA: 0s - loss: 0.0409 - accuracy: 0.9853INFO:tensorflow:Assets written to: /Users/danielhuang/tinyML/Fine-tuning/model_checkpoint/assets\n"
          ]
        },
        {
          "name": "stderr",
          "output_type": "stream",
          "text": [
            "INFO:tensorflow:Assets written to: /Users/danielhuang/tinyML/Fine-tuning/model_checkpoint/assets\n"
          ]
        },
        {
          "name": "stdout",
          "output_type": "stream",
          "text": [
            "351/351 [==============================] - 25s 72ms/step - loss: 0.0409 - accuracy: 0.9853 - val_loss: 0.4813 - val_accuracy: 0.8947\n",
            "Epoch 109/182\n",
            "351/351 [==============================] - ETA: 0s - loss: 0.0418 - accuracy: 0.9849INFO:tensorflow:Assets written to: /Users/danielhuang/tinyML/Fine-tuning/model_checkpoint/assets\n"
          ]
        },
        {
          "name": "stderr",
          "output_type": "stream",
          "text": [
            "INFO:tensorflow:Assets written to: /Users/danielhuang/tinyML/Fine-tuning/model_checkpoint/assets\n"
          ]
        },
        {
          "name": "stdout",
          "output_type": "stream",
          "text": [
            "351/351 [==============================] - 26s 73ms/step - loss: 0.0418 - accuracy: 0.9849 - val_loss: 0.4881 - val_accuracy: 0.8931\n",
            "Epoch 110/182\n",
            "351/351 [==============================] - ETA: 0s - loss: 0.0425 - accuracy: 0.9849INFO:tensorflow:Assets written to: /Users/danielhuang/tinyML/Fine-tuning/model_checkpoint/assets\n"
          ]
        },
        {
          "name": "stderr",
          "output_type": "stream",
          "text": [
            "INFO:tensorflow:Assets written to: /Users/danielhuang/tinyML/Fine-tuning/model_checkpoint/assets\n"
          ]
        },
        {
          "name": "stdout",
          "output_type": "stream",
          "text": [
            "351/351 [==============================] - 25s 70ms/step - loss: 0.0425 - accuracy: 0.9849 - val_loss: 0.4629 - val_accuracy: 0.8945\n",
            "Epoch 111/182\n",
            "351/351 [==============================] - ETA: 0s - loss: 0.0450 - accuracy: 0.9839INFO:tensorflow:Assets written to: /Users/danielhuang/tinyML/Fine-tuning/model_checkpoint/assets\n"
          ]
        },
        {
          "name": "stderr",
          "output_type": "stream",
          "text": [
            "INFO:tensorflow:Assets written to: /Users/danielhuang/tinyML/Fine-tuning/model_checkpoint/assets\n"
          ]
        },
        {
          "name": "stdout",
          "output_type": "stream",
          "text": [
            "351/351 [==============================] - 25s 70ms/step - loss: 0.0450 - accuracy: 0.9839 - val_loss: 0.4800 - val_accuracy: 0.8968\n",
            "Epoch 112/182\n",
            "351/351 [==============================] - ETA: 0s - loss: 0.0423 - accuracy: 0.9854INFO:tensorflow:Assets written to: /Users/danielhuang/tinyML/Fine-tuning/model_checkpoint/assets\n"
          ]
        },
        {
          "name": "stderr",
          "output_type": "stream",
          "text": [
            "INFO:tensorflow:Assets written to: /Users/danielhuang/tinyML/Fine-tuning/model_checkpoint/assets\n"
          ]
        },
        {
          "name": "stdout",
          "output_type": "stream",
          "text": [
            "351/351 [==============================] - 24s 69ms/step - loss: 0.0423 - accuracy: 0.9854 - val_loss: 0.4868 - val_accuracy: 0.8908\n",
            "Epoch 113/182\n",
            "351/351 [==============================] - ETA: 0s - loss: 0.0412 - accuracy: 0.9860INFO:tensorflow:Assets written to: /Users/danielhuang/tinyML/Fine-tuning/model_checkpoint/assets\n"
          ]
        },
        {
          "name": "stderr",
          "output_type": "stream",
          "text": [
            "INFO:tensorflow:Assets written to: /Users/danielhuang/tinyML/Fine-tuning/model_checkpoint/assets\n"
          ]
        },
        {
          "name": "stdout",
          "output_type": "stream",
          "text": [
            "351/351 [==============================] - 25s 71ms/step - loss: 0.0412 - accuracy: 0.9860 - val_loss: 0.4627 - val_accuracy: 0.9021\n",
            "Epoch 114/182\n",
            "351/351 [==============================] - ETA: 0s - loss: 0.0416 - accuracy: 0.9851INFO:tensorflow:Assets written to: /Users/danielhuang/tinyML/Fine-tuning/model_checkpoint/assets\n"
          ]
        },
        {
          "name": "stderr",
          "output_type": "stream",
          "text": [
            "INFO:tensorflow:Assets written to: /Users/danielhuang/tinyML/Fine-tuning/model_checkpoint/assets\n"
          ]
        },
        {
          "name": "stdout",
          "output_type": "stream",
          "text": [
            "351/351 [==============================] - 27s 76ms/step - loss: 0.0416 - accuracy: 0.9851 - val_loss: 0.4851 - val_accuracy: 0.8966\n",
            "Epoch 115/182\n",
            "351/351 [==============================] - ETA: 0s - loss: 0.0405 - accuracy: 0.9856INFO:tensorflow:Assets written to: /Users/danielhuang/tinyML/Fine-tuning/model_checkpoint/assets\n"
          ]
        },
        {
          "name": "stderr",
          "output_type": "stream",
          "text": [
            "INFO:tensorflow:Assets written to: /Users/danielhuang/tinyML/Fine-tuning/model_checkpoint/assets\n"
          ]
        },
        {
          "name": "stdout",
          "output_type": "stream",
          "text": [
            "351/351 [==============================] - 26s 73ms/step - loss: 0.0405 - accuracy: 0.9856 - val_loss: 0.4829 - val_accuracy: 0.8968\n",
            "Epoch 116/182\n",
            "351/351 [==============================] - ETA: 0s - loss: 0.0396 - accuracy: 0.9866INFO:tensorflow:Assets written to: /Users/danielhuang/tinyML/Fine-tuning/model_checkpoint/assets\n"
          ]
        },
        {
          "name": "stderr",
          "output_type": "stream",
          "text": [
            "INFO:tensorflow:Assets written to: /Users/danielhuang/tinyML/Fine-tuning/model_checkpoint/assets\n"
          ]
        },
        {
          "name": "stdout",
          "output_type": "stream",
          "text": [
            "351/351 [==============================] - 26s 74ms/step - loss: 0.0396 - accuracy: 0.9866 - val_loss: 0.4824 - val_accuracy: 0.8927\n",
            "Epoch 117/182\n",
            "351/351 [==============================] - ETA: 0s - loss: 0.0381 - accuracy: 0.9866INFO:tensorflow:Assets written to: /Users/danielhuang/tinyML/Fine-tuning/model_checkpoint/assets\n"
          ]
        },
        {
          "name": "stderr",
          "output_type": "stream",
          "text": [
            "INFO:tensorflow:Assets written to: /Users/danielhuang/tinyML/Fine-tuning/model_checkpoint/assets\n"
          ]
        },
        {
          "name": "stdout",
          "output_type": "stream",
          "text": [
            "351/351 [==============================] - 25s 71ms/step - loss: 0.0381 - accuracy: 0.9866 - val_loss: 0.4758 - val_accuracy: 0.8949\n",
            "Epoch 118/182\n",
            "351/351 [==============================] - ETA: 0s - loss: 0.0394 - accuracy: 0.9866INFO:tensorflow:Assets written to: /Users/danielhuang/tinyML/Fine-tuning/model_checkpoint/assets\n"
          ]
        },
        {
          "name": "stderr",
          "output_type": "stream",
          "text": [
            "INFO:tensorflow:Assets written to: /Users/danielhuang/tinyML/Fine-tuning/model_checkpoint/assets\n"
          ]
        },
        {
          "name": "stdout",
          "output_type": "stream",
          "text": [
            "351/351 [==============================] - 25s 71ms/step - loss: 0.0394 - accuracy: 0.9866 - val_loss: 0.4821 - val_accuracy: 0.8961\n",
            "Epoch 119/182\n",
            "351/351 [==============================] - ETA: 0s - loss: 0.0391 - accuracy: 0.9862INFO:tensorflow:Assets written to: /Users/danielhuang/tinyML/Fine-tuning/model_checkpoint/assets\n"
          ]
        },
        {
          "name": "stderr",
          "output_type": "stream",
          "text": [
            "INFO:tensorflow:Assets written to: /Users/danielhuang/tinyML/Fine-tuning/model_checkpoint/assets\n"
          ]
        },
        {
          "name": "stdout",
          "output_type": "stream",
          "text": [
            "351/351 [==============================] - 26s 73ms/step - loss: 0.0391 - accuracy: 0.9862 - val_loss: 0.4560 - val_accuracy: 0.8996\n",
            "Epoch 120/182\n",
            "351/351 [==============================] - ETA: 0s - loss: 0.0372 - accuracy: 0.9869INFO:tensorflow:Assets written to: /Users/danielhuang/tinyML/Fine-tuning/model_checkpoint/assets\n"
          ]
        },
        {
          "name": "stderr",
          "output_type": "stream",
          "text": [
            "INFO:tensorflow:Assets written to: /Users/danielhuang/tinyML/Fine-tuning/model_checkpoint/assets\n"
          ]
        },
        {
          "name": "stdout",
          "output_type": "stream",
          "text": [
            "351/351 [==============================] - 24s 69ms/step - loss: 0.0372 - accuracy: 0.9869 - val_loss: 0.4962 - val_accuracy: 0.8948\n",
            "Epoch 121/182\n",
            "351/351 [==============================] - ETA: 0s - loss: 0.0378 - accuracy: 0.9871INFO:tensorflow:Assets written to: /Users/danielhuang/tinyML/Fine-tuning/model_checkpoint/assets\n"
          ]
        },
        {
          "name": "stderr",
          "output_type": "stream",
          "text": [
            "INFO:tensorflow:Assets written to: /Users/danielhuang/tinyML/Fine-tuning/model_checkpoint/assets\n"
          ]
        },
        {
          "name": "stdout",
          "output_type": "stream",
          "text": [
            "351/351 [==============================] - 22s 61ms/step - loss: 0.0378 - accuracy: 0.9871 - val_loss: 0.5131 - val_accuracy: 0.8927\n",
            "Epoch 122/182\n",
            "350/351 [============================>.] - ETA: 0s - loss: 0.0383 - accuracy: 0.9866INFO:tensorflow:Assets written to: /Users/danielhuang/tinyML/Fine-tuning/model_checkpoint/assets\n"
          ]
        },
        {
          "name": "stderr",
          "output_type": "stream",
          "text": [
            "INFO:tensorflow:Assets written to: /Users/danielhuang/tinyML/Fine-tuning/model_checkpoint/assets\n"
          ]
        },
        {
          "name": "stdout",
          "output_type": "stream",
          "text": [
            "351/351 [==============================] - 22s 63ms/step - loss: 0.0382 - accuracy: 0.9866 - val_loss: 0.4671 - val_accuracy: 0.8980\n",
            "Epoch 123/182\n",
            "351/351 [==============================] - ETA: 0s - loss: 0.0357 - accuracy: 0.9873INFO:tensorflow:Assets written to: /Users/danielhuang/tinyML/Fine-tuning/model_checkpoint/assets\n"
          ]
        },
        {
          "name": "stderr",
          "output_type": "stream",
          "text": [
            "INFO:tensorflow:Assets written to: /Users/danielhuang/tinyML/Fine-tuning/model_checkpoint/assets\n"
          ]
        },
        {
          "name": "stdout",
          "output_type": "stream",
          "text": [
            "351/351 [==============================] - 21s 60ms/step - loss: 0.0357 - accuracy: 0.9873 - val_loss: 0.5108 - val_accuracy: 0.8906\n",
            "Epoch 124/182\n",
            "351/351 [==============================] - ETA: 0s - loss: 0.0354 - accuracy: 0.9874INFO:tensorflow:Assets written to: /Users/danielhuang/tinyML/Fine-tuning/model_checkpoint/assets\n"
          ]
        },
        {
          "name": "stderr",
          "output_type": "stream",
          "text": [
            "INFO:tensorflow:Assets written to: /Users/danielhuang/tinyML/Fine-tuning/model_checkpoint/assets\n"
          ]
        },
        {
          "name": "stdout",
          "output_type": "stream",
          "text": [
            "351/351 [==============================] - 22s 63ms/step - loss: 0.0354 - accuracy: 0.9874 - val_loss: 0.4969 - val_accuracy: 0.8949\n",
            "Epoch 125/182\n",
            "350/351 [============================>.] - ETA: 0s - loss: 0.0400 - accuracy: 0.9857INFO:tensorflow:Assets written to: /Users/danielhuang/tinyML/Fine-tuning/model_checkpoint/assets\n"
          ]
        },
        {
          "name": "stderr",
          "output_type": "stream",
          "text": [
            "INFO:tensorflow:Assets written to: /Users/danielhuang/tinyML/Fine-tuning/model_checkpoint/assets\n"
          ]
        },
        {
          "name": "stdout",
          "output_type": "stream",
          "text": [
            "351/351 [==============================] - 22s 63ms/step - loss: 0.0400 - accuracy: 0.9857 - val_loss: 0.5102 - val_accuracy: 0.8898\n",
            "Epoch 126/182\n",
            "351/351 [==============================] - ETA: 0s - loss: 0.0390 - accuracy: 0.9860INFO:tensorflow:Assets written to: /Users/danielhuang/tinyML/Fine-tuning/model_checkpoint/assets\n"
          ]
        },
        {
          "name": "stderr",
          "output_type": "stream",
          "text": [
            "INFO:tensorflow:Assets written to: /Users/danielhuang/tinyML/Fine-tuning/model_checkpoint/assets\n"
          ]
        },
        {
          "name": "stdout",
          "output_type": "stream",
          "text": [
            "351/351 [==============================] - 22s 63ms/step - loss: 0.0390 - accuracy: 0.9860 - val_loss: 0.4899 - val_accuracy: 0.8929\n",
            "Epoch 127/182\n",
            "351/351 [==============================] - ETA: 0s - loss: 0.0372 - accuracy: 0.9870INFO:tensorflow:Assets written to: /Users/danielhuang/tinyML/Fine-tuning/model_checkpoint/assets\n"
          ]
        },
        {
          "name": "stderr",
          "output_type": "stream",
          "text": [
            "INFO:tensorflow:Assets written to: /Users/danielhuang/tinyML/Fine-tuning/model_checkpoint/assets\n"
          ]
        },
        {
          "name": "stdout",
          "output_type": "stream",
          "text": [
            "351/351 [==============================] - 22s 63ms/step - loss: 0.0372 - accuracy: 0.9870 - val_loss: 0.5085 - val_accuracy: 0.8912\n",
            "Epoch 128/182\n",
            "351/351 [==============================] - ETA: 0s - loss: 0.0363 - accuracy: 0.9874INFO:tensorflow:Assets written to: /Users/danielhuang/tinyML/Fine-tuning/model_checkpoint/assets\n"
          ]
        },
        {
          "name": "stderr",
          "output_type": "stream",
          "text": [
            "INFO:tensorflow:Assets written to: /Users/danielhuang/tinyML/Fine-tuning/model_checkpoint/assets\n"
          ]
        },
        {
          "name": "stdout",
          "output_type": "stream",
          "text": [
            "351/351 [==============================] - 20s 58ms/step - loss: 0.0363 - accuracy: 0.9874 - val_loss: 0.4911 - val_accuracy: 0.8945\n",
            "Epoch 129/182\n",
            "350/351 [============================>.] - ETA: 0s - loss: 0.0361 - accuracy: 0.9874INFO:tensorflow:Assets written to: /Users/danielhuang/tinyML/Fine-tuning/model_checkpoint/assets\n"
          ]
        },
        {
          "name": "stderr",
          "output_type": "stream",
          "text": [
            "INFO:tensorflow:Assets written to: /Users/danielhuang/tinyML/Fine-tuning/model_checkpoint/assets\n"
          ]
        },
        {
          "name": "stdout",
          "output_type": "stream",
          "text": [
            "351/351 [==============================] - 20s 58ms/step - loss: 0.0361 - accuracy: 0.9874 - val_loss: 0.5044 - val_accuracy: 0.8972\n",
            "Epoch 130/182\n",
            "351/351 [==============================] - ETA: 0s - loss: 0.0383 - accuracy: 0.9863INFO:tensorflow:Assets written to: /Users/danielhuang/tinyML/Fine-tuning/model_checkpoint/assets\n"
          ]
        },
        {
          "name": "stderr",
          "output_type": "stream",
          "text": [
            "INFO:tensorflow:Assets written to: /Users/danielhuang/tinyML/Fine-tuning/model_checkpoint/assets\n"
          ]
        },
        {
          "name": "stdout",
          "output_type": "stream",
          "text": [
            "351/351 [==============================] - 20s 58ms/step - loss: 0.0383 - accuracy: 0.9863 - val_loss: 0.4674 - val_accuracy: 0.8939\n",
            "Epoch 131/182\n",
            "350/351 [============================>.] - ETA: 0s - loss: 0.0376 - accuracy: 0.9868INFO:tensorflow:Assets written to: /Users/danielhuang/tinyML/Fine-tuning/model_checkpoint/assets\n"
          ]
        },
        {
          "name": "stderr",
          "output_type": "stream",
          "text": [
            "INFO:tensorflow:Assets written to: /Users/danielhuang/tinyML/Fine-tuning/model_checkpoint/assets\n"
          ]
        },
        {
          "name": "stdout",
          "output_type": "stream",
          "text": [
            "351/351 [==============================] - 20s 57ms/step - loss: 0.0376 - accuracy: 0.9869 - val_loss: 0.4963 - val_accuracy: 0.8974\n",
            "Epoch 132/182\n",
            "350/351 [============================>.] - ETA: 0s - loss: 0.0358 - accuracy: 0.9872INFO:tensorflow:Assets written to: /Users/danielhuang/tinyML/Fine-tuning/model_checkpoint/assets\n"
          ]
        },
        {
          "name": "stderr",
          "output_type": "stream",
          "text": [
            "INFO:tensorflow:Assets written to: /Users/danielhuang/tinyML/Fine-tuning/model_checkpoint/assets\n"
          ]
        },
        {
          "name": "stdout",
          "output_type": "stream",
          "text": [
            "351/351 [==============================] - 20s 56ms/step - loss: 0.0359 - accuracy: 0.9872 - val_loss: 0.4907 - val_accuracy: 0.8974\n",
            "Epoch 133/182\n",
            "351/351 [==============================] - ETA: 0s - loss: 0.0349 - accuracy: 0.9875INFO:tensorflow:Assets written to: /Users/danielhuang/tinyML/Fine-tuning/model_checkpoint/assets\n"
          ]
        },
        {
          "name": "stderr",
          "output_type": "stream",
          "text": [
            "INFO:tensorflow:Assets written to: /Users/danielhuang/tinyML/Fine-tuning/model_checkpoint/assets\n"
          ]
        },
        {
          "name": "stdout",
          "output_type": "stream",
          "text": [
            "351/351 [==============================] - 20s 57ms/step - loss: 0.0349 - accuracy: 0.9875 - val_loss: 0.5011 - val_accuracy: 0.8894\n",
            "Epoch 134/182\n",
            "351/351 [==============================] - ETA: 0s - loss: 0.0357 - accuracy: 0.9878INFO:tensorflow:Assets written to: /Users/danielhuang/tinyML/Fine-tuning/model_checkpoint/assets\n"
          ]
        },
        {
          "name": "stderr",
          "output_type": "stream",
          "text": [
            "INFO:tensorflow:Assets written to: /Users/danielhuang/tinyML/Fine-tuning/model_checkpoint/assets\n"
          ]
        },
        {
          "name": "stdout",
          "output_type": "stream",
          "text": [
            "351/351 [==============================] - 20s 56ms/step - loss: 0.0357 - accuracy: 0.9878 - val_loss: 0.5064 - val_accuracy: 0.8978\n",
            "Epoch 135/182\n",
            "351/351 [==============================] - ETA: 0s - loss: 0.0365 - accuracy: 0.9867INFO:tensorflow:Assets written to: /Users/danielhuang/tinyML/Fine-tuning/model_checkpoint/assets\n"
          ]
        },
        {
          "name": "stderr",
          "output_type": "stream",
          "text": [
            "INFO:tensorflow:Assets written to: /Users/danielhuang/tinyML/Fine-tuning/model_checkpoint/assets\n"
          ]
        },
        {
          "name": "stdout",
          "output_type": "stream",
          "text": [
            "351/351 [==============================] - 19s 55ms/step - loss: 0.0365 - accuracy: 0.9867 - val_loss: 0.5007 - val_accuracy: 0.8908\n",
            "Epoch 136/182\n",
            "351/351 [==============================] - ETA: 0s - loss: 0.0352 - accuracy: 0.9876INFO:tensorflow:Assets written to: /Users/danielhuang/tinyML/Fine-tuning/model_checkpoint/assets\n"
          ]
        },
        {
          "name": "stderr",
          "output_type": "stream",
          "text": [
            "INFO:tensorflow:Assets written to: /Users/danielhuang/tinyML/Fine-tuning/model_checkpoint/assets\n"
          ]
        },
        {
          "name": "stdout",
          "output_type": "stream",
          "text": [
            "351/351 [==============================] - 19s 55ms/step - loss: 0.0352 - accuracy: 0.9876 - val_loss: 0.5327 - val_accuracy: 0.8898\n",
            "Epoch 137/182\n",
            "351/351 [==============================] - ETA: 0s - loss: 0.0333 - accuracy: 0.9881INFO:tensorflow:Assets written to: /Users/danielhuang/tinyML/Fine-tuning/model_checkpoint/assets\n"
          ]
        },
        {
          "name": "stderr",
          "output_type": "stream",
          "text": [
            "INFO:tensorflow:Assets written to: /Users/danielhuang/tinyML/Fine-tuning/model_checkpoint/assets\n"
          ]
        },
        {
          "name": "stdout",
          "output_type": "stream",
          "text": [
            "351/351 [==============================] - 19s 55ms/step - loss: 0.0333 - accuracy: 0.9881 - val_loss: 0.4825 - val_accuracy: 0.8986\n",
            "Epoch 138/182\n",
            "350/351 [============================>.] - ETA: 0s - loss: 0.0341 - accuracy: 0.9877INFO:tensorflow:Assets written to: /Users/danielhuang/tinyML/Fine-tuning/model_checkpoint/assets\n"
          ]
        },
        {
          "name": "stderr",
          "output_type": "stream",
          "text": [
            "INFO:tensorflow:Assets written to: /Users/danielhuang/tinyML/Fine-tuning/model_checkpoint/assets\n"
          ]
        },
        {
          "name": "stdout",
          "output_type": "stream",
          "text": [
            "351/351 [==============================] - 20s 56ms/step - loss: 0.0341 - accuracy: 0.9877 - val_loss: 0.4981 - val_accuracy: 0.8980\n",
            "Epoch 139/182\n",
            "351/351 [==============================] - ETA: 0s - loss: 0.0315 - accuracy: 0.9892INFO:tensorflow:Assets written to: /Users/danielhuang/tinyML/Fine-tuning/model_checkpoint/assets\n"
          ]
        },
        {
          "name": "stderr",
          "output_type": "stream",
          "text": [
            "INFO:tensorflow:Assets written to: /Users/danielhuang/tinyML/Fine-tuning/model_checkpoint/assets\n"
          ]
        },
        {
          "name": "stdout",
          "output_type": "stream",
          "text": [
            "351/351 [==============================] - 20s 56ms/step - loss: 0.0315 - accuracy: 0.9892 - val_loss: 0.4943 - val_accuracy: 0.8998\n",
            "Epoch 140/182\n",
            "350/351 [============================>.] - ETA: 0s - loss: 0.0322 - accuracy: 0.9886INFO:tensorflow:Assets written to: /Users/danielhuang/tinyML/Fine-tuning/model_checkpoint/assets\n"
          ]
        },
        {
          "name": "stderr",
          "output_type": "stream",
          "text": [
            "INFO:tensorflow:Assets written to: /Users/danielhuang/tinyML/Fine-tuning/model_checkpoint/assets\n"
          ]
        },
        {
          "name": "stdout",
          "output_type": "stream",
          "text": [
            "351/351 [==============================] - 20s 56ms/step - loss: 0.0322 - accuracy: 0.9885 - val_loss: 0.5155 - val_accuracy: 0.8949\n",
            "Epoch 141/182\n",
            "351/351 [==============================] - ETA: 0s - loss: 0.0321 - accuracy: 0.9890INFO:tensorflow:Assets written to: /Users/danielhuang/tinyML/Fine-tuning/model_checkpoint/assets\n"
          ]
        },
        {
          "name": "stderr",
          "output_type": "stream",
          "text": [
            "INFO:tensorflow:Assets written to: /Users/danielhuang/tinyML/Fine-tuning/model_checkpoint/assets\n"
          ]
        },
        {
          "name": "stdout",
          "output_type": "stream",
          "text": [
            "351/351 [==============================] - 20s 56ms/step - loss: 0.0321 - accuracy: 0.9890 - val_loss: 0.4823 - val_accuracy: 0.8968\n",
            "Epoch 142/182\n",
            "351/351 [==============================] - ETA: 0s - loss: 0.0306 - accuracy: 0.9893INFO:tensorflow:Assets written to: /Users/danielhuang/tinyML/Fine-tuning/model_checkpoint/assets\n"
          ]
        },
        {
          "name": "stderr",
          "output_type": "stream",
          "text": [
            "INFO:tensorflow:Assets written to: /Users/danielhuang/tinyML/Fine-tuning/model_checkpoint/assets\n"
          ]
        },
        {
          "name": "stdout",
          "output_type": "stream",
          "text": [
            "351/351 [==============================] - 20s 57ms/step - loss: 0.0306 - accuracy: 0.9893 - val_loss: 0.5233 - val_accuracy: 0.9000\n",
            "Epoch 143/182\n",
            "350/351 [============================>.] - ETA: 0s - loss: 0.0314 - accuracy: 0.9890INFO:tensorflow:Assets written to: /Users/danielhuang/tinyML/Fine-tuning/model_checkpoint/assets\n"
          ]
        },
        {
          "name": "stderr",
          "output_type": "stream",
          "text": [
            "INFO:tensorflow:Assets written to: /Users/danielhuang/tinyML/Fine-tuning/model_checkpoint/assets\n"
          ]
        },
        {
          "name": "stdout",
          "output_type": "stream",
          "text": [
            "351/351 [==============================] - 21s 58ms/step - loss: 0.0313 - accuracy: 0.9891 - val_loss: 0.5077 - val_accuracy: 0.8986\n",
            "Epoch 144/182\n",
            "351/351 [==============================] - ETA: 0s - loss: 0.0301 - accuracy: 0.9897INFO:tensorflow:Assets written to: /Users/danielhuang/tinyML/Fine-tuning/model_checkpoint/assets\n"
          ]
        },
        {
          "name": "stderr",
          "output_type": "stream",
          "text": [
            "INFO:tensorflow:Assets written to: /Users/danielhuang/tinyML/Fine-tuning/model_checkpoint/assets\n"
          ]
        },
        {
          "name": "stdout",
          "output_type": "stream",
          "text": [
            "351/351 [==============================] - 20s 56ms/step - loss: 0.0301 - accuracy: 0.9897 - val_loss: 0.5192 - val_accuracy: 0.8939\n",
            "Epoch 145/182\n",
            "351/351 [==============================] - ETA: 0s - loss: 0.0303 - accuracy: 0.9896INFO:tensorflow:Assets written to: /Users/danielhuang/tinyML/Fine-tuning/model_checkpoint/assets\n"
          ]
        },
        {
          "name": "stderr",
          "output_type": "stream",
          "text": [
            "INFO:tensorflow:Assets written to: /Users/danielhuang/tinyML/Fine-tuning/model_checkpoint/assets\n"
          ]
        },
        {
          "name": "stdout",
          "output_type": "stream",
          "text": [
            "351/351 [==============================] - 19s 55ms/step - loss: 0.0303 - accuracy: 0.9896 - val_loss: 0.4829 - val_accuracy: 0.8959\n",
            "Epoch 146/182\n",
            "351/351 [==============================] - ETA: 0s - loss: 0.0298 - accuracy: 0.9895INFO:tensorflow:Assets written to: /Users/danielhuang/tinyML/Fine-tuning/model_checkpoint/assets\n"
          ]
        },
        {
          "name": "stderr",
          "output_type": "stream",
          "text": [
            "INFO:tensorflow:Assets written to: /Users/danielhuang/tinyML/Fine-tuning/model_checkpoint/assets\n"
          ]
        },
        {
          "name": "stdout",
          "output_type": "stream",
          "text": [
            "351/351 [==============================] - 19s 55ms/step - loss: 0.0298 - accuracy: 0.9895 - val_loss: 0.5021 - val_accuracy: 0.8990\n",
            "Epoch 147/182\n",
            "351/351 [==============================] - ETA: 0s - loss: 0.0306 - accuracy: 0.9895INFO:tensorflow:Assets written to: /Users/danielhuang/tinyML/Fine-tuning/model_checkpoint/assets\n"
          ]
        },
        {
          "name": "stderr",
          "output_type": "stream",
          "text": [
            "INFO:tensorflow:Assets written to: /Users/danielhuang/tinyML/Fine-tuning/model_checkpoint/assets\n"
          ]
        },
        {
          "name": "stdout",
          "output_type": "stream",
          "text": [
            "351/351 [==============================] - 19s 55ms/step - loss: 0.0306 - accuracy: 0.9895 - val_loss: 0.5020 - val_accuracy: 0.8978\n",
            "Epoch 148/182\n",
            "350/351 [============================>.] - ETA: 0s - loss: 0.0310 - accuracy: 0.9890INFO:tensorflow:Assets written to: /Users/danielhuang/tinyML/Fine-tuning/model_checkpoint/assets\n"
          ]
        },
        {
          "name": "stderr",
          "output_type": "stream",
          "text": [
            "INFO:tensorflow:Assets written to: /Users/danielhuang/tinyML/Fine-tuning/model_checkpoint/assets\n"
          ]
        },
        {
          "name": "stdout",
          "output_type": "stream",
          "text": [
            "351/351 [==============================] - 19s 55ms/step - loss: 0.0310 - accuracy: 0.9890 - val_loss: 0.4712 - val_accuracy: 0.8996\n",
            "Epoch 149/182\n",
            "351/351 [==============================] - ETA: 0s - loss: 0.0281 - accuracy: 0.9897INFO:tensorflow:Assets written to: /Users/danielhuang/tinyML/Fine-tuning/model_checkpoint/assets\n"
          ]
        },
        {
          "name": "stderr",
          "output_type": "stream",
          "text": [
            "INFO:tensorflow:Assets written to: /Users/danielhuang/tinyML/Fine-tuning/model_checkpoint/assets\n"
          ]
        },
        {
          "name": "stdout",
          "output_type": "stream",
          "text": [
            "351/351 [==============================] - 20s 58ms/step - loss: 0.0281 - accuracy: 0.9897 - val_loss: 0.4826 - val_accuracy: 0.8970\n",
            "Epoch 150/182\n",
            "350/351 [============================>.] - ETA: 0s - loss: 0.0288 - accuracy: 0.9902INFO:tensorflow:Assets written to: /Users/danielhuang/tinyML/Fine-tuning/model_checkpoint/assets\n"
          ]
        },
        {
          "name": "stderr",
          "output_type": "stream",
          "text": [
            "INFO:tensorflow:Assets written to: /Users/danielhuang/tinyML/Fine-tuning/model_checkpoint/assets\n"
          ]
        },
        {
          "name": "stdout",
          "output_type": "stream",
          "text": [
            "351/351 [==============================] - 20s 56ms/step - loss: 0.0288 - accuracy: 0.9902 - val_loss: 0.5036 - val_accuracy: 0.8974\n",
            "Epoch 151/182\n",
            "351/351 [==============================] - ETA: 0s - loss: 0.0290 - accuracy: 0.9901INFO:tensorflow:Assets written to: /Users/danielhuang/tinyML/Fine-tuning/model_checkpoint/assets\n"
          ]
        },
        {
          "name": "stderr",
          "output_type": "stream",
          "text": [
            "INFO:tensorflow:Assets written to: /Users/danielhuang/tinyML/Fine-tuning/model_checkpoint/assets\n"
          ]
        },
        {
          "name": "stdout",
          "output_type": "stream",
          "text": [
            "351/351 [==============================] - 20s 57ms/step - loss: 0.0290 - accuracy: 0.9901 - val_loss: 0.4921 - val_accuracy: 0.8957\n",
            "Epoch 152/182\n",
            "351/351 [==============================] - ETA: 0s - loss: 0.0281 - accuracy: 0.9906INFO:tensorflow:Assets written to: /Users/danielhuang/tinyML/Fine-tuning/model_checkpoint/assets\n"
          ]
        },
        {
          "name": "stderr",
          "output_type": "stream",
          "text": [
            "INFO:tensorflow:Assets written to: /Users/danielhuang/tinyML/Fine-tuning/model_checkpoint/assets\n"
          ]
        },
        {
          "name": "stdout",
          "output_type": "stream",
          "text": [
            "351/351 [==============================] - 20s 57ms/step - loss: 0.0281 - accuracy: 0.9906 - val_loss: 0.4826 - val_accuracy: 0.8990\n",
            "Epoch 153/182\n",
            "351/351 [==============================] - ETA: 0s - loss: 0.0284 - accuracy: 0.9901INFO:tensorflow:Assets written to: /Users/danielhuang/tinyML/Fine-tuning/model_checkpoint/assets\n"
          ]
        },
        {
          "name": "stderr",
          "output_type": "stream",
          "text": [
            "INFO:tensorflow:Assets written to: /Users/danielhuang/tinyML/Fine-tuning/model_checkpoint/assets\n"
          ]
        },
        {
          "name": "stdout",
          "output_type": "stream",
          "text": [
            "351/351 [==============================] - 20s 56ms/step - loss: 0.0284 - accuracy: 0.9901 - val_loss: 0.5064 - val_accuracy: 0.8943\n",
            "Epoch 154/182\n",
            "351/351 [==============================] - ETA: 0s - loss: 0.0299 - accuracy: 0.9896INFO:tensorflow:Assets written to: /Users/danielhuang/tinyML/Fine-tuning/model_checkpoint/assets\n"
          ]
        },
        {
          "name": "stderr",
          "output_type": "stream",
          "text": [
            "INFO:tensorflow:Assets written to: /Users/danielhuang/tinyML/Fine-tuning/model_checkpoint/assets\n"
          ]
        },
        {
          "name": "stdout",
          "output_type": "stream",
          "text": [
            "351/351 [==============================] - 20s 56ms/step - loss: 0.0299 - accuracy: 0.9896 - val_loss: 0.4999 - val_accuracy: 0.8980\n",
            "Epoch 155/182\n",
            "350/351 [============================>.] - ETA: 0s - loss: 0.0297 - accuracy: 0.9898INFO:tensorflow:Assets written to: /Users/danielhuang/tinyML/Fine-tuning/model_checkpoint/assets\n"
          ]
        },
        {
          "name": "stderr",
          "output_type": "stream",
          "text": [
            "INFO:tensorflow:Assets written to: /Users/danielhuang/tinyML/Fine-tuning/model_checkpoint/assets\n"
          ]
        },
        {
          "name": "stdout",
          "output_type": "stream",
          "text": [
            "351/351 [==============================] - 20s 56ms/step - loss: 0.0297 - accuracy: 0.9898 - val_loss: 0.4967 - val_accuracy: 0.8953\n",
            "Epoch 156/182\n",
            "350/351 [============================>.] - ETA: 0s - loss: 0.0303 - accuracy: 0.9897INFO:tensorflow:Assets written to: /Users/danielhuang/tinyML/Fine-tuning/model_checkpoint/assets\n"
          ]
        },
        {
          "name": "stderr",
          "output_type": "stream",
          "text": [
            "INFO:tensorflow:Assets written to: /Users/danielhuang/tinyML/Fine-tuning/model_checkpoint/assets\n"
          ]
        },
        {
          "name": "stdout",
          "output_type": "stream",
          "text": [
            "351/351 [==============================] - 20s 56ms/step - loss: 0.0302 - accuracy: 0.9897 - val_loss: 0.4992 - val_accuracy: 0.8953\n",
            "Epoch 157/182\n",
            "350/351 [============================>.] - ETA: 0s - loss: 0.0302 - accuracy: 0.9895INFO:tensorflow:Assets written to: /Users/danielhuang/tinyML/Fine-tuning/model_checkpoint/assets\n"
          ]
        },
        {
          "name": "stderr",
          "output_type": "stream",
          "text": [
            "INFO:tensorflow:Assets written to: /Users/danielhuang/tinyML/Fine-tuning/model_checkpoint/assets\n"
          ]
        },
        {
          "name": "stdout",
          "output_type": "stream",
          "text": [
            "351/351 [==============================] - 20s 57ms/step - loss: 0.0302 - accuracy: 0.9895 - val_loss: 0.4867 - val_accuracy: 0.9021\n",
            "Epoch 158/182\n",
            "351/351 [==============================] - ETA: 0s - loss: 0.0289 - accuracy: 0.9898INFO:tensorflow:Assets written to: /Users/danielhuang/tinyML/Fine-tuning/model_checkpoint/assets\n"
          ]
        },
        {
          "name": "stderr",
          "output_type": "stream",
          "text": [
            "INFO:tensorflow:Assets written to: /Users/danielhuang/tinyML/Fine-tuning/model_checkpoint/assets\n"
          ]
        },
        {
          "name": "stdout",
          "output_type": "stream",
          "text": [
            "351/351 [==============================] - 21s 60ms/step - loss: 0.0289 - accuracy: 0.9898 - val_loss: 0.4673 - val_accuracy: 0.9017\n",
            "Epoch 159/182\n",
            "350/351 [============================>.] - ETA: 0s - loss: 0.0304 - accuracy: 0.9896INFO:tensorflow:Assets written to: /Users/danielhuang/tinyML/Fine-tuning/model_checkpoint/assets\n"
          ]
        },
        {
          "name": "stderr",
          "output_type": "stream",
          "text": [
            "INFO:tensorflow:Assets written to: /Users/danielhuang/tinyML/Fine-tuning/model_checkpoint/assets\n"
          ]
        },
        {
          "name": "stdout",
          "output_type": "stream",
          "text": [
            "351/351 [==============================] - 22s 62ms/step - loss: 0.0305 - accuracy: 0.9896 - val_loss: 0.4827 - val_accuracy: 0.8966\n",
            "Epoch 160/182\n",
            "351/351 [==============================] - ETA: 0s - loss: 0.0287 - accuracy: 0.9902INFO:tensorflow:Assets written to: /Users/danielhuang/tinyML/Fine-tuning/model_checkpoint/assets\n"
          ]
        },
        {
          "name": "stderr",
          "output_type": "stream",
          "text": [
            "INFO:tensorflow:Assets written to: /Users/danielhuang/tinyML/Fine-tuning/model_checkpoint/assets\n"
          ]
        },
        {
          "name": "stdout",
          "output_type": "stream",
          "text": [
            "351/351 [==============================] - 21s 61ms/step - loss: 0.0287 - accuracy: 0.9902 - val_loss: 0.4862 - val_accuracy: 0.8986\n",
            "Epoch 161/182\n",
            "350/351 [============================>.] - ETA: 0s - loss: 0.0288 - accuracy: 0.9904INFO:tensorflow:Assets written to: /Users/danielhuang/tinyML/Fine-tuning/model_checkpoint/assets\n"
          ]
        },
        {
          "name": "stderr",
          "output_type": "stream",
          "text": [
            "INFO:tensorflow:Assets written to: /Users/danielhuang/tinyML/Fine-tuning/model_checkpoint/assets\n"
          ]
        },
        {
          "name": "stdout",
          "output_type": "stream",
          "text": [
            "351/351 [==============================] - 22s 62ms/step - loss: 0.0288 - accuracy: 0.9904 - val_loss: 0.4975 - val_accuracy: 0.8986\n",
            "Epoch 162/182\n",
            "350/351 [============================>.] - ETA: 0s - loss: 0.0281 - accuracy: 0.9906INFO:tensorflow:Assets written to: /Users/danielhuang/tinyML/Fine-tuning/model_checkpoint/assets\n"
          ]
        },
        {
          "name": "stderr",
          "output_type": "stream",
          "text": [
            "INFO:tensorflow:Assets written to: /Users/danielhuang/tinyML/Fine-tuning/model_checkpoint/assets\n"
          ]
        },
        {
          "name": "stdout",
          "output_type": "stream",
          "text": [
            "351/351 [==============================] - 21s 60ms/step - loss: 0.0281 - accuracy: 0.9906 - val_loss: 0.4678 - val_accuracy: 0.8976\n",
            "Epoch 163/182\n",
            "351/351 [==============================] - ETA: 0s - loss: 0.0284 - accuracy: 0.9903INFO:tensorflow:Assets written to: /Users/danielhuang/tinyML/Fine-tuning/model_checkpoint/assets\n"
          ]
        },
        {
          "name": "stderr",
          "output_type": "stream",
          "text": [
            "INFO:tensorflow:Assets written to: /Users/danielhuang/tinyML/Fine-tuning/model_checkpoint/assets\n"
          ]
        },
        {
          "name": "stdout",
          "output_type": "stream",
          "text": [
            "351/351 [==============================] - 21s 60ms/step - loss: 0.0284 - accuracy: 0.9903 - val_loss: 0.4940 - val_accuracy: 0.9009\n",
            "Epoch 164/182\n",
            "351/351 [==============================] - ETA: 0s - loss: 0.0282 - accuracy: 0.9905INFO:tensorflow:Assets written to: /Users/danielhuang/tinyML/Fine-tuning/model_checkpoint/assets\n"
          ]
        },
        {
          "name": "stderr",
          "output_type": "stream",
          "text": [
            "INFO:tensorflow:Assets written to: /Users/danielhuang/tinyML/Fine-tuning/model_checkpoint/assets\n"
          ]
        },
        {
          "name": "stdout",
          "output_type": "stream",
          "text": [
            "351/351 [==============================] - 21s 59ms/step - loss: 0.0282 - accuracy: 0.9905 - val_loss: 0.4728 - val_accuracy: 0.8998\n",
            "Epoch 165/182\n",
            "350/351 [============================>.] - ETA: 0s - loss: 0.0274 - accuracy: 0.9905INFO:tensorflow:Assets written to: /Users/danielhuang/tinyML/Fine-tuning/model_checkpoint/assets\n"
          ]
        },
        {
          "name": "stderr",
          "output_type": "stream",
          "text": [
            "INFO:tensorflow:Assets written to: /Users/danielhuang/tinyML/Fine-tuning/model_checkpoint/assets\n"
          ]
        },
        {
          "name": "stdout",
          "output_type": "stream",
          "text": [
            "351/351 [==============================] - 21s 60ms/step - loss: 0.0273 - accuracy: 0.9905 - val_loss: 0.5061 - val_accuracy: 0.8968\n",
            "Epoch 166/182\n",
            "351/351 [==============================] - ETA: 0s - loss: 0.0255 - accuracy: 0.9913INFO:tensorflow:Assets written to: /Users/danielhuang/tinyML/Fine-tuning/model_checkpoint/assets\n"
          ]
        },
        {
          "name": "stderr",
          "output_type": "stream",
          "text": [
            "INFO:tensorflow:Assets written to: /Users/danielhuang/tinyML/Fine-tuning/model_checkpoint/assets\n"
          ]
        },
        {
          "name": "stdout",
          "output_type": "stream",
          "text": [
            "351/351 [==============================] - 22s 61ms/step - loss: 0.0255 - accuracy: 0.9913 - val_loss: 0.5118 - val_accuracy: 0.8947\n",
            "Epoch 167/182\n",
            "351/351 [==============================] - ETA: 0s - loss: 0.0281 - accuracy: 0.9906INFO:tensorflow:Assets written to: /Users/danielhuang/tinyML/Fine-tuning/model_checkpoint/assets\n"
          ]
        },
        {
          "name": "stderr",
          "output_type": "stream",
          "text": [
            "INFO:tensorflow:Assets written to: /Users/danielhuang/tinyML/Fine-tuning/model_checkpoint/assets\n"
          ]
        },
        {
          "name": "stdout",
          "output_type": "stream",
          "text": [
            "351/351 [==============================] - 22s 61ms/step - loss: 0.0281 - accuracy: 0.9906 - val_loss: 0.5019 - val_accuracy: 0.8922\n",
            "Epoch 168/182\n",
            "350/351 [============================>.] - ETA: 0s - loss: 0.0289 - accuracy: 0.9898INFO:tensorflow:Assets written to: /Users/danielhuang/tinyML/Fine-tuning/model_checkpoint/assets\n"
          ]
        },
        {
          "name": "stderr",
          "output_type": "stream",
          "text": [
            "INFO:tensorflow:Assets written to: /Users/danielhuang/tinyML/Fine-tuning/model_checkpoint/assets\n"
          ]
        },
        {
          "name": "stdout",
          "output_type": "stream",
          "text": [
            "351/351 [==============================] - 22s 61ms/step - loss: 0.0289 - accuracy: 0.9898 - val_loss: 0.5056 - val_accuracy: 0.8982\n",
            "Epoch 169/182\n",
            "350/351 [============================>.] - ETA: 0s - loss: 0.0270 - accuracy: 0.9911INFO:tensorflow:Assets written to: /Users/danielhuang/tinyML/Fine-tuning/model_checkpoint/assets\n"
          ]
        },
        {
          "name": "stderr",
          "output_type": "stream",
          "text": [
            "INFO:tensorflow:Assets written to: /Users/danielhuang/tinyML/Fine-tuning/model_checkpoint/assets\n"
          ]
        },
        {
          "name": "stdout",
          "output_type": "stream",
          "text": [
            "351/351 [==============================] - 22s 62ms/step - loss: 0.0270 - accuracy: 0.9911 - val_loss: 0.5011 - val_accuracy: 0.8984\n",
            "Epoch 170/182\n",
            "351/351 [==============================] - ETA: 0s - loss: 0.0283 - accuracy: 0.9904INFO:tensorflow:Assets written to: /Users/danielhuang/tinyML/Fine-tuning/model_checkpoint/assets\n"
          ]
        },
        {
          "name": "stderr",
          "output_type": "stream",
          "text": [
            "INFO:tensorflow:Assets written to: /Users/danielhuang/tinyML/Fine-tuning/model_checkpoint/assets\n"
          ]
        },
        {
          "name": "stdout",
          "output_type": "stream",
          "text": [
            "351/351 [==============================] - 22s 63ms/step - loss: 0.0283 - accuracy: 0.9904 - val_loss: 0.5510 - val_accuracy: 0.8908\n",
            "Epoch 171/182\n",
            "351/351 [==============================] - ETA: 0s - loss: 0.0288 - accuracy: 0.9899INFO:tensorflow:Assets written to: /Users/danielhuang/tinyML/Fine-tuning/model_checkpoint/assets\n"
          ]
        },
        {
          "name": "stderr",
          "output_type": "stream",
          "text": [
            "INFO:tensorflow:Assets written to: /Users/danielhuang/tinyML/Fine-tuning/model_checkpoint/assets\n"
          ]
        },
        {
          "name": "stdout",
          "output_type": "stream",
          "text": [
            "351/351 [==============================] - 23s 67ms/step - loss: 0.0288 - accuracy: 0.9899 - val_loss: 0.5015 - val_accuracy: 0.8961\n",
            "Epoch 172/182\n",
            "351/351 [==============================] - ETA: 0s - loss: 0.0276 - accuracy: 0.9906INFO:tensorflow:Assets written to: /Users/danielhuang/tinyML/Fine-tuning/model_checkpoint/assets\n"
          ]
        },
        {
          "name": "stderr",
          "output_type": "stream",
          "text": [
            "INFO:tensorflow:Assets written to: /Users/danielhuang/tinyML/Fine-tuning/model_checkpoint/assets\n"
          ]
        },
        {
          "name": "stdout",
          "output_type": "stream",
          "text": [
            "351/351 [==============================] - 25s 71ms/step - loss: 0.0276 - accuracy: 0.9906 - val_loss: 0.4530 - val_accuracy: 0.9060\n",
            "Epoch 173/182\n",
            "350/351 [============================>.] - ETA: 0s - loss: 0.0276 - accuracy: 0.9904INFO:tensorflow:Assets written to: /Users/danielhuang/tinyML/Fine-tuning/model_checkpoint/assets\n"
          ]
        },
        {
          "name": "stderr",
          "output_type": "stream",
          "text": [
            "INFO:tensorflow:Assets written to: /Users/danielhuang/tinyML/Fine-tuning/model_checkpoint/assets\n"
          ]
        },
        {
          "name": "stdout",
          "output_type": "stream",
          "text": [
            "351/351 [==============================] - 22s 62ms/step - loss: 0.0277 - accuracy: 0.9904 - val_loss: 0.5098 - val_accuracy: 0.8927\n",
            "Epoch 174/182\n",
            "351/351 [==============================] - ETA: 0s - loss: 0.0286 - accuracy: 0.9907INFO:tensorflow:Assets written to: /Users/danielhuang/tinyML/Fine-tuning/model_checkpoint/assets\n"
          ]
        },
        {
          "name": "stderr",
          "output_type": "stream",
          "text": [
            "INFO:tensorflow:Assets written to: /Users/danielhuang/tinyML/Fine-tuning/model_checkpoint/assets\n"
          ]
        },
        {
          "name": "stdout",
          "output_type": "stream",
          "text": [
            "351/351 [==============================] - 21s 61ms/step - loss: 0.0286 - accuracy: 0.9907 - val_loss: 0.4553 - val_accuracy: 0.9005\n",
            "Epoch 175/182\n",
            "350/351 [============================>.] - ETA: 0s - loss: 0.0297 - accuracy: 0.9897INFO:tensorflow:Assets written to: /Users/danielhuang/tinyML/Fine-tuning/model_checkpoint/assets\n"
          ]
        },
        {
          "name": "stderr",
          "output_type": "stream",
          "text": [
            "INFO:tensorflow:Assets written to: /Users/danielhuang/tinyML/Fine-tuning/model_checkpoint/assets\n"
          ]
        },
        {
          "name": "stdout",
          "output_type": "stream",
          "text": [
            "351/351 [==============================] - 21s 59ms/step - loss: 0.0296 - accuracy: 0.9897 - val_loss: 0.5169 - val_accuracy: 0.8918\n",
            "Epoch 176/182\n",
            "351/351 [==============================] - ETA: 0s - loss: 0.0270 - accuracy: 0.9907INFO:tensorflow:Assets written to: /Users/danielhuang/tinyML/Fine-tuning/model_checkpoint/assets\n"
          ]
        },
        {
          "name": "stderr",
          "output_type": "stream",
          "text": [
            "INFO:tensorflow:Assets written to: /Users/danielhuang/tinyML/Fine-tuning/model_checkpoint/assets\n"
          ]
        },
        {
          "name": "stdout",
          "output_type": "stream",
          "text": [
            "351/351 [==============================] - 22s 63ms/step - loss: 0.0270 - accuracy: 0.9907 - val_loss: 0.5008 - val_accuracy: 0.8935\n",
            "Epoch 177/182\n",
            "351/351 [==============================] - ETA: 0s - loss: 0.0274 - accuracy: 0.9905INFO:tensorflow:Assets written to: /Users/danielhuang/tinyML/Fine-tuning/model_checkpoint/assets\n"
          ]
        },
        {
          "name": "stderr",
          "output_type": "stream",
          "text": [
            "INFO:tensorflow:Assets written to: /Users/danielhuang/tinyML/Fine-tuning/model_checkpoint/assets\n"
          ]
        },
        {
          "name": "stdout",
          "output_type": "stream",
          "text": [
            "351/351 [==============================] - 21s 60ms/step - loss: 0.0274 - accuracy: 0.9905 - val_loss: 0.5149 - val_accuracy: 0.8984\n",
            "Epoch 178/182\n",
            "350/351 [============================>.] - ETA: 0s - loss: 0.0274 - accuracy: 0.9908INFO:tensorflow:Assets written to: /Users/danielhuang/tinyML/Fine-tuning/model_checkpoint/assets\n"
          ]
        },
        {
          "name": "stderr",
          "output_type": "stream",
          "text": [
            "INFO:tensorflow:Assets written to: /Users/danielhuang/tinyML/Fine-tuning/model_checkpoint/assets\n"
          ]
        },
        {
          "name": "stdout",
          "output_type": "stream",
          "text": [
            "351/351 [==============================] - 21s 60ms/step - loss: 0.0274 - accuracy: 0.9908 - val_loss: 0.4928 - val_accuracy: 0.9027\n",
            "Epoch 179/182\n",
            "351/351 [==============================] - ETA: 0s - loss: 0.0305 - accuracy: 0.9897INFO:tensorflow:Assets written to: /Users/danielhuang/tinyML/Fine-tuning/model_checkpoint/assets\n"
          ]
        },
        {
          "name": "stderr",
          "output_type": "stream",
          "text": [
            "INFO:tensorflow:Assets written to: /Users/danielhuang/tinyML/Fine-tuning/model_checkpoint/assets\n"
          ]
        },
        {
          "name": "stdout",
          "output_type": "stream",
          "text": [
            "351/351 [==============================] - 22s 61ms/step - loss: 0.0305 - accuracy: 0.9897 - val_loss: 0.5046 - val_accuracy: 0.8955\n",
            "Epoch 180/182\n",
            "351/351 [==============================] - ETA: 0s - loss: 0.0264 - accuracy: 0.9911INFO:tensorflow:Assets written to: /Users/danielhuang/tinyML/Fine-tuning/model_checkpoint/assets\n"
          ]
        },
        {
          "name": "stderr",
          "output_type": "stream",
          "text": [
            "INFO:tensorflow:Assets written to: /Users/danielhuang/tinyML/Fine-tuning/model_checkpoint/assets\n"
          ]
        },
        {
          "name": "stdout",
          "output_type": "stream",
          "text": [
            "351/351 [==============================] - 22s 63ms/step - loss: 0.0264 - accuracy: 0.9911 - val_loss: 0.5476 - val_accuracy: 0.8945\n",
            "Epoch 181/182\n",
            "351/351 [==============================] - ETA: 0s - loss: 0.0290 - accuracy: 0.9895INFO:tensorflow:Assets written to: /Users/danielhuang/tinyML/Fine-tuning/model_checkpoint/assets\n"
          ]
        },
        {
          "name": "stderr",
          "output_type": "stream",
          "text": [
            "INFO:tensorflow:Assets written to: /Users/danielhuang/tinyML/Fine-tuning/model_checkpoint/assets\n"
          ]
        },
        {
          "name": "stdout",
          "output_type": "stream",
          "text": [
            "351/351 [==============================] - 22s 61ms/step - loss: 0.0290 - accuracy: 0.9895 - val_loss: 0.4497 - val_accuracy: 0.9050\n",
            "Epoch 182/182\n",
            "351/351 [==============================] - ETA: 0s - loss: 0.0280 - accuracy: 0.9906INFO:tensorflow:Assets written to: /Users/danielhuang/tinyML/Fine-tuning/model_checkpoint/assets\n"
          ]
        },
        {
          "name": "stderr",
          "output_type": "stream",
          "text": [
            "INFO:tensorflow:Assets written to: /Users/danielhuang/tinyML/Fine-tuning/model_checkpoint/assets\n"
          ]
        },
        {
          "name": "stdout",
          "output_type": "stream",
          "text": [
            "351/351 [==============================] - 23s 64ms/step - loss: 0.0280 - accuracy: 0.9906 - val_loss: 0.5353 - val_accuracy: 0.8916\n",
            "Test loss: 0.6009443402290344 / Test accuracy: 0.8934999704360962\n"
          ]
        }
      ],
      "source": [
        "if __name__ == \"__main__\": \n",
        "    training_process()"
      ]
    },
    {
      "cell_type": "code",
      "execution_count": 53,
      "metadata": {},
      "outputs": [
        {
          "data": {
            "text/html": [
              "\n",
              "      <iframe id=\"tensorboard-frame-9d8923e834a35f5f\" width=\"100%\" height=\"800\" frameborder=\"0\">\n",
              "      </iframe>\n",
              "      <script>\n",
              "        (function() {\n",
              "          const frame = document.getElementById(\"tensorboard-frame-9d8923e834a35f5f\");\n",
              "          const url = new URL(\"/\", window.location);\n",
              "          const port = 6011;\n",
              "          if (port) {\n",
              "            url.port = port;\n",
              "          }\n",
              "          frame.src = url;\n",
              "        })();\n",
              "      </script>\n",
              "    "
            ],
            "text/plain": [
              "<IPython.core.display.HTML object>"
            ]
          },
          "metadata": {},
          "output_type": "display_data"
        }
      ],
      "source": [
        "%reload_ext tensorboard\n",
        "%tensorboard --logdir logs"
      ]
    },
    {
      "cell_type": "markdown",
      "metadata": {},
      "source": [
        "## Confusion Matrix\n"
      ]
    },
    {
      "cell_type": "code",
      "execution_count": 59,
      "metadata": {},
      "outputs": [
        {
          "ename": "AttributeError",
          "evalue": "'_UserObject' object has no attribute 'predict'",
          "output_type": "error",
          "traceback": [
            "\u001b[0;31m---------------------------------------------------------------------------\u001b[0m",
            "\u001b[0;31mAttributeError\u001b[0m                            Traceback (most recent call last)",
            "Cell \u001b[0;32mIn[59], line 13\u001b[0m\n\u001b[1;32m     11\u001b[0m     plt\u001b[38;5;241m.\u001b[39mfigure(figsize\u001b[38;5;241m=\u001b[39m(\u001b[38;5;241m10\u001b[39m, \u001b[38;5;241m8\u001b[39m))\n\u001b[1;32m     12\u001b[0m     c \u001b[38;5;241m=\u001b[39m sns\u001b[38;5;241m.\u001b[39mheatmap(confusion_mtx, annot\u001b[38;5;241m=\u001b[39m\u001b[38;5;28;01mTrue\u001b[39;00m, fmt\u001b[38;5;241m=\u001b[39m\u001b[38;5;124m\"\u001b[39m\u001b[38;5;124md\u001b[39m\u001b[38;5;124m\"\u001b[39m, xticklabels\u001b[38;5;241m=\u001b[39mclasses, yticklabels\u001b[38;5;241m=\u001b[39mclasses, cmap\u001b[38;5;241m=\u001b[39m\u001b[38;5;124m\"\u001b[39m\u001b[38;5;124mBlues\u001b[39m\u001b[38;5;124m\"\u001b[39m)\n\u001b[0;32m---> 13\u001b[0m \u001b[43mconfusion\u001b[49m\u001b[43m(\u001b[49m\u001b[43m)\u001b[49m\n",
            "Cell \u001b[0;32mIn[59], line 3\u001b[0m, in \u001b[0;36mconfusion\u001b[0;34m()\u001b[0m\n\u001b[1;32m      1\u001b[0m \u001b[38;5;28;01mdef\u001b[39;00m \u001b[38;5;21mconfusion\u001b[39m(): \n\u001b[1;32m      2\u001b[0m     model \u001b[38;5;241m=\u001b[39m tensorflow\u001b[38;5;241m.\u001b[39msaved_model\u001b[38;5;241m.\u001b[39mload(\u001b[38;5;124m\"\u001b[39m\u001b[38;5;124mmodel_checkpoint\u001b[39m\u001b[38;5;124m\"\u001b[39m)\n\u001b[0;32m----> 3\u001b[0m     y_pred \u001b[38;5;241m=\u001b[39m \u001b[43mmodel\u001b[49m\u001b[38;5;241;43m.\u001b[39;49m\u001b[43mpredict\u001b[49m(input_test)\n\u001b[1;32m      4\u001b[0m     y_pred_classes \u001b[38;5;241m=\u001b[39m np\u001b[38;5;241m.\u001b[39margmax(y_pred, axis\u001b[38;5;241m=\u001b[39m\u001b[38;5;241m1\u001b[39m)\n\u001b[1;32m      5\u001b[0m     y_true \u001b[38;5;241m=\u001b[39m np\u001b[38;5;241m.\u001b[39margmax(target_test, axis\u001b[38;5;241m=\u001b[39m\u001b[38;5;241m1\u001b[39m)\n",
            "\u001b[0;31mAttributeError\u001b[0m: '_UserObject' object has no attribute 'predict'"
          ]
        }
      ],
      "source": [
        "def confusion(): \n",
        "    model = tensorflow.saved_model.load(\"model_checkpoint\")\n",
        "    y_pred = model.predict(input_test)\n",
        "    y_pred_classes = np.argmax(y_pred, axis=1)\n",
        "    y_true = np.argmax(target_test, axis=1)\n",
        "\n",
        "    confusion_mtx = tf.math.confusion_matrix(y_true, y_pred_classes)\n",
        "\n",
        "    classes = (\"airplane\", \"automobile\", \"bird\", \"cat\", \"deer\", \"dog\", \"frog\", \"horse\", \"ship\", \"truck\")\n",
        "\n",
        "    plt.figure(figsize=(10, 8))\n",
        "    c = sns.heatmap(confusion_mtx, annot=True, fmt=\"d\", xticklabels=classes, yticklabels=classes, cmap=\"Blues\")\n",
        "confusion()"
      ]
    }
  ],
  "metadata": {
    "kernelspec": {
      "display_name": "venv-metal",
      "language": "python",
      "name": "python3"
    },
    "language_info": {
      "codemirror_mode": {
        "name": "ipython",
        "version": 3
      },
      "file_extension": ".py",
      "mimetype": "text/x-python",
      "name": "python",
      "nbconvert_exporter": "python",
      "pygments_lexer": "ipython3",
      "version": "3.10.9"
    }
  },
  "nbformat": 4,
  "nbformat_minor": 4
}
