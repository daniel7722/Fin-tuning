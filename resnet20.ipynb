{
  "cells": [
    {
      "cell_type": "code",
      "execution_count": 40,
      "metadata": {
        "trusted": true
      },
      "outputs": [],
      "source": [
        "import os\n",
        "import numpy as np\n",
        "import scipy\n",
        "import tensorflow\n",
        "from tensorflow.keras import Model\n",
        "from tensorflow.keras.datasets import cifar10\n",
        "from tensorflow.keras.layers import Add, GlobalAveragePooling2D, Dense, Flatten, Conv2D, Lambda, Input, BatchNormalization, Activation, Dropout\n",
        "from tensorflow.keras.optimizers import schedules\n",
        "from tensorflow.keras.optimizers.legacy import SGD\n",
        "from tensorflow.keras.callbacks import TensorBoard, ModelCheckpoint, EarlyStopping, Callback\n",
        "from tensorflow.summary import create_file_writer"
      ]
    },
    {
      "cell_type": "markdown",
      "metadata": {},
      "source": [
        "# Set up Configuration "
      ]
    },
    {
      "cell_type": "code",
      "execution_count": 41,
      "metadata": {},
      "outputs": [],
      "source": [
        "# Model Configuration\n",
        "def model_configuration(): \n",
        "    \"\"\"\n",
        "    Get the model configuration\n",
        "    \"\"\"\n",
        "\n",
        "    # Load dataset for computing dataset size\n",
        "    (input_train, _), (_, _) = load_dataset()\n",
        "\n",
        "    # Generic config\n",
        "    width, height, channels = 32, 32, 3\n",
        "    batch_size = 128\n",
        "    num_classes = 10\n",
        "    validation_split = 0.1\n",
        "    verbose = 1\n",
        "    n = 3\n",
        "    init_fm_dim = 16\n",
        "    shortcut_type = \"identity\"\n",
        "    \n",
        "    # Dataset size\n",
        "    train_size = (1 - validation_split)  * len(input_train)\n",
        "    val_size = (validation_split) * len(input_train)\n",
        "\n",
        "    # Number of steps per epoch is dependent on batch size\n",
        "    maximum_number_iterations = 64000\n",
        "    steps_per_epoch = tensorflow.math.floor(train_size / batch_size)\n",
        "    val_steps_per_epoch = tensorflow.math.floor(val_size / batch_size)\n",
        "    epochs = tensorflow.cast(tensorflow.math.floor(maximum_number_iterations / steps_per_epoch), dtype=tensorflow.int64)\n",
        "\n",
        "    # Define loss function\n",
        "    loss = tensorflow.keras.losses.CategoricalCrossentropy(from_logits=True)\n",
        "\n",
        "    # Learning rate config\n",
        "    boundaries = [32000, 48000]\n",
        "    values = [0.1, 0.01, 0.001]\n",
        "    lr_schedule = schedules.PiecewiseConstantDecay(boundaries, values)\n",
        "\n",
        "    # Set layer init\n",
        "    initialiser = tensorflow.keras.initializers.HeNormal()\n",
        "\n",
        "    # Define optimiser\n",
        "    optimiser_momentum = 0.9\n",
        "    optimiser_additional_metrics = [\"accuracy\"]\n",
        "    optimiser = SGD(learning_rate=lr_schedule, momentum=optimiser_momentum)\n",
        "\n",
        "    # Load Tensorboard callback\n",
        "    tensorboard = TensorBoard(\n",
        "\t    log_dir=os.path.join(os.getcwd(), \"logs\"),\n",
        "\t    histogram_freq=1,\n",
        "\t    write_images=True\n",
        "\t)\n",
        "\n",
        "    # Save a model checkpoint after every epoch\n",
        "    checkpoint = ModelCheckpoint(\n",
        "        os.path.join(os.getcwd(), \"model_checkpoint\"),\n",
        "        save_freq=\"epoch\"\n",
        "    )\n",
        "\n",
        "    # Early stopping callback\n",
        "    early_stopping = EarlyStopping(monitor=\"val_loss\", patience=10, verbose=1, restore_best_weights=True)\n",
        "\n",
        "    # Summary Writer callback\n",
        "    class SummaryWriter(Callback):\n",
        "        def __init__(self, log_dir):\n",
        "            super().__init__()\n",
        "            self.log_dir = log_dir\n",
        "\n",
        "        def on_epoch_end(self, epoch, logs=None):\n",
        "            with create_file_writer(self.log_dir).as_default():\n",
        "                for key, value in logs.items():\n",
        "                    tensorflow.summary.scalar(key, value, step=epoch)\n",
        "\n",
        "    # Add callbacks to list\n",
        "    callbacks = [\n",
        "        SummaryWriter(log_dir=os.path.join(os.getcwd(), \"logs\")),\n",
        "        tensorboard,\n",
        "        checkpoint\n",
        "    ]\n",
        "\n",
        "    #Create config dictionary\n",
        "    config = {\n",
        "        \"width\": width,\n",
        "        \"height\": height,\n",
        "        \"dim\": channels,\n",
        "        \"batch_size\": batch_size,\n",
        "        \"num_classes\": num_classes,\n",
        "        \"validation_split\": validation_split,\n",
        "        \"verbose\": verbose,\n",
        "        \"stack_n\": n,\n",
        "        \"initial_num_feature_maps\": init_fm_dim,\n",
        "        \"training_ds_size\": train_size,\n",
        "        \"steps_per_epoch\": steps_per_epoch,\n",
        "        \"val_steps_per_epoch\": val_steps_per_epoch,\n",
        "        \"num_epochs\": epochs,\n",
        "        \"loss\": loss,\n",
        "        \"optim\": optimiser,\n",
        "        \"optim_learning_rate_schedule\": lr_schedule,\n",
        "        \"optim_momentum\": optimiser_momentum,\n",
        "        \"optim_additional_metrics\": optimiser_additional_metrics,\n",
        "        \"initialiser\": initialiser,\n",
        "        \"callbacks\": callbacks,\n",
        "        \"shortcut_type\": shortcut_type,\n",
        "        \"name\": \"ResNet20\",\n",
        "        \"dropout_rate\": 0.5\n",
        "    }\n",
        "    return config"
      ]
    },
    {
      "cell_type": "markdown",
      "metadata": {},
      "source": [
        "# Loading Dataset"
      ]
    },
    {
      "cell_type": "code",
      "execution_count": 42,
      "metadata": {},
      "outputs": [],
      "source": [
        "def load_dataset():\n",
        "\t\"\"\"\n",
        "\t\tLoad the CIFAR-10 dataset\n",
        "\t\"\"\"\n",
        "\treturn cifar10.load_data()"
      ]
    },
    {
      "cell_type": "markdown",
      "metadata": {},
      "source": [
        "# Preprocessing\n",
        "## Cropping image"
      ]
    },
    {
      "cell_type": "code",
      "execution_count": 43,
      "metadata": {},
      "outputs": [],
      "source": [
        "def random_crop(img, random_crop_size): \n",
        "    # Note: image_data_format is 'channel_last'\n",
        "    # SOURCE: https://jkjung-avt.github.io/keras-image-cropping/\n",
        "\n",
        "    assert img.shape[2] == 3\n",
        "    height, width = img.shape[0], img.shape[1]\n",
        "    dy, dx = random_crop_size\n",
        "    x = np.random.randint(0, width - dx + 1)\n",
        "    y = np.random.randint(0, height - dy + 1)\n",
        "    return img[y:(y+dy), x:(x+dx), :]\n",
        "\n",
        "def crop_generator(batches, crop_length):\n",
        "    \"\"\"\n",
        "    Take as input a Keras ImageGen (Iterator) and generate random crops from the image batches generated by the original iterator\n",
        "    SOURCE: https://jkjung-avt.github.io/keras-image-cropping/\n",
        "    \"\"\"\n",
        "\n",
        "    while True: \n",
        "        batch_x, batch_y = next(batches)\n",
        "        batch_crops = np.zeros((batch_x.shape[0], crop_length, crop_length, 3))\n",
        "        for i in range(batch_x.shape[0]):\n",
        "            batch_crops[i] = random_crop(batch_x[i], (crop_length, crop_length))\n",
        "        yield (batch_crops, batch_y)"
      ]
    },
    {
      "cell_type": "code",
      "execution_count": 44,
      "metadata": {},
      "outputs": [],
      "source": [
        "def preprocessed_dataset(): \n",
        "    \"\"\"\n",
        "    Load and preprocess the CIFAR-10 dataset\n",
        "    \"\"\"\n",
        "    (input_train, target_train), (input_test, target_test) = load_dataset()\n",
        "\n",
        "    # Retrieve shape from model configuration and unpack into components\n",
        "    config = model_configuration()\n",
        "    width, height, dim = config.get(\"width\"), config.get(\"height\"), config.get(\"dim\")\n",
        "    num_classes = config.get(\"num_classes\")\n",
        "\n",
        "    # Data augmentation: perform zero padding on datasets\n",
        "    paddings = tensorflow.constant([[0,0,], [4,4], [4,4], [0,0]])\n",
        "    input_train = tensorflow.pad(input_train, paddings, mode=\"CONSTANT\")\n",
        "\n",
        "    # Convert scalar targets to categorical ones\n",
        "    target_train = tensorflow.keras.utils.to_categorical(target_train, num_classes)\n",
        "    target_test = tensorflow.keras.utils.to_categorical(target_test, num_classes)\n",
        "\n",
        "    # Data generator for training data\n",
        "    train_generator = tensorflow.keras.preprocessing.image.ImageDataGenerator(\n",
        "        validation_split=config.get(\"validation_split\"),\n",
        "        horizontal_flip=True,\n",
        "        rescale=1./255,\n",
        "        preprocessing_function = tensorflow.keras.applications.resnet50.preprocess_input\n",
        "    )\n",
        "\n",
        "    # Generate training and validation batches\n",
        "    train_batches = train_generator.flow(input_train, target_train, batch_size=config.get(\"batch_size\"), subset=\"training\")\n",
        "    validation_batches = train_generator.flow(input_train, target_train, batch_size=config.get(\"batch_size\"), subset=\"validation\")\n",
        "    train_batches = crop_generator(train_batches, config.get(\"height\"))\n",
        "    validation_batches = crop_generator(validation_batches, config.get(\"height\"))\n",
        "\n",
        "    # Data generator for testing data\n",
        "    test_generator = tensorflow.keras.preprocessing.image.ImageDataGenerator(\n",
        "        rescale=1./255,\n",
        "        preprocessing_function = tensorflow.keras.applications.resnet50.preprocess_input\n",
        "    )\n",
        "\n",
        "    # Generate testing batches\n",
        "    test_batches = test_generator.flow(input_test, target_test, batch_size=config.get(\"batch_size\"))\n",
        "\n",
        "    return train_batches, validation_batches, test_batches"
      ]
    },
    {
      "cell_type": "markdown",
      "metadata": {},
      "source": [
        "# Creating the Residual Block"
      ]
    },
    {
      "cell_type": "code",
      "execution_count": 45,
      "metadata": {},
      "outputs": [],
      "source": [
        "def residual_block(x, number_of_filters, match_filter_size=False):\n",
        "    \"\"\"\n",
        "    Residual block for ResNet\n",
        "    \"\"\"\n",
        "    # Retrieve initialiser\n",
        "    config = model_configuration()\n",
        "    initialiser = config.get(\"initialiser\")\n",
        "\n",
        "    # Create skip connection\n",
        "    x_skip = x\n",
        "\n",
        "    # Perform the original mapping\n",
        "    if match_filter_size: \n",
        "        x = Conv2D(number_of_filters, kernel_size=(3, 3), strides=(2, 2), kernel_initializer=initialiser,padding=\"same\")(x_skip)\n",
        "    else: \n",
        "        x = Conv2D(number_of_filters, kernel_size=(3, 3), strides=(1, 1), kernel_initializer=initialiser, padding=\"same\")(x_skip)\n",
        "\n",
        "    x = BatchNormalization(axis=3)(x)\n",
        "    x = Activation(\"relu\")(x)\n",
        "    x = Conv2D(number_of_filters, kernel_size=(3, 3), kernel_initializer=initialiser, padding=\"same\")(x)\n",
        "    x = BatchNormalization(axis=3)(x)\n",
        "\n",
        "    # Perform matching of filter numbers if necessary\n",
        "    if match_filter_size and config.get(\"shortcut_type\") == \"identity\": \n",
        "        x_skip = Lambda(lambda x: tensorflow.pad(x[:, ::2, ::2, :], tensorflow.constant([[0, 0,], [0, 0], [0, 0], [number_of_filters//4, number_of_filters//4]]), mode=\"CONSTANT\"))(x_skip)\n",
        "        x_skip = BatchNormalization(axis=3)(x_skip)\n",
        "    elif match_filter_size and config.get(\"shortcut_type\") == \"projection\":\n",
        "        x_skip = Conv2D(number_of_filters, kernel_size=(1,1), kernel_initializer=initializer, strides=(2,2))(x_skip)\n",
        "    \n",
        "    # Add the skip connection to the regular mapping\n",
        "    x = Add()([x, x_skip])\n",
        "\n",
        "    # Nonlinearly activate the result\n",
        "    x = Activation(\"relu\")(x)\n",
        "\n",
        "    # Return the result\n",
        "    return x"
      ]
    },
    {
      "cell_type": "code",
      "execution_count": 46,
      "metadata": {},
      "outputs": [],
      "source": [
        "def ResidualBlocks(x):\n",
        "    \"\"\" \n",
        "    Set up the residual blocks\n",
        "    \"\"\"\n",
        "\n",
        "    # Retrieve values\n",
        "    config = model_configuration()\n",
        "\n",
        "    # Set initial filter size\n",
        "    filter_size = config.get(\"initial_num_feature_maps\")\n",
        "\n",
        "    # 6n/2n = 3, there are 3 groups of residual blocks\n",
        "    for layer_group in range(3): \n",
        "\n",
        "        # Each block in our code has 2 weighted layers, and each group has 2n such blocks, so we have n blocks per group\n",
        "        for block in range(config.get(\"stack_n\")):\n",
        "\n",
        "            # Perform filter size increase at every first layer in the 2nd block onwards. \n",
        "            if layer_group > 0 and block == 0: \n",
        "                filter_size *= 2\n",
        "                x = residual_block(x, filter_size, match_filter_size=True)\n",
        "            else:\n",
        "                x = residual_block(x, filter_size)\n",
        "\n",
        "    return x"
      ]
    },
    {
      "cell_type": "code",
      "execution_count": 47,
      "metadata": {},
      "outputs": [],
      "source": [
        "def model_base(shp): \n",
        "    \"\"\"\n",
        "    Base Structure of the model, with residual blocks attached\n",
        "    \"\"\"\n",
        "\n",
        "    # Get number of classes from model configuration\n",
        "    config = model_configuration()\n",
        "    initialiser = config.get(\"initialiser\")\n",
        "\n",
        "    # Define model structure\n",
        "    # logits are returned becase Softmax is pushed to loss function\n",
        "    inputs = Input(shape=shp)\n",
        "    x = Conv2D(config.get(\"initial_num_feature_maps\"), kernel_size=(3, 3), strides=(1,1), kernel_initializer=initialiser, padding=\"same\")(inputs)\n",
        "    x = BatchNormalization()(x)\n",
        "    x = Activation(\"relu\")(x)\n",
        "    x = ResidualBlocks(x)\n",
        "    x = GlobalAveragePooling2D()(x)\n",
        "    x = Flatten()(x)\n",
        "    x = Dense(512, kernel_initializer=initialiser)(x)\n",
        "    x = BatchNormalization()(x)\n",
        "    x = Activation(\"relu\")(x)\n",
        "    x = Dropout(config.get(\"dropout_rate\"))(x)\n",
        "    outputs = Dense(config.get(\"num_classes\"), kernel_initializer=initialiser)(x)\n",
        "\n",
        "    return inputs, outputs"
      ]
    },
    {
      "cell_type": "markdown",
      "metadata": {},
      "source": [
        "# Model Initialisation"
      ]
    },
    {
      "cell_type": "code",
      "execution_count": 48,
      "metadata": {},
      "outputs": [],
      "source": [
        "def init_model(): \n",
        "    \"\"\"\n",
        "    Initilise a compiled ResNet model\n",
        "    \"\"\"\n",
        "\n",
        "    # Get shape from model configuration\n",
        "    config = model_configuration()\n",
        "\n",
        "    # Get model base\n",
        "    inputs, outputs = model_base((config.get(\"width\"), config.get(\"height\"), config.get(\"dim\")))\n",
        "\n",
        "    # Initialise and compile model\n",
        "    model = Model(inputs, outputs, name=config.get(\"name\"))\n",
        "    model.compile(loss=config.get(\"loss\"), optimizer=config.get(\"optim\"), metrics=config.get(\"optim_additional_metrics\"))\n",
        "\n",
        "    # Print model summary\n",
        "    model.summary()\n",
        "\n",
        "    return model"
      ]
    },
    {
      "cell_type": "markdown",
      "metadata": {},
      "source": [
        "# Training"
      ]
    },
    {
      "cell_type": "code",
      "execution_count": 49,
      "metadata": {
        "trusted": true
      },
      "outputs": [],
      "source": [
        "def train_model(model, train_batches, validation_batches): \n",
        "    \"\"\"\n",
        "    Train an initialised model\n",
        "    \"\"\"\n",
        "\n",
        "    # Get model configuration\n",
        "    config = model_configuration()\n",
        "\n",
        "    # Fit data to model\n",
        "    model.fit(\n",
        "        train_batches,\n",
        "        batch_size=config.get(\"batch_size\"),\n",
        "        epochs=config.get(\"num_epochs\"),\n",
        "        verbose=config.get(\"verbose\"),\n",
        "        callbacks=config.get(\"callbacks\"),\n",
        "        steps_per_epoch=config.get(\"steps_per_epoch\"),\n",
        "        validation_data=validation_batches,\n",
        "        validation_steps=config.get(\"val_steps_per_epoch\")\n",
        "    )\n",
        "    return model\n"
      ]
    },
    {
      "cell_type": "markdown",
      "metadata": {},
      "source": [
        "# Evaluation"
      ]
    },
    {
      "cell_type": "code",
      "execution_count": 50,
      "metadata": {},
      "outputs": [],
      "source": [
        "def evaluate_model(model, test_batches): \n",
        "    \"\"\"\n",
        "    Evaluate a trained model\n",
        "    \"\"\"\n",
        "\n",
        "    # Evaluate the model\n",
        "    score = model.evaluate(test_batches, verbose=0)\n",
        "    print(f'Test loss: {score[0]} / Test accuracy: {score[1]}')"
      ]
    },
    {
      "cell_type": "markdown",
      "metadata": {},
      "source": [
        "# Overall Process"
      ]
    },
    {
      "cell_type": "code",
      "execution_count": 51,
      "metadata": {},
      "outputs": [],
      "source": [
        "def training_process(): \n",
        "    \"\"\"\n",
        "    Run the training process for the ResNet model\n",
        "    \"\"\"\n",
        "\n",
        "    # Get dataset\n",
        "    train_batches, validation_batches, test_batches = preprocessed_dataset()\n",
        "\n",
        "    # Initialise ResNet\n",
        "    resnet = init_model()\n",
        "\n",
        "    # Train ResNet model\n",
        "    trained_resnet = train_model(resnet, train_batches, validation_batches)\n",
        "\n",
        "    # Evaluate ResNet model\n",
        "    evaluate_model(trained_resnet, test_batches)"
      ]
    },
    {
      "cell_type": "code",
      "execution_count": 52,
      "metadata": {},
      "outputs": [
        {
          "name": "stderr",
          "output_type": "stream",
          "text": [
            "/Users/danielhuang/venv-metal/lib/python3.10/site-packages/keras/src/initializers/initializers.py:120: UserWarning: The initializer HeNormal is unseeded and being called multiple times, which will return identical values each time (even if the initializer is unseeded). Please update your code to provide a seed to the initializer, or avoid using the same initializer instance more than once.\n",
            "  warnings.warn(\n"
          ]
        },
        {
          "name": "stdout",
          "output_type": "stream",
          "text": [
            "Model: \"ResNet20\"\n",
            "__________________________________________________________________________________________________\n",
            " Layer (type)                Output Shape                 Param #   Connected to                  \n",
            "==================================================================================================\n",
            " input_4 (InputLayer)        [(None, 32, 32, 3)]          0         []                            \n",
            "                                                                                                  \n",
            " conv2d_57 (Conv2D)          (None, 32, 32, 16)           448       ['input_4[0][0]']             \n",
            "                                                                                                  \n",
            " batch_normalization_64 (Ba  (None, 32, 32, 16)           64        ['conv2d_57[0][0]']           \n",
            " tchNormalization)                                                                                \n",
            "                                                                                                  \n",
            " activation_58 (Activation)  (None, 32, 32, 16)           0         ['batch_normalization_64[0][0]\n",
            "                                                                    ']                            \n",
            "                                                                                                  \n",
            " conv2d_58 (Conv2D)          (None, 32, 32, 16)           2320      ['activation_58[0][0]']       \n",
            "                                                                                                  \n",
            " batch_normalization_65 (Ba  (None, 32, 32, 16)           64        ['conv2d_58[0][0]']           \n",
            " tchNormalization)                                                                                \n",
            "                                                                                                  \n",
            " activation_59 (Activation)  (None, 32, 32, 16)           0         ['batch_normalization_65[0][0]\n",
            "                                                                    ']                            \n",
            "                                                                                                  \n",
            " conv2d_59 (Conv2D)          (None, 32, 32, 16)           2320      ['activation_59[0][0]']       \n",
            "                                                                                                  \n",
            " batch_normalization_66 (Ba  (None, 32, 32, 16)           64        ['conv2d_59[0][0]']           \n",
            " tchNormalization)                                                                                \n",
            "                                                                                                  \n",
            " add_27 (Add)                (None, 32, 32, 16)           0         ['batch_normalization_66[0][0]\n",
            "                                                                    ',                            \n",
            "                                                                     'activation_58[0][0]']       \n",
            "                                                                                                  \n",
            " activation_60 (Activation)  (None, 32, 32, 16)           0         ['add_27[0][0]']              \n",
            "                                                                                                  \n",
            " conv2d_60 (Conv2D)          (None, 32, 32, 16)           2320      ['activation_60[0][0]']       \n",
            "                                                                                                  \n",
            " batch_normalization_67 (Ba  (None, 32, 32, 16)           64        ['conv2d_60[0][0]']           \n",
            " tchNormalization)                                                                                \n",
            "                                                                                                  \n",
            " activation_61 (Activation)  (None, 32, 32, 16)           0         ['batch_normalization_67[0][0]\n",
            "                                                                    ']                            \n",
            "                                                                                                  \n",
            " conv2d_61 (Conv2D)          (None, 32, 32, 16)           2320      ['activation_61[0][0]']       \n",
            "                                                                                                  \n",
            " batch_normalization_68 (Ba  (None, 32, 32, 16)           64        ['conv2d_61[0][0]']           \n",
            " tchNormalization)                                                                                \n",
            "                                                                                                  \n",
            " add_28 (Add)                (None, 32, 32, 16)           0         ['batch_normalization_68[0][0]\n",
            "                                                                    ',                            \n",
            "                                                                     'activation_60[0][0]']       \n",
            "                                                                                                  \n",
            " activation_62 (Activation)  (None, 32, 32, 16)           0         ['add_28[0][0]']              \n",
            "                                                                                                  \n",
            " conv2d_62 (Conv2D)          (None, 32, 32, 16)           2320      ['activation_62[0][0]']       \n",
            "                                                                                                  \n",
            " batch_normalization_69 (Ba  (None, 32, 32, 16)           64        ['conv2d_62[0][0]']           \n",
            " tchNormalization)                                                                                \n",
            "                                                                                                  \n",
            " activation_63 (Activation)  (None, 32, 32, 16)           0         ['batch_normalization_69[0][0]\n",
            "                                                                    ']                            \n",
            "                                                                                                  \n",
            " conv2d_63 (Conv2D)          (None, 32, 32, 16)           2320      ['activation_63[0][0]']       \n",
            "                                                                                                  \n",
            " batch_normalization_70 (Ba  (None, 32, 32, 16)           64        ['conv2d_63[0][0]']           \n",
            " tchNormalization)                                                                                \n",
            "                                                                                                  \n",
            " add_29 (Add)                (None, 32, 32, 16)           0         ['batch_normalization_70[0][0]\n",
            "                                                                    ',                            \n",
            "                                                                     'activation_62[0][0]']       \n",
            "                                                                                                  \n",
            " activation_64 (Activation)  (None, 32, 32, 16)           0         ['add_29[0][0]']              \n",
            "                                                                                                  \n",
            " conv2d_64 (Conv2D)          (None, 16, 16, 32)           4640      ['activation_64[0][0]']       \n",
            "                                                                                                  \n",
            " batch_normalization_71 (Ba  (None, 16, 16, 32)           128       ['conv2d_64[0][0]']           \n",
            " tchNormalization)                                                                                \n",
            "                                                                                                  \n",
            " activation_65 (Activation)  (None, 16, 16, 32)           0         ['batch_normalization_71[0][0]\n",
            "                                                                    ']                            \n",
            "                                                                                                  \n",
            " conv2d_65 (Conv2D)          (None, 16, 16, 32)           9248      ['activation_65[0][0]']       \n",
            "                                                                                                  \n",
            " lambda_6 (Lambda)           (None, 16, 16, 32)           0         ['activation_64[0][0]']       \n",
            "                                                                                                  \n",
            " batch_normalization_72 (Ba  (None, 16, 16, 32)           128       ['conv2d_65[0][0]']           \n",
            " tchNormalization)                                                                                \n",
            "                                                                                                  \n",
            " batch_normalization_73 (Ba  (None, 16, 16, 32)           128       ['lambda_6[0][0]']            \n",
            " tchNormalization)                                                                                \n",
            "                                                                                                  \n",
            " add_30 (Add)                (None, 16, 16, 32)           0         ['batch_normalization_72[0][0]\n",
            "                                                                    ',                            \n",
            "                                                                     'batch_normalization_73[0][0]\n",
            "                                                                    ']                            \n",
            "                                                                                                  \n",
            " activation_66 (Activation)  (None, 16, 16, 32)           0         ['add_30[0][0]']              \n",
            "                                                                                                  \n",
            " conv2d_66 (Conv2D)          (None, 16, 16, 32)           9248      ['activation_66[0][0]']       \n",
            "                                                                                                  \n",
            " batch_normalization_74 (Ba  (None, 16, 16, 32)           128       ['conv2d_66[0][0]']           \n",
            " tchNormalization)                                                                                \n",
            "                                                                                                  \n",
            " activation_67 (Activation)  (None, 16, 16, 32)           0         ['batch_normalization_74[0][0]\n",
            "                                                                    ']                            \n",
            "                                                                                                  \n",
            " conv2d_67 (Conv2D)          (None, 16, 16, 32)           9248      ['activation_67[0][0]']       \n",
            "                                                                                                  \n",
            " batch_normalization_75 (Ba  (None, 16, 16, 32)           128       ['conv2d_67[0][0]']           \n",
            " tchNormalization)                                                                                \n",
            "                                                                                                  \n",
            " add_31 (Add)                (None, 16, 16, 32)           0         ['batch_normalization_75[0][0]\n",
            "                                                                    ',                            \n",
            "                                                                     'activation_66[0][0]']       \n",
            "                                                                                                  \n",
            " activation_68 (Activation)  (None, 16, 16, 32)           0         ['add_31[0][0]']              \n",
            "                                                                                                  \n",
            " conv2d_68 (Conv2D)          (None, 16, 16, 32)           9248      ['activation_68[0][0]']       \n",
            "                                                                                                  \n",
            " batch_normalization_76 (Ba  (None, 16, 16, 32)           128       ['conv2d_68[0][0]']           \n",
            " tchNormalization)                                                                                \n",
            "                                                                                                  \n",
            " activation_69 (Activation)  (None, 16, 16, 32)           0         ['batch_normalization_76[0][0]\n",
            "                                                                    ']                            \n",
            "                                                                                                  \n",
            " conv2d_69 (Conv2D)          (None, 16, 16, 32)           9248      ['activation_69[0][0]']       \n",
            "                                                                                                  \n",
            " batch_normalization_77 (Ba  (None, 16, 16, 32)           128       ['conv2d_69[0][0]']           \n",
            " tchNormalization)                                                                                \n",
            "                                                                                                  \n",
            " add_32 (Add)                (None, 16, 16, 32)           0         ['batch_normalization_77[0][0]\n",
            "                                                                    ',                            \n",
            "                                                                     'activation_68[0][0]']       \n",
            "                                                                                                  \n",
            " activation_70 (Activation)  (None, 16, 16, 32)           0         ['add_32[0][0]']              \n",
            "                                                                                                  \n",
            " conv2d_70 (Conv2D)          (None, 8, 8, 64)             18496     ['activation_70[0][0]']       \n",
            "                                                                                                  \n",
            " batch_normalization_78 (Ba  (None, 8, 8, 64)             256       ['conv2d_70[0][0]']           \n",
            " tchNormalization)                                                                                \n",
            "                                                                                                  \n",
            " activation_71 (Activation)  (None, 8, 8, 64)             0         ['batch_normalization_78[0][0]\n",
            "                                                                    ']                            \n",
            "                                                                                                  \n",
            " conv2d_71 (Conv2D)          (None, 8, 8, 64)             36928     ['activation_71[0][0]']       \n",
            "                                                                                                  \n",
            " lambda_7 (Lambda)           (None, 8, 8, 64)             0         ['activation_70[0][0]']       \n",
            "                                                                                                  \n",
            " batch_normalization_79 (Ba  (None, 8, 8, 64)             256       ['conv2d_71[0][0]']           \n",
            " tchNormalization)                                                                                \n",
            "                                                                                                  \n",
            " batch_normalization_80 (Ba  (None, 8, 8, 64)             256       ['lambda_7[0][0]']            \n",
            " tchNormalization)                                                                                \n",
            "                                                                                                  \n",
            " add_33 (Add)                (None, 8, 8, 64)             0         ['batch_normalization_79[0][0]\n",
            "                                                                    ',                            \n",
            "                                                                     'batch_normalization_80[0][0]\n",
            "                                                                    ']                            \n",
            "                                                                                                  \n",
            " activation_72 (Activation)  (None, 8, 8, 64)             0         ['add_33[0][0]']              \n",
            "                                                                                                  \n",
            " conv2d_72 (Conv2D)          (None, 8, 8, 64)             36928     ['activation_72[0][0]']       \n",
            "                                                                                                  \n",
            " batch_normalization_81 (Ba  (None, 8, 8, 64)             256       ['conv2d_72[0][0]']           \n",
            " tchNormalization)                                                                                \n",
            "                                                                                                  \n",
            " activation_73 (Activation)  (None, 8, 8, 64)             0         ['batch_normalization_81[0][0]\n",
            "                                                                    ']                            \n",
            "                                                                                                  \n",
            " conv2d_73 (Conv2D)          (None, 8, 8, 64)             36928     ['activation_73[0][0]']       \n",
            "                                                                                                  \n",
            " batch_normalization_82 (Ba  (None, 8, 8, 64)             256       ['conv2d_73[0][0]']           \n",
            " tchNormalization)                                                                                \n",
            "                                                                                                  \n",
            " add_34 (Add)                (None, 8, 8, 64)             0         ['batch_normalization_82[0][0]\n",
            "                                                                    ',                            \n",
            "                                                                     'activation_72[0][0]']       \n",
            "                                                                                                  \n",
            " activation_74 (Activation)  (None, 8, 8, 64)             0         ['add_34[0][0]']              \n",
            "                                                                                                  \n",
            " conv2d_74 (Conv2D)          (None, 8, 8, 64)             36928     ['activation_74[0][0]']       \n",
            "                                                                                                  \n",
            " batch_normalization_83 (Ba  (None, 8, 8, 64)             256       ['conv2d_74[0][0]']           \n",
            " tchNormalization)                                                                                \n",
            "                                                                                                  \n",
            " activation_75 (Activation)  (None, 8, 8, 64)             0         ['batch_normalization_83[0][0]\n",
            "                                                                    ']                            \n",
            "                                                                                                  \n",
            " conv2d_75 (Conv2D)          (None, 8, 8, 64)             36928     ['activation_75[0][0]']       \n",
            "                                                                                                  \n",
            " batch_normalization_84 (Ba  (None, 8, 8, 64)             256       ['conv2d_75[0][0]']           \n",
            " tchNormalization)                                                                                \n",
            "                                                                                                  \n",
            " add_35 (Add)                (None, 8, 8, 64)             0         ['batch_normalization_84[0][0]\n",
            "                                                                    ',                            \n",
            "                                                                     'activation_74[0][0]']       \n",
            "                                                                                                  \n",
            " activation_76 (Activation)  (None, 8, 8, 64)             0         ['add_35[0][0]']              \n",
            "                                                                                                  \n",
            " global_average_pooling2d_3  (None, 64)                   0         ['activation_76[0][0]']       \n",
            "  (GlobalAveragePooling2D)                                                                        \n",
            "                                                                                                  \n",
            " flatten_3 (Flatten)         (None, 64)                   0         ['global_average_pooling2d_3[0\n",
            "                                                                    ][0]']                        \n",
            "                                                                                                  \n",
            " dense_3 (Dense)             (None, 512)                  33280     ['flatten_3[0][0]']           \n",
            "                                                                                                  \n",
            " batch_normalization_85 (Ba  (None, 512)                  2048      ['dense_3[0][0]']             \n",
            " tchNormalization)                                                                                \n",
            "                                                                                                  \n",
            " activation_77 (Activation)  (None, 512)                  0         ['batch_normalization_85[0][0]\n",
            "                                                                    ']                            \n",
            "                                                                                                  \n",
            " dropout_1 (Dropout)         (None, 512)                  0         ['activation_77[0][0]']       \n",
            "                                                                                                  \n",
            " dense_4 (Dense)             (None, 10)                   5130      ['dropout_1[0][0]']           \n",
            "                                                                                                  \n",
            "==================================================================================================\n",
            "Total params: 311978 (1.19 MB)\n",
            "Trainable params: 309386 (1.18 MB)\n",
            "Non-trainable params: 2592 (10.12 KB)\n",
            "__________________________________________________________________________________________________\n",
            "Epoch 1/182\n",
            "351/351 [==============================] - ETA: 0s - loss: 2.3198 - accuracy: 0.2478INFO:tensorflow:Assets written to: /Users/danielhuang/tinyML/Fine-tuning/model_checkpoint/assets\n"
          ]
        },
        {
          "name": "stderr",
          "output_type": "stream",
          "text": [
            "INFO:tensorflow:Assets written to: /Users/danielhuang/tinyML/Fine-tuning/model_checkpoint/assets\n"
          ]
        },
        {
          "name": "stdout",
          "output_type": "stream",
          "text": [
            "351/351 [==============================] - 31s 78ms/step - loss: 2.3198 - accuracy: 0.2478 - val_loss: 1.8528 - val_accuracy: 0.2965\n",
            "Epoch 2/182\n",
            "351/351 [==============================] - ETA: 0s - loss: 1.6810 - accuracy: 0.3750INFO:tensorflow:Assets written to: /Users/danielhuang/tinyML/Fine-tuning/model_checkpoint/assets\n"
          ]
        },
        {
          "name": "stderr",
          "output_type": "stream",
          "text": [
            "INFO:tensorflow:Assets written to: /Users/danielhuang/tinyML/Fine-tuning/model_checkpoint/assets\n"
          ]
        },
        {
          "name": "stdout",
          "output_type": "stream",
          "text": [
            "351/351 [==============================] - 26s 71ms/step - loss: 1.6810 - accuracy: 0.3750 - val_loss: 1.7427 - val_accuracy: 0.3736\n",
            "Epoch 3/182\n",
            "351/351 [==============================] - ETA: 0s - loss: 1.5353 - accuracy: 0.4342INFO:tensorflow:Assets written to: /Users/danielhuang/tinyML/Fine-tuning/model_checkpoint/assets\n"
          ]
        },
        {
          "name": "stderr",
          "output_type": "stream",
          "text": [
            "INFO:tensorflow:Assets written to: /Users/danielhuang/tinyML/Fine-tuning/model_checkpoint/assets\n"
          ]
        },
        {
          "name": "stdout",
          "output_type": "stream",
          "text": [
            "351/351 [==============================] - 25s 72ms/step - loss: 1.5353 - accuracy: 0.4342 - val_loss: 1.5623 - val_accuracy: 0.4197\n",
            "Epoch 4/182\n",
            "351/351 [==============================] - ETA: 0s - loss: 1.3932 - accuracy: 0.4941INFO:tensorflow:Assets written to: /Users/danielhuang/tinyML/Fine-tuning/model_checkpoint/assets\n"
          ]
        },
        {
          "name": "stderr",
          "output_type": "stream",
          "text": [
            "INFO:tensorflow:Assets written to: /Users/danielhuang/tinyML/Fine-tuning/model_checkpoint/assets\n"
          ]
        },
        {
          "name": "stdout",
          "output_type": "stream",
          "text": [
            "351/351 [==============================] - 27s 76ms/step - loss: 1.3932 - accuracy: 0.4941 - val_loss: 1.4427 - val_accuracy: 0.4717\n",
            "Epoch 5/182\n",
            "351/351 [==============================] - ETA: 0s - loss: 1.2607 - accuracy: 0.5452INFO:tensorflow:Assets written to: /Users/danielhuang/tinyML/Fine-tuning/model_checkpoint/assets\n"
          ]
        },
        {
          "name": "stderr",
          "output_type": "stream",
          "text": [
            "INFO:tensorflow:Assets written to: /Users/danielhuang/tinyML/Fine-tuning/model_checkpoint/assets\n"
          ]
        },
        {
          "name": "stdout",
          "output_type": "stream",
          "text": [
            "351/351 [==============================] - 26s 73ms/step - loss: 1.2607 - accuracy: 0.5452 - val_loss: 1.3532 - val_accuracy: 0.5197\n",
            "Epoch 6/182\n",
            "351/351 [==============================] - ETA: 0s - loss: 1.1563 - accuracy: 0.5892INFO:tensorflow:Assets written to: /Users/danielhuang/tinyML/Fine-tuning/model_checkpoint/assets\n"
          ]
        },
        {
          "name": "stderr",
          "output_type": "stream",
          "text": [
            "INFO:tensorflow:Assets written to: /Users/danielhuang/tinyML/Fine-tuning/model_checkpoint/assets\n"
          ]
        },
        {
          "name": "stdout",
          "output_type": "stream",
          "text": [
            "351/351 [==============================] - 25s 72ms/step - loss: 1.1563 - accuracy: 0.5892 - val_loss: 1.1253 - val_accuracy: 0.6008\n",
            "Epoch 7/182\n",
            "351/351 [==============================] - ETA: 0s - loss: 1.0784 - accuracy: 0.6187INFO:tensorflow:Assets written to: /Users/danielhuang/tinyML/Fine-tuning/model_checkpoint/assets\n"
          ]
        },
        {
          "name": "stderr",
          "output_type": "stream",
          "text": [
            "INFO:tensorflow:Assets written to: /Users/danielhuang/tinyML/Fine-tuning/model_checkpoint/assets\n"
          ]
        },
        {
          "name": "stdout",
          "output_type": "stream",
          "text": [
            "351/351 [==============================] - 25s 71ms/step - loss: 1.0784 - accuracy: 0.6187 - val_loss: 1.1094 - val_accuracy: 0.6110\n",
            "Epoch 8/182\n",
            "351/351 [==============================] - ETA: 0s - loss: 1.0029 - accuracy: 0.6447INFO:tensorflow:Assets written to: /Users/danielhuang/tinyML/Fine-tuning/model_checkpoint/assets\n"
          ]
        },
        {
          "name": "stderr",
          "output_type": "stream",
          "text": [
            "INFO:tensorflow:Assets written to: /Users/danielhuang/tinyML/Fine-tuning/model_checkpoint/assets\n"
          ]
        },
        {
          "name": "stdout",
          "output_type": "stream",
          "text": [
            "351/351 [==============================] - 26s 74ms/step - loss: 1.0029 - accuracy: 0.6447 - val_loss: 1.0924 - val_accuracy: 0.6162\n",
            "Epoch 9/182\n",
            "351/351 [==============================] - ETA: 0s - loss: 0.9612 - accuracy: 0.6614INFO:tensorflow:Assets written to: /Users/danielhuang/tinyML/Fine-tuning/model_checkpoint/assets\n"
          ]
        },
        {
          "name": "stderr",
          "output_type": "stream",
          "text": [
            "INFO:tensorflow:Assets written to: /Users/danielhuang/tinyML/Fine-tuning/model_checkpoint/assets\n"
          ]
        },
        {
          "name": "stdout",
          "output_type": "stream",
          "text": [
            "351/351 [==============================] - 27s 76ms/step - loss: 0.9612 - accuracy: 0.6614 - val_loss: 1.3484 - val_accuracy: 0.5411\n",
            "Epoch 10/182\n",
            "351/351 [==============================] - ETA: 0s - loss: 0.8980 - accuracy: 0.6855INFO:tensorflow:Assets written to: /Users/danielhuang/tinyML/Fine-tuning/model_checkpoint/assets\n"
          ]
        },
        {
          "name": "stderr",
          "output_type": "stream",
          "text": [
            "INFO:tensorflow:Assets written to: /Users/danielhuang/tinyML/Fine-tuning/model_checkpoint/assets\n"
          ]
        },
        {
          "name": "stdout",
          "output_type": "stream",
          "text": [
            "351/351 [==============================] - 25s 72ms/step - loss: 0.8980 - accuracy: 0.6855 - val_loss: 0.9533 - val_accuracy: 0.6654\n",
            "Epoch 11/182\n",
            "351/351 [==============================] - ETA: 0s - loss: 0.8550 - accuracy: 0.7033INFO:tensorflow:Assets written to: /Users/danielhuang/tinyML/Fine-tuning/model_checkpoint/assets\n"
          ]
        },
        {
          "name": "stderr",
          "output_type": "stream",
          "text": [
            "INFO:tensorflow:Assets written to: /Users/danielhuang/tinyML/Fine-tuning/model_checkpoint/assets\n"
          ]
        },
        {
          "name": "stdout",
          "output_type": "stream",
          "text": [
            "351/351 [==============================] - 25s 72ms/step - loss: 0.8550 - accuracy: 0.7033 - val_loss: 1.0500 - val_accuracy: 0.6505\n",
            "Epoch 12/182\n",
            "351/351 [==============================] - ETA: 0s - loss: 0.8096 - accuracy: 0.7173INFO:tensorflow:Assets written to: /Users/danielhuang/tinyML/Fine-tuning/model_checkpoint/assets\n"
          ]
        },
        {
          "name": "stderr",
          "output_type": "stream",
          "text": [
            "INFO:tensorflow:Assets written to: /Users/danielhuang/tinyML/Fine-tuning/model_checkpoint/assets\n"
          ]
        },
        {
          "name": "stdout",
          "output_type": "stream",
          "text": [
            "351/351 [==============================] - 28s 81ms/step - loss: 0.8096 - accuracy: 0.7173 - val_loss: 1.0271 - val_accuracy: 0.6447\n",
            "Epoch 13/182\n",
            "351/351 [==============================] - ETA: 0s - loss: 0.7711 - accuracy: 0.7339INFO:tensorflow:Assets written to: /Users/danielhuang/tinyML/Fine-tuning/model_checkpoint/assets\n"
          ]
        },
        {
          "name": "stderr",
          "output_type": "stream",
          "text": [
            "INFO:tensorflow:Assets written to: /Users/danielhuang/tinyML/Fine-tuning/model_checkpoint/assets\n"
          ]
        },
        {
          "name": "stdout",
          "output_type": "stream",
          "text": [
            "351/351 [==============================] - 27s 77ms/step - loss: 0.7711 - accuracy: 0.7339 - val_loss: 1.0023 - val_accuracy: 0.6667\n",
            "Epoch 14/182\n",
            "351/351 [==============================] - ETA: 0s - loss: 0.7284 - accuracy: 0.7496INFO:tensorflow:Assets written to: /Users/danielhuang/tinyML/Fine-tuning/model_checkpoint/assets\n"
          ]
        },
        {
          "name": "stderr",
          "output_type": "stream",
          "text": [
            "INFO:tensorflow:Assets written to: /Users/danielhuang/tinyML/Fine-tuning/model_checkpoint/assets\n"
          ]
        },
        {
          "name": "stdout",
          "output_type": "stream",
          "text": [
            "351/351 [==============================] - 26s 73ms/step - loss: 0.7284 - accuracy: 0.7496 - val_loss: 0.9961 - val_accuracy: 0.6683\n",
            "Epoch 15/182\n",
            "351/351 [==============================] - ETA: 0s - loss: 0.7031 - accuracy: 0.7574INFO:tensorflow:Assets written to: /Users/danielhuang/tinyML/Fine-tuning/model_checkpoint/assets\n"
          ]
        },
        {
          "name": "stderr",
          "output_type": "stream",
          "text": [
            "INFO:tensorflow:Assets written to: /Users/danielhuang/tinyML/Fine-tuning/model_checkpoint/assets\n"
          ]
        },
        {
          "name": "stdout",
          "output_type": "stream",
          "text": [
            "351/351 [==============================] - 25s 72ms/step - loss: 0.7031 - accuracy: 0.7574 - val_loss: 0.7789 - val_accuracy: 0.7395\n",
            "Epoch 16/182\n",
            "351/351 [==============================] - ETA: 0s - loss: 0.6681 - accuracy: 0.7674INFO:tensorflow:Assets written to: /Users/danielhuang/tinyML/Fine-tuning/model_checkpoint/assets\n"
          ]
        },
        {
          "name": "stderr",
          "output_type": "stream",
          "text": [
            "INFO:tensorflow:Assets written to: /Users/danielhuang/tinyML/Fine-tuning/model_checkpoint/assets\n"
          ]
        },
        {
          "name": "stdout",
          "output_type": "stream",
          "text": [
            "351/351 [==============================] - 26s 75ms/step - loss: 0.6681 - accuracy: 0.7674 - val_loss: 0.7422 - val_accuracy: 0.7482\n",
            "Epoch 17/182\n",
            "351/351 [==============================] - ETA: 0s - loss: 0.6429 - accuracy: 0.7801INFO:tensorflow:Assets written to: /Users/danielhuang/tinyML/Fine-tuning/model_checkpoint/assets\n"
          ]
        },
        {
          "name": "stderr",
          "output_type": "stream",
          "text": [
            "INFO:tensorflow:Assets written to: /Users/danielhuang/tinyML/Fine-tuning/model_checkpoint/assets\n"
          ]
        },
        {
          "name": "stdout",
          "output_type": "stream",
          "text": [
            "351/351 [==============================] - 28s 78ms/step - loss: 0.6429 - accuracy: 0.7801 - val_loss: 0.8874 - val_accuracy: 0.7182\n",
            "Epoch 18/182\n",
            "351/351 [==============================] - ETA: 0s - loss: 0.6149 - accuracy: 0.7872INFO:tensorflow:Assets written to: /Users/danielhuang/tinyML/Fine-tuning/model_checkpoint/assets\n"
          ]
        },
        {
          "name": "stderr",
          "output_type": "stream",
          "text": [
            "INFO:tensorflow:Assets written to: /Users/danielhuang/tinyML/Fine-tuning/model_checkpoint/assets\n"
          ]
        },
        {
          "name": "stdout",
          "output_type": "stream",
          "text": [
            "351/351 [==============================] - 27s 77ms/step - loss: 0.6149 - accuracy: 0.7872 - val_loss: 0.8656 - val_accuracy: 0.7268\n",
            "Epoch 19/182\n",
            "351/351 [==============================] - ETA: 0s - loss: 0.5931 - accuracy: 0.7966INFO:tensorflow:Assets written to: /Users/danielhuang/tinyML/Fine-tuning/model_checkpoint/assets\n"
          ]
        },
        {
          "name": "stderr",
          "output_type": "stream",
          "text": [
            "INFO:tensorflow:Assets written to: /Users/danielhuang/tinyML/Fine-tuning/model_checkpoint/assets\n"
          ]
        },
        {
          "name": "stdout",
          "output_type": "stream",
          "text": [
            "351/351 [==============================] - 26s 75ms/step - loss: 0.5931 - accuracy: 0.7966 - val_loss: 0.6935 - val_accuracy: 0.7590\n",
            "Epoch 20/182\n",
            "351/351 [==============================] - ETA: 0s - loss: 0.5721 - accuracy: 0.8034INFO:tensorflow:Assets written to: /Users/danielhuang/tinyML/Fine-tuning/model_checkpoint/assets\n"
          ]
        },
        {
          "name": "stderr",
          "output_type": "stream",
          "text": [
            "INFO:tensorflow:Assets written to: /Users/danielhuang/tinyML/Fine-tuning/model_checkpoint/assets\n"
          ]
        },
        {
          "name": "stdout",
          "output_type": "stream",
          "text": [
            "351/351 [==============================] - 27s 77ms/step - loss: 0.5721 - accuracy: 0.8034 - val_loss: 0.7217 - val_accuracy: 0.7679\n",
            "Epoch 21/182\n",
            "351/351 [==============================] - ETA: 0s - loss: 0.5527 - accuracy: 0.8098INFO:tensorflow:Assets written to: /Users/danielhuang/tinyML/Fine-tuning/model_checkpoint/assets\n"
          ]
        },
        {
          "name": "stderr",
          "output_type": "stream",
          "text": [
            "INFO:tensorflow:Assets written to: /Users/danielhuang/tinyML/Fine-tuning/model_checkpoint/assets\n"
          ]
        },
        {
          "name": "stdout",
          "output_type": "stream",
          "text": [
            "351/351 [==============================] - 27s 76ms/step - loss: 0.5527 - accuracy: 0.8098 - val_loss: 0.7207 - val_accuracy: 0.7607\n",
            "Epoch 22/182\n",
            "351/351 [==============================] - ETA: 0s - loss: 0.5393 - accuracy: 0.8140INFO:tensorflow:Assets written to: /Users/danielhuang/tinyML/Fine-tuning/model_checkpoint/assets\n"
          ]
        },
        {
          "name": "stderr",
          "output_type": "stream",
          "text": [
            "INFO:tensorflow:Assets written to: /Users/danielhuang/tinyML/Fine-tuning/model_checkpoint/assets\n"
          ]
        },
        {
          "name": "stdout",
          "output_type": "stream",
          "text": [
            "351/351 [==============================] - 26s 75ms/step - loss: 0.5393 - accuracy: 0.8140 - val_loss: 0.9843 - val_accuracy: 0.7504\n",
            "Epoch 23/182\n",
            "351/351 [==============================] - ETA: 0s - loss: 0.5248 - accuracy: 0.8178INFO:tensorflow:Assets written to: /Users/danielhuang/tinyML/Fine-tuning/model_checkpoint/assets\n"
          ]
        },
        {
          "name": "stderr",
          "output_type": "stream",
          "text": [
            "INFO:tensorflow:Assets written to: /Users/danielhuang/tinyML/Fine-tuning/model_checkpoint/assets\n"
          ]
        },
        {
          "name": "stdout",
          "output_type": "stream",
          "text": [
            "351/351 [==============================] - 27s 76ms/step - loss: 0.5248 - accuracy: 0.8178 - val_loss: 0.8029 - val_accuracy: 0.7371\n",
            "Epoch 24/182\n",
            "351/351 [==============================] - ETA: 0s - loss: 0.5118 - accuracy: 0.8244INFO:tensorflow:Assets written to: /Users/danielhuang/tinyML/Fine-tuning/model_checkpoint/assets\n"
          ]
        },
        {
          "name": "stderr",
          "output_type": "stream",
          "text": [
            "INFO:tensorflow:Assets written to: /Users/danielhuang/tinyML/Fine-tuning/model_checkpoint/assets\n"
          ]
        },
        {
          "name": "stdout",
          "output_type": "stream",
          "text": [
            "351/351 [==============================] - 26s 75ms/step - loss: 0.5118 - accuracy: 0.8244 - val_loss: 0.8832 - val_accuracy: 0.7654\n",
            "Epoch 25/182\n",
            "351/351 [==============================] - ETA: 0s - loss: 0.4992 - accuracy: 0.8268INFO:tensorflow:Assets written to: /Users/danielhuang/tinyML/Fine-tuning/model_checkpoint/assets\n"
          ]
        },
        {
          "name": "stderr",
          "output_type": "stream",
          "text": [
            "INFO:tensorflow:Assets written to: /Users/danielhuang/tinyML/Fine-tuning/model_checkpoint/assets\n"
          ]
        },
        {
          "name": "stdout",
          "output_type": "stream",
          "text": [
            "351/351 [==============================] - 26s 75ms/step - loss: 0.4992 - accuracy: 0.8268 - val_loss: 0.5725 - val_accuracy: 0.8081\n",
            "Epoch 26/182\n",
            "351/351 [==============================] - ETA: 0s - loss: 0.4832 - accuracy: 0.8333INFO:tensorflow:Assets written to: /Users/danielhuang/tinyML/Fine-tuning/model_checkpoint/assets\n"
          ]
        },
        {
          "name": "stderr",
          "output_type": "stream",
          "text": [
            "INFO:tensorflow:Assets written to: /Users/danielhuang/tinyML/Fine-tuning/model_checkpoint/assets\n"
          ]
        },
        {
          "name": "stdout",
          "output_type": "stream",
          "text": [
            "351/351 [==============================] - 26s 73ms/step - loss: 0.4832 - accuracy: 0.8333 - val_loss: 0.6773 - val_accuracy: 0.7775\n",
            "Epoch 27/182\n",
            "351/351 [==============================] - ETA: 0s - loss: 0.4725 - accuracy: 0.8383INFO:tensorflow:Assets written to: /Users/danielhuang/tinyML/Fine-tuning/model_checkpoint/assets\n"
          ]
        },
        {
          "name": "stderr",
          "output_type": "stream",
          "text": [
            "INFO:tensorflow:Assets written to: /Users/danielhuang/tinyML/Fine-tuning/model_checkpoint/assets\n"
          ]
        },
        {
          "name": "stdout",
          "output_type": "stream",
          "text": [
            "351/351 [==============================] - 27s 78ms/step - loss: 0.4725 - accuracy: 0.8383 - val_loss: 0.6094 - val_accuracy: 0.7999\n",
            "Epoch 28/182\n",
            "351/351 [==============================] - ETA: 0s - loss: 0.4670 - accuracy: 0.8380INFO:tensorflow:Assets written to: /Users/danielhuang/tinyML/Fine-tuning/model_checkpoint/assets\n"
          ]
        },
        {
          "name": "stderr",
          "output_type": "stream",
          "text": [
            "INFO:tensorflow:Assets written to: /Users/danielhuang/tinyML/Fine-tuning/model_checkpoint/assets\n"
          ]
        },
        {
          "name": "stdout",
          "output_type": "stream",
          "text": [
            "351/351 [==============================] - 28s 79ms/step - loss: 0.4670 - accuracy: 0.8380 - val_loss: 0.7165 - val_accuracy: 0.7670\n",
            "Epoch 29/182\n",
            "351/351 [==============================] - ETA: 0s - loss: 0.4556 - accuracy: 0.8417INFO:tensorflow:Assets written to: /Users/danielhuang/tinyML/Fine-tuning/model_checkpoint/assets\n"
          ]
        },
        {
          "name": "stderr",
          "output_type": "stream",
          "text": [
            "INFO:tensorflow:Assets written to: /Users/danielhuang/tinyML/Fine-tuning/model_checkpoint/assets\n"
          ]
        },
        {
          "name": "stdout",
          "output_type": "stream",
          "text": [
            "351/351 [==============================] - 27s 76ms/step - loss: 0.4556 - accuracy: 0.8417 - val_loss: 0.6933 - val_accuracy: 0.7658\n",
            "Epoch 30/182\n",
            "351/351 [==============================] - ETA: 0s - loss: 0.4430 - accuracy: 0.8469INFO:tensorflow:Assets written to: /Users/danielhuang/tinyML/Fine-tuning/model_checkpoint/assets\n"
          ]
        },
        {
          "name": "stderr",
          "output_type": "stream",
          "text": [
            "INFO:tensorflow:Assets written to: /Users/danielhuang/tinyML/Fine-tuning/model_checkpoint/assets\n"
          ]
        },
        {
          "name": "stdout",
          "output_type": "stream",
          "text": [
            "351/351 [==============================] - 26s 73ms/step - loss: 0.4430 - accuracy: 0.8469 - val_loss: 0.5761 - val_accuracy: 0.8071\n",
            "Epoch 31/182\n",
            "351/351 [==============================] - ETA: 0s - loss: 0.4329 - accuracy: 0.8530INFO:tensorflow:Assets written to: /Users/danielhuang/tinyML/Fine-tuning/model_checkpoint/assets\n"
          ]
        },
        {
          "name": "stderr",
          "output_type": "stream",
          "text": [
            "INFO:tensorflow:Assets written to: /Users/danielhuang/tinyML/Fine-tuning/model_checkpoint/assets\n"
          ]
        },
        {
          "name": "stdout",
          "output_type": "stream",
          "text": [
            "351/351 [==============================] - 25s 72ms/step - loss: 0.4329 - accuracy: 0.8530 - val_loss: 0.6057 - val_accuracy: 0.8005\n",
            "Epoch 32/182\n",
            "351/351 [==============================] - ETA: 0s - loss: 0.4280 - accuracy: 0.8521INFO:tensorflow:Assets written to: /Users/danielhuang/tinyML/Fine-tuning/model_checkpoint/assets\n"
          ]
        },
        {
          "name": "stderr",
          "output_type": "stream",
          "text": [
            "INFO:tensorflow:Assets written to: /Users/danielhuang/tinyML/Fine-tuning/model_checkpoint/assets\n"
          ]
        },
        {
          "name": "stdout",
          "output_type": "stream",
          "text": [
            "351/351 [==============================] - 26s 73ms/step - loss: 0.4280 - accuracy: 0.8521 - val_loss: 0.5636 - val_accuracy: 0.8130\n",
            "Epoch 33/182\n",
            "351/351 [==============================] - ETA: 0s - loss: 0.4142 - accuracy: 0.8559INFO:tensorflow:Assets written to: /Users/danielhuang/tinyML/Fine-tuning/model_checkpoint/assets\n"
          ]
        },
        {
          "name": "stderr",
          "output_type": "stream",
          "text": [
            "INFO:tensorflow:Assets written to: /Users/danielhuang/tinyML/Fine-tuning/model_checkpoint/assets\n"
          ]
        },
        {
          "name": "stdout",
          "output_type": "stream",
          "text": [
            "351/351 [==============================] - 25s 72ms/step - loss: 0.4142 - accuracy: 0.8559 - val_loss: 0.8203 - val_accuracy: 0.7699\n",
            "Epoch 34/182\n",
            "351/351 [==============================] - ETA: 0s - loss: 0.4081 - accuracy: 0.8584INFO:tensorflow:Assets written to: /Users/danielhuang/tinyML/Fine-tuning/model_checkpoint/assets\n"
          ]
        },
        {
          "name": "stderr",
          "output_type": "stream",
          "text": [
            "INFO:tensorflow:Assets written to: /Users/danielhuang/tinyML/Fine-tuning/model_checkpoint/assets\n"
          ]
        },
        {
          "name": "stdout",
          "output_type": "stream",
          "text": [
            "351/351 [==============================] - 25s 72ms/step - loss: 0.4081 - accuracy: 0.8584 - val_loss: 0.5686 - val_accuracy: 0.8116\n",
            "Epoch 35/182\n",
            "351/351 [==============================] - ETA: 0s - loss: 0.4015 - accuracy: 0.8624INFO:tensorflow:Assets written to: /Users/danielhuang/tinyML/Fine-tuning/model_checkpoint/assets\n"
          ]
        },
        {
          "name": "stderr",
          "output_type": "stream",
          "text": [
            "INFO:tensorflow:Assets written to: /Users/danielhuang/tinyML/Fine-tuning/model_checkpoint/assets\n"
          ]
        },
        {
          "name": "stdout",
          "output_type": "stream",
          "text": [
            "351/351 [==============================] - 25s 72ms/step - loss: 0.4015 - accuracy: 0.8624 - val_loss: 0.6282 - val_accuracy: 0.8056\n",
            "Epoch 36/182\n",
            "351/351 [==============================] - ETA: 0s - loss: 0.3871 - accuracy: 0.8657INFO:tensorflow:Assets written to: /Users/danielhuang/tinyML/Fine-tuning/model_checkpoint/assets\n"
          ]
        },
        {
          "name": "stderr",
          "output_type": "stream",
          "text": [
            "INFO:tensorflow:Assets written to: /Users/danielhuang/tinyML/Fine-tuning/model_checkpoint/assets\n"
          ]
        },
        {
          "name": "stdout",
          "output_type": "stream",
          "text": [
            "351/351 [==============================] - 26s 74ms/step - loss: 0.3871 - accuracy: 0.8657 - val_loss: 0.5473 - val_accuracy: 0.8202\n",
            "Epoch 37/182\n",
            "351/351 [==============================] - ETA: 0s - loss: 0.3807 - accuracy: 0.8682INFO:tensorflow:Assets written to: /Users/danielhuang/tinyML/Fine-tuning/model_checkpoint/assets\n"
          ]
        },
        {
          "name": "stderr",
          "output_type": "stream",
          "text": [
            "INFO:tensorflow:Assets written to: /Users/danielhuang/tinyML/Fine-tuning/model_checkpoint/assets\n"
          ]
        },
        {
          "name": "stdout",
          "output_type": "stream",
          "text": [
            "351/351 [==============================] - 26s 74ms/step - loss: 0.3807 - accuracy: 0.8682 - val_loss: 0.6328 - val_accuracy: 0.7925\n",
            "Epoch 38/182\n",
            "351/351 [==============================] - ETA: 0s - loss: 0.3808 - accuracy: 0.8669INFO:tensorflow:Assets written to: /Users/danielhuang/tinyML/Fine-tuning/model_checkpoint/assets\n"
          ]
        },
        {
          "name": "stderr",
          "output_type": "stream",
          "text": [
            "INFO:tensorflow:Assets written to: /Users/danielhuang/tinyML/Fine-tuning/model_checkpoint/assets\n"
          ]
        },
        {
          "name": "stdout",
          "output_type": "stream",
          "text": [
            "351/351 [==============================] - 27s 78ms/step - loss: 0.3808 - accuracy: 0.8669 - val_loss: 0.5752 - val_accuracy: 0.8196\n",
            "Epoch 39/182\n",
            "351/351 [==============================] - ETA: 0s - loss: 0.3696 - accuracy: 0.8718INFO:tensorflow:Assets written to: /Users/danielhuang/tinyML/Fine-tuning/model_checkpoint/assets\n"
          ]
        },
        {
          "name": "stderr",
          "output_type": "stream",
          "text": [
            "INFO:tensorflow:Assets written to: /Users/danielhuang/tinyML/Fine-tuning/model_checkpoint/assets\n"
          ]
        },
        {
          "name": "stdout",
          "output_type": "stream",
          "text": [
            "351/351 [==============================] - 27s 76ms/step - loss: 0.3696 - accuracy: 0.8718 - val_loss: 0.5338 - val_accuracy: 0.8245\n",
            "Epoch 40/182\n",
            "351/351 [==============================] - ETA: 0s - loss: 0.3586 - accuracy: 0.8767INFO:tensorflow:Assets written to: /Users/danielhuang/tinyML/Fine-tuning/model_checkpoint/assets\n"
          ]
        },
        {
          "name": "stderr",
          "output_type": "stream",
          "text": [
            "INFO:tensorflow:Assets written to: /Users/danielhuang/tinyML/Fine-tuning/model_checkpoint/assets\n"
          ]
        },
        {
          "name": "stdout",
          "output_type": "stream",
          "text": [
            "351/351 [==============================] - 26s 75ms/step - loss: 0.3586 - accuracy: 0.8767 - val_loss: 0.5492 - val_accuracy: 0.8204\n",
            "Epoch 41/182\n",
            "351/351 [==============================] - ETA: 0s - loss: 0.3505 - accuracy: 0.8783INFO:tensorflow:Assets written to: /Users/danielhuang/tinyML/Fine-tuning/model_checkpoint/assets\n"
          ]
        },
        {
          "name": "stderr",
          "output_type": "stream",
          "text": [
            "INFO:tensorflow:Assets written to: /Users/danielhuang/tinyML/Fine-tuning/model_checkpoint/assets\n"
          ]
        },
        {
          "name": "stdout",
          "output_type": "stream",
          "text": [
            "351/351 [==============================] - 26s 74ms/step - loss: 0.3505 - accuracy: 0.8783 - val_loss: 0.5504 - val_accuracy: 0.8199\n",
            "Epoch 42/182\n",
            "351/351 [==============================] - ETA: 0s - loss: 0.3503 - accuracy: 0.8776INFO:tensorflow:Assets written to: /Users/danielhuang/tinyML/Fine-tuning/model_checkpoint/assets\n"
          ]
        },
        {
          "name": "stderr",
          "output_type": "stream",
          "text": [
            "INFO:tensorflow:Assets written to: /Users/danielhuang/tinyML/Fine-tuning/model_checkpoint/assets\n"
          ]
        },
        {
          "name": "stdout",
          "output_type": "stream",
          "text": [
            "351/351 [==============================] - 26s 75ms/step - loss: 0.3503 - accuracy: 0.8776 - val_loss: 0.6139 - val_accuracy: 0.8036\n",
            "Epoch 43/182\n",
            "351/351 [==============================] - ETA: 0s - loss: 0.3429 - accuracy: 0.8818INFO:tensorflow:Assets written to: /Users/danielhuang/tinyML/Fine-tuning/model_checkpoint/assets\n"
          ]
        },
        {
          "name": "stderr",
          "output_type": "stream",
          "text": [
            "INFO:tensorflow:Assets written to: /Users/danielhuang/tinyML/Fine-tuning/model_checkpoint/assets\n"
          ]
        },
        {
          "name": "stdout",
          "output_type": "stream",
          "text": [
            "351/351 [==============================] - 26s 74ms/step - loss: 0.3429 - accuracy: 0.8818 - val_loss: 0.6160 - val_accuracy: 0.8015\n",
            "Epoch 44/182\n",
            "351/351 [==============================] - ETA: 0s - loss: 0.3377 - accuracy: 0.8820INFO:tensorflow:Assets written to: /Users/danielhuang/tinyML/Fine-tuning/model_checkpoint/assets\n"
          ]
        },
        {
          "name": "stderr",
          "output_type": "stream",
          "text": [
            "INFO:tensorflow:Assets written to: /Users/danielhuang/tinyML/Fine-tuning/model_checkpoint/assets\n"
          ]
        },
        {
          "name": "stdout",
          "output_type": "stream",
          "text": [
            "351/351 [==============================] - 26s 73ms/step - loss: 0.3377 - accuracy: 0.8820 - val_loss: 0.5019 - val_accuracy: 0.8348\n",
            "Epoch 45/182\n",
            "351/351 [==============================] - ETA: 0s - loss: 0.3320 - accuracy: 0.8822INFO:tensorflow:Assets written to: /Users/danielhuang/tinyML/Fine-tuning/model_checkpoint/assets\n"
          ]
        },
        {
          "name": "stderr",
          "output_type": "stream",
          "text": [
            "INFO:tensorflow:Assets written to: /Users/danielhuang/tinyML/Fine-tuning/model_checkpoint/assets\n"
          ]
        },
        {
          "name": "stdout",
          "output_type": "stream",
          "text": [
            "351/351 [==============================] - 26s 74ms/step - loss: 0.3320 - accuracy: 0.8822 - val_loss: 0.5205 - val_accuracy: 0.8237\n",
            "Epoch 46/182\n",
            "351/351 [==============================] - ETA: 0s - loss: 0.3209 - accuracy: 0.8871INFO:tensorflow:Assets written to: /Users/danielhuang/tinyML/Fine-tuning/model_checkpoint/assets\n"
          ]
        },
        {
          "name": "stderr",
          "output_type": "stream",
          "text": [
            "INFO:tensorflow:Assets written to: /Users/danielhuang/tinyML/Fine-tuning/model_checkpoint/assets\n"
          ]
        },
        {
          "name": "stdout",
          "output_type": "stream",
          "text": [
            "351/351 [==============================] - 27s 75ms/step - loss: 0.3209 - accuracy: 0.8871 - val_loss: 0.6211 - val_accuracy: 0.8081\n",
            "Epoch 47/182\n",
            "351/351 [==============================] - ETA: 0s - loss: 0.3203 - accuracy: 0.8873INFO:tensorflow:Assets written to: /Users/danielhuang/tinyML/Fine-tuning/model_checkpoint/assets\n"
          ]
        },
        {
          "name": "stderr",
          "output_type": "stream",
          "text": [
            "INFO:tensorflow:Assets written to: /Users/danielhuang/tinyML/Fine-tuning/model_checkpoint/assets\n"
          ]
        },
        {
          "name": "stdout",
          "output_type": "stream",
          "text": [
            "351/351 [==============================] - 26s 74ms/step - loss: 0.3203 - accuracy: 0.8873 - val_loss: 0.5127 - val_accuracy: 0.8294\n",
            "Epoch 48/182\n",
            "351/351 [==============================] - ETA: 0s - loss: 0.3135 - accuracy: 0.8912INFO:tensorflow:Assets written to: /Users/danielhuang/tinyML/Fine-tuning/model_checkpoint/assets\n"
          ]
        },
        {
          "name": "stderr",
          "output_type": "stream",
          "text": [
            "INFO:tensorflow:Assets written to: /Users/danielhuang/tinyML/Fine-tuning/model_checkpoint/assets\n"
          ]
        },
        {
          "name": "stdout",
          "output_type": "stream",
          "text": [
            "351/351 [==============================] - 26s 73ms/step - loss: 0.3135 - accuracy: 0.8912 - val_loss: 0.6054 - val_accuracy: 0.8118\n",
            "Epoch 49/182\n",
            "351/351 [==============================] - ETA: 0s - loss: 0.3119 - accuracy: 0.8914INFO:tensorflow:Assets written to: /Users/danielhuang/tinyML/Fine-tuning/model_checkpoint/assets\n"
          ]
        },
        {
          "name": "stderr",
          "output_type": "stream",
          "text": [
            "INFO:tensorflow:Assets written to: /Users/danielhuang/tinyML/Fine-tuning/model_checkpoint/assets\n"
          ]
        },
        {
          "name": "stdout",
          "output_type": "stream",
          "text": [
            "351/351 [==============================] - 26s 73ms/step - loss: 0.3119 - accuracy: 0.8914 - val_loss: 0.5180 - val_accuracy: 0.8315\n",
            "Epoch 50/182\n",
            "351/351 [==============================] - ETA: 0s - loss: 0.3118 - accuracy: 0.8920INFO:tensorflow:Assets written to: /Users/danielhuang/tinyML/Fine-tuning/model_checkpoint/assets\n"
          ]
        },
        {
          "name": "stderr",
          "output_type": "stream",
          "text": [
            "INFO:tensorflow:Assets written to: /Users/danielhuang/tinyML/Fine-tuning/model_checkpoint/assets\n"
          ]
        },
        {
          "name": "stdout",
          "output_type": "stream",
          "text": [
            "351/351 [==============================] - 26s 74ms/step - loss: 0.3118 - accuracy: 0.8920 - val_loss: 0.5247 - val_accuracy: 0.8337\n",
            "Epoch 51/182\n",
            "351/351 [==============================] - ETA: 0s - loss: 0.3021 - accuracy: 0.8948INFO:tensorflow:Assets written to: /Users/danielhuang/tinyML/Fine-tuning/model_checkpoint/assets\n"
          ]
        },
        {
          "name": "stderr",
          "output_type": "stream",
          "text": [
            "INFO:tensorflow:Assets written to: /Users/danielhuang/tinyML/Fine-tuning/model_checkpoint/assets\n"
          ]
        },
        {
          "name": "stdout",
          "output_type": "stream",
          "text": [
            "351/351 [==============================] - 26s 73ms/step - loss: 0.3021 - accuracy: 0.8948 - val_loss: 0.5150 - val_accuracy: 0.8290\n",
            "Epoch 52/182\n",
            "351/351 [==============================] - ETA: 0s - loss: 0.2989 - accuracy: 0.8971INFO:tensorflow:Assets written to: /Users/danielhuang/tinyML/Fine-tuning/model_checkpoint/assets\n"
          ]
        },
        {
          "name": "stderr",
          "output_type": "stream",
          "text": [
            "INFO:tensorflow:Assets written to: /Users/danielhuang/tinyML/Fine-tuning/model_checkpoint/assets\n"
          ]
        },
        {
          "name": "stdout",
          "output_type": "stream",
          "text": [
            "351/351 [==============================] - 26s 74ms/step - loss: 0.2989 - accuracy: 0.8971 - val_loss: 0.6351 - val_accuracy: 0.8058\n",
            "Epoch 53/182\n",
            "351/351 [==============================] - ETA: 0s - loss: 0.2981 - accuracy: 0.8961INFO:tensorflow:Assets written to: /Users/danielhuang/tinyML/Fine-tuning/model_checkpoint/assets\n"
          ]
        },
        {
          "name": "stderr",
          "output_type": "stream",
          "text": [
            "INFO:tensorflow:Assets written to: /Users/danielhuang/tinyML/Fine-tuning/model_checkpoint/assets\n"
          ]
        },
        {
          "name": "stdout",
          "output_type": "stream",
          "text": [
            "351/351 [==============================] - 26s 74ms/step - loss: 0.2981 - accuracy: 0.8961 - val_loss: 0.5713 - val_accuracy: 0.8222\n",
            "Epoch 54/182\n",
            "351/351 [==============================] - ETA: 0s - loss: 0.2821 - accuracy: 0.9012INFO:tensorflow:Assets written to: /Users/danielhuang/tinyML/Fine-tuning/model_checkpoint/assets\n"
          ]
        },
        {
          "name": "stderr",
          "output_type": "stream",
          "text": [
            "INFO:tensorflow:Assets written to: /Users/danielhuang/tinyML/Fine-tuning/model_checkpoint/assets\n"
          ]
        },
        {
          "name": "stdout",
          "output_type": "stream",
          "text": [
            "351/351 [==============================] - 26s 74ms/step - loss: 0.2821 - accuracy: 0.9012 - val_loss: 0.4603 - val_accuracy: 0.8489\n",
            "Epoch 55/182\n",
            "351/351 [==============================] - ETA: 0s - loss: 0.2862 - accuracy: 0.8996INFO:tensorflow:Assets written to: /Users/danielhuang/tinyML/Fine-tuning/model_checkpoint/assets\n"
          ]
        },
        {
          "name": "stderr",
          "output_type": "stream",
          "text": [
            "INFO:tensorflow:Assets written to: /Users/danielhuang/tinyML/Fine-tuning/model_checkpoint/assets\n"
          ]
        },
        {
          "name": "stdout",
          "output_type": "stream",
          "text": [
            "351/351 [==============================] - 26s 73ms/step - loss: 0.2862 - accuracy: 0.8996 - val_loss: 0.5624 - val_accuracy: 0.8147\n",
            "Epoch 56/182\n",
            "351/351 [==============================] - ETA: 0s - loss: 0.2784 - accuracy: 0.9031INFO:tensorflow:Assets written to: /Users/danielhuang/tinyML/Fine-tuning/model_checkpoint/assets\n"
          ]
        },
        {
          "name": "stderr",
          "output_type": "stream",
          "text": [
            "INFO:tensorflow:Assets written to: /Users/danielhuang/tinyML/Fine-tuning/model_checkpoint/assets\n"
          ]
        },
        {
          "name": "stdout",
          "output_type": "stream",
          "text": [
            "351/351 [==============================] - 26s 73ms/step - loss: 0.2784 - accuracy: 0.9031 - val_loss: 0.6600 - val_accuracy: 0.8015\n",
            "Epoch 57/182\n",
            "351/351 [==============================] - ETA: 0s - loss: 0.2792 - accuracy: 0.9022INFO:tensorflow:Assets written to: /Users/danielhuang/tinyML/Fine-tuning/model_checkpoint/assets\n"
          ]
        },
        {
          "name": "stderr",
          "output_type": "stream",
          "text": [
            "INFO:tensorflow:Assets written to: /Users/danielhuang/tinyML/Fine-tuning/model_checkpoint/assets\n"
          ]
        },
        {
          "name": "stdout",
          "output_type": "stream",
          "text": [
            "351/351 [==============================] - 27s 76ms/step - loss: 0.2792 - accuracy: 0.9022 - val_loss: 0.5679 - val_accuracy: 0.8231\n",
            "Epoch 58/182\n",
            "351/351 [==============================] - ETA: 0s - loss: 0.2715 - accuracy: 0.9050INFO:tensorflow:Assets written to: /Users/danielhuang/tinyML/Fine-tuning/model_checkpoint/assets\n"
          ]
        },
        {
          "name": "stderr",
          "output_type": "stream",
          "text": [
            "INFO:tensorflow:Assets written to: /Users/danielhuang/tinyML/Fine-tuning/model_checkpoint/assets\n"
          ]
        },
        {
          "name": "stdout",
          "output_type": "stream",
          "text": [
            "351/351 [==============================] - 26s 73ms/step - loss: 0.2715 - accuracy: 0.9050 - val_loss: 0.4917 - val_accuracy: 0.8465\n",
            "Epoch 59/182\n",
            "351/351 [==============================] - ETA: 0s - loss: 0.2670 - accuracy: 0.9074INFO:tensorflow:Assets written to: /Users/danielhuang/tinyML/Fine-tuning/model_checkpoint/assets\n"
          ]
        },
        {
          "name": "stderr",
          "output_type": "stream",
          "text": [
            "INFO:tensorflow:Assets written to: /Users/danielhuang/tinyML/Fine-tuning/model_checkpoint/assets\n"
          ]
        },
        {
          "name": "stdout",
          "output_type": "stream",
          "text": [
            "351/351 [==============================] - 26s 74ms/step - loss: 0.2670 - accuracy: 0.9074 - val_loss: 0.5405 - val_accuracy: 0.8350\n",
            "Epoch 60/182\n",
            "351/351 [==============================] - ETA: 0s - loss: 0.2612 - accuracy: 0.9099INFO:tensorflow:Assets written to: /Users/danielhuang/tinyML/Fine-tuning/model_checkpoint/assets\n"
          ]
        },
        {
          "name": "stderr",
          "output_type": "stream",
          "text": [
            "INFO:tensorflow:Assets written to: /Users/danielhuang/tinyML/Fine-tuning/model_checkpoint/assets\n"
          ]
        },
        {
          "name": "stdout",
          "output_type": "stream",
          "text": [
            "351/351 [==============================] - 26s 74ms/step - loss: 0.2612 - accuracy: 0.9099 - val_loss: 0.5961 - val_accuracy: 0.8198\n",
            "Epoch 61/182\n",
            "351/351 [==============================] - ETA: 0s - loss: 0.2646 - accuracy: 0.9065INFO:tensorflow:Assets written to: /Users/danielhuang/tinyML/Fine-tuning/model_checkpoint/assets\n"
          ]
        },
        {
          "name": "stderr",
          "output_type": "stream",
          "text": [
            "INFO:tensorflow:Assets written to: /Users/danielhuang/tinyML/Fine-tuning/model_checkpoint/assets\n"
          ]
        },
        {
          "name": "stdout",
          "output_type": "stream",
          "text": [
            "351/351 [==============================] - 26s 74ms/step - loss: 0.2646 - accuracy: 0.9065 - val_loss: 0.6096 - val_accuracy: 0.8103\n",
            "Epoch 62/182\n",
            "351/351 [==============================] - ETA: 0s - loss: 0.2508 - accuracy: 0.9122INFO:tensorflow:Assets written to: /Users/danielhuang/tinyML/Fine-tuning/model_checkpoint/assets\n"
          ]
        },
        {
          "name": "stderr",
          "output_type": "stream",
          "text": [
            "INFO:tensorflow:Assets written to: /Users/danielhuang/tinyML/Fine-tuning/model_checkpoint/assets\n"
          ]
        },
        {
          "name": "stdout",
          "output_type": "stream",
          "text": [
            "351/351 [==============================] - 26s 73ms/step - loss: 0.2508 - accuracy: 0.9122 - val_loss: 0.5488 - val_accuracy: 0.8374\n",
            "Epoch 63/182\n",
            "351/351 [==============================] - ETA: 0s - loss: 0.2522 - accuracy: 0.9117INFO:tensorflow:Assets written to: /Users/danielhuang/tinyML/Fine-tuning/model_checkpoint/assets\n"
          ]
        },
        {
          "name": "stderr",
          "output_type": "stream",
          "text": [
            "INFO:tensorflow:Assets written to: /Users/danielhuang/tinyML/Fine-tuning/model_checkpoint/assets\n"
          ]
        },
        {
          "name": "stdout",
          "output_type": "stream",
          "text": [
            "351/351 [==============================] - 26s 73ms/step - loss: 0.2522 - accuracy: 0.9117 - val_loss: 0.4453 - val_accuracy: 0.8621\n",
            "Epoch 64/182\n",
            "351/351 [==============================] - ETA: 0s - loss: 0.2497 - accuracy: 0.9122INFO:tensorflow:Assets written to: /Users/danielhuang/tinyML/Fine-tuning/model_checkpoint/assets\n"
          ]
        },
        {
          "name": "stderr",
          "output_type": "stream",
          "text": [
            "INFO:tensorflow:Assets written to: /Users/danielhuang/tinyML/Fine-tuning/model_checkpoint/assets\n"
          ]
        },
        {
          "name": "stdout",
          "output_type": "stream",
          "text": [
            "351/351 [==============================] - 26s 73ms/step - loss: 0.2497 - accuracy: 0.9122 - val_loss: 0.6511 - val_accuracy: 0.8091\n",
            "Epoch 65/182\n",
            "351/351 [==============================] - ETA: 0s - loss: 0.2480 - accuracy: 0.9132INFO:tensorflow:Assets written to: /Users/danielhuang/tinyML/Fine-tuning/model_checkpoint/assets\n"
          ]
        },
        {
          "name": "stderr",
          "output_type": "stream",
          "text": [
            "INFO:tensorflow:Assets written to: /Users/danielhuang/tinyML/Fine-tuning/model_checkpoint/assets\n"
          ]
        },
        {
          "name": "stdout",
          "output_type": "stream",
          "text": [
            "351/351 [==============================] - 26s 73ms/step - loss: 0.2480 - accuracy: 0.9132 - val_loss: 0.4408 - val_accuracy: 0.8606\n",
            "Epoch 66/182\n",
            "351/351 [==============================] - ETA: 0s - loss: 0.2428 - accuracy: 0.9144INFO:tensorflow:Assets written to: /Users/danielhuang/tinyML/Fine-tuning/model_checkpoint/assets\n"
          ]
        },
        {
          "name": "stderr",
          "output_type": "stream",
          "text": [
            "INFO:tensorflow:Assets written to: /Users/danielhuang/tinyML/Fine-tuning/model_checkpoint/assets\n"
          ]
        },
        {
          "name": "stdout",
          "output_type": "stream",
          "text": [
            "351/351 [==============================] - 26s 74ms/step - loss: 0.2428 - accuracy: 0.9144 - val_loss: 0.6623 - val_accuracy: 0.8099\n",
            "Epoch 67/182\n",
            "351/351 [==============================] - ETA: 0s - loss: 0.2384 - accuracy: 0.9161INFO:tensorflow:Assets written to: /Users/danielhuang/tinyML/Fine-tuning/model_checkpoint/assets\n"
          ]
        },
        {
          "name": "stderr",
          "output_type": "stream",
          "text": [
            "INFO:tensorflow:Assets written to: /Users/danielhuang/tinyML/Fine-tuning/model_checkpoint/assets\n"
          ]
        },
        {
          "name": "stdout",
          "output_type": "stream",
          "text": [
            "351/351 [==============================] - 26s 73ms/step - loss: 0.2384 - accuracy: 0.9161 - val_loss: 0.5760 - val_accuracy: 0.8352\n",
            "Epoch 68/182\n",
            "351/351 [==============================] - ETA: 0s - loss: 0.2447 - accuracy: 0.9128INFO:tensorflow:Assets written to: /Users/danielhuang/tinyML/Fine-tuning/model_checkpoint/assets\n"
          ]
        },
        {
          "name": "stderr",
          "output_type": "stream",
          "text": [
            "INFO:tensorflow:Assets written to: /Users/danielhuang/tinyML/Fine-tuning/model_checkpoint/assets\n"
          ]
        },
        {
          "name": "stdout",
          "output_type": "stream",
          "text": [
            "351/351 [==============================] - 26s 73ms/step - loss: 0.2447 - accuracy: 0.9128 - val_loss: 0.5247 - val_accuracy: 0.8350\n",
            "Epoch 69/182\n",
            "351/351 [==============================] - ETA: 0s - loss: 0.2343 - accuracy: 0.9177INFO:tensorflow:Assets written to: /Users/danielhuang/tinyML/Fine-tuning/model_checkpoint/assets\n"
          ]
        },
        {
          "name": "stderr",
          "output_type": "stream",
          "text": [
            "INFO:tensorflow:Assets written to: /Users/danielhuang/tinyML/Fine-tuning/model_checkpoint/assets\n"
          ]
        },
        {
          "name": "stdout",
          "output_type": "stream",
          "text": [
            "351/351 [==============================] - 26s 74ms/step - loss: 0.2343 - accuracy: 0.9177 - val_loss: 0.5101 - val_accuracy: 0.8399\n",
            "Epoch 70/182\n",
            "351/351 [==============================] - ETA: 0s - loss: 0.2318 - accuracy: 0.9196INFO:tensorflow:Assets written to: /Users/danielhuang/tinyML/Fine-tuning/model_checkpoint/assets\n"
          ]
        },
        {
          "name": "stderr",
          "output_type": "stream",
          "text": [
            "INFO:tensorflow:Assets written to: /Users/danielhuang/tinyML/Fine-tuning/model_checkpoint/assets\n"
          ]
        },
        {
          "name": "stdout",
          "output_type": "stream",
          "text": [
            "351/351 [==============================] - 26s 75ms/step - loss: 0.2318 - accuracy: 0.9196 - val_loss: 0.5780 - val_accuracy: 0.8300\n",
            "Epoch 71/182\n",
            "351/351 [==============================] - ETA: 0s - loss: 0.2329 - accuracy: 0.9179INFO:tensorflow:Assets written to: /Users/danielhuang/tinyML/Fine-tuning/model_checkpoint/assets\n"
          ]
        },
        {
          "name": "stderr",
          "output_type": "stream",
          "text": [
            "INFO:tensorflow:Assets written to: /Users/danielhuang/tinyML/Fine-tuning/model_checkpoint/assets\n"
          ]
        },
        {
          "name": "stdout",
          "output_type": "stream",
          "text": [
            "351/351 [==============================] - 27s 76ms/step - loss: 0.2329 - accuracy: 0.9179 - val_loss: 0.5314 - val_accuracy: 0.8403\n",
            "Epoch 72/182\n",
            "351/351 [==============================] - ETA: 0s - loss: 0.2337 - accuracy: 0.9183INFO:tensorflow:Assets written to: /Users/danielhuang/tinyML/Fine-tuning/model_checkpoint/assets\n"
          ]
        },
        {
          "name": "stderr",
          "output_type": "stream",
          "text": [
            "INFO:tensorflow:Assets written to: /Users/danielhuang/tinyML/Fine-tuning/model_checkpoint/assets\n"
          ]
        },
        {
          "name": "stdout",
          "output_type": "stream",
          "text": [
            "351/351 [==============================] - 26s 73ms/step - loss: 0.2337 - accuracy: 0.9183 - val_loss: 0.6296 - val_accuracy: 0.8169\n",
            "Epoch 73/182\n",
            "351/351 [==============================] - ETA: 0s - loss: 0.2216 - accuracy: 0.9219INFO:tensorflow:Assets written to: /Users/danielhuang/tinyML/Fine-tuning/model_checkpoint/assets\n"
          ]
        },
        {
          "name": "stderr",
          "output_type": "stream",
          "text": [
            "INFO:tensorflow:Assets written to: /Users/danielhuang/tinyML/Fine-tuning/model_checkpoint/assets\n"
          ]
        },
        {
          "name": "stdout",
          "output_type": "stream",
          "text": [
            "351/351 [==============================] - 27s 76ms/step - loss: 0.2216 - accuracy: 0.9219 - val_loss: 0.5060 - val_accuracy: 0.8463\n",
            "Epoch 74/182\n",
            "351/351 [==============================] - ETA: 0s - loss: 0.2217 - accuracy: 0.9213INFO:tensorflow:Assets written to: /Users/danielhuang/tinyML/Fine-tuning/model_checkpoint/assets\n"
          ]
        },
        {
          "name": "stderr",
          "output_type": "stream",
          "text": [
            "INFO:tensorflow:Assets written to: /Users/danielhuang/tinyML/Fine-tuning/model_checkpoint/assets\n"
          ]
        },
        {
          "name": "stdout",
          "output_type": "stream",
          "text": [
            "351/351 [==============================] - 26s 74ms/step - loss: 0.2217 - accuracy: 0.9213 - val_loss: 0.4837 - val_accuracy: 0.8522\n",
            "Epoch 75/182\n",
            "351/351 [==============================] - ETA: 0s - loss: 0.2172 - accuracy: 0.9236INFO:tensorflow:Assets written to: /Users/danielhuang/tinyML/Fine-tuning/model_checkpoint/assets\n"
          ]
        },
        {
          "name": "stderr",
          "output_type": "stream",
          "text": [
            "INFO:tensorflow:Assets written to: /Users/danielhuang/tinyML/Fine-tuning/model_checkpoint/assets\n"
          ]
        },
        {
          "name": "stdout",
          "output_type": "stream",
          "text": [
            "351/351 [==============================] - 26s 72ms/step - loss: 0.2172 - accuracy: 0.9236 - val_loss: 0.5264 - val_accuracy: 0.8452\n",
            "Epoch 76/182\n",
            "351/351 [==============================] - ETA: 0s - loss: 0.2202 - accuracy: 0.9243INFO:tensorflow:Assets written to: /Users/danielhuang/tinyML/Fine-tuning/model_checkpoint/assets\n"
          ]
        },
        {
          "name": "stderr",
          "output_type": "stream",
          "text": [
            "INFO:tensorflow:Assets written to: /Users/danielhuang/tinyML/Fine-tuning/model_checkpoint/assets\n"
          ]
        },
        {
          "name": "stdout",
          "output_type": "stream",
          "text": [
            "351/351 [==============================] - 26s 74ms/step - loss: 0.2202 - accuracy: 0.9243 - val_loss: 0.5920 - val_accuracy: 0.8231\n",
            "Epoch 77/182\n",
            "351/351 [==============================] - ETA: 0s - loss: 0.2120 - accuracy: 0.9251INFO:tensorflow:Assets written to: /Users/danielhuang/tinyML/Fine-tuning/model_checkpoint/assets\n"
          ]
        },
        {
          "name": "stderr",
          "output_type": "stream",
          "text": [
            "INFO:tensorflow:Assets written to: /Users/danielhuang/tinyML/Fine-tuning/model_checkpoint/assets\n"
          ]
        },
        {
          "name": "stdout",
          "output_type": "stream",
          "text": [
            "351/351 [==============================] - 26s 73ms/step - loss: 0.2120 - accuracy: 0.9251 - val_loss: 0.6458 - val_accuracy: 0.8276\n",
            "Epoch 78/182\n",
            "351/351 [==============================] - ETA: 0s - loss: 0.2081 - accuracy: 0.9275INFO:tensorflow:Assets written to: /Users/danielhuang/tinyML/Fine-tuning/model_checkpoint/assets\n"
          ]
        },
        {
          "name": "stderr",
          "output_type": "stream",
          "text": [
            "INFO:tensorflow:Assets written to: /Users/danielhuang/tinyML/Fine-tuning/model_checkpoint/assets\n"
          ]
        },
        {
          "name": "stdout",
          "output_type": "stream",
          "text": [
            "351/351 [==============================] - 25s 72ms/step - loss: 0.2081 - accuracy: 0.9275 - val_loss: 0.5319 - val_accuracy: 0.8489\n",
            "Epoch 79/182\n",
            "351/351 [==============================] - ETA: 0s - loss: 0.2055 - accuracy: 0.9268INFO:tensorflow:Assets written to: /Users/danielhuang/tinyML/Fine-tuning/model_checkpoint/assets\n"
          ]
        },
        {
          "name": "stderr",
          "output_type": "stream",
          "text": [
            "INFO:tensorflow:Assets written to: /Users/danielhuang/tinyML/Fine-tuning/model_checkpoint/assets\n"
          ]
        },
        {
          "name": "stdout",
          "output_type": "stream",
          "text": [
            "351/351 [==============================] - 26s 73ms/step - loss: 0.2055 - accuracy: 0.9268 - val_loss: 0.4983 - val_accuracy: 0.8524\n",
            "Epoch 80/182\n",
            "351/351 [==============================] - ETA: 0s - loss: 0.2087 - accuracy: 0.9260INFO:tensorflow:Assets written to: /Users/danielhuang/tinyML/Fine-tuning/model_checkpoint/assets\n"
          ]
        },
        {
          "name": "stderr",
          "output_type": "stream",
          "text": [
            "INFO:tensorflow:Assets written to: /Users/danielhuang/tinyML/Fine-tuning/model_checkpoint/assets\n"
          ]
        },
        {
          "name": "stdout",
          "output_type": "stream",
          "text": [
            "351/351 [==============================] - 25s 72ms/step - loss: 0.2087 - accuracy: 0.9260 - val_loss: 0.5213 - val_accuracy: 0.8461\n",
            "Epoch 81/182\n",
            "351/351 [==============================] - ETA: 0s - loss: 0.2036 - accuracy: 0.9293INFO:tensorflow:Assets written to: /Users/danielhuang/tinyML/Fine-tuning/model_checkpoint/assets\n"
          ]
        },
        {
          "name": "stderr",
          "output_type": "stream",
          "text": [
            "INFO:tensorflow:Assets written to: /Users/danielhuang/tinyML/Fine-tuning/model_checkpoint/assets\n"
          ]
        },
        {
          "name": "stdout",
          "output_type": "stream",
          "text": [
            "351/351 [==============================] - 25s 73ms/step - loss: 0.2036 - accuracy: 0.9293 - val_loss: 0.5425 - val_accuracy: 0.8462\n",
            "Epoch 82/182\n",
            "351/351 [==============================] - ETA: 0s - loss: 0.2018 - accuracy: 0.9286INFO:tensorflow:Assets written to: /Users/danielhuang/tinyML/Fine-tuning/model_checkpoint/assets\n"
          ]
        },
        {
          "name": "stderr",
          "output_type": "stream",
          "text": [
            "INFO:tensorflow:Assets written to: /Users/danielhuang/tinyML/Fine-tuning/model_checkpoint/assets\n"
          ]
        },
        {
          "name": "stdout",
          "output_type": "stream",
          "text": [
            "351/351 [==============================] - 26s 73ms/step - loss: 0.2018 - accuracy: 0.9286 - val_loss: 0.5492 - val_accuracy: 0.8432\n",
            "Epoch 83/182\n",
            "351/351 [==============================] - ETA: 0s - loss: 0.1967 - accuracy: 0.9304INFO:tensorflow:Assets written to: /Users/danielhuang/tinyML/Fine-tuning/model_checkpoint/assets\n"
          ]
        },
        {
          "name": "stderr",
          "output_type": "stream",
          "text": [
            "INFO:tensorflow:Assets written to: /Users/danielhuang/tinyML/Fine-tuning/model_checkpoint/assets\n"
          ]
        },
        {
          "name": "stdout",
          "output_type": "stream",
          "text": [
            "351/351 [==============================] - 27s 78ms/step - loss: 0.1967 - accuracy: 0.9304 - val_loss: 0.5185 - val_accuracy: 0.8391\n",
            "Epoch 84/182\n",
            "351/351 [==============================] - ETA: 0s - loss: 0.2003 - accuracy: 0.9294INFO:tensorflow:Assets written to: /Users/danielhuang/tinyML/Fine-tuning/model_checkpoint/assets\n"
          ]
        },
        {
          "name": "stderr",
          "output_type": "stream",
          "text": [
            "INFO:tensorflow:Assets written to: /Users/danielhuang/tinyML/Fine-tuning/model_checkpoint/assets\n"
          ]
        },
        {
          "name": "stdout",
          "output_type": "stream",
          "text": [
            "351/351 [==============================] - 27s 78ms/step - loss: 0.2003 - accuracy: 0.9294 - val_loss: 0.4646 - val_accuracy: 0.8571\n",
            "Epoch 85/182\n",
            "351/351 [==============================] - ETA: 0s - loss: 0.1879 - accuracy: 0.9326INFO:tensorflow:Assets written to: /Users/danielhuang/tinyML/Fine-tuning/model_checkpoint/assets\n"
          ]
        },
        {
          "name": "stderr",
          "output_type": "stream",
          "text": [
            "INFO:tensorflow:Assets written to: /Users/danielhuang/tinyML/Fine-tuning/model_checkpoint/assets\n"
          ]
        },
        {
          "name": "stdout",
          "output_type": "stream",
          "text": [
            "351/351 [==============================] - 27s 75ms/step - loss: 0.1879 - accuracy: 0.9326 - val_loss: 0.5148 - val_accuracy: 0.8518\n",
            "Epoch 86/182\n",
            "351/351 [==============================] - ETA: 0s - loss: 0.1922 - accuracy: 0.9316INFO:tensorflow:Assets written to: /Users/danielhuang/tinyML/Fine-tuning/model_checkpoint/assets\n"
          ]
        },
        {
          "name": "stderr",
          "output_type": "stream",
          "text": [
            "INFO:tensorflow:Assets written to: /Users/danielhuang/tinyML/Fine-tuning/model_checkpoint/assets\n"
          ]
        },
        {
          "name": "stdout",
          "output_type": "stream",
          "text": [
            "351/351 [==============================] - 26s 74ms/step - loss: 0.1922 - accuracy: 0.9316 - val_loss: 0.5159 - val_accuracy: 0.8473\n",
            "Epoch 87/182\n",
            "351/351 [==============================] - ETA: 0s - loss: 0.1957 - accuracy: 0.9296INFO:tensorflow:Assets written to: /Users/danielhuang/tinyML/Fine-tuning/model_checkpoint/assets\n"
          ]
        },
        {
          "name": "stderr",
          "output_type": "stream",
          "text": [
            "INFO:tensorflow:Assets written to: /Users/danielhuang/tinyML/Fine-tuning/model_checkpoint/assets\n"
          ]
        },
        {
          "name": "stdout",
          "output_type": "stream",
          "text": [
            "351/351 [==============================] - 26s 74ms/step - loss: 0.1957 - accuracy: 0.9296 - val_loss: 0.5299 - val_accuracy: 0.8475\n",
            "Epoch 88/182\n",
            "351/351 [==============================] - ETA: 0s - loss: 0.1911 - accuracy: 0.9333INFO:tensorflow:Assets written to: /Users/danielhuang/tinyML/Fine-tuning/model_checkpoint/assets\n"
          ]
        },
        {
          "name": "stderr",
          "output_type": "stream",
          "text": [
            "INFO:tensorflow:Assets written to: /Users/danielhuang/tinyML/Fine-tuning/model_checkpoint/assets\n"
          ]
        },
        {
          "name": "stdout",
          "output_type": "stream",
          "text": [
            "351/351 [==============================] - 26s 74ms/step - loss: 0.1911 - accuracy: 0.9333 - val_loss: 0.6024 - val_accuracy: 0.8362\n",
            "Epoch 89/182\n",
            "351/351 [==============================] - ETA: 0s - loss: 0.1845 - accuracy: 0.9350INFO:tensorflow:Assets written to: /Users/danielhuang/tinyML/Fine-tuning/model_checkpoint/assets\n"
          ]
        },
        {
          "name": "stderr",
          "output_type": "stream",
          "text": [
            "INFO:tensorflow:Assets written to: /Users/danielhuang/tinyML/Fine-tuning/model_checkpoint/assets\n"
          ]
        },
        {
          "name": "stdout",
          "output_type": "stream",
          "text": [
            "351/351 [==============================] - 26s 74ms/step - loss: 0.1845 - accuracy: 0.9350 - val_loss: 0.5684 - val_accuracy: 0.8395\n",
            "Epoch 90/182\n",
            "351/351 [==============================] - ETA: 0s - loss: 0.1856 - accuracy: 0.9351INFO:tensorflow:Assets written to: /Users/danielhuang/tinyML/Fine-tuning/model_checkpoint/assets\n"
          ]
        },
        {
          "name": "stderr",
          "output_type": "stream",
          "text": [
            "INFO:tensorflow:Assets written to: /Users/danielhuang/tinyML/Fine-tuning/model_checkpoint/assets\n"
          ]
        },
        {
          "name": "stdout",
          "output_type": "stream",
          "text": [
            "351/351 [==============================] - 27s 77ms/step - loss: 0.1856 - accuracy: 0.9351 - val_loss: 0.5583 - val_accuracy: 0.8417\n",
            "Epoch 91/182\n",
            "351/351 [==============================] - ETA: 0s - loss: 0.1799 - accuracy: 0.9360INFO:tensorflow:Assets written to: /Users/danielhuang/tinyML/Fine-tuning/model_checkpoint/assets\n"
          ]
        },
        {
          "name": "stderr",
          "output_type": "stream",
          "text": [
            "INFO:tensorflow:Assets written to: /Users/danielhuang/tinyML/Fine-tuning/model_checkpoint/assets\n"
          ]
        },
        {
          "name": "stdout",
          "output_type": "stream",
          "text": [
            "351/351 [==============================] - 28s 78ms/step - loss: 0.1799 - accuracy: 0.9360 - val_loss: 0.5078 - val_accuracy: 0.8592\n",
            "Epoch 92/182\n",
            "351/351 [==============================] - ETA: 0s - loss: 0.1606 - accuracy: 0.9429INFO:tensorflow:Assets written to: /Users/danielhuang/tinyML/Fine-tuning/model_checkpoint/assets\n"
          ]
        },
        {
          "name": "stderr",
          "output_type": "stream",
          "text": [
            "INFO:tensorflow:Assets written to: /Users/danielhuang/tinyML/Fine-tuning/model_checkpoint/assets\n"
          ]
        },
        {
          "name": "stdout",
          "output_type": "stream",
          "text": [
            "351/351 [==============================] - 26s 74ms/step - loss: 0.1606 - accuracy: 0.9429 - val_loss: 0.3865 - val_accuracy: 0.8810\n",
            "Epoch 93/182\n",
            "351/351 [==============================] - ETA: 0s - loss: 0.1277 - accuracy: 0.9560INFO:tensorflow:Assets written to: /Users/danielhuang/tinyML/Fine-tuning/model_checkpoint/assets\n"
          ]
        },
        {
          "name": "stderr",
          "output_type": "stream",
          "text": [
            "INFO:tensorflow:Assets written to: /Users/danielhuang/tinyML/Fine-tuning/model_checkpoint/assets\n"
          ]
        },
        {
          "name": "stdout",
          "output_type": "stream",
          "text": [
            "351/351 [==============================] - 26s 75ms/step - loss: 0.1277 - accuracy: 0.9560 - val_loss: 0.4202 - val_accuracy: 0.8766\n",
            "Epoch 94/182\n",
            "351/351 [==============================] - ETA: 0s - loss: 0.1167 - accuracy: 0.9588INFO:tensorflow:Assets written to: /Users/danielhuang/tinyML/Fine-tuning/model_checkpoint/assets\n"
          ]
        },
        {
          "name": "stderr",
          "output_type": "stream",
          "text": [
            "INFO:tensorflow:Assets written to: /Users/danielhuang/tinyML/Fine-tuning/model_checkpoint/assets\n"
          ]
        },
        {
          "name": "stdout",
          "output_type": "stream",
          "text": [
            "351/351 [==============================] - 27s 76ms/step - loss: 0.1167 - accuracy: 0.9588 - val_loss: 0.4282 - val_accuracy: 0.8744\n",
            "Epoch 95/182\n",
            "351/351 [==============================] - ETA: 0s - loss: 0.1129 - accuracy: 0.9593INFO:tensorflow:Assets written to: /Users/danielhuang/tinyML/Fine-tuning/model_checkpoint/assets\n"
          ]
        },
        {
          "name": "stderr",
          "output_type": "stream",
          "text": [
            "INFO:tensorflow:Assets written to: /Users/danielhuang/tinyML/Fine-tuning/model_checkpoint/assets\n"
          ]
        },
        {
          "name": "stdout",
          "output_type": "stream",
          "text": [
            "351/351 [==============================] - 27s 76ms/step - loss: 0.1129 - accuracy: 0.9593 - val_loss: 0.4340 - val_accuracy: 0.8801\n",
            "Epoch 96/182\n",
            "351/351 [==============================] - ETA: 0s - loss: 0.1080 - accuracy: 0.9624INFO:tensorflow:Assets written to: /Users/danielhuang/tinyML/Fine-tuning/model_checkpoint/assets\n"
          ]
        },
        {
          "name": "stderr",
          "output_type": "stream",
          "text": [
            "INFO:tensorflow:Assets written to: /Users/danielhuang/tinyML/Fine-tuning/model_checkpoint/assets\n"
          ]
        },
        {
          "name": "stdout",
          "output_type": "stream",
          "text": [
            "351/351 [==============================] - 27s 76ms/step - loss: 0.1080 - accuracy: 0.9624 - val_loss: 0.4529 - val_accuracy: 0.8713\n",
            "Epoch 97/182\n",
            "351/351 [==============================] - ETA: 0s - loss: 0.1080 - accuracy: 0.9611INFO:tensorflow:Assets written to: /Users/danielhuang/tinyML/Fine-tuning/model_checkpoint/assets\n"
          ]
        },
        {
          "name": "stderr",
          "output_type": "stream",
          "text": [
            "INFO:tensorflow:Assets written to: /Users/danielhuang/tinyML/Fine-tuning/model_checkpoint/assets\n"
          ]
        },
        {
          "name": "stdout",
          "output_type": "stream",
          "text": [
            "351/351 [==============================] - 28s 78ms/step - loss: 0.1080 - accuracy: 0.9611 - val_loss: 0.4253 - val_accuracy: 0.8814\n",
            "Epoch 98/182\n",
            "351/351 [==============================] - ETA: 0s - loss: 0.1010 - accuracy: 0.9636INFO:tensorflow:Assets written to: /Users/danielhuang/tinyML/Fine-tuning/model_checkpoint/assets\n"
          ]
        },
        {
          "name": "stderr",
          "output_type": "stream",
          "text": [
            "INFO:tensorflow:Assets written to: /Users/danielhuang/tinyML/Fine-tuning/model_checkpoint/assets\n"
          ]
        },
        {
          "name": "stdout",
          "output_type": "stream",
          "text": [
            "351/351 [==============================] - 28s 79ms/step - loss: 0.1010 - accuracy: 0.9636 - val_loss: 0.4710 - val_accuracy: 0.8732\n",
            "Epoch 99/182\n",
            "351/351 [==============================] - ETA: 0s - loss: 0.1039 - accuracy: 0.9615INFO:tensorflow:Assets written to: /Users/danielhuang/tinyML/Fine-tuning/model_checkpoint/assets\n"
          ]
        },
        {
          "name": "stderr",
          "output_type": "stream",
          "text": [
            "INFO:tensorflow:Assets written to: /Users/danielhuang/tinyML/Fine-tuning/model_checkpoint/assets\n"
          ]
        },
        {
          "name": "stdout",
          "output_type": "stream",
          "text": [
            "351/351 [==============================] - 28s 79ms/step - loss: 0.1039 - accuracy: 0.9615 - val_loss: 0.4232 - val_accuracy: 0.8881\n",
            "Epoch 100/182\n",
            "351/351 [==============================] - ETA: 0s - loss: 0.0975 - accuracy: 0.9655INFO:tensorflow:Assets written to: /Users/danielhuang/tinyML/Fine-tuning/model_checkpoint/assets\n"
          ]
        },
        {
          "name": "stderr",
          "output_type": "stream",
          "text": [
            "INFO:tensorflow:Assets written to: /Users/danielhuang/tinyML/Fine-tuning/model_checkpoint/assets\n"
          ]
        },
        {
          "name": "stdout",
          "output_type": "stream",
          "text": [
            "351/351 [==============================] - 27s 77ms/step - loss: 0.0975 - accuracy: 0.9655 - val_loss: 0.4508 - val_accuracy: 0.8779\n",
            "Epoch 101/182\n",
            "351/351 [==============================] - ETA: 0s - loss: 0.0969 - accuracy: 0.9664INFO:tensorflow:Assets written to: /Users/danielhuang/tinyML/Fine-tuning/model_checkpoint/assets\n"
          ]
        },
        {
          "name": "stderr",
          "output_type": "stream",
          "text": [
            "INFO:tensorflow:Assets written to: /Users/danielhuang/tinyML/Fine-tuning/model_checkpoint/assets\n"
          ]
        },
        {
          "name": "stdout",
          "output_type": "stream",
          "text": [
            "351/351 [==============================] - 27s 76ms/step - loss: 0.0969 - accuracy: 0.9664 - val_loss: 0.4340 - val_accuracy: 0.8797\n",
            "Epoch 102/182\n",
            "351/351 [==============================] - ETA: 0s - loss: 0.0943 - accuracy: 0.9661INFO:tensorflow:Assets written to: /Users/danielhuang/tinyML/Fine-tuning/model_checkpoint/assets\n"
          ]
        },
        {
          "name": "stderr",
          "output_type": "stream",
          "text": [
            "INFO:tensorflow:Assets written to: /Users/danielhuang/tinyML/Fine-tuning/model_checkpoint/assets\n"
          ]
        },
        {
          "name": "stdout",
          "output_type": "stream",
          "text": [
            "351/351 [==============================] - 25s 70ms/step - loss: 0.0943 - accuracy: 0.9661 - val_loss: 0.4983 - val_accuracy: 0.8752\n",
            "Epoch 103/182\n",
            "351/351 [==============================] - ETA: 0s - loss: 0.0958 - accuracy: 0.9657INFO:tensorflow:Assets written to: /Users/danielhuang/tinyML/Fine-tuning/model_checkpoint/assets\n"
          ]
        },
        {
          "name": "stderr",
          "output_type": "stream",
          "text": [
            "INFO:tensorflow:Assets written to: /Users/danielhuang/tinyML/Fine-tuning/model_checkpoint/assets\n"
          ]
        },
        {
          "name": "stdout",
          "output_type": "stream",
          "text": [
            "351/351 [==============================] - 24s 67ms/step - loss: 0.0958 - accuracy: 0.9657 - val_loss: 0.4548 - val_accuracy: 0.8824\n",
            "Epoch 104/182\n",
            "351/351 [==============================] - ETA: 0s - loss: 0.0968 - accuracy: 0.9659INFO:tensorflow:Assets written to: /Users/danielhuang/tinyML/Fine-tuning/model_checkpoint/assets\n"
          ]
        },
        {
          "name": "stderr",
          "output_type": "stream",
          "text": [
            "INFO:tensorflow:Assets written to: /Users/danielhuang/tinyML/Fine-tuning/model_checkpoint/assets\n"
          ]
        },
        {
          "name": "stdout",
          "output_type": "stream",
          "text": [
            "351/351 [==============================] - 23s 65ms/step - loss: 0.0968 - accuracy: 0.9659 - val_loss: 0.4591 - val_accuracy: 0.8838\n",
            "Epoch 105/182\n",
            "350/351 [============================>.] - ETA: 0s - loss: 0.0926 - accuracy: 0.9668INFO:tensorflow:Assets written to: /Users/danielhuang/tinyML/Fine-tuning/model_checkpoint/assets\n"
          ]
        },
        {
          "name": "stderr",
          "output_type": "stream",
          "text": [
            "INFO:tensorflow:Assets written to: /Users/danielhuang/tinyML/Fine-tuning/model_checkpoint/assets\n"
          ]
        },
        {
          "name": "stdout",
          "output_type": "stream",
          "text": [
            "351/351 [==============================] - 23s 67ms/step - loss: 0.0925 - accuracy: 0.9668 - val_loss: 0.4265 - val_accuracy: 0.8867\n",
            "Epoch 106/182\n",
            "351/351 [==============================] - ETA: 0s - loss: 0.0948 - accuracy: 0.9659INFO:tensorflow:Assets written to: /Users/danielhuang/tinyML/Fine-tuning/model_checkpoint/assets\n"
          ]
        },
        {
          "name": "stderr",
          "output_type": "stream",
          "text": [
            "INFO:tensorflow:Assets written to: /Users/danielhuang/tinyML/Fine-tuning/model_checkpoint/assets\n"
          ]
        },
        {
          "name": "stdout",
          "output_type": "stream",
          "text": [
            "351/351 [==============================] - 23s 66ms/step - loss: 0.0948 - accuracy: 0.9659 - val_loss: 0.4759 - val_accuracy: 0.8777\n",
            "Epoch 107/182\n",
            "351/351 [==============================] - ETA: 0s - loss: 0.0888 - accuracy: 0.9685INFO:tensorflow:Assets written to: /Users/danielhuang/tinyML/Fine-tuning/model_checkpoint/assets\n"
          ]
        },
        {
          "name": "stderr",
          "output_type": "stream",
          "text": [
            "INFO:tensorflow:Assets written to: /Users/danielhuang/tinyML/Fine-tuning/model_checkpoint/assets\n"
          ]
        },
        {
          "name": "stdout",
          "output_type": "stream",
          "text": [
            "351/351 [==============================] - 25s 72ms/step - loss: 0.0888 - accuracy: 0.9685 - val_loss: 0.4753 - val_accuracy: 0.8779\n",
            "Epoch 108/182\n",
            "351/351 [==============================] - ETA: 0s - loss: 0.0912 - accuracy: 0.9665INFO:tensorflow:Assets written to: /Users/danielhuang/tinyML/Fine-tuning/model_checkpoint/assets\n"
          ]
        },
        {
          "name": "stderr",
          "output_type": "stream",
          "text": [
            "INFO:tensorflow:Assets written to: /Users/danielhuang/tinyML/Fine-tuning/model_checkpoint/assets\n"
          ]
        },
        {
          "name": "stdout",
          "output_type": "stream",
          "text": [
            "351/351 [==============================] - 24s 67ms/step - loss: 0.0912 - accuracy: 0.9665 - val_loss: 0.4521 - val_accuracy: 0.8846\n",
            "Epoch 109/182\n",
            "351/351 [==============================] - ETA: 0s - loss: 0.0881 - accuracy: 0.9690INFO:tensorflow:Assets written to: /Users/danielhuang/tinyML/Fine-tuning/model_checkpoint/assets\n"
          ]
        },
        {
          "name": "stderr",
          "output_type": "stream",
          "text": [
            "INFO:tensorflow:Assets written to: /Users/danielhuang/tinyML/Fine-tuning/model_checkpoint/assets\n"
          ]
        },
        {
          "name": "stdout",
          "output_type": "stream",
          "text": [
            "351/351 [==============================] - 24s 68ms/step - loss: 0.0881 - accuracy: 0.9690 - val_loss: 0.4931 - val_accuracy: 0.8785\n",
            "Epoch 110/182\n",
            "351/351 [==============================] - ETA: 0s - loss: 0.0910 - accuracy: 0.9675INFO:tensorflow:Assets written to: /Users/danielhuang/tinyML/Fine-tuning/model_checkpoint/assets\n"
          ]
        },
        {
          "name": "stderr",
          "output_type": "stream",
          "text": [
            "INFO:tensorflow:Assets written to: /Users/danielhuang/tinyML/Fine-tuning/model_checkpoint/assets\n"
          ]
        },
        {
          "name": "stdout",
          "output_type": "stream",
          "text": [
            "351/351 [==============================] - 24s 68ms/step - loss: 0.0910 - accuracy: 0.9675 - val_loss: 0.4808 - val_accuracy: 0.8803\n",
            "Epoch 111/182\n",
            "351/351 [==============================] - ETA: 0s - loss: 0.0852 - accuracy: 0.9692INFO:tensorflow:Assets written to: /Users/danielhuang/tinyML/Fine-tuning/model_checkpoint/assets\n"
          ]
        },
        {
          "name": "stderr",
          "output_type": "stream",
          "text": [
            "INFO:tensorflow:Assets written to: /Users/danielhuang/tinyML/Fine-tuning/model_checkpoint/assets\n"
          ]
        },
        {
          "name": "stdout",
          "output_type": "stream",
          "text": [
            "351/351 [==============================] - 23s 65ms/step - loss: 0.0852 - accuracy: 0.9692 - val_loss: 0.4595 - val_accuracy: 0.8771\n",
            "Epoch 112/182\n",
            "351/351 [==============================] - ETA: 0s - loss: 0.0856 - accuracy: 0.9697INFO:tensorflow:Assets written to: /Users/danielhuang/tinyML/Fine-tuning/model_checkpoint/assets\n"
          ]
        },
        {
          "name": "stderr",
          "output_type": "stream",
          "text": [
            "INFO:tensorflow:Assets written to: /Users/danielhuang/tinyML/Fine-tuning/model_checkpoint/assets\n"
          ]
        },
        {
          "name": "stdout",
          "output_type": "stream",
          "text": [
            "351/351 [==============================] - 25s 70ms/step - loss: 0.0856 - accuracy: 0.9697 - val_loss: 0.4592 - val_accuracy: 0.8812\n",
            "Epoch 113/182\n",
            "350/351 [============================>.] - ETA: 0s - loss: 0.0868 - accuracy: 0.9686INFO:tensorflow:Assets written to: /Users/danielhuang/tinyML/Fine-tuning/model_checkpoint/assets\n"
          ]
        },
        {
          "name": "stderr",
          "output_type": "stream",
          "text": [
            "INFO:tensorflow:Assets written to: /Users/danielhuang/tinyML/Fine-tuning/model_checkpoint/assets\n"
          ]
        },
        {
          "name": "stdout",
          "output_type": "stream",
          "text": [
            "351/351 [==============================] - 22s 63ms/step - loss: 0.0867 - accuracy: 0.9686 - val_loss: 0.4619 - val_accuracy: 0.8818\n",
            "Epoch 114/182\n",
            "351/351 [==============================] - ETA: 0s - loss: 0.0837 - accuracy: 0.9701INFO:tensorflow:Assets written to: /Users/danielhuang/tinyML/Fine-tuning/model_checkpoint/assets\n"
          ]
        },
        {
          "name": "stderr",
          "output_type": "stream",
          "text": [
            "INFO:tensorflow:Assets written to: /Users/danielhuang/tinyML/Fine-tuning/model_checkpoint/assets\n"
          ]
        },
        {
          "name": "stdout",
          "output_type": "stream",
          "text": [
            "351/351 [==============================] - 23s 66ms/step - loss: 0.0837 - accuracy: 0.9701 - val_loss: 0.4590 - val_accuracy: 0.8865\n",
            "Epoch 115/182\n",
            "351/351 [==============================] - ETA: 0s - loss: 0.0860 - accuracy: 0.9693INFO:tensorflow:Assets written to: /Users/danielhuang/tinyML/Fine-tuning/model_checkpoint/assets\n"
          ]
        },
        {
          "name": "stderr",
          "output_type": "stream",
          "text": [
            "INFO:tensorflow:Assets written to: /Users/danielhuang/tinyML/Fine-tuning/model_checkpoint/assets\n"
          ]
        },
        {
          "name": "stdout",
          "output_type": "stream",
          "text": [
            "351/351 [==============================] - 25s 73ms/step - loss: 0.0860 - accuracy: 0.9693 - val_loss: 0.4793 - val_accuracy: 0.8820\n",
            "Epoch 116/182\n",
            "351/351 [==============================] - ETA: 0s - loss: 0.0840 - accuracy: 0.9686INFO:tensorflow:Assets written to: /Users/danielhuang/tinyML/Fine-tuning/model_checkpoint/assets\n"
          ]
        },
        {
          "name": "stderr",
          "output_type": "stream",
          "text": [
            "INFO:tensorflow:Assets written to: /Users/danielhuang/tinyML/Fine-tuning/model_checkpoint/assets\n"
          ]
        },
        {
          "name": "stdout",
          "output_type": "stream",
          "text": [
            "351/351 [==============================] - 24s 67ms/step - loss: 0.0840 - accuracy: 0.9686 - val_loss: 0.5064 - val_accuracy: 0.8789\n",
            "Epoch 117/182\n",
            "351/351 [==============================] - ETA: 0s - loss: 0.0828 - accuracy: 0.9706INFO:tensorflow:Assets written to: /Users/danielhuang/tinyML/Fine-tuning/model_checkpoint/assets\n"
          ]
        },
        {
          "name": "stderr",
          "output_type": "stream",
          "text": [
            "INFO:tensorflow:Assets written to: /Users/danielhuang/tinyML/Fine-tuning/model_checkpoint/assets\n"
          ]
        },
        {
          "name": "stdout",
          "output_type": "stream",
          "text": [
            "351/351 [==============================] - 23s 64ms/step - loss: 0.0828 - accuracy: 0.9706 - val_loss: 0.4787 - val_accuracy: 0.8807\n",
            "Epoch 118/182\n",
            "350/351 [============================>.] - ETA: 0s - loss: 0.0821 - accuracy: 0.9708INFO:tensorflow:Assets written to: /Users/danielhuang/tinyML/Fine-tuning/model_checkpoint/assets\n"
          ]
        },
        {
          "name": "stderr",
          "output_type": "stream",
          "text": [
            "INFO:tensorflow:Assets written to: /Users/danielhuang/tinyML/Fine-tuning/model_checkpoint/assets\n"
          ]
        },
        {
          "name": "stdout",
          "output_type": "stream",
          "text": [
            "351/351 [==============================] - 25s 72ms/step - loss: 0.0821 - accuracy: 0.9708 - val_loss: 0.4954 - val_accuracy: 0.8799\n",
            "Epoch 119/182\n",
            "351/351 [==============================] - ETA: 0s - loss: 0.0836 - accuracy: 0.9700INFO:tensorflow:Assets written to: /Users/danielhuang/tinyML/Fine-tuning/model_checkpoint/assets\n"
          ]
        },
        {
          "name": "stderr",
          "output_type": "stream",
          "text": [
            "INFO:tensorflow:Assets written to: /Users/danielhuang/tinyML/Fine-tuning/model_checkpoint/assets\n"
          ]
        },
        {
          "name": "stdout",
          "output_type": "stream",
          "text": [
            "351/351 [==============================] - 24s 68ms/step - loss: 0.0836 - accuracy: 0.9700 - val_loss: 0.4817 - val_accuracy: 0.8764\n",
            "Epoch 120/182\n",
            "350/351 [============================>.] - ETA: 0s - loss: 0.0820 - accuracy: 0.9704INFO:tensorflow:Assets written to: /Users/danielhuang/tinyML/Fine-tuning/model_checkpoint/assets\n"
          ]
        },
        {
          "name": "stderr",
          "output_type": "stream",
          "text": [
            "INFO:tensorflow:Assets written to: /Users/danielhuang/tinyML/Fine-tuning/model_checkpoint/assets\n"
          ]
        },
        {
          "name": "stdout",
          "output_type": "stream",
          "text": [
            "351/351 [==============================] - 24s 68ms/step - loss: 0.0819 - accuracy: 0.9704 - val_loss: 0.4732 - val_accuracy: 0.8777\n",
            "Epoch 121/182\n",
            "351/351 [==============================] - ETA: 0s - loss: 0.0807 - accuracy: 0.9714INFO:tensorflow:Assets written to: /Users/danielhuang/tinyML/Fine-tuning/model_checkpoint/assets\n"
          ]
        },
        {
          "name": "stderr",
          "output_type": "stream",
          "text": [
            "INFO:tensorflow:Assets written to: /Users/danielhuang/tinyML/Fine-tuning/model_checkpoint/assets\n"
          ]
        },
        {
          "name": "stdout",
          "output_type": "stream",
          "text": [
            "351/351 [==============================] - 24s 69ms/step - loss: 0.0807 - accuracy: 0.9714 - val_loss: 0.4893 - val_accuracy: 0.8814\n",
            "Epoch 122/182\n",
            "351/351 [==============================] - ETA: 0s - loss: 0.0797 - accuracy: 0.9721INFO:tensorflow:Assets written to: /Users/danielhuang/tinyML/Fine-tuning/model_checkpoint/assets\n"
          ]
        },
        {
          "name": "stderr",
          "output_type": "stream",
          "text": [
            "INFO:tensorflow:Assets written to: /Users/danielhuang/tinyML/Fine-tuning/model_checkpoint/assets\n"
          ]
        },
        {
          "name": "stdout",
          "output_type": "stream",
          "text": [
            "351/351 [==============================] - 24s 68ms/step - loss: 0.0797 - accuracy: 0.9721 - val_loss: 0.4950 - val_accuracy: 0.8799\n",
            "Epoch 123/182\n",
            "351/351 [==============================] - ETA: 0s - loss: 0.0772 - accuracy: 0.9732INFO:tensorflow:Assets written to: /Users/danielhuang/tinyML/Fine-tuning/model_checkpoint/assets\n"
          ]
        },
        {
          "name": "stderr",
          "output_type": "stream",
          "text": [
            "INFO:tensorflow:Assets written to: /Users/danielhuang/tinyML/Fine-tuning/model_checkpoint/assets\n"
          ]
        },
        {
          "name": "stdout",
          "output_type": "stream",
          "text": [
            "351/351 [==============================] - 24s 67ms/step - loss: 0.0772 - accuracy: 0.9732 - val_loss: 0.4700 - val_accuracy: 0.8877\n",
            "Epoch 124/182\n",
            "351/351 [==============================] - ETA: 0s - loss: 0.0805 - accuracy: 0.9713INFO:tensorflow:Assets written to: /Users/danielhuang/tinyML/Fine-tuning/model_checkpoint/assets\n"
          ]
        },
        {
          "name": "stderr",
          "output_type": "stream",
          "text": [
            "INFO:tensorflow:Assets written to: /Users/danielhuang/tinyML/Fine-tuning/model_checkpoint/assets\n"
          ]
        },
        {
          "name": "stdout",
          "output_type": "stream",
          "text": [
            "351/351 [==============================] - 23s 64ms/step - loss: 0.0805 - accuracy: 0.9713 - val_loss: 0.4934 - val_accuracy: 0.8810\n",
            "Epoch 125/182\n",
            "351/351 [==============================] - ETA: 0s - loss: 0.0802 - accuracy: 0.9711INFO:tensorflow:Assets written to: /Users/danielhuang/tinyML/Fine-tuning/model_checkpoint/assets\n"
          ]
        },
        {
          "name": "stderr",
          "output_type": "stream",
          "text": [
            "INFO:tensorflow:Assets written to: /Users/danielhuang/tinyML/Fine-tuning/model_checkpoint/assets\n"
          ]
        },
        {
          "name": "stdout",
          "output_type": "stream",
          "text": [
            "351/351 [==============================] - 24s 68ms/step - loss: 0.0802 - accuracy: 0.9711 - val_loss: 0.4892 - val_accuracy: 0.8799\n",
            "Epoch 126/182\n",
            "351/351 [==============================] - ETA: 0s - loss: 0.0739 - accuracy: 0.9737INFO:tensorflow:Assets written to: /Users/danielhuang/tinyML/Fine-tuning/model_checkpoint/assets\n"
          ]
        },
        {
          "name": "stderr",
          "output_type": "stream",
          "text": [
            "INFO:tensorflow:Assets written to: /Users/danielhuang/tinyML/Fine-tuning/model_checkpoint/assets\n"
          ]
        },
        {
          "name": "stdout",
          "output_type": "stream",
          "text": [
            "351/351 [==============================] - 25s 70ms/step - loss: 0.0739 - accuracy: 0.9737 - val_loss: 0.4946 - val_accuracy: 0.8803\n",
            "Epoch 127/182\n",
            "351/351 [==============================] - ETA: 0s - loss: 0.0771 - accuracy: 0.9717INFO:tensorflow:Assets written to: /Users/danielhuang/tinyML/Fine-tuning/model_checkpoint/assets\n"
          ]
        },
        {
          "name": "stderr",
          "output_type": "stream",
          "text": [
            "INFO:tensorflow:Assets written to: /Users/danielhuang/tinyML/Fine-tuning/model_checkpoint/assets\n"
          ]
        },
        {
          "name": "stdout",
          "output_type": "stream",
          "text": [
            "351/351 [==============================] - 23s 64ms/step - loss: 0.0771 - accuracy: 0.9717 - val_loss: 0.4650 - val_accuracy: 0.8865\n",
            "Epoch 128/182\n",
            "350/351 [============================>.] - ETA: 0s - loss: 0.0736 - accuracy: 0.9739INFO:tensorflow:Assets written to: /Users/danielhuang/tinyML/Fine-tuning/model_checkpoint/assets\n"
          ]
        },
        {
          "name": "stderr",
          "output_type": "stream",
          "text": [
            "INFO:tensorflow:Assets written to: /Users/danielhuang/tinyML/Fine-tuning/model_checkpoint/assets\n"
          ]
        },
        {
          "name": "stdout",
          "output_type": "stream",
          "text": [
            "351/351 [==============================] - 23s 64ms/step - loss: 0.0736 - accuracy: 0.9738 - val_loss: 0.5029 - val_accuracy: 0.8849\n",
            "Epoch 129/182\n",
            "351/351 [==============================] - ETA: 0s - loss: 0.0781 - accuracy: 0.9717INFO:tensorflow:Assets written to: /Users/danielhuang/tinyML/Fine-tuning/model_checkpoint/assets\n"
          ]
        },
        {
          "name": "stderr",
          "output_type": "stream",
          "text": [
            "INFO:tensorflow:Assets written to: /Users/danielhuang/tinyML/Fine-tuning/model_checkpoint/assets\n"
          ]
        },
        {
          "name": "stdout",
          "output_type": "stream",
          "text": [
            "351/351 [==============================] - 22s 61ms/step - loss: 0.0781 - accuracy: 0.9717 - val_loss: 0.4826 - val_accuracy: 0.8822\n",
            "Epoch 130/182\n",
            "351/351 [==============================] - ETA: 0s - loss: 0.0749 - accuracy: 0.9726INFO:tensorflow:Assets written to: /Users/danielhuang/tinyML/Fine-tuning/model_checkpoint/assets\n"
          ]
        },
        {
          "name": "stderr",
          "output_type": "stream",
          "text": [
            "INFO:tensorflow:Assets written to: /Users/danielhuang/tinyML/Fine-tuning/model_checkpoint/assets\n"
          ]
        },
        {
          "name": "stdout",
          "output_type": "stream",
          "text": [
            "351/351 [==============================] - 23s 67ms/step - loss: 0.0749 - accuracy: 0.9726 - val_loss: 0.4710 - val_accuracy: 0.8846\n",
            "Epoch 131/182\n",
            "350/351 [============================>.] - ETA: 0s - loss: 0.0751 - accuracy: 0.9728INFO:tensorflow:Assets written to: /Users/danielhuang/tinyML/Fine-tuning/model_checkpoint/assets\n"
          ]
        },
        {
          "name": "stderr",
          "output_type": "stream",
          "text": [
            "INFO:tensorflow:Assets written to: /Users/danielhuang/tinyML/Fine-tuning/model_checkpoint/assets\n"
          ]
        },
        {
          "name": "stdout",
          "output_type": "stream",
          "text": [
            "351/351 [==============================] - 23s 64ms/step - loss: 0.0751 - accuracy: 0.9728 - val_loss: 0.4898 - val_accuracy: 0.8857\n",
            "Epoch 132/182\n",
            "350/351 [============================>.] - ETA: 0s - loss: 0.0780 - accuracy: 0.9725INFO:tensorflow:Assets written to: /Users/danielhuang/tinyML/Fine-tuning/model_checkpoint/assets\n"
          ]
        },
        {
          "name": "stderr",
          "output_type": "stream",
          "text": [
            "INFO:tensorflow:Assets written to: /Users/danielhuang/tinyML/Fine-tuning/model_checkpoint/assets\n"
          ]
        },
        {
          "name": "stdout",
          "output_type": "stream",
          "text": [
            "351/351 [==============================] - 22s 62ms/step - loss: 0.0779 - accuracy: 0.9725 - val_loss: 0.4816 - val_accuracy: 0.8838\n",
            "Epoch 133/182\n",
            "351/351 [==============================] - ETA: 0s - loss: 0.0717 - accuracy: 0.9744INFO:tensorflow:Assets written to: /Users/danielhuang/tinyML/Fine-tuning/model_checkpoint/assets\n"
          ]
        },
        {
          "name": "stderr",
          "output_type": "stream",
          "text": [
            "INFO:tensorflow:Assets written to: /Users/danielhuang/tinyML/Fine-tuning/model_checkpoint/assets\n"
          ]
        },
        {
          "name": "stdout",
          "output_type": "stream",
          "text": [
            "351/351 [==============================] - 22s 62ms/step - loss: 0.0717 - accuracy: 0.9744 - val_loss: 0.5088 - val_accuracy: 0.8812\n",
            "Epoch 134/182\n",
            "351/351 [==============================] - ETA: 0s - loss: 0.0723 - accuracy: 0.9740INFO:tensorflow:Assets written to: /Users/danielhuang/tinyML/Fine-tuning/model_checkpoint/assets\n"
          ]
        },
        {
          "name": "stderr",
          "output_type": "stream",
          "text": [
            "INFO:tensorflow:Assets written to: /Users/danielhuang/tinyML/Fine-tuning/model_checkpoint/assets\n"
          ]
        },
        {
          "name": "stdout",
          "output_type": "stream",
          "text": [
            "351/351 [==============================] - 21s 61ms/step - loss: 0.0723 - accuracy: 0.9740 - val_loss: 0.4989 - val_accuracy: 0.8797\n",
            "Epoch 135/182\n",
            "350/351 [============================>.] - ETA: 0s - loss: 0.0718 - accuracy: 0.9743INFO:tensorflow:Assets written to: /Users/danielhuang/tinyML/Fine-tuning/model_checkpoint/assets\n"
          ]
        },
        {
          "name": "stderr",
          "output_type": "stream",
          "text": [
            "INFO:tensorflow:Assets written to: /Users/danielhuang/tinyML/Fine-tuning/model_checkpoint/assets\n"
          ]
        },
        {
          "name": "stdout",
          "output_type": "stream",
          "text": [
            "351/351 [==============================] - 22s 63ms/step - loss: 0.0719 - accuracy: 0.9743 - val_loss: 0.4968 - val_accuracy: 0.8877\n",
            "Epoch 136/182\n",
            "351/351 [==============================] - ETA: 0s - loss: 0.0723 - accuracy: 0.9747INFO:tensorflow:Assets written to: /Users/danielhuang/tinyML/Fine-tuning/model_checkpoint/assets\n"
          ]
        },
        {
          "name": "stderr",
          "output_type": "stream",
          "text": [
            "INFO:tensorflow:Assets written to: /Users/danielhuang/tinyML/Fine-tuning/model_checkpoint/assets\n"
          ]
        },
        {
          "name": "stdout",
          "output_type": "stream",
          "text": [
            "351/351 [==============================] - 23s 65ms/step - loss: 0.0723 - accuracy: 0.9747 - val_loss: 0.4869 - val_accuracy: 0.8832\n",
            "Epoch 137/182\n",
            "351/351 [==============================] - ETA: 0s - loss: 0.0729 - accuracy: 0.9741INFO:tensorflow:Assets written to: /Users/danielhuang/tinyML/Fine-tuning/model_checkpoint/assets\n"
          ]
        },
        {
          "name": "stderr",
          "output_type": "stream",
          "text": [
            "INFO:tensorflow:Assets written to: /Users/danielhuang/tinyML/Fine-tuning/model_checkpoint/assets\n"
          ]
        },
        {
          "name": "stdout",
          "output_type": "stream",
          "text": [
            "351/351 [==============================] - 25s 70ms/step - loss: 0.0729 - accuracy: 0.9741 - val_loss: 0.5254 - val_accuracy: 0.8734\n",
            "Epoch 138/182\n",
            "350/351 [============================>.] - ETA: 0s - loss: 0.0714 - accuracy: 0.9736INFO:tensorflow:Assets written to: /Users/danielhuang/tinyML/Fine-tuning/model_checkpoint/assets\n"
          ]
        },
        {
          "name": "stderr",
          "output_type": "stream",
          "text": [
            "INFO:tensorflow:Assets written to: /Users/danielhuang/tinyML/Fine-tuning/model_checkpoint/assets\n"
          ]
        },
        {
          "name": "stdout",
          "output_type": "stream",
          "text": [
            "351/351 [==============================] - 24s 69ms/step - loss: 0.0715 - accuracy: 0.9736 - val_loss: 0.4908 - val_accuracy: 0.8818\n",
            "Epoch 139/182\n",
            "351/351 [==============================] - ETA: 0s - loss: 0.0696 - accuracy: 0.9742INFO:tensorflow:Assets written to: /Users/danielhuang/tinyML/Fine-tuning/model_checkpoint/assets\n"
          ]
        },
        {
          "name": "stderr",
          "output_type": "stream",
          "text": [
            "INFO:tensorflow:Assets written to: /Users/danielhuang/tinyML/Fine-tuning/model_checkpoint/assets\n"
          ]
        },
        {
          "name": "stdout",
          "output_type": "stream",
          "text": [
            "351/351 [==============================] - 24s 66ms/step - loss: 0.0696 - accuracy: 0.9742 - val_loss: 0.4869 - val_accuracy: 0.8820\n",
            "Epoch 140/182\n",
            "351/351 [==============================] - ETA: 0s - loss: 0.0693 - accuracy: 0.9746INFO:tensorflow:Assets written to: /Users/danielhuang/tinyML/Fine-tuning/model_checkpoint/assets\n"
          ]
        },
        {
          "name": "stderr",
          "output_type": "stream",
          "text": [
            "INFO:tensorflow:Assets written to: /Users/danielhuang/tinyML/Fine-tuning/model_checkpoint/assets\n"
          ]
        },
        {
          "name": "stdout",
          "output_type": "stream",
          "text": [
            "351/351 [==============================] - 23s 64ms/step - loss: 0.0693 - accuracy: 0.9746 - val_loss: 0.5004 - val_accuracy: 0.8807\n",
            "Epoch 141/182\n",
            "351/351 [==============================] - ETA: 0s - loss: 0.0679 - accuracy: 0.9759INFO:tensorflow:Assets written to: /Users/danielhuang/tinyML/Fine-tuning/model_checkpoint/assets\n"
          ]
        },
        {
          "name": "stderr",
          "output_type": "stream",
          "text": [
            "INFO:tensorflow:Assets written to: /Users/danielhuang/tinyML/Fine-tuning/model_checkpoint/assets\n"
          ]
        },
        {
          "name": "stdout",
          "output_type": "stream",
          "text": [
            "351/351 [==============================] - 24s 67ms/step - loss: 0.0679 - accuracy: 0.9759 - val_loss: 0.4902 - val_accuracy: 0.8768\n",
            "Epoch 142/182\n",
            "351/351 [==============================] - ETA: 0s - loss: 0.0666 - accuracy: 0.9764INFO:tensorflow:Assets written to: /Users/danielhuang/tinyML/Fine-tuning/model_checkpoint/assets\n"
          ]
        },
        {
          "name": "stderr",
          "output_type": "stream",
          "text": [
            "INFO:tensorflow:Assets written to: /Users/danielhuang/tinyML/Fine-tuning/model_checkpoint/assets\n"
          ]
        },
        {
          "name": "stdout",
          "output_type": "stream",
          "text": [
            "351/351 [==============================] - 23s 66ms/step - loss: 0.0666 - accuracy: 0.9764 - val_loss: 0.5237 - val_accuracy: 0.8807\n",
            "Epoch 143/182\n",
            "351/351 [==============================] - ETA: 0s - loss: 0.0699 - accuracy: 0.9750INFO:tensorflow:Assets written to: /Users/danielhuang/tinyML/Fine-tuning/model_checkpoint/assets\n"
          ]
        },
        {
          "name": "stderr",
          "output_type": "stream",
          "text": [
            "INFO:tensorflow:Assets written to: /Users/danielhuang/tinyML/Fine-tuning/model_checkpoint/assets\n"
          ]
        },
        {
          "name": "stdout",
          "output_type": "stream",
          "text": [
            "351/351 [==============================] - 23s 66ms/step - loss: 0.0699 - accuracy: 0.9750 - val_loss: 0.4909 - val_accuracy: 0.8836\n",
            "Epoch 144/182\n",
            "351/351 [==============================] - ETA: 0s - loss: 0.0676 - accuracy: 0.9757INFO:tensorflow:Assets written to: /Users/danielhuang/tinyML/Fine-tuning/model_checkpoint/assets\n"
          ]
        },
        {
          "name": "stderr",
          "output_type": "stream",
          "text": [
            "INFO:tensorflow:Assets written to: /Users/danielhuang/tinyML/Fine-tuning/model_checkpoint/assets\n"
          ]
        },
        {
          "name": "stdout",
          "output_type": "stream",
          "text": [
            "351/351 [==============================] - 23s 65ms/step - loss: 0.0676 - accuracy: 0.9757 - val_loss: 0.5178 - val_accuracy: 0.8797\n",
            "Epoch 145/182\n",
            "351/351 [==============================] - ETA: 0s - loss: 0.0692 - accuracy: 0.9757INFO:tensorflow:Assets written to: /Users/danielhuang/tinyML/Fine-tuning/model_checkpoint/assets\n"
          ]
        },
        {
          "name": "stderr",
          "output_type": "stream",
          "text": [
            "INFO:tensorflow:Assets written to: /Users/danielhuang/tinyML/Fine-tuning/model_checkpoint/assets\n"
          ]
        },
        {
          "name": "stdout",
          "output_type": "stream",
          "text": [
            "351/351 [==============================] - 24s 67ms/step - loss: 0.0692 - accuracy: 0.9757 - val_loss: 0.5013 - val_accuracy: 0.8812\n",
            "Epoch 146/182\n",
            "351/351 [==============================] - ETA: 0s - loss: 0.0646 - accuracy: 0.9767INFO:tensorflow:Assets written to: /Users/danielhuang/tinyML/Fine-tuning/model_checkpoint/assets\n"
          ]
        },
        {
          "name": "stderr",
          "output_type": "stream",
          "text": [
            "INFO:tensorflow:Assets written to: /Users/danielhuang/tinyML/Fine-tuning/model_checkpoint/assets\n"
          ]
        },
        {
          "name": "stdout",
          "output_type": "stream",
          "text": [
            "351/351 [==============================] - 25s 70ms/step - loss: 0.0646 - accuracy: 0.9767 - val_loss: 0.5205 - val_accuracy: 0.8820\n",
            "Epoch 147/182\n",
            "351/351 [==============================] - ETA: 0s - loss: 0.0646 - accuracy: 0.9762INFO:tensorflow:Assets written to: /Users/danielhuang/tinyML/Fine-tuning/model_checkpoint/assets\n"
          ]
        },
        {
          "name": "stderr",
          "output_type": "stream",
          "text": [
            "INFO:tensorflow:Assets written to: /Users/danielhuang/tinyML/Fine-tuning/model_checkpoint/assets\n"
          ]
        },
        {
          "name": "stdout",
          "output_type": "stream",
          "text": [
            "351/351 [==============================] - 23s 64ms/step - loss: 0.0646 - accuracy: 0.9762 - val_loss: 0.4970 - val_accuracy: 0.8807\n",
            "Epoch 148/182\n",
            "351/351 [==============================] - ETA: 0s - loss: 0.0627 - accuracy: 0.9775INFO:tensorflow:Assets written to: /Users/danielhuang/tinyML/Fine-tuning/model_checkpoint/assets\n"
          ]
        },
        {
          "name": "stderr",
          "output_type": "stream",
          "text": [
            "INFO:tensorflow:Assets written to: /Users/danielhuang/tinyML/Fine-tuning/model_checkpoint/assets\n"
          ]
        },
        {
          "name": "stdout",
          "output_type": "stream",
          "text": [
            "351/351 [==============================] - 23s 64ms/step - loss: 0.0627 - accuracy: 0.9775 - val_loss: 0.4872 - val_accuracy: 0.8807\n",
            "Epoch 149/182\n",
            "350/351 [============================>.] - ETA: 0s - loss: 0.0662 - accuracy: 0.9762INFO:tensorflow:Assets written to: /Users/danielhuang/tinyML/Fine-tuning/model_checkpoint/assets\n"
          ]
        },
        {
          "name": "stderr",
          "output_type": "stream",
          "text": [
            "INFO:tensorflow:Assets written to: /Users/danielhuang/tinyML/Fine-tuning/model_checkpoint/assets\n"
          ]
        },
        {
          "name": "stdout",
          "output_type": "stream",
          "text": [
            "351/351 [==============================] - 22s 63ms/step - loss: 0.0662 - accuracy: 0.9762 - val_loss: 0.5017 - val_accuracy: 0.8807\n",
            "Epoch 150/182\n",
            "350/351 [============================>.] - ETA: 0s - loss: 0.0672 - accuracy: 0.9754INFO:tensorflow:Assets written to: /Users/danielhuang/tinyML/Fine-tuning/model_checkpoint/assets\n"
          ]
        },
        {
          "name": "stderr",
          "output_type": "stream",
          "text": [
            "INFO:tensorflow:Assets written to: /Users/danielhuang/tinyML/Fine-tuning/model_checkpoint/assets\n"
          ]
        },
        {
          "name": "stdout",
          "output_type": "stream",
          "text": [
            "351/351 [==============================] - 22s 63ms/step - loss: 0.0671 - accuracy: 0.9754 - val_loss: 0.5390 - val_accuracy: 0.8742\n",
            "Epoch 151/182\n",
            "351/351 [==============================] - ETA: 0s - loss: 0.0690 - accuracy: 0.9760INFO:tensorflow:Assets written to: /Users/danielhuang/tinyML/Fine-tuning/model_checkpoint/assets\n"
          ]
        },
        {
          "name": "stderr",
          "output_type": "stream",
          "text": [
            "INFO:tensorflow:Assets written to: /Users/danielhuang/tinyML/Fine-tuning/model_checkpoint/assets\n"
          ]
        },
        {
          "name": "stdout",
          "output_type": "stream",
          "text": [
            "351/351 [==============================] - 22s 63ms/step - loss: 0.0690 - accuracy: 0.9760 - val_loss: 0.4836 - val_accuracy: 0.8812\n",
            "Epoch 152/182\n",
            "351/351 [==============================] - ETA: 0s - loss: 0.0659 - accuracy: 0.9763INFO:tensorflow:Assets written to: /Users/danielhuang/tinyML/Fine-tuning/model_checkpoint/assets\n"
          ]
        },
        {
          "name": "stderr",
          "output_type": "stream",
          "text": [
            "INFO:tensorflow:Assets written to: /Users/danielhuang/tinyML/Fine-tuning/model_checkpoint/assets\n"
          ]
        },
        {
          "name": "stdout",
          "output_type": "stream",
          "text": [
            "351/351 [==============================] - 22s 63ms/step - loss: 0.0659 - accuracy: 0.9763 - val_loss: 0.4915 - val_accuracy: 0.8861\n",
            "Epoch 153/182\n",
            "350/351 [============================>.] - ETA: 0s - loss: 0.0666 - accuracy: 0.9760INFO:tensorflow:Assets written to: /Users/danielhuang/tinyML/Fine-tuning/model_checkpoint/assets\n"
          ]
        },
        {
          "name": "stderr",
          "output_type": "stream",
          "text": [
            "INFO:tensorflow:Assets written to: /Users/danielhuang/tinyML/Fine-tuning/model_checkpoint/assets\n"
          ]
        },
        {
          "name": "stdout",
          "output_type": "stream",
          "text": [
            "351/351 [==============================] - 22s 64ms/step - loss: 0.0666 - accuracy: 0.9760 - val_loss: 0.4937 - val_accuracy: 0.8805\n",
            "Epoch 154/182\n",
            "350/351 [============================>.] - ETA: 0s - loss: 0.0651 - accuracy: 0.9769INFO:tensorflow:Assets written to: /Users/danielhuang/tinyML/Fine-tuning/model_checkpoint/assets\n"
          ]
        },
        {
          "name": "stderr",
          "output_type": "stream",
          "text": [
            "INFO:tensorflow:Assets written to: /Users/danielhuang/tinyML/Fine-tuning/model_checkpoint/assets\n"
          ]
        },
        {
          "name": "stdout",
          "output_type": "stream",
          "text": [
            "351/351 [==============================] - 21s 61ms/step - loss: 0.0650 - accuracy: 0.9770 - val_loss: 0.5350 - val_accuracy: 0.8752\n",
            "Epoch 155/182\n",
            "351/351 [==============================] - ETA: 0s - loss: 0.0678 - accuracy: 0.9751INFO:tensorflow:Assets written to: /Users/danielhuang/tinyML/Fine-tuning/model_checkpoint/assets\n"
          ]
        },
        {
          "name": "stderr",
          "output_type": "stream",
          "text": [
            "INFO:tensorflow:Assets written to: /Users/danielhuang/tinyML/Fine-tuning/model_checkpoint/assets\n"
          ]
        },
        {
          "name": "stdout",
          "output_type": "stream",
          "text": [
            "351/351 [==============================] - 22s 63ms/step - loss: 0.0678 - accuracy: 0.9751 - val_loss: 0.5333 - val_accuracy: 0.8781\n",
            "Epoch 156/182\n",
            "350/351 [============================>.] - ETA: 0s - loss: 0.0647 - accuracy: 0.9766INFO:tensorflow:Assets written to: /Users/danielhuang/tinyML/Fine-tuning/model_checkpoint/assets\n"
          ]
        },
        {
          "name": "stderr",
          "output_type": "stream",
          "text": [
            "INFO:tensorflow:Assets written to: /Users/danielhuang/tinyML/Fine-tuning/model_checkpoint/assets\n"
          ]
        },
        {
          "name": "stdout",
          "output_type": "stream",
          "text": [
            "351/351 [==============================] - 22s 62ms/step - loss: 0.0647 - accuracy: 0.9766 - val_loss: 0.4790 - val_accuracy: 0.8871\n",
            "Epoch 157/182\n",
            "351/351 [==============================] - ETA: 0s - loss: 0.0641 - accuracy: 0.9769INFO:tensorflow:Assets written to: /Users/danielhuang/tinyML/Fine-tuning/model_checkpoint/assets\n"
          ]
        },
        {
          "name": "stderr",
          "output_type": "stream",
          "text": [
            "INFO:tensorflow:Assets written to: /Users/danielhuang/tinyML/Fine-tuning/model_checkpoint/assets\n"
          ]
        },
        {
          "name": "stdout",
          "output_type": "stream",
          "text": [
            "351/351 [==============================] - 22s 61ms/step - loss: 0.0641 - accuracy: 0.9769 - val_loss: 0.5098 - val_accuracy: 0.8838\n",
            "Epoch 158/182\n",
            "350/351 [============================>.] - ETA: 0s - loss: 0.0646 - accuracy: 0.9764INFO:tensorflow:Assets written to: /Users/danielhuang/tinyML/Fine-tuning/model_checkpoint/assets\n"
          ]
        },
        {
          "name": "stderr",
          "output_type": "stream",
          "text": [
            "INFO:tensorflow:Assets written to: /Users/danielhuang/tinyML/Fine-tuning/model_checkpoint/assets\n"
          ]
        },
        {
          "name": "stdout",
          "output_type": "stream",
          "text": [
            "351/351 [==============================] - 24s 67ms/step - loss: 0.0645 - accuracy: 0.9765 - val_loss: 0.4779 - val_accuracy: 0.8863\n",
            "Epoch 159/182\n",
            "351/351 [==============================] - ETA: 0s - loss: 0.0643 - accuracy: 0.9767INFO:tensorflow:Assets written to: /Users/danielhuang/tinyML/Fine-tuning/model_checkpoint/assets\n"
          ]
        },
        {
          "name": "stderr",
          "output_type": "stream",
          "text": [
            "INFO:tensorflow:Assets written to: /Users/danielhuang/tinyML/Fine-tuning/model_checkpoint/assets\n"
          ]
        },
        {
          "name": "stdout",
          "output_type": "stream",
          "text": [
            "351/351 [==============================] - 25s 70ms/step - loss: 0.0643 - accuracy: 0.9767 - val_loss: 0.5050 - val_accuracy: 0.8838\n",
            "Epoch 160/182\n",
            "351/351 [==============================] - ETA: 0s - loss: 0.0647 - accuracy: 0.9767INFO:tensorflow:Assets written to: /Users/danielhuang/tinyML/Fine-tuning/model_checkpoint/assets\n"
          ]
        },
        {
          "name": "stderr",
          "output_type": "stream",
          "text": [
            "INFO:tensorflow:Assets written to: /Users/danielhuang/tinyML/Fine-tuning/model_checkpoint/assets\n"
          ]
        },
        {
          "name": "stdout",
          "output_type": "stream",
          "text": [
            "351/351 [==============================] - 24s 70ms/step - loss: 0.0647 - accuracy: 0.9767 - val_loss: 0.5065 - val_accuracy: 0.8797\n",
            "Epoch 161/182\n",
            "350/351 [============================>.] - ETA: 0s - loss: 0.0645 - accuracy: 0.9774INFO:tensorflow:Assets written to: /Users/danielhuang/tinyML/Fine-tuning/model_checkpoint/assets\n"
          ]
        },
        {
          "name": "stderr",
          "output_type": "stream",
          "text": [
            "INFO:tensorflow:Assets written to: /Users/danielhuang/tinyML/Fine-tuning/model_checkpoint/assets\n"
          ]
        },
        {
          "name": "stdout",
          "output_type": "stream",
          "text": [
            "351/351 [==============================] - 22s 63ms/step - loss: 0.0644 - accuracy: 0.9774 - val_loss: 0.5049 - val_accuracy: 0.8794\n",
            "Epoch 162/182\n",
            "351/351 [==============================] - ETA: 0s - loss: 0.0659 - accuracy: 0.9759INFO:tensorflow:Assets written to: /Users/danielhuang/tinyML/Fine-tuning/model_checkpoint/assets\n"
          ]
        },
        {
          "name": "stderr",
          "output_type": "stream",
          "text": [
            "INFO:tensorflow:Assets written to: /Users/danielhuang/tinyML/Fine-tuning/model_checkpoint/assets\n"
          ]
        },
        {
          "name": "stdout",
          "output_type": "stream",
          "text": [
            "351/351 [==============================] - 23s 66ms/step - loss: 0.0659 - accuracy: 0.9759 - val_loss: 0.4898 - val_accuracy: 0.8793\n",
            "Epoch 163/182\n",
            "350/351 [============================>.] - ETA: 0s - loss: 0.0655 - accuracy: 0.9760INFO:tensorflow:Assets written to: /Users/danielhuang/tinyML/Fine-tuning/model_checkpoint/assets\n"
          ]
        },
        {
          "name": "stderr",
          "output_type": "stream",
          "text": [
            "INFO:tensorflow:Assets written to: /Users/danielhuang/tinyML/Fine-tuning/model_checkpoint/assets\n"
          ]
        },
        {
          "name": "stdout",
          "output_type": "stream",
          "text": [
            "351/351 [==============================] - 22s 63ms/step - loss: 0.0654 - accuracy: 0.9760 - val_loss: 0.5226 - val_accuracy: 0.8777\n",
            "Epoch 164/182\n",
            "351/351 [==============================] - ETA: 0s - loss: 0.0660 - accuracy: 0.9758INFO:tensorflow:Assets written to: /Users/danielhuang/tinyML/Fine-tuning/model_checkpoint/assets\n"
          ]
        },
        {
          "name": "stderr",
          "output_type": "stream",
          "text": [
            "INFO:tensorflow:Assets written to: /Users/danielhuang/tinyML/Fine-tuning/model_checkpoint/assets\n"
          ]
        },
        {
          "name": "stdout",
          "output_type": "stream",
          "text": [
            "351/351 [==============================] - 23s 65ms/step - loss: 0.0660 - accuracy: 0.9758 - val_loss: 0.4957 - val_accuracy: 0.8877\n",
            "Epoch 165/182\n",
            "350/351 [============================>.] - ETA: 0s - loss: 0.0624 - accuracy: 0.9770INFO:tensorflow:Assets written to: /Users/danielhuang/tinyML/Fine-tuning/model_checkpoint/assets\n"
          ]
        },
        {
          "name": "stderr",
          "output_type": "stream",
          "text": [
            "INFO:tensorflow:Assets written to: /Users/danielhuang/tinyML/Fine-tuning/model_checkpoint/assets\n"
          ]
        },
        {
          "name": "stdout",
          "output_type": "stream",
          "text": [
            "351/351 [==============================] - 23s 65ms/step - loss: 0.0625 - accuracy: 0.9769 - val_loss: 0.5118 - val_accuracy: 0.8803\n",
            "Epoch 166/182\n",
            "350/351 [============================>.] - ETA: 0s - loss: 0.0648 - accuracy: 0.9763INFO:tensorflow:Assets written to: /Users/danielhuang/tinyML/Fine-tuning/model_checkpoint/assets\n"
          ]
        },
        {
          "name": "stderr",
          "output_type": "stream",
          "text": [
            "INFO:tensorflow:Assets written to: /Users/danielhuang/tinyML/Fine-tuning/model_checkpoint/assets\n"
          ]
        },
        {
          "name": "stdout",
          "output_type": "stream",
          "text": [
            "351/351 [==============================] - 22s 63ms/step - loss: 0.0647 - accuracy: 0.9763 - val_loss: 0.5095 - val_accuracy: 0.8822\n",
            "Epoch 167/182\n",
            "351/351 [==============================] - ETA: 0s - loss: 0.0661 - accuracy: 0.9756INFO:tensorflow:Assets written to: /Users/danielhuang/tinyML/Fine-tuning/model_checkpoint/assets\n"
          ]
        },
        {
          "name": "stderr",
          "output_type": "stream",
          "text": [
            "INFO:tensorflow:Assets written to: /Users/danielhuang/tinyML/Fine-tuning/model_checkpoint/assets\n"
          ]
        },
        {
          "name": "stdout",
          "output_type": "stream",
          "text": [
            "351/351 [==============================] - 22s 62ms/step - loss: 0.0661 - accuracy: 0.9756 - val_loss: 0.5201 - val_accuracy: 0.8768\n",
            "Epoch 168/182\n",
            "351/351 [==============================] - ETA: 0s - loss: 0.0641 - accuracy: 0.9767INFO:tensorflow:Assets written to: /Users/danielhuang/tinyML/Fine-tuning/model_checkpoint/assets\n"
          ]
        },
        {
          "name": "stderr",
          "output_type": "stream",
          "text": [
            "INFO:tensorflow:Assets written to: /Users/danielhuang/tinyML/Fine-tuning/model_checkpoint/assets\n"
          ]
        },
        {
          "name": "stdout",
          "output_type": "stream",
          "text": [
            "351/351 [==============================] - 22s 64ms/step - loss: 0.0641 - accuracy: 0.9767 - val_loss: 0.4973 - val_accuracy: 0.8781\n",
            "Epoch 169/182\n",
            "351/351 [==============================] - ETA: 0s - loss: 0.0639 - accuracy: 0.9774INFO:tensorflow:Assets written to: /Users/danielhuang/tinyML/Fine-tuning/model_checkpoint/assets\n"
          ]
        },
        {
          "name": "stderr",
          "output_type": "stream",
          "text": [
            "INFO:tensorflow:Assets written to: /Users/danielhuang/tinyML/Fine-tuning/model_checkpoint/assets\n"
          ]
        },
        {
          "name": "stdout",
          "output_type": "stream",
          "text": [
            "351/351 [==============================] - 23s 64ms/step - loss: 0.0639 - accuracy: 0.9774 - val_loss: 0.5130 - val_accuracy: 0.8807\n",
            "Epoch 170/182\n",
            "351/351 [==============================] - ETA: 0s - loss: 0.0653 - accuracy: 0.9769INFO:tensorflow:Assets written to: /Users/danielhuang/tinyML/Fine-tuning/model_checkpoint/assets\n"
          ]
        },
        {
          "name": "stderr",
          "output_type": "stream",
          "text": [
            "INFO:tensorflow:Assets written to: /Users/danielhuang/tinyML/Fine-tuning/model_checkpoint/assets\n"
          ]
        },
        {
          "name": "stdout",
          "output_type": "stream",
          "text": [
            "351/351 [==============================] - 23s 65ms/step - loss: 0.0653 - accuracy: 0.9769 - val_loss: 0.5330 - val_accuracy: 0.8781\n",
            "Epoch 171/182\n",
            "350/351 [============================>.] - ETA: 0s - loss: 0.0642 - accuracy: 0.9768INFO:tensorflow:Assets written to: /Users/danielhuang/tinyML/Fine-tuning/model_checkpoint/assets\n"
          ]
        },
        {
          "name": "stderr",
          "output_type": "stream",
          "text": [
            "INFO:tensorflow:Assets written to: /Users/danielhuang/tinyML/Fine-tuning/model_checkpoint/assets\n"
          ]
        },
        {
          "name": "stdout",
          "output_type": "stream",
          "text": [
            "351/351 [==============================] - 22s 64ms/step - loss: 0.0642 - accuracy: 0.9768 - val_loss: 0.5224 - val_accuracy: 0.8849\n",
            "Epoch 172/182\n",
            "351/351 [==============================] - ETA: 0s - loss: 0.0653 - accuracy: 0.9767INFO:tensorflow:Assets written to: /Users/danielhuang/tinyML/Fine-tuning/model_checkpoint/assets\n"
          ]
        },
        {
          "name": "stderr",
          "output_type": "stream",
          "text": [
            "INFO:tensorflow:Assets written to: /Users/danielhuang/tinyML/Fine-tuning/model_checkpoint/assets\n"
          ]
        },
        {
          "name": "stdout",
          "output_type": "stream",
          "text": [
            "351/351 [==============================] - 22s 62ms/step - loss: 0.0653 - accuracy: 0.9767 - val_loss: 0.4854 - val_accuracy: 0.8818\n",
            "Epoch 173/182\n",
            "351/351 [==============================] - ETA: 0s - loss: 0.0629 - accuracy: 0.9777INFO:tensorflow:Assets written to: /Users/danielhuang/tinyML/Fine-tuning/model_checkpoint/assets\n"
          ]
        },
        {
          "name": "stderr",
          "output_type": "stream",
          "text": [
            "INFO:tensorflow:Assets written to: /Users/danielhuang/tinyML/Fine-tuning/model_checkpoint/assets\n"
          ]
        },
        {
          "name": "stdout",
          "output_type": "stream",
          "text": [
            "351/351 [==============================] - 23s 65ms/step - loss: 0.0629 - accuracy: 0.9777 - val_loss: 0.5079 - val_accuracy: 0.8816\n",
            "Epoch 174/182\n",
            "351/351 [==============================] - ETA: 0s - loss: 0.0658 - accuracy: 0.9763INFO:tensorflow:Assets written to: /Users/danielhuang/tinyML/Fine-tuning/model_checkpoint/assets\n"
          ]
        },
        {
          "name": "stderr",
          "output_type": "stream",
          "text": [
            "INFO:tensorflow:Assets written to: /Users/danielhuang/tinyML/Fine-tuning/model_checkpoint/assets\n"
          ]
        },
        {
          "name": "stdout",
          "output_type": "stream",
          "text": [
            "351/351 [==============================] - 23s 67ms/step - loss: 0.0658 - accuracy: 0.9763 - val_loss: 0.5478 - val_accuracy: 0.8762\n",
            "Epoch 175/182\n",
            "351/351 [==============================] - ETA: 0s - loss: 0.0677 - accuracy: 0.9757INFO:tensorflow:Assets written to: /Users/danielhuang/tinyML/Fine-tuning/model_checkpoint/assets\n"
          ]
        },
        {
          "name": "stderr",
          "output_type": "stream",
          "text": [
            "INFO:tensorflow:Assets written to: /Users/danielhuang/tinyML/Fine-tuning/model_checkpoint/assets\n"
          ]
        },
        {
          "name": "stdout",
          "output_type": "stream",
          "text": [
            "351/351 [==============================] - 21s 61ms/step - loss: 0.0677 - accuracy: 0.9757 - val_loss: 0.5088 - val_accuracy: 0.8789\n",
            "Epoch 176/182\n",
            "351/351 [==============================] - ETA: 0s - loss: 0.0646 - accuracy: 0.9772INFO:tensorflow:Assets written to: /Users/danielhuang/tinyML/Fine-tuning/model_checkpoint/assets\n"
          ]
        },
        {
          "name": "stderr",
          "output_type": "stream",
          "text": [
            "INFO:tensorflow:Assets written to: /Users/danielhuang/tinyML/Fine-tuning/model_checkpoint/assets\n"
          ]
        },
        {
          "name": "stdout",
          "output_type": "stream",
          "text": [
            "351/351 [==============================] - 25s 71ms/step - loss: 0.0646 - accuracy: 0.9772 - val_loss: 0.4773 - val_accuracy: 0.8838\n",
            "Epoch 177/182\n",
            "351/351 [==============================] - ETA: 0s - loss: 0.0640 - accuracy: 0.9773INFO:tensorflow:Assets written to: /Users/danielhuang/tinyML/Fine-tuning/model_checkpoint/assets\n"
          ]
        },
        {
          "name": "stderr",
          "output_type": "stream",
          "text": [
            "INFO:tensorflow:Assets written to: /Users/danielhuang/tinyML/Fine-tuning/model_checkpoint/assets\n"
          ]
        },
        {
          "name": "stdout",
          "output_type": "stream",
          "text": [
            "351/351 [==============================] - 23s 66ms/step - loss: 0.0640 - accuracy: 0.9773 - val_loss: 0.5194 - val_accuracy: 0.8781\n",
            "Epoch 178/182\n",
            "350/351 [============================>.] - ETA: 0s - loss: 0.0649 - accuracy: 0.9766INFO:tensorflow:Assets written to: /Users/danielhuang/tinyML/Fine-tuning/model_checkpoint/assets\n"
          ]
        },
        {
          "name": "stderr",
          "output_type": "stream",
          "text": [
            "INFO:tensorflow:Assets written to: /Users/danielhuang/tinyML/Fine-tuning/model_checkpoint/assets\n"
          ]
        },
        {
          "name": "stdout",
          "output_type": "stream",
          "text": [
            "351/351 [==============================] - 22s 61ms/step - loss: 0.0650 - accuracy: 0.9766 - val_loss: 0.5268 - val_accuracy: 0.8771\n",
            "Epoch 179/182\n",
            "351/351 [==============================] - ETA: 0s - loss: 0.0674 - accuracy: 0.9762INFO:tensorflow:Assets written to: /Users/danielhuang/tinyML/Fine-tuning/model_checkpoint/assets\n"
          ]
        },
        {
          "name": "stderr",
          "output_type": "stream",
          "text": [
            "INFO:tensorflow:Assets written to: /Users/danielhuang/tinyML/Fine-tuning/model_checkpoint/assets\n"
          ]
        },
        {
          "name": "stdout",
          "output_type": "stream",
          "text": [
            "351/351 [==============================] - 21s 61ms/step - loss: 0.0674 - accuracy: 0.9762 - val_loss: 0.5100 - val_accuracy: 0.8871\n",
            "Epoch 180/182\n",
            "351/351 [==============================] - ETA: 0s - loss: 0.0622 - accuracy: 0.9776INFO:tensorflow:Assets written to: /Users/danielhuang/tinyML/Fine-tuning/model_checkpoint/assets\n"
          ]
        },
        {
          "name": "stderr",
          "output_type": "stream",
          "text": [
            "INFO:tensorflow:Assets written to: /Users/danielhuang/tinyML/Fine-tuning/model_checkpoint/assets\n"
          ]
        },
        {
          "name": "stdout",
          "output_type": "stream",
          "text": [
            "351/351 [==============================] - 21s 61ms/step - loss: 0.0622 - accuracy: 0.9776 - val_loss: 0.4978 - val_accuracy: 0.8844\n",
            "Epoch 181/182\n",
            "351/351 [==============================] - ETA: 0s - loss: 0.0639 - accuracy: 0.9762INFO:tensorflow:Assets written to: /Users/danielhuang/tinyML/Fine-tuning/model_checkpoint/assets\n"
          ]
        },
        {
          "name": "stderr",
          "output_type": "stream",
          "text": [
            "INFO:tensorflow:Assets written to: /Users/danielhuang/tinyML/Fine-tuning/model_checkpoint/assets\n"
          ]
        },
        {
          "name": "stdout",
          "output_type": "stream",
          "text": [
            "351/351 [==============================] - 22s 63ms/step - loss: 0.0639 - accuracy: 0.9762 - val_loss: 0.5083 - val_accuracy: 0.8789\n",
            "Epoch 182/182\n",
            "350/351 [============================>.] - ETA: 0s - loss: 0.0635 - accuracy: 0.9773INFO:tensorflow:Assets written to: /Users/danielhuang/tinyML/Fine-tuning/model_checkpoint/assets\n"
          ]
        },
        {
          "name": "stderr",
          "output_type": "stream",
          "text": [
            "INFO:tensorflow:Assets written to: /Users/danielhuang/tinyML/Fine-tuning/model_checkpoint/assets\n"
          ]
        },
        {
          "name": "stdout",
          "output_type": "stream",
          "text": [
            "351/351 [==============================] - 21s 61ms/step - loss: 0.0635 - accuracy: 0.9773 - val_loss: 0.5092 - val_accuracy: 0.8734\n",
            "Test loss: 0.5847798585891724 / Test accuracy: 0.8770999908447266\n"
          ]
        }
      ],
      "source": [
        "if __name__ == \"__main__\": \n",
        "    training_process()"
      ]
    }
  ],
  "metadata": {
    "kernelspec": {
      "display_name": "venv-metal",
      "language": "python",
      "name": "python3"
    },
    "language_info": {
      "codemirror_mode": {
        "name": "ipython",
        "version": 3
      },
      "file_extension": ".py",
      "mimetype": "text/x-python",
      "name": "python",
      "nbconvert_exporter": "python",
      "pygments_lexer": "ipython3",
      "version": "3.10.9"
    }
  },
  "nbformat": 4,
  "nbformat_minor": 4
}
