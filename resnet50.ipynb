{
  "cells": [
    {
      "cell_type": "code",
      "execution_count": 1,
      "metadata": {
        "trusted": true
      },
      "outputs": [],
      "source": [
        "import os\n",
        "import numpy as np\n",
        "import scipy\n",
        "import tensorflow\n",
        "from tensorflow.keras import Model\n",
        "from tensorflow.keras.datasets import cifar10\n",
        "from tensorflow.keras.layers import Add, GlobalAveragePooling2D,\\\n",
        "\tDense, Flatten, Conv2D, Lambda,\tInput, BatchNormalization, Activation\n",
        "from tensorflow.keras.optimizers import schedules\n",
        "from tensorflow.keras.optimizers.legacy import SGD\n",
        "from tensorflow.keras.callbacks import TensorBoard, ModelCheckpoint"
      ]
    },
    {
      "cell_type": "markdown",
      "metadata": {},
      "source": [
        "# Set up Configuration "
      ]
    },
    {
      "cell_type": "code",
      "execution_count": 2,
      "metadata": {},
      "outputs": [],
      "source": [
        "# Model Configuration\n",
        "def model_configuration(): \n",
        "    \"\"\"\n",
        "    Get the model configuration\n",
        "    \"\"\"\n",
        "\n",
        "    # Load dataset for computing dataset size\n",
        "    (input_train, _), (_, _) = load_dataset()\n",
        "\n",
        "    # Generic config\n",
        "    width, height, channels = 32, 32, 3\n",
        "    batch_size = 128\n",
        "    num_classes = 10\n",
        "    validation_split = 0.1\n",
        "    verbose = 1\n",
        "    n = 3\n",
        "    init_fm_dim = 16\n",
        "    shortcut_type = \"identity\"\n",
        "    \n",
        "    # Dataset size\n",
        "    train_size = (1 - validation_split)  * len(input_train)\n",
        "    val_size = (validation_split) * len(input_train)\n",
        "\n",
        "    # Number of steps per epoch is dependent on batch size\n",
        "    maximum_number_iterations = 64000\n",
        "    steps_per_epoch = tensorflow.math.floor(train_size / batch_size)\n",
        "    val_steps_per_epoch = tensorflow.math.floor(val_size / batch_size)\n",
        "    epochs = tensorflow.cast(tensorflow.math.floor(maximum_number_iterations / steps_per_epoch), dtype=tensorflow.int64)\n",
        "\n",
        "    # Define loss function\n",
        "    loss = tensorflow.keras.losses.CategoricalCrossentropy(from_logits=True)\n",
        "\n",
        "    # Learning rate config\n",
        "    boundaries = [32000, 48000]\n",
        "    values = [0.1, 0.01, 0.001]\n",
        "    lr_schedule = schedules.PiecewiseConstantDecay(boundaries, values)\n",
        "\n",
        "    # Set layer init\n",
        "    initialiser = tensorflow.keras.initializers.HeNormal()\n",
        "\n",
        "    # Define optimiser\n",
        "    optimiser_momentum = 0.9\n",
        "    optimiser_additional_metrics = [\"accuracy\"]\n",
        "    optimiser = SGD(learning_rate=lr_schedule, momentum=optimiser_momentum)\n",
        "\n",
        "    # Load Tensorboard callback\n",
        "    tensorboard = TensorBoard(\n",
        "\t    log_dir=os.path.join(os.getcwd(), \"logs\"),\n",
        "\t    histogram_freq=1,\n",
        "\t    write_images=True\n",
        "\t)\n",
        "\n",
        "    # Save a model checkpoint after every epoch\n",
        "    checkpoint = ModelCheckpoint(\n",
        "        os.path.join(os.getcwd(), \"model_checkpoint\"),\n",
        "        save_freq=\"epoch\"\n",
        "    )\n",
        "\n",
        "    # Add callbacks to list\n",
        "    callbacks = [\n",
        "        tensorboard,\n",
        "        checkpoint\n",
        "    ]\n",
        "\n",
        "    #Create config dictionary\n",
        "    config = {\n",
        "        \"width\": width,\n",
        "        \"height\": height,\n",
        "        \"dim\": channels,\n",
        "        \"batch_size\": batch_size,\n",
        "        \"num_classes\": num_classes,\n",
        "        \"validation_split\": validation_split,\n",
        "        \"verbose\": verbose,\n",
        "        \"stack_n\": n,\n",
        "        \"initial_num_feature_maps\": init_fm_dim,\n",
        "        \"training_ds_size\": train_size,\n",
        "        \"steps_per_epoch\": steps_per_epoch,\n",
        "        \"val_steps_per_epoch\": val_steps_per_epoch,\n",
        "        \"num_epochs\": epochs,\n",
        "        \"loss\": loss,\n",
        "        \"optim\": optimiser,\n",
        "        \"optim_learning_rate_schedule\": lr_schedule,\n",
        "        \"optim_momentum\": optimiser_momentum,\n",
        "        \"optim_additional_metrics\": optimiser_additional_metrics,\n",
        "        \"initialiser\": initialiser,\n",
        "        \"callbacks\": callbacks,\n",
        "        \"shortcut_type\": shortcut_type,\n",
        "        \"name\": \"ResNet20\"\n",
        "    }\n",
        "    return config"
      ]
    },
    {
      "cell_type": "markdown",
      "metadata": {},
      "source": [
        "# Loading Dataset"
      ]
    },
    {
      "cell_type": "code",
      "execution_count": 3,
      "metadata": {},
      "outputs": [],
      "source": [
        "def load_dataset():\n",
        "\t\"\"\"\n",
        "\t\tLoad the CIFAR-10 dataset\n",
        "\t\"\"\"\n",
        "\treturn cifar10.load_data()"
      ]
    },
    {
      "cell_type": "markdown",
      "metadata": {},
      "source": [
        "# Preprocessing\n",
        "## Cropping image"
      ]
    },
    {
      "cell_type": "code",
      "execution_count": 4,
      "metadata": {},
      "outputs": [],
      "source": [
        "def random_crop(img, random_crop_size): \n",
        "    # Note: image_data_format is 'channel_last'\n",
        "    # SOURCE: https://jkjung-avt.github.io/keras-image-cropping/\n",
        "\n",
        "    assert img.shape[2] == 3\n",
        "    height, width = img.shape[0], img.shape[1]\n",
        "    dy, dx = random_crop_size\n",
        "    x = np.random.randint(0, width - dx + 1)\n",
        "    y = np.random.randint(0, height - dy + 1)\n",
        "    return img[y:(y+dy), x:(x+dx), :]\n",
        "\n",
        "def crop_generator(batches, crop_length):\n",
        "    \"\"\"\n",
        "    Take as input a Keras ImageGen (Iterator) and generate random crops from the image batches generated by the original iterator\n",
        "    SOURCE: https://jkjung-avt.github.io/keras-image-cropping/\n",
        "    \"\"\"\n",
        "\n",
        "    while True: \n",
        "        batch_x, batch_y = next(batches)\n",
        "        batch_crops = np.zeros((batch_x.shape[0], crop_length, crop_length, 3))\n",
        "        for i in range(batch_x.shape[0]):\n",
        "            batch_crops[i] = random_crop(batch_x[i], (crop_length, crop_length))\n",
        "        yield (batch_crops, batch_y)"
      ]
    },
    {
      "cell_type": "code",
      "execution_count": 5,
      "metadata": {},
      "outputs": [],
      "source": [
        "def preprocessed_dataset(): \n",
        "    \"\"\"\n",
        "    Load and preprocess the CIFAR-10 dataset\n",
        "    \"\"\"\n",
        "    (input_train, target_train), (input_test, target_test) = load_dataset()\n",
        "\n",
        "    # Retrieve shape from model configuration and unpack into components\n",
        "    config = model_configuration()\n",
        "    width, height, dim = config.get(\"width\"), config.get(\"height\"), config.get(\"dim\")\n",
        "    num_classes = config.get(\"num_classes\")\n",
        "\n",
        "    # Data augmentation: perform zero padding on datasets\n",
        "    paddings = tensorflow.constant([[0,0,], [4,4], [4,4], [0,0]])\n",
        "    input_train = tensorflow.pad(input_train, paddings, mode=\"CONSTANT\")\n",
        "\n",
        "    # Convert scalar targets to categorical ones\n",
        "    target_train = tensorflow.keras.utils.to_categorical(target_train, num_classes)\n",
        "    target_test = tensorflow.keras.utils.to_categorical(target_test, num_classes)\n",
        "\n",
        "    # Data generator for training data\n",
        "    train_generator = tensorflow.keras.preprocessing.image.ImageDataGenerator(\n",
        "        validation_split=config.get(\"validation_split\"),\n",
        "        horizontal_flip=True,\n",
        "        rescale=1./255,\n",
        "        preprocessing_function = tensorflow.keras.applications.resnet50.preprocess_input\n",
        "    )\n",
        "\n",
        "    # Generate training and validation batches\n",
        "    train_batches = train_generator.flow(input_train, target_train, batch_size=config.get(\"batch_size\"), subset=\"training\")\n",
        "    validation_batches = train_generator.flow(input_train, target_train, batch_size=config.get(\"batch_size\"), subset=\"validation\")\n",
        "    train_batches = crop_generator(train_batches, config.get(\"height\"))\n",
        "    validation_batches = crop_generator(validation_batches, config.get(\"height\"))\n",
        "\n",
        "    # Data generator for testing data\n",
        "    test_generator = tensorflow.keras.preprocessing.image.ImageDataGenerator(\n",
        "        rescale=1./255,\n",
        "        preprocessing_function = tensorflow.keras.applications.resnet50.preprocess_input\n",
        "    )\n",
        "\n",
        "    # Generate testing batches\n",
        "    test_batches = test_generator.flow(input_test, target_test, batch_size=config.get(\"batch_size\"))\n",
        "\n",
        "    return train_batches, validation_batches, test_batches"
      ]
    },
    {
      "cell_type": "markdown",
      "metadata": {},
      "source": [
        "# Creating the Residual Block"
      ]
    },
    {
      "cell_type": "code",
      "execution_count": 6,
      "metadata": {},
      "outputs": [],
      "source": [
        "def residual_block(x, number_of_filters, match_filter_size=False):\n",
        "    \"\"\"\n",
        "    Residual block for ResNet\n",
        "    \"\"\"\n",
        "    # Retrieve initialiser\n",
        "    config = model_configuration()\n",
        "    initialiser = config.get(\"initialiser\")\n",
        "\n",
        "    # Create skip connection\n",
        "    x_skip = x\n",
        "\n",
        "    # Perform the original mapping\n",
        "    if match_filter_size: \n",
        "        x = Conv2D(number_of_filters, kernel_size=(3, 3), strides=(2, 2), kernel_initializer=initialiser,padding=\"same\")(x_skip)\n",
        "    else: \n",
        "        x = Conv2D(number_of_filters, kernel_size=(3, 3), strides=(1, 1), kernel_initializer=initialiser, padding=\"same\")(x_skip)\n",
        "\n",
        "    x = BatchNormalization(axis=3)(x)\n",
        "    x = Activation(\"relu\")(x)\n",
        "    x = Conv2D(number_of_filters, kernel_size=(3, 3), kernel_initializer=initialiser, padding=\"same\")(x)\n",
        "    x = BatchNormalization(axis=3)(x)\n",
        "\n",
        "    # Perform matching of filter numbers if necessary\n",
        "    if match_filter_size and config.get(\"shortcut_type\") == \"identity\": \n",
        "        x_skip = Lambda(lambda x: tensorflow.pad(x[:, ::2, ::2, :], tensorflow.constant([[0, 0,], [0, 0], [0, 0], [number_of_filters//4, number_of_filters//4]]), mode=\"CONSTANT\"))(x_skip)\n",
        "        x_skip = BatchNormalization(axis=3)(x_skip)\n",
        "    elif match_filter_size and config.get(\"shortcut_type\") == \"projection\":\n",
        "        x_skip = Conv2D(number_of_filters, kernel_size=(1,1), kernel_initializer=initializer, strides=(2,2))(x_skip)\n",
        "    \n",
        "    # Add the skip connection to the regular mapping\n",
        "    x = Add()([x, x_skip])\n",
        "\n",
        "    # Nonlinearly activate the result\n",
        "    x = Activation(\"relu\")(x)\n",
        "\n",
        "    # Return the result\n",
        "    return x"
      ]
    },
    {
      "cell_type": "code",
      "execution_count": 7,
      "metadata": {},
      "outputs": [],
      "source": [
        "def ResidualBlocks(x):\n",
        "    \"\"\" \n",
        "    Set up the residual blocks\n",
        "    \"\"\"\n",
        "\n",
        "    # Retrieve values\n",
        "    config = model_configuration()\n",
        "\n",
        "    # Set initial filter size\n",
        "    filter_size = config.get(\"initial_num_feature_maps\")\n",
        "\n",
        "    # 6n/2n = 3, there are 3 groups of residual blocks\n",
        "    for layer_group in range(3): \n",
        "\n",
        "        # Each block in our code has 2 weighted layers, and each group has 2n such blocks, so we have n blocks per group\n",
        "        for block in range(config.get(\"stack_n\")):\n",
        "\n",
        "            # Perform filter size increase at every first layer in the 2nd block onwards. \n",
        "            if layer_group > 0 and block == 0: \n",
        "                filter_size *= 2\n",
        "                x = residual_block(x, filter_size, match_filter_size=True)\n",
        "            else:\n",
        "                x = residual_block(x, filter_size)\n",
        "\n",
        "    return x"
      ]
    },
    {
      "cell_type": "code",
      "execution_count": 8,
      "metadata": {},
      "outputs": [],
      "source": [
        "def model_base(shp): \n",
        "    \"\"\"\n",
        "    Base Structure of the model, with residual blocks attached\n",
        "    \"\"\"\n",
        "\n",
        "    # Get number of classes from model configuration\n",
        "    config = model_configuration()\n",
        "    initialiser = config.get(\"initialiser\")\n",
        "\n",
        "    # Define model structure\n",
        "    # logits are returned becase Softmax is pushed to loss function\n",
        "    inputs = Input(shape=shp)\n",
        "    x = Conv2D(config.get(\"initial_num_feature_maps\"), kernel_size=(3, 3), strides=(1,1), kernel_initializer=initialiser, padding=\"same\")(inputs)\n",
        "    x = BatchNormalization()(x)\n",
        "    x = Activation(\"relu\")(x)\n",
        "    x = ResidualBlocks(x)\n",
        "    x = GlobalAveragePooling2D()(x)\n",
        "    x = Flatten()(x)\n",
        "    outputs = Dense(config.get(\"num_classes\"), kernel_initializer=initialiser)(x)\n",
        "\n",
        "    return inputs, outputs"
      ]
    },
    {
      "cell_type": "markdown",
      "metadata": {},
      "source": [
        "# Model Initialisation"
      ]
    },
    {
      "cell_type": "code",
      "execution_count": 9,
      "metadata": {},
      "outputs": [],
      "source": [
        "def init_model(): \n",
        "    \"\"\"\n",
        "    Initilise a compiled ResNet model\n",
        "    \"\"\"\n",
        "\n",
        "    # Get shape from model configuration\n",
        "    config = model_configuration()\n",
        "\n",
        "    # Get model base\n",
        "    inputs, outputs = model_base((config.get(\"width\"), config.get(\"height\"), config.get(\"dim\")))\n",
        "\n",
        "    # Initialise and compile model\n",
        "    model = Model(inputs, outputs, name=config.get(\"name\"))\n",
        "    model.compile(loss=config.get(\"loss\"), optimizer=config.get(\"optim\"), metrics=config.get(\"optim_additional_metrics\"))\n",
        "\n",
        "    # Print model summary\n",
        "    model.summary()\n",
        "\n",
        "    return model"
      ]
    },
    {
      "cell_type": "markdown",
      "metadata": {},
      "source": [
        "# Training"
      ]
    },
    {
      "cell_type": "code",
      "execution_count": 10,
      "metadata": {
        "trusted": true
      },
      "outputs": [],
      "source": [
        "def train_model(model, train_batches, validation_batches): \n",
        "    \"\"\"\n",
        "    Train an initialised model\n",
        "    \"\"\"\n",
        "\n",
        "    # Get model configuration\n",
        "    config = model_configuration()\n",
        "\n",
        "    # Fit data to model\n",
        "    model.fit(\n",
        "        train_batches,\n",
        "        batch_size=config.get(\"batch_size\"),\n",
        "        epochs=config.get(\"num_epochs\"),\n",
        "        verbose=config.get(\"verbose\"),\n",
        "        callbacks=config.get(\"callbacks\"),\n",
        "        steps_per_epoch=config.get(\"steps_per_epoch\"),\n",
        "        validation_data=validation_batches,\n",
        "        validation_steps=config.get(\"val_steps_per_epoch\")\n",
        "    )\n",
        "    return model\n"
      ]
    },
    {
      "cell_type": "markdown",
      "metadata": {},
      "source": [
        "# Evaluation"
      ]
    },
    {
      "cell_type": "code",
      "execution_count": 11,
      "metadata": {},
      "outputs": [],
      "source": [
        "def evaluate_model(model, test_batches): \n",
        "    \"\"\"\n",
        "    Evaluate a trained model\n",
        "    \"\"\"\n",
        "\n",
        "    # Evaluate the model\n",
        "    score = model.evaluate(test_batches, verbose=0)\n",
        "    print(f'Test loss: {score[0]} / Test accuracy: {score[1]}')"
      ]
    },
    {
      "cell_type": "markdown",
      "metadata": {},
      "source": [
        "# Overall Process"
      ]
    },
    {
      "cell_type": "code",
      "execution_count": 12,
      "metadata": {},
      "outputs": [],
      "source": [
        "def training_process(): \n",
        "    \"\"\"\n",
        "    Run the training process for the ResNet model\n",
        "    \"\"\"\n",
        "\n",
        "    # Get dataset\n",
        "    train_batches, validation_batches, test_batches = preprocessed_dataset()\n",
        "\n",
        "    # Initialise ResNet\n",
        "    resnet = init_model()\n",
        "\n",
        "    # Train ResNet model\n",
        "    trained_resnet = train_model(resnet, train_batches, validation_batches)\n",
        "\n",
        "    # Evaluate ResNet model\n",
        "    evaluate_model(trained_resnet, test_batches)"
      ]
    },
    {
      "cell_type": "code",
      "execution_count": 13,
      "metadata": {},
      "outputs": [
        {
          "name": "stderr",
          "output_type": "stream",
          "text": [
            "2024-03-31 15:00:24.603830: I metal_plugin/src/device/metal_device.cc:1154] Metal device set to: Apple M1 Pro\n",
            "2024-03-31 15:00:24.603859: I metal_plugin/src/device/metal_device.cc:296] systemMemory: 16.00 GB\n",
            "2024-03-31 15:00:24.603868: I metal_plugin/src/device/metal_device.cc:313] maxCacheSize: 5.33 GB\n",
            "2024-03-31 15:00:24.604083: I tensorflow/core/common_runtime/pluggable_device/pluggable_device_factory.cc:306] Could not identify NUMA node of platform GPU ID 0, defaulting to 0. Your kernel may not have been built with NUMA support.\n",
            "2024-03-31 15:00:24.604407: I tensorflow/core/common_runtime/pluggable_device/pluggable_device_factory.cc:272] Created TensorFlow device (/job:localhost/replica:0/task:0/device:GPU:0 with 0 MB memory) -> physical PluggableDevice (device: 0, name: METAL, pci bus id: <undefined>)\n",
            "/Users/danielhuang/venv-metal/lib/python3.10/site-packages/keras/src/initializers/initializers.py:120: UserWarning: The initializer HeNormal is unseeded and being called multiple times, which will return identical values each time (even if the initializer is unseeded). Please update your code to provide a seed to the initializer, or avoid using the same initializer instance more than once.\n",
            "  warnings.warn(\n"
          ]
        },
        {
          "name": "stdout",
          "output_type": "stream",
          "text": [
            "Model: \"ResNet20\"\n",
            "__________________________________________________________________________________________________\n",
            " Layer (type)                Output Shape                 Param #   Connected to                  \n",
            "==================================================================================================\n",
            " input_1 (InputLayer)        [(None, 32, 32, 3)]          0         []                            \n",
            "                                                                                                  \n",
            " conv2d (Conv2D)             (None, 32, 32, 16)           448       ['input_1[0][0]']             \n",
            "                                                                                                  \n",
            " batch_normalization (Batch  (None, 32, 32, 16)           64        ['conv2d[0][0]']              \n",
            " Normalization)                                                                                   \n",
            "                                                                                                  \n",
            " activation (Activation)     (None, 32, 32, 16)           0         ['batch_normalization[0][0]'] \n",
            "                                                                                                  \n",
            " conv2d_1 (Conv2D)           (None, 32, 32, 16)           2320      ['activation[0][0]']          \n",
            "                                                                                                  \n",
            " batch_normalization_1 (Bat  (None, 32, 32, 16)           64        ['conv2d_1[0][0]']            \n",
            " chNormalization)                                                                                 \n",
            "                                                                                                  \n",
            " activation_1 (Activation)   (None, 32, 32, 16)           0         ['batch_normalization_1[0][0]'\n",
            "                                                                    ]                             \n",
            "                                                                                                  \n",
            " conv2d_2 (Conv2D)           (None, 32, 32, 16)           2320      ['activation_1[0][0]']        \n",
            "                                                                                                  \n",
            " batch_normalization_2 (Bat  (None, 32, 32, 16)           64        ['conv2d_2[0][0]']            \n",
            " chNormalization)                                                                                 \n",
            "                                                                                                  \n",
            " add (Add)                   (None, 32, 32, 16)           0         ['batch_normalization_2[0][0]'\n",
            "                                                                    , 'activation[0][0]']         \n",
            "                                                                                                  \n",
            " activation_2 (Activation)   (None, 32, 32, 16)           0         ['add[0][0]']                 \n",
            "                                                                                                  \n",
            " conv2d_3 (Conv2D)           (None, 32, 32, 16)           2320      ['activation_2[0][0]']        \n",
            "                                                                                                  \n",
            " batch_normalization_3 (Bat  (None, 32, 32, 16)           64        ['conv2d_3[0][0]']            \n",
            " chNormalization)                                                                                 \n",
            "                                                                                                  \n",
            " activation_3 (Activation)   (None, 32, 32, 16)           0         ['batch_normalization_3[0][0]'\n",
            "                                                                    ]                             \n",
            "                                                                                                  \n",
            " conv2d_4 (Conv2D)           (None, 32, 32, 16)           2320      ['activation_3[0][0]']        \n",
            "                                                                                                  \n",
            " batch_normalization_4 (Bat  (None, 32, 32, 16)           64        ['conv2d_4[0][0]']            \n",
            " chNormalization)                                                                                 \n",
            "                                                                                                  \n",
            " add_1 (Add)                 (None, 32, 32, 16)           0         ['batch_normalization_4[0][0]'\n",
            "                                                                    , 'activation_2[0][0]']       \n",
            "                                                                                                  \n",
            " activation_4 (Activation)   (None, 32, 32, 16)           0         ['add_1[0][0]']               \n",
            "                                                                                                  \n",
            " conv2d_5 (Conv2D)           (None, 32, 32, 16)           2320      ['activation_4[0][0]']        \n",
            "                                                                                                  \n",
            " batch_normalization_5 (Bat  (None, 32, 32, 16)           64        ['conv2d_5[0][0]']            \n",
            " chNormalization)                                                                                 \n",
            "                                                                                                  \n",
            " activation_5 (Activation)   (None, 32, 32, 16)           0         ['batch_normalization_5[0][0]'\n",
            "                                                                    ]                             \n",
            "                                                                                                  \n",
            " conv2d_6 (Conv2D)           (None, 32, 32, 16)           2320      ['activation_5[0][0]']        \n",
            "                                                                                                  \n",
            " batch_normalization_6 (Bat  (None, 32, 32, 16)           64        ['conv2d_6[0][0]']            \n",
            " chNormalization)                                                                                 \n",
            "                                                                                                  \n",
            " add_2 (Add)                 (None, 32, 32, 16)           0         ['batch_normalization_6[0][0]'\n",
            "                                                                    , 'activation_4[0][0]']       \n",
            "                                                                                                  \n",
            " activation_6 (Activation)   (None, 32, 32, 16)           0         ['add_2[0][0]']               \n",
            "                                                                                                  \n",
            " conv2d_7 (Conv2D)           (None, 16, 16, 32)           4640      ['activation_6[0][0]']        \n",
            "                                                                                                  \n",
            " batch_normalization_7 (Bat  (None, 16, 16, 32)           128       ['conv2d_7[0][0]']            \n",
            " chNormalization)                                                                                 \n",
            "                                                                                                  \n",
            " activation_7 (Activation)   (None, 16, 16, 32)           0         ['batch_normalization_7[0][0]'\n",
            "                                                                    ]                             \n",
            "                                                                                                  \n",
            " conv2d_8 (Conv2D)           (None, 16, 16, 32)           9248      ['activation_7[0][0]']        \n",
            "                                                                                                  \n",
            " lambda (Lambda)             (None, 16, 16, 32)           0         ['activation_6[0][0]']        \n",
            "                                                                                                  \n",
            " batch_normalization_8 (Bat  (None, 16, 16, 32)           128       ['conv2d_8[0][0]']            \n",
            " chNormalization)                                                                                 \n",
            "                                                                                                  \n",
            " batch_normalization_9 (Bat  (None, 16, 16, 32)           128       ['lambda[0][0]']              \n",
            " chNormalization)                                                                                 \n",
            "                                                                                                  \n",
            " add_3 (Add)                 (None, 16, 16, 32)           0         ['batch_normalization_8[0][0]'\n",
            "                                                                    , 'batch_normalization_9[0][0]\n",
            "                                                                    ']                            \n",
            "                                                                                                  \n",
            " activation_8 (Activation)   (None, 16, 16, 32)           0         ['add_3[0][0]']               \n",
            "                                                                                                  \n",
            " conv2d_9 (Conv2D)           (None, 16, 16, 32)           9248      ['activation_8[0][0]']        \n",
            "                                                                                                  \n",
            " batch_normalization_10 (Ba  (None, 16, 16, 32)           128       ['conv2d_9[0][0]']            \n",
            " tchNormalization)                                                                                \n",
            "                                                                                                  \n",
            " activation_9 (Activation)   (None, 16, 16, 32)           0         ['batch_normalization_10[0][0]\n",
            "                                                                    ']                            \n",
            "                                                                                                  \n",
            " conv2d_10 (Conv2D)          (None, 16, 16, 32)           9248      ['activation_9[0][0]']        \n",
            "                                                                                                  \n",
            " batch_normalization_11 (Ba  (None, 16, 16, 32)           128       ['conv2d_10[0][0]']           \n",
            " tchNormalization)                                                                                \n",
            "                                                                                                  \n",
            " add_4 (Add)                 (None, 16, 16, 32)           0         ['batch_normalization_11[0][0]\n",
            "                                                                    ',                            \n",
            "                                                                     'activation_8[0][0]']        \n",
            "                                                                                                  \n",
            " activation_10 (Activation)  (None, 16, 16, 32)           0         ['add_4[0][0]']               \n",
            "                                                                                                  \n",
            " conv2d_11 (Conv2D)          (None, 16, 16, 32)           9248      ['activation_10[0][0]']       \n",
            "                                                                                                  \n",
            " batch_normalization_12 (Ba  (None, 16, 16, 32)           128       ['conv2d_11[0][0]']           \n",
            " tchNormalization)                                                                                \n",
            "                                                                                                  \n",
            " activation_11 (Activation)  (None, 16, 16, 32)           0         ['batch_normalization_12[0][0]\n",
            "                                                                    ']                            \n",
            "                                                                                                  \n",
            " conv2d_12 (Conv2D)          (None, 16, 16, 32)           9248      ['activation_11[0][0]']       \n",
            "                                                                                                  \n",
            " batch_normalization_13 (Ba  (None, 16, 16, 32)           128       ['conv2d_12[0][0]']           \n",
            " tchNormalization)                                                                                \n",
            "                                                                                                  \n",
            " add_5 (Add)                 (None, 16, 16, 32)           0         ['batch_normalization_13[0][0]\n",
            "                                                                    ',                            \n",
            "                                                                     'activation_10[0][0]']       \n",
            "                                                                                                  \n",
            " activation_12 (Activation)  (None, 16, 16, 32)           0         ['add_5[0][0]']               \n",
            "                                                                                                  \n",
            " conv2d_13 (Conv2D)          (None, 8, 8, 64)             18496     ['activation_12[0][0]']       \n",
            "                                                                                                  \n",
            " batch_normalization_14 (Ba  (None, 8, 8, 64)             256       ['conv2d_13[0][0]']           \n",
            " tchNormalization)                                                                                \n",
            "                                                                                                  \n",
            " activation_13 (Activation)  (None, 8, 8, 64)             0         ['batch_normalization_14[0][0]\n",
            "                                                                    ']                            \n",
            "                                                                                                  \n",
            " conv2d_14 (Conv2D)          (None, 8, 8, 64)             36928     ['activation_13[0][0]']       \n",
            "                                                                                                  \n",
            " lambda_1 (Lambda)           (None, 8, 8, 64)             0         ['activation_12[0][0]']       \n",
            "                                                                                                  \n",
            " batch_normalization_15 (Ba  (None, 8, 8, 64)             256       ['conv2d_14[0][0]']           \n",
            " tchNormalization)                                                                                \n",
            "                                                                                                  \n",
            " batch_normalization_16 (Ba  (None, 8, 8, 64)             256       ['lambda_1[0][0]']            \n",
            " tchNormalization)                                                                                \n",
            "                                                                                                  \n",
            " add_6 (Add)                 (None, 8, 8, 64)             0         ['batch_normalization_15[0][0]\n",
            "                                                                    ',                            \n",
            "                                                                     'batch_normalization_16[0][0]\n",
            "                                                                    ']                            \n",
            "                                                                                                  \n",
            " activation_14 (Activation)  (None, 8, 8, 64)             0         ['add_6[0][0]']               \n",
            "                                                                                                  \n",
            " conv2d_15 (Conv2D)          (None, 8, 8, 64)             36928     ['activation_14[0][0]']       \n",
            "                                                                                                  \n",
            " batch_normalization_17 (Ba  (None, 8, 8, 64)             256       ['conv2d_15[0][0]']           \n",
            " tchNormalization)                                                                                \n",
            "                                                                                                  \n",
            " activation_15 (Activation)  (None, 8, 8, 64)             0         ['batch_normalization_17[0][0]\n",
            "                                                                    ']                            \n",
            "                                                                                                  \n",
            " conv2d_16 (Conv2D)          (None, 8, 8, 64)             36928     ['activation_15[0][0]']       \n",
            "                                                                                                  \n",
            " batch_normalization_18 (Ba  (None, 8, 8, 64)             256       ['conv2d_16[0][0]']           \n",
            " tchNormalization)                                                                                \n",
            "                                                                                                  \n",
            " add_7 (Add)                 (None, 8, 8, 64)             0         ['batch_normalization_18[0][0]\n",
            "                                                                    ',                            \n",
            "                                                                     'activation_14[0][0]']       \n",
            "                                                                                                  \n",
            " activation_16 (Activation)  (None, 8, 8, 64)             0         ['add_7[0][0]']               \n",
            "                                                                                                  \n",
            " conv2d_17 (Conv2D)          (None, 8, 8, 64)             36928     ['activation_16[0][0]']       \n",
            "                                                                                                  \n",
            " batch_normalization_19 (Ba  (None, 8, 8, 64)             256       ['conv2d_17[0][0]']           \n",
            " tchNormalization)                                                                                \n",
            "                                                                                                  \n",
            " activation_17 (Activation)  (None, 8, 8, 64)             0         ['batch_normalization_19[0][0]\n",
            "                                                                    ']                            \n",
            "                                                                                                  \n",
            " conv2d_18 (Conv2D)          (None, 8, 8, 64)             36928     ['activation_17[0][0]']       \n",
            "                                                                                                  \n",
            " batch_normalization_20 (Ba  (None, 8, 8, 64)             256       ['conv2d_18[0][0]']           \n",
            " tchNormalization)                                                                                \n",
            "                                                                                                  \n",
            " add_8 (Add)                 (None, 8, 8, 64)             0         ['batch_normalization_20[0][0]\n",
            "                                                                    ',                            \n",
            "                                                                     'activation_16[0][0]']       \n",
            "                                                                                                  \n",
            " activation_18 (Activation)  (None, 8, 8, 64)             0         ['add_8[0][0]']               \n",
            "                                                                                                  \n",
            " global_average_pooling2d (  (None, 64)                   0         ['activation_18[0][0]']       \n",
            " GlobalAveragePooling2D)                                                                          \n",
            "                                                                                                  \n",
            " flatten (Flatten)           (None, 64)                   0         ['global_average_pooling2d[0][\n",
            "                                                                    0]']                          \n",
            "                                                                                                  \n",
            " dense (Dense)               (None, 10)                   650       ['flatten[0][0]']             \n",
            "                                                                                                  \n",
            "==================================================================================================\n",
            "Total params: 272170 (1.04 MB)\n",
            "Trainable params: 270602 (1.03 MB)\n",
            "Non-trainable params: 1568 (6.12 KB)\n",
            "__________________________________________________________________________________________________\n",
            "Epoch 1/182\n"
          ]
        },
        {
          "name": "stderr",
          "output_type": "stream",
          "text": [
            "2024-03-31 15:00:29.725783: I tensorflow/core/grappler/optimizers/custom_graph_optimizer_registry.cc:117] Plugin optimizer for device_type GPU is enabled.\n"
          ]
        },
        {
          "name": "stdout",
          "output_type": "stream",
          "text": [
            "350/351 [============================>.] - ETA: 0s - loss: 1.6774 - accuracy: 0.3767INFO:tensorflow:Assets written to: /Users/danielhuang/tinyML/Fine-tuning/model_checkpoint/assets\n"
          ]
        },
        {
          "name": "stderr",
          "output_type": "stream",
          "text": [
            "INFO:tensorflow:Assets written to: /Users/danielhuang/tinyML/Fine-tuning/model_checkpoint/assets\n"
          ]
        },
        {
          "name": "stdout",
          "output_type": "stream",
          "text": [
            "351/351 [==============================] - 23s 60ms/step - loss: 1.6768 - accuracy: 0.3770 - val_loss: 2.1129 - val_accuracy: 0.3552\n",
            "Epoch 2/182\n",
            "350/351 [============================>.] - ETA: 0s - loss: 1.1951 - accuracy: 0.5684INFO:tensorflow:Assets written to: /Users/danielhuang/tinyML/Fine-tuning/model_checkpoint/assets\n"
          ]
        },
        {
          "name": "stderr",
          "output_type": "stream",
          "text": [
            "INFO:tensorflow:Assets written to: /Users/danielhuang/tinyML/Fine-tuning/model_checkpoint/assets\n"
          ]
        },
        {
          "name": "stdout",
          "output_type": "stream",
          "text": [
            "351/351 [==============================] - 21s 58ms/step - loss: 1.1950 - accuracy: 0.5684 - val_loss: 1.5786 - val_accuracy: 0.5053\n",
            "Epoch 3/182\n",
            "350/351 [============================>.] - ETA: 0s - loss: 0.9405 - accuracy: 0.6648INFO:tensorflow:Assets written to: /Users/danielhuang/tinyML/Fine-tuning/model_checkpoint/assets\n"
          ]
        },
        {
          "name": "stderr",
          "output_type": "stream",
          "text": [
            "INFO:tensorflow:Assets written to: /Users/danielhuang/tinyML/Fine-tuning/model_checkpoint/assets\n"
          ]
        },
        {
          "name": "stdout",
          "output_type": "stream",
          "text": [
            "351/351 [==============================] - 21s 61ms/step - loss: 0.9402 - accuracy: 0.6649 - val_loss: 1.1136 - val_accuracy: 0.6092\n",
            "Epoch 4/182\n",
            "351/351 [==============================] - ETA: 0s - loss: 0.7911 - accuracy: 0.7210INFO:tensorflow:Assets written to: /Users/danielhuang/tinyML/Fine-tuning/model_checkpoint/assets\n"
          ]
        },
        {
          "name": "stderr",
          "output_type": "stream",
          "text": [
            "INFO:tensorflow:Assets written to: /Users/danielhuang/tinyML/Fine-tuning/model_checkpoint/assets\n"
          ]
        },
        {
          "name": "stdout",
          "output_type": "stream",
          "text": [
            "351/351 [==============================] - 21s 60ms/step - loss: 0.7911 - accuracy: 0.7210 - val_loss: 0.9523 - val_accuracy: 0.6720\n",
            "Epoch 5/182\n",
            "350/351 [============================>.] - ETA: 0s - loss: 0.7004 - accuracy: 0.7536INFO:tensorflow:Assets written to: /Users/danielhuang/tinyML/Fine-tuning/model_checkpoint/assets\n"
          ]
        },
        {
          "name": "stderr",
          "output_type": "stream",
          "text": [
            "INFO:tensorflow:Assets written to: /Users/danielhuang/tinyML/Fine-tuning/model_checkpoint/assets\n"
          ]
        },
        {
          "name": "stdout",
          "output_type": "stream",
          "text": [
            "351/351 [==============================] - 24s 67ms/step - loss: 0.7002 - accuracy: 0.7536 - val_loss: 1.0918 - val_accuracy: 0.6472\n",
            "Epoch 6/182\n",
            "351/351 [==============================] - ETA: 0s - loss: 0.6372 - accuracy: 0.7799INFO:tensorflow:Assets written to: /Users/danielhuang/tinyML/Fine-tuning/model_checkpoint/assets\n"
          ]
        },
        {
          "name": "stderr",
          "output_type": "stream",
          "text": [
            "INFO:tensorflow:Assets written to: /Users/danielhuang/tinyML/Fine-tuning/model_checkpoint/assets\n"
          ]
        },
        {
          "name": "stdout",
          "output_type": "stream",
          "text": [
            "351/351 [==============================] - 23s 65ms/step - loss: 0.6372 - accuracy: 0.7799 - val_loss: 0.7509 - val_accuracy: 0.7381\n",
            "Epoch 7/182\n",
            "351/351 [==============================] - ETA: 0s - loss: 0.5897 - accuracy: 0.7940INFO:tensorflow:Assets written to: /Users/danielhuang/tinyML/Fine-tuning/model_checkpoint/assets\n"
          ]
        },
        {
          "name": "stderr",
          "output_type": "stream",
          "text": [
            "INFO:tensorflow:Assets written to: /Users/danielhuang/tinyML/Fine-tuning/model_checkpoint/assets\n"
          ]
        },
        {
          "name": "stdout",
          "output_type": "stream",
          "text": [
            "351/351 [==============================] - 22s 63ms/step - loss: 0.5897 - accuracy: 0.7940 - val_loss: 0.7051 - val_accuracy: 0.7623\n",
            "Epoch 8/182\n",
            "350/351 [============================>.] - ETA: 0s - loss: 0.5521 - accuracy: 0.8070INFO:tensorflow:Assets written to: /Users/danielhuang/tinyML/Fine-tuning/model_checkpoint/assets\n"
          ]
        },
        {
          "name": "stderr",
          "output_type": "stream",
          "text": [
            "INFO:tensorflow:Assets written to: /Users/danielhuang/tinyML/Fine-tuning/model_checkpoint/assets\n"
          ]
        },
        {
          "name": "stdout",
          "output_type": "stream",
          "text": [
            "351/351 [==============================] - 23s 66ms/step - loss: 0.5523 - accuracy: 0.8069 - val_loss: 0.7649 - val_accuracy: 0.7449\n",
            "Epoch 9/182\n",
            "351/351 [==============================] - ETA: 0s - loss: 0.5161 - accuracy: 0.8202INFO:tensorflow:Assets written to: /Users/danielhuang/tinyML/Fine-tuning/model_checkpoint/assets\n"
          ]
        },
        {
          "name": "stderr",
          "output_type": "stream",
          "text": [
            "INFO:tensorflow:Assets written to: /Users/danielhuang/tinyML/Fine-tuning/model_checkpoint/assets\n"
          ]
        },
        {
          "name": "stdout",
          "output_type": "stream",
          "text": [
            "351/351 [==============================] - 22s 63ms/step - loss: 0.5161 - accuracy: 0.8202 - val_loss: 0.6496 - val_accuracy: 0.7806\n",
            "Epoch 10/182\n",
            "350/351 [============================>.] - ETA: 0s - loss: 0.4943 - accuracy: 0.8276INFO:tensorflow:Assets written to: /Users/danielhuang/tinyML/Fine-tuning/model_checkpoint/assets\n"
          ]
        },
        {
          "name": "stderr",
          "output_type": "stream",
          "text": [
            "INFO:tensorflow:Assets written to: /Users/danielhuang/tinyML/Fine-tuning/model_checkpoint/assets\n"
          ]
        },
        {
          "name": "stdout",
          "output_type": "stream",
          "text": [
            "351/351 [==============================] - 21s 60ms/step - loss: 0.4941 - accuracy: 0.8277 - val_loss: 0.7873 - val_accuracy: 0.7422\n",
            "Epoch 11/182\n",
            "351/351 [==============================] - ETA: 0s - loss: 0.4712 - accuracy: 0.8363INFO:tensorflow:Assets written to: /Users/danielhuang/tinyML/Fine-tuning/model_checkpoint/assets\n"
          ]
        },
        {
          "name": "stderr",
          "output_type": "stream",
          "text": [
            "INFO:tensorflow:Assets written to: /Users/danielhuang/tinyML/Fine-tuning/model_checkpoint/assets\n"
          ]
        },
        {
          "name": "stdout",
          "output_type": "stream",
          "text": [
            "351/351 [==============================] - 22s 62ms/step - loss: 0.4712 - accuracy: 0.8363 - val_loss: 0.5691 - val_accuracy: 0.8058\n",
            "Epoch 12/182\n",
            "351/351 [==============================] - ETA: 0s - loss: 0.4519 - accuracy: 0.8440INFO:tensorflow:Assets written to: /Users/danielhuang/tinyML/Fine-tuning/model_checkpoint/assets\n"
          ]
        },
        {
          "name": "stderr",
          "output_type": "stream",
          "text": [
            "INFO:tensorflow:Assets written to: /Users/danielhuang/tinyML/Fine-tuning/model_checkpoint/assets\n"
          ]
        },
        {
          "name": "stdout",
          "output_type": "stream",
          "text": [
            "351/351 [==============================] - 21s 60ms/step - loss: 0.4519 - accuracy: 0.8440 - val_loss: 0.7846 - val_accuracy: 0.7516\n",
            "Epoch 13/182\n",
            "351/351 [==============================] - ETA: 0s - loss: 0.4283 - accuracy: 0.8520INFO:tensorflow:Assets written to: /Users/danielhuang/tinyML/Fine-tuning/model_checkpoint/assets\n"
          ]
        },
        {
          "name": "stderr",
          "output_type": "stream",
          "text": [
            "INFO:tensorflow:Assets written to: /Users/danielhuang/tinyML/Fine-tuning/model_checkpoint/assets\n"
          ]
        },
        {
          "name": "stdout",
          "output_type": "stream",
          "text": [
            "351/351 [==============================] - 24s 67ms/step - loss: 0.4283 - accuracy: 0.8520 - val_loss: 0.6482 - val_accuracy: 0.7789\n",
            "Epoch 14/182\n",
            "351/351 [==============================] - ETA: 0s - loss: 0.4111 - accuracy: 0.8570INFO:tensorflow:Assets written to: /Users/danielhuang/tinyML/Fine-tuning/model_checkpoint/assets\n"
          ]
        },
        {
          "name": "stderr",
          "output_type": "stream",
          "text": [
            "INFO:tensorflow:Assets written to: /Users/danielhuang/tinyML/Fine-tuning/model_checkpoint/assets\n"
          ]
        },
        {
          "name": "stdout",
          "output_type": "stream",
          "text": [
            "351/351 [==============================] - 24s 67ms/step - loss: 0.4111 - accuracy: 0.8570 - val_loss: 0.6221 - val_accuracy: 0.7927\n",
            "Epoch 15/182\n",
            "351/351 [==============================] - ETA: 0s - loss: 0.3977 - accuracy: 0.8614INFO:tensorflow:Assets written to: /Users/danielhuang/tinyML/Fine-tuning/model_checkpoint/assets\n"
          ]
        },
        {
          "name": "stderr",
          "output_type": "stream",
          "text": [
            "INFO:tensorflow:Assets written to: /Users/danielhuang/tinyML/Fine-tuning/model_checkpoint/assets\n"
          ]
        },
        {
          "name": "stdout",
          "output_type": "stream",
          "text": [
            "351/351 [==============================] - 25s 70ms/step - loss: 0.3977 - accuracy: 0.8614 - val_loss: 0.6471 - val_accuracy: 0.7919\n",
            "Epoch 16/182\n",
            "350/351 [============================>.] - ETA: 0s - loss: 0.3819 - accuracy: 0.8653INFO:tensorflow:Assets written to: /Users/danielhuang/tinyML/Fine-tuning/model_checkpoint/assets\n"
          ]
        },
        {
          "name": "stderr",
          "output_type": "stream",
          "text": [
            "INFO:tensorflow:Assets written to: /Users/danielhuang/tinyML/Fine-tuning/model_checkpoint/assets\n"
          ]
        },
        {
          "name": "stdout",
          "output_type": "stream",
          "text": [
            "351/351 [==============================] - 22s 62ms/step - loss: 0.3818 - accuracy: 0.8653 - val_loss: 0.5725 - val_accuracy: 0.8038\n",
            "Epoch 17/182\n",
            "351/351 [==============================] - ETA: 0s - loss: 0.3723 - accuracy: 0.8705INFO:tensorflow:Assets written to: /Users/danielhuang/tinyML/Fine-tuning/model_checkpoint/assets\n"
          ]
        },
        {
          "name": "stderr",
          "output_type": "stream",
          "text": [
            "INFO:tensorflow:Assets written to: /Users/danielhuang/tinyML/Fine-tuning/model_checkpoint/assets\n"
          ]
        },
        {
          "name": "stdout",
          "output_type": "stream",
          "text": [
            "351/351 [==============================] - 21s 59ms/step - loss: 0.3723 - accuracy: 0.8705 - val_loss: 0.6382 - val_accuracy: 0.7968\n",
            "Epoch 18/182\n",
            "350/351 [============================>.] - ETA: 0s - loss: 0.3545 - accuracy: 0.8749INFO:tensorflow:Assets written to: /Users/danielhuang/tinyML/Fine-tuning/model_checkpoint/assets\n"
          ]
        },
        {
          "name": "stderr",
          "output_type": "stream",
          "text": [
            "INFO:tensorflow:Assets written to: /Users/danielhuang/tinyML/Fine-tuning/model_checkpoint/assets\n"
          ]
        },
        {
          "name": "stdout",
          "output_type": "stream",
          "text": [
            "351/351 [==============================] - 22s 63ms/step - loss: 0.3550 - accuracy: 0.8748 - val_loss: 0.5141 - val_accuracy: 0.8294\n",
            "Epoch 19/182\n",
            "351/351 [==============================] - ETA: 0s - loss: 0.3397 - accuracy: 0.8808INFO:tensorflow:Assets written to: /Users/danielhuang/tinyML/Fine-tuning/model_checkpoint/assets\n"
          ]
        },
        {
          "name": "stderr",
          "output_type": "stream",
          "text": [
            "INFO:tensorflow:Assets written to: /Users/danielhuang/tinyML/Fine-tuning/model_checkpoint/assets\n"
          ]
        },
        {
          "name": "stdout",
          "output_type": "stream",
          "text": [
            "351/351 [==============================] - 22s 61ms/step - loss: 0.3397 - accuracy: 0.8808 - val_loss: 0.5127 - val_accuracy: 0.8300\n",
            "Epoch 20/182\n",
            "350/351 [============================>.] - ETA: 0s - loss: 0.3328 - accuracy: 0.8832INFO:tensorflow:Assets written to: /Users/danielhuang/tinyML/Fine-tuning/model_checkpoint/assets\n"
          ]
        },
        {
          "name": "stderr",
          "output_type": "stream",
          "text": [
            "INFO:tensorflow:Assets written to: /Users/danielhuang/tinyML/Fine-tuning/model_checkpoint/assets\n"
          ]
        },
        {
          "name": "stdout",
          "output_type": "stream",
          "text": [
            "351/351 [==============================] - 21s 59ms/step - loss: 0.3327 - accuracy: 0.8833 - val_loss: 0.7509 - val_accuracy: 0.7695\n",
            "Epoch 21/182\n",
            "351/351 [==============================] - ETA: 0s - loss: 0.3225 - accuracy: 0.8873INFO:tensorflow:Assets written to: /Users/danielhuang/tinyML/Fine-tuning/model_checkpoint/assets\n"
          ]
        },
        {
          "name": "stderr",
          "output_type": "stream",
          "text": [
            "INFO:tensorflow:Assets written to: /Users/danielhuang/tinyML/Fine-tuning/model_checkpoint/assets\n"
          ]
        },
        {
          "name": "stdout",
          "output_type": "stream",
          "text": [
            "351/351 [==============================] - 22s 62ms/step - loss: 0.3225 - accuracy: 0.8873 - val_loss: 0.6061 - val_accuracy: 0.8048\n",
            "Epoch 22/182\n",
            "350/351 [============================>.] - ETA: 0s - loss: 0.3158 - accuracy: 0.8880INFO:tensorflow:Assets written to: /Users/danielhuang/tinyML/Fine-tuning/model_checkpoint/assets\n"
          ]
        },
        {
          "name": "stderr",
          "output_type": "stream",
          "text": [
            "INFO:tensorflow:Assets written to: /Users/danielhuang/tinyML/Fine-tuning/model_checkpoint/assets\n"
          ]
        },
        {
          "name": "stdout",
          "output_type": "stream",
          "text": [
            "351/351 [==============================] - 21s 61ms/step - loss: 0.3162 - accuracy: 0.8879 - val_loss: 0.6226 - val_accuracy: 0.8101\n",
            "Epoch 23/182\n",
            "350/351 [============================>.] - ETA: 0s - loss: 0.3046 - accuracy: 0.8927INFO:tensorflow:Assets written to: /Users/danielhuang/tinyML/Fine-tuning/model_checkpoint/assets\n"
          ]
        },
        {
          "name": "stderr",
          "output_type": "stream",
          "text": [
            "INFO:tensorflow:Assets written to: /Users/danielhuang/tinyML/Fine-tuning/model_checkpoint/assets\n"
          ]
        },
        {
          "name": "stdout",
          "output_type": "stream",
          "text": [
            "351/351 [==============================] - 22s 62ms/step - loss: 0.3048 - accuracy: 0.8927 - val_loss: 0.4774 - val_accuracy: 0.8350\n",
            "Epoch 24/182\n",
            "350/351 [============================>.] - ETA: 0s - loss: 0.2966 - accuracy: 0.8964INFO:tensorflow:Assets written to: /Users/danielhuang/tinyML/Fine-tuning/model_checkpoint/assets\n"
          ]
        },
        {
          "name": "stderr",
          "output_type": "stream",
          "text": [
            "INFO:tensorflow:Assets written to: /Users/danielhuang/tinyML/Fine-tuning/model_checkpoint/assets\n"
          ]
        },
        {
          "name": "stdout",
          "output_type": "stream",
          "text": [
            "351/351 [==============================] - 22s 61ms/step - loss: 0.2970 - accuracy: 0.8962 - val_loss: 0.6340 - val_accuracy: 0.8003\n",
            "Epoch 25/182\n",
            "351/351 [==============================] - ETA: 0s - loss: 0.2863 - accuracy: 0.9000INFO:tensorflow:Assets written to: /Users/danielhuang/tinyML/Fine-tuning/model_checkpoint/assets\n"
          ]
        },
        {
          "name": "stderr",
          "output_type": "stream",
          "text": [
            "INFO:tensorflow:Assets written to: /Users/danielhuang/tinyML/Fine-tuning/model_checkpoint/assets\n"
          ]
        },
        {
          "name": "stdout",
          "output_type": "stream",
          "text": [
            "351/351 [==============================] - 22s 63ms/step - loss: 0.2863 - accuracy: 0.9000 - val_loss: 0.5156 - val_accuracy: 0.8216\n",
            "Epoch 26/182\n",
            "351/351 [==============================] - ETA: 0s - loss: 0.2782 - accuracy: 0.9019INFO:tensorflow:Assets written to: /Users/danielhuang/tinyML/Fine-tuning/model_checkpoint/assets\n"
          ]
        },
        {
          "name": "stderr",
          "output_type": "stream",
          "text": [
            "INFO:tensorflow:Assets written to: /Users/danielhuang/tinyML/Fine-tuning/model_checkpoint/assets\n"
          ]
        },
        {
          "name": "stdout",
          "output_type": "stream",
          "text": [
            "351/351 [==============================] - 22s 61ms/step - loss: 0.2782 - accuracy: 0.9019 - val_loss: 0.5669 - val_accuracy: 0.8142\n",
            "Epoch 27/182\n",
            "350/351 [============================>.] - ETA: 0s - loss: 0.2784 - accuracy: 0.9021INFO:tensorflow:Assets written to: /Users/danielhuang/tinyML/Fine-tuning/model_checkpoint/assets\n"
          ]
        },
        {
          "name": "stderr",
          "output_type": "stream",
          "text": [
            "INFO:tensorflow:Assets written to: /Users/danielhuang/tinyML/Fine-tuning/model_checkpoint/assets\n"
          ]
        },
        {
          "name": "stdout",
          "output_type": "stream",
          "text": [
            "351/351 [==============================] - 21s 61ms/step - loss: 0.2785 - accuracy: 0.9020 - val_loss: 0.5676 - val_accuracy: 0.8311\n",
            "Epoch 28/182\n",
            "351/351 [==============================] - ETA: 0s - loss: 0.2689 - accuracy: 0.9062INFO:tensorflow:Assets written to: /Users/danielhuang/tinyML/Fine-tuning/model_checkpoint/assets\n"
          ]
        },
        {
          "name": "stderr",
          "output_type": "stream",
          "text": [
            "INFO:tensorflow:Assets written to: /Users/danielhuang/tinyML/Fine-tuning/model_checkpoint/assets\n"
          ]
        },
        {
          "name": "stdout",
          "output_type": "stream",
          "text": [
            "351/351 [==============================] - 22s 61ms/step - loss: 0.2689 - accuracy: 0.9062 - val_loss: 0.5249 - val_accuracy: 0.8333\n",
            "Epoch 29/182\n",
            "350/351 [============================>.] - ETA: 0s - loss: 0.2612 - accuracy: 0.9085INFO:tensorflow:Assets written to: /Users/danielhuang/tinyML/Fine-tuning/model_checkpoint/assets\n"
          ]
        },
        {
          "name": "stderr",
          "output_type": "stream",
          "text": [
            "INFO:tensorflow:Assets written to: /Users/danielhuang/tinyML/Fine-tuning/model_checkpoint/assets\n"
          ]
        },
        {
          "name": "stdout",
          "output_type": "stream",
          "text": [
            "351/351 [==============================] - 21s 61ms/step - loss: 0.2613 - accuracy: 0.9084 - val_loss: 0.5217 - val_accuracy: 0.8362\n",
            "Epoch 30/182\n",
            "351/351 [==============================] - ETA: 0s - loss: 0.2483 - accuracy: 0.9135INFO:tensorflow:Assets written to: /Users/danielhuang/tinyML/Fine-tuning/model_checkpoint/assets\n"
          ]
        },
        {
          "name": "stderr",
          "output_type": "stream",
          "text": [
            "INFO:tensorflow:Assets written to: /Users/danielhuang/tinyML/Fine-tuning/model_checkpoint/assets\n"
          ]
        },
        {
          "name": "stdout",
          "output_type": "stream",
          "text": [
            "351/351 [==============================] - 21s 60ms/step - loss: 0.2483 - accuracy: 0.9135 - val_loss: 0.5269 - val_accuracy: 0.8362\n",
            "Epoch 31/182\n",
            "350/351 [============================>.] - ETA: 0s - loss: 0.2471 - accuracy: 0.9126INFO:tensorflow:Assets written to: /Users/danielhuang/tinyML/Fine-tuning/model_checkpoint/assets\n"
          ]
        },
        {
          "name": "stderr",
          "output_type": "stream",
          "text": [
            "INFO:tensorflow:Assets written to: /Users/danielhuang/tinyML/Fine-tuning/model_checkpoint/assets\n"
          ]
        },
        {
          "name": "stdout",
          "output_type": "stream",
          "text": [
            "351/351 [==============================] - 22s 62ms/step - loss: 0.2473 - accuracy: 0.9126 - val_loss: 0.4853 - val_accuracy: 0.8430\n",
            "Epoch 32/182\n",
            "350/351 [============================>.] - ETA: 0s - loss: 0.2401 - accuracy: 0.9147INFO:tensorflow:Assets written to: /Users/danielhuang/tinyML/Fine-tuning/model_checkpoint/assets\n"
          ]
        },
        {
          "name": "stderr",
          "output_type": "stream",
          "text": [
            "INFO:tensorflow:Assets written to: /Users/danielhuang/tinyML/Fine-tuning/model_checkpoint/assets\n"
          ]
        },
        {
          "name": "stdout",
          "output_type": "stream",
          "text": [
            "351/351 [==============================] - 21s 60ms/step - loss: 0.2399 - accuracy: 0.9147 - val_loss: 0.4476 - val_accuracy: 0.8551\n",
            "Epoch 33/182\n",
            "350/351 [============================>.] - ETA: 0s - loss: 0.2357 - accuracy: 0.9157INFO:tensorflow:Assets written to: /Users/danielhuang/tinyML/Fine-tuning/model_checkpoint/assets\n"
          ]
        },
        {
          "name": "stderr",
          "output_type": "stream",
          "text": [
            "INFO:tensorflow:Assets written to: /Users/danielhuang/tinyML/Fine-tuning/model_checkpoint/assets\n"
          ]
        },
        {
          "name": "stdout",
          "output_type": "stream",
          "text": [
            "351/351 [==============================] - 21s 61ms/step - loss: 0.2356 - accuracy: 0.9157 - val_loss: 0.4982 - val_accuracy: 0.8438\n",
            "Epoch 34/182\n",
            "350/351 [============================>.] - ETA: 0s - loss: 0.2327 - accuracy: 0.9184INFO:tensorflow:Assets written to: /Users/danielhuang/tinyML/Fine-tuning/model_checkpoint/assets\n"
          ]
        },
        {
          "name": "stderr",
          "output_type": "stream",
          "text": [
            "INFO:tensorflow:Assets written to: /Users/danielhuang/tinyML/Fine-tuning/model_checkpoint/assets\n"
          ]
        },
        {
          "name": "stdout",
          "output_type": "stream",
          "text": [
            "351/351 [==============================] - 22s 62ms/step - loss: 0.2326 - accuracy: 0.9184 - val_loss: 0.6041 - val_accuracy: 0.8149\n",
            "Epoch 35/182\n",
            "351/351 [==============================] - ETA: 0s - loss: 0.2211 - accuracy: 0.9210INFO:tensorflow:Assets written to: /Users/danielhuang/tinyML/Fine-tuning/model_checkpoint/assets\n"
          ]
        },
        {
          "name": "stderr",
          "output_type": "stream",
          "text": [
            "INFO:tensorflow:Assets written to: /Users/danielhuang/tinyML/Fine-tuning/model_checkpoint/assets\n"
          ]
        },
        {
          "name": "stdout",
          "output_type": "stream",
          "text": [
            "351/351 [==============================] - 22s 61ms/step - loss: 0.2211 - accuracy: 0.9210 - val_loss: 0.5521 - val_accuracy: 0.8290\n",
            "Epoch 36/182\n",
            "350/351 [============================>.] - ETA: 0s - loss: 0.2196 - accuracy: 0.9229INFO:tensorflow:Assets written to: /Users/danielhuang/tinyML/Fine-tuning/model_checkpoint/assets\n"
          ]
        },
        {
          "name": "stderr",
          "output_type": "stream",
          "text": [
            "INFO:tensorflow:Assets written to: /Users/danielhuang/tinyML/Fine-tuning/model_checkpoint/assets\n"
          ]
        },
        {
          "name": "stdout",
          "output_type": "stream",
          "text": [
            "351/351 [==============================] - 21s 61ms/step - loss: 0.2197 - accuracy: 0.9229 - val_loss: 0.5281 - val_accuracy: 0.8346\n",
            "Epoch 37/182\n",
            "351/351 [==============================] - ETA: 0s - loss: 0.2125 - accuracy: 0.9242INFO:tensorflow:Assets written to: /Users/danielhuang/tinyML/Fine-tuning/model_checkpoint/assets\n"
          ]
        },
        {
          "name": "stderr",
          "output_type": "stream",
          "text": [
            "INFO:tensorflow:Assets written to: /Users/danielhuang/tinyML/Fine-tuning/model_checkpoint/assets\n"
          ]
        },
        {
          "name": "stdout",
          "output_type": "stream",
          "text": [
            "351/351 [==============================] - 21s 60ms/step - loss: 0.2125 - accuracy: 0.9242 - val_loss: 0.4651 - val_accuracy: 0.8512\n",
            "Epoch 38/182\n",
            "350/351 [============================>.] - ETA: 0s - loss: 0.2096 - accuracy: 0.9254INFO:tensorflow:Assets written to: /Users/danielhuang/tinyML/Fine-tuning/model_checkpoint/assets\n"
          ]
        },
        {
          "name": "stderr",
          "output_type": "stream",
          "text": [
            "INFO:tensorflow:Assets written to: /Users/danielhuang/tinyML/Fine-tuning/model_checkpoint/assets\n"
          ]
        },
        {
          "name": "stdout",
          "output_type": "stream",
          "text": [
            "351/351 [==============================] - 22s 62ms/step - loss: 0.2095 - accuracy: 0.9254 - val_loss: 0.4511 - val_accuracy: 0.8561\n",
            "Epoch 39/182\n",
            "351/351 [==============================] - ETA: 0s - loss: 0.2031 - accuracy: 0.9275INFO:tensorflow:Assets written to: /Users/danielhuang/tinyML/Fine-tuning/model_checkpoint/assets\n"
          ]
        },
        {
          "name": "stderr",
          "output_type": "stream",
          "text": [
            "INFO:tensorflow:Assets written to: /Users/danielhuang/tinyML/Fine-tuning/model_checkpoint/assets\n"
          ]
        },
        {
          "name": "stdout",
          "output_type": "stream",
          "text": [
            "351/351 [==============================] - 21s 61ms/step - loss: 0.2031 - accuracy: 0.9275 - val_loss: 0.5341 - val_accuracy: 0.8405\n",
            "Epoch 40/182\n",
            "351/351 [==============================] - ETA: 0s - loss: 0.1989 - accuracy: 0.9285INFO:tensorflow:Assets written to: /Users/danielhuang/tinyML/Fine-tuning/model_checkpoint/assets\n"
          ]
        },
        {
          "name": "stderr",
          "output_type": "stream",
          "text": [
            "INFO:tensorflow:Assets written to: /Users/danielhuang/tinyML/Fine-tuning/model_checkpoint/assets\n"
          ]
        },
        {
          "name": "stdout",
          "output_type": "stream",
          "text": [
            "351/351 [==============================] - 22s 61ms/step - loss: 0.1989 - accuracy: 0.9285 - val_loss: 0.5720 - val_accuracy: 0.8339\n",
            "Epoch 41/182\n",
            "351/351 [==============================] - ETA: 0s - loss: 0.1981 - accuracy: 0.9280INFO:tensorflow:Assets written to: /Users/danielhuang/tinyML/Fine-tuning/model_checkpoint/assets\n"
          ]
        },
        {
          "name": "stderr",
          "output_type": "stream",
          "text": [
            "INFO:tensorflow:Assets written to: /Users/danielhuang/tinyML/Fine-tuning/model_checkpoint/assets\n"
          ]
        },
        {
          "name": "stdout",
          "output_type": "stream",
          "text": [
            "351/351 [==============================] - 22s 61ms/step - loss: 0.1981 - accuracy: 0.9280 - val_loss: 0.4954 - val_accuracy: 0.8504\n",
            "Epoch 42/182\n",
            "350/351 [============================>.] - ETA: 0s - loss: 0.1909 - accuracy: 0.9307INFO:tensorflow:Assets written to: /Users/danielhuang/tinyML/Fine-tuning/model_checkpoint/assets\n"
          ]
        },
        {
          "name": "stderr",
          "output_type": "stream",
          "text": [
            "INFO:tensorflow:Assets written to: /Users/danielhuang/tinyML/Fine-tuning/model_checkpoint/assets\n"
          ]
        },
        {
          "name": "stdout",
          "output_type": "stream",
          "text": [
            "351/351 [==============================] - 21s 60ms/step - loss: 0.1910 - accuracy: 0.9307 - val_loss: 0.5274 - val_accuracy: 0.8424\n",
            "Epoch 43/182\n",
            "351/351 [==============================] - ETA: 0s - loss: 0.1839 - accuracy: 0.9340INFO:tensorflow:Assets written to: /Users/danielhuang/tinyML/Fine-tuning/model_checkpoint/assets\n"
          ]
        },
        {
          "name": "stderr",
          "output_type": "stream",
          "text": [
            "INFO:tensorflow:Assets written to: /Users/danielhuang/tinyML/Fine-tuning/model_checkpoint/assets\n"
          ]
        },
        {
          "name": "stdout",
          "output_type": "stream",
          "text": [
            "351/351 [==============================] - 21s 59ms/step - loss: 0.1839 - accuracy: 0.9340 - val_loss: 0.6391 - val_accuracy: 0.8272\n",
            "Epoch 44/182\n",
            "351/351 [==============================] - ETA: 0s - loss: 0.1827 - accuracy: 0.9333INFO:tensorflow:Assets written to: /Users/danielhuang/tinyML/Fine-tuning/model_checkpoint/assets\n"
          ]
        },
        {
          "name": "stderr",
          "output_type": "stream",
          "text": [
            "INFO:tensorflow:Assets written to: /Users/danielhuang/tinyML/Fine-tuning/model_checkpoint/assets\n"
          ]
        },
        {
          "name": "stdout",
          "output_type": "stream",
          "text": [
            "351/351 [==============================] - 21s 59ms/step - loss: 0.1827 - accuracy: 0.9333 - val_loss: 0.5699 - val_accuracy: 0.8354\n",
            "Epoch 45/182\n",
            "350/351 [============================>.] - ETA: 0s - loss: 0.1879 - accuracy: 0.9330INFO:tensorflow:Assets written to: /Users/danielhuang/tinyML/Fine-tuning/model_checkpoint/assets\n"
          ]
        },
        {
          "name": "stderr",
          "output_type": "stream",
          "text": [
            "INFO:tensorflow:Assets written to: /Users/danielhuang/tinyML/Fine-tuning/model_checkpoint/assets\n"
          ]
        },
        {
          "name": "stdout",
          "output_type": "stream",
          "text": [
            "351/351 [==============================] - 21s 60ms/step - loss: 0.1879 - accuracy: 0.9330 - val_loss: 0.5604 - val_accuracy: 0.8471\n",
            "Epoch 46/182\n",
            "351/351 [==============================] - ETA: 0s - loss: 0.1744 - accuracy: 0.9371INFO:tensorflow:Assets written to: /Users/danielhuang/tinyML/Fine-tuning/model_checkpoint/assets\n"
          ]
        },
        {
          "name": "stderr",
          "output_type": "stream",
          "text": [
            "INFO:tensorflow:Assets written to: /Users/danielhuang/tinyML/Fine-tuning/model_checkpoint/assets\n"
          ]
        },
        {
          "name": "stdout",
          "output_type": "stream",
          "text": [
            "351/351 [==============================] - 21s 60ms/step - loss: 0.1744 - accuracy: 0.9371 - val_loss: 0.4954 - val_accuracy: 0.8530\n",
            "Epoch 47/182\n",
            "350/351 [============================>.] - ETA: 0s - loss: 0.1755 - accuracy: 0.9367INFO:tensorflow:Assets written to: /Users/danielhuang/tinyML/Fine-tuning/model_checkpoint/assets\n"
          ]
        },
        {
          "name": "stderr",
          "output_type": "stream",
          "text": [
            "INFO:tensorflow:Assets written to: /Users/danielhuang/tinyML/Fine-tuning/model_checkpoint/assets\n"
          ]
        },
        {
          "name": "stdout",
          "output_type": "stream",
          "text": [
            "351/351 [==============================] - 21s 60ms/step - loss: 0.1756 - accuracy: 0.9366 - val_loss: 0.6693 - val_accuracy: 0.8272\n",
            "Epoch 48/182\n",
            "350/351 [============================>.] - ETA: 0s - loss: 0.1703 - accuracy: 0.9385INFO:tensorflow:Assets written to: /Users/danielhuang/tinyML/Fine-tuning/model_checkpoint/assets\n"
          ]
        },
        {
          "name": "stderr",
          "output_type": "stream",
          "text": [
            "INFO:tensorflow:Assets written to: /Users/danielhuang/tinyML/Fine-tuning/model_checkpoint/assets\n"
          ]
        },
        {
          "name": "stdout",
          "output_type": "stream",
          "text": [
            "351/351 [==============================] - 21s 59ms/step - loss: 0.1704 - accuracy: 0.9385 - val_loss: 0.5158 - val_accuracy: 0.8459\n",
            "Epoch 49/182\n",
            "350/351 [============================>.] - ETA: 0s - loss: 0.1685 - accuracy: 0.9399INFO:tensorflow:Assets written to: /Users/danielhuang/tinyML/Fine-tuning/model_checkpoint/assets\n"
          ]
        },
        {
          "name": "stderr",
          "output_type": "stream",
          "text": [
            "INFO:tensorflow:Assets written to: /Users/danielhuang/tinyML/Fine-tuning/model_checkpoint/assets\n"
          ]
        },
        {
          "name": "stdout",
          "output_type": "stream",
          "text": [
            "351/351 [==============================] - 21s 60ms/step - loss: 0.1684 - accuracy: 0.9399 - val_loss: 0.5068 - val_accuracy: 0.8502\n",
            "Epoch 50/182\n",
            "351/351 [==============================] - ETA: 0s - loss: 0.1663 - accuracy: 0.9402INFO:tensorflow:Assets written to: /Users/danielhuang/tinyML/Fine-tuning/model_checkpoint/assets\n"
          ]
        },
        {
          "name": "stderr",
          "output_type": "stream",
          "text": [
            "INFO:tensorflow:Assets written to: /Users/danielhuang/tinyML/Fine-tuning/model_checkpoint/assets\n"
          ]
        },
        {
          "name": "stdout",
          "output_type": "stream",
          "text": [
            "351/351 [==============================] - 24s 67ms/step - loss: 0.1663 - accuracy: 0.9402 - val_loss: 0.5784 - val_accuracy: 0.8364\n",
            "Epoch 51/182\n",
            "350/351 [============================>.] - ETA: 0s - loss: 0.1617 - accuracy: 0.9428INFO:tensorflow:Assets written to: /Users/danielhuang/tinyML/Fine-tuning/model_checkpoint/assets\n"
          ]
        },
        {
          "name": "stderr",
          "output_type": "stream",
          "text": [
            "INFO:tensorflow:Assets written to: /Users/danielhuang/tinyML/Fine-tuning/model_checkpoint/assets\n"
          ]
        },
        {
          "name": "stdout",
          "output_type": "stream",
          "text": [
            "351/351 [==============================] - 21s 60ms/step - loss: 0.1618 - accuracy: 0.9428 - val_loss: 0.5149 - val_accuracy: 0.8530\n",
            "Epoch 52/182\n",
            "350/351 [============================>.] - ETA: 0s - loss: 0.1588 - accuracy: 0.9448INFO:tensorflow:Assets written to: /Users/danielhuang/tinyML/Fine-tuning/model_checkpoint/assets\n"
          ]
        },
        {
          "name": "stderr",
          "output_type": "stream",
          "text": [
            "INFO:tensorflow:Assets written to: /Users/danielhuang/tinyML/Fine-tuning/model_checkpoint/assets\n"
          ]
        },
        {
          "name": "stdout",
          "output_type": "stream",
          "text": [
            "351/351 [==============================] - 21s 60ms/step - loss: 0.1587 - accuracy: 0.9448 - val_loss: 0.5119 - val_accuracy: 0.8491\n",
            "Epoch 53/182\n",
            "350/351 [============================>.] - ETA: 0s - loss: 0.1512 - accuracy: 0.9467INFO:tensorflow:Assets written to: /Users/danielhuang/tinyML/Fine-tuning/model_checkpoint/assets\n"
          ]
        },
        {
          "name": "stderr",
          "output_type": "stream",
          "text": [
            "INFO:tensorflow:Assets written to: /Users/danielhuang/tinyML/Fine-tuning/model_checkpoint/assets\n"
          ]
        },
        {
          "name": "stdout",
          "output_type": "stream",
          "text": [
            "351/351 [==============================] - 21s 59ms/step - loss: 0.1511 - accuracy: 0.9468 - val_loss: 0.5040 - val_accuracy: 0.8516\n",
            "Epoch 54/182\n",
            "350/351 [============================>.] - ETA: 0s - loss: 0.1515 - accuracy: 0.9450INFO:tensorflow:Assets written to: /Users/danielhuang/tinyML/Fine-tuning/model_checkpoint/assets\n"
          ]
        },
        {
          "name": "stderr",
          "output_type": "stream",
          "text": [
            "INFO:tensorflow:Assets written to: /Users/danielhuang/tinyML/Fine-tuning/model_checkpoint/assets\n"
          ]
        },
        {
          "name": "stdout",
          "output_type": "stream",
          "text": [
            "351/351 [==============================] - 21s 61ms/step - loss: 0.1514 - accuracy: 0.9451 - val_loss: 0.5163 - val_accuracy: 0.8590\n",
            "Epoch 55/182\n",
            "351/351 [==============================] - ETA: 0s - loss: 0.1538 - accuracy: 0.9457INFO:tensorflow:Assets written to: /Users/danielhuang/tinyML/Fine-tuning/model_checkpoint/assets\n"
          ]
        },
        {
          "name": "stderr",
          "output_type": "stream",
          "text": [
            "INFO:tensorflow:Assets written to: /Users/danielhuang/tinyML/Fine-tuning/model_checkpoint/assets\n"
          ]
        },
        {
          "name": "stdout",
          "output_type": "stream",
          "text": [
            "351/351 [==============================] - 22s 63ms/step - loss: 0.1538 - accuracy: 0.9457 - val_loss: 0.6044 - val_accuracy: 0.8278\n",
            "Epoch 56/182\n",
            "351/351 [==============================] - ETA: 0s - loss: 0.1467 - accuracy: 0.9482INFO:tensorflow:Assets written to: /Users/danielhuang/tinyML/Fine-tuning/model_checkpoint/assets\n"
          ]
        },
        {
          "name": "stderr",
          "output_type": "stream",
          "text": [
            "INFO:tensorflow:Assets written to: /Users/danielhuang/tinyML/Fine-tuning/model_checkpoint/assets\n"
          ]
        },
        {
          "name": "stdout",
          "output_type": "stream",
          "text": [
            "351/351 [==============================] - 22s 64ms/step - loss: 0.1467 - accuracy: 0.9482 - val_loss: 0.5239 - val_accuracy: 0.8547\n",
            "Epoch 57/182\n",
            "350/351 [============================>.] - ETA: 0s - loss: 0.1453 - accuracy: 0.9477INFO:tensorflow:Assets written to: /Users/danielhuang/tinyML/Fine-tuning/model_checkpoint/assets\n"
          ]
        },
        {
          "name": "stderr",
          "output_type": "stream",
          "text": [
            "INFO:tensorflow:Assets written to: /Users/danielhuang/tinyML/Fine-tuning/model_checkpoint/assets\n"
          ]
        },
        {
          "name": "stdout",
          "output_type": "stream",
          "text": [
            "351/351 [==============================] - 22s 62ms/step - loss: 0.1453 - accuracy: 0.9478 - val_loss: 0.4732 - val_accuracy: 0.8666\n",
            "Epoch 58/182\n",
            "351/351 [==============================] - ETA: 0s - loss: 0.1394 - accuracy: 0.9501INFO:tensorflow:Assets written to: /Users/danielhuang/tinyML/Fine-tuning/model_checkpoint/assets\n"
          ]
        },
        {
          "name": "stderr",
          "output_type": "stream",
          "text": [
            "INFO:tensorflow:Assets written to: /Users/danielhuang/tinyML/Fine-tuning/model_checkpoint/assets\n"
          ]
        },
        {
          "name": "stdout",
          "output_type": "stream",
          "text": [
            "351/351 [==============================] - 22s 64ms/step - loss: 0.1394 - accuracy: 0.9501 - val_loss: 0.5721 - val_accuracy: 0.8459\n",
            "Epoch 59/182\n",
            "351/351 [==============================] - ETA: 0s - loss: 0.1376 - accuracy: 0.9501INFO:tensorflow:Assets written to: /Users/danielhuang/tinyML/Fine-tuning/model_checkpoint/assets\n"
          ]
        },
        {
          "name": "stderr",
          "output_type": "stream",
          "text": [
            "INFO:tensorflow:Assets written to: /Users/danielhuang/tinyML/Fine-tuning/model_checkpoint/assets\n"
          ]
        },
        {
          "name": "stdout",
          "output_type": "stream",
          "text": [
            "351/351 [==============================] - 22s 63ms/step - loss: 0.1376 - accuracy: 0.9501 - val_loss: 0.5501 - val_accuracy: 0.8520\n",
            "Epoch 60/182\n",
            "350/351 [============================>.] - ETA: 0s - loss: 0.1338 - accuracy: 0.9509INFO:tensorflow:Assets written to: /Users/danielhuang/tinyML/Fine-tuning/model_checkpoint/assets\n"
          ]
        },
        {
          "name": "stderr",
          "output_type": "stream",
          "text": [
            "INFO:tensorflow:Assets written to: /Users/danielhuang/tinyML/Fine-tuning/model_checkpoint/assets\n"
          ]
        },
        {
          "name": "stdout",
          "output_type": "stream",
          "text": [
            "351/351 [==============================] - 21s 60ms/step - loss: 0.1338 - accuracy: 0.9509 - val_loss: 0.5513 - val_accuracy: 0.8456\n",
            "Epoch 61/182\n",
            "351/351 [==============================] - ETA: 0s - loss: 0.1357 - accuracy: 0.9513INFO:tensorflow:Assets written to: /Users/danielhuang/tinyML/Fine-tuning/model_checkpoint/assets\n"
          ]
        },
        {
          "name": "stderr",
          "output_type": "stream",
          "text": [
            "INFO:tensorflow:Assets written to: /Users/danielhuang/tinyML/Fine-tuning/model_checkpoint/assets\n"
          ]
        },
        {
          "name": "stdout",
          "output_type": "stream",
          "text": [
            "351/351 [==============================] - 21s 60ms/step - loss: 0.1357 - accuracy: 0.9513 - val_loss: 0.4656 - val_accuracy: 0.8658\n",
            "Epoch 62/182\n",
            "351/351 [==============================] - ETA: 0s - loss: 0.1307 - accuracy: 0.9528INFO:tensorflow:Assets written to: /Users/danielhuang/tinyML/Fine-tuning/model_checkpoint/assets\n"
          ]
        },
        {
          "name": "stderr",
          "output_type": "stream",
          "text": [
            "INFO:tensorflow:Assets written to: /Users/danielhuang/tinyML/Fine-tuning/model_checkpoint/assets\n"
          ]
        },
        {
          "name": "stdout",
          "output_type": "stream",
          "text": [
            "351/351 [==============================] - 22s 62ms/step - loss: 0.1307 - accuracy: 0.9528 - val_loss: 0.5741 - val_accuracy: 0.8547\n",
            "Epoch 63/182\n",
            "350/351 [============================>.] - ETA: 0s - loss: 0.1366 - accuracy: 0.9511INFO:tensorflow:Assets written to: /Users/danielhuang/tinyML/Fine-tuning/model_checkpoint/assets\n"
          ]
        },
        {
          "name": "stderr",
          "output_type": "stream",
          "text": [
            "INFO:tensorflow:Assets written to: /Users/danielhuang/tinyML/Fine-tuning/model_checkpoint/assets\n"
          ]
        },
        {
          "name": "stdout",
          "output_type": "stream",
          "text": [
            "351/351 [==============================] - 22s 62ms/step - loss: 0.1366 - accuracy: 0.9511 - val_loss: 0.4907 - val_accuracy: 0.8674\n",
            "Epoch 64/182\n",
            "351/351 [==============================] - ETA: 0s - loss: 0.1273 - accuracy: 0.9531INFO:tensorflow:Assets written to: /Users/danielhuang/tinyML/Fine-tuning/model_checkpoint/assets\n"
          ]
        },
        {
          "name": "stderr",
          "output_type": "stream",
          "text": [
            "INFO:tensorflow:Assets written to: /Users/danielhuang/tinyML/Fine-tuning/model_checkpoint/assets\n"
          ]
        },
        {
          "name": "stdout",
          "output_type": "stream",
          "text": [
            "351/351 [==============================] - 22s 62ms/step - loss: 0.1273 - accuracy: 0.9531 - val_loss: 0.6378 - val_accuracy: 0.8498\n",
            "Epoch 65/182\n",
            "350/351 [============================>.] - ETA: 0s - loss: 0.1268 - accuracy: 0.9541INFO:tensorflow:Assets written to: /Users/danielhuang/tinyML/Fine-tuning/model_checkpoint/assets\n"
          ]
        },
        {
          "name": "stderr",
          "output_type": "stream",
          "text": [
            "INFO:tensorflow:Assets written to: /Users/danielhuang/tinyML/Fine-tuning/model_checkpoint/assets\n"
          ]
        },
        {
          "name": "stdout",
          "output_type": "stream",
          "text": [
            "351/351 [==============================] - 21s 60ms/step - loss: 0.1268 - accuracy: 0.9541 - val_loss: 0.5214 - val_accuracy: 0.8561\n",
            "Epoch 66/182\n",
            "351/351 [==============================] - ETA: 0s - loss: 0.1230 - accuracy: 0.9551INFO:tensorflow:Assets written to: /Users/danielhuang/tinyML/Fine-tuning/model_checkpoint/assets\n"
          ]
        },
        {
          "name": "stderr",
          "output_type": "stream",
          "text": [
            "INFO:tensorflow:Assets written to: /Users/danielhuang/tinyML/Fine-tuning/model_checkpoint/assets\n"
          ]
        },
        {
          "name": "stdout",
          "output_type": "stream",
          "text": [
            "351/351 [==============================] - 21s 60ms/step - loss: 0.1230 - accuracy: 0.9551 - val_loss: 0.5993 - val_accuracy: 0.8495\n",
            "Epoch 67/182\n",
            "351/351 [==============================] - ETA: 0s - loss: 0.1213 - accuracy: 0.9571INFO:tensorflow:Assets written to: /Users/danielhuang/tinyML/Fine-tuning/model_checkpoint/assets\n"
          ]
        },
        {
          "name": "stderr",
          "output_type": "stream",
          "text": [
            "INFO:tensorflow:Assets written to: /Users/danielhuang/tinyML/Fine-tuning/model_checkpoint/assets\n"
          ]
        },
        {
          "name": "stdout",
          "output_type": "stream",
          "text": [
            "351/351 [==============================] - 21s 61ms/step - loss: 0.1213 - accuracy: 0.9571 - val_loss: 0.5344 - val_accuracy: 0.8598\n",
            "Epoch 68/182\n",
            "351/351 [==============================] - ETA: 0s - loss: 0.1169 - accuracy: 0.9588INFO:tensorflow:Assets written to: /Users/danielhuang/tinyML/Fine-tuning/model_checkpoint/assets\n"
          ]
        },
        {
          "name": "stderr",
          "output_type": "stream",
          "text": [
            "INFO:tensorflow:Assets written to: /Users/danielhuang/tinyML/Fine-tuning/model_checkpoint/assets\n"
          ]
        },
        {
          "name": "stdout",
          "output_type": "stream",
          "text": [
            "351/351 [==============================] - 21s 60ms/step - loss: 0.1169 - accuracy: 0.9588 - val_loss: 0.4467 - val_accuracy: 0.8801\n",
            "Epoch 69/182\n",
            "351/351 [==============================] - ETA: 0s - loss: 0.1180 - accuracy: 0.9563INFO:tensorflow:Assets written to: /Users/danielhuang/tinyML/Fine-tuning/model_checkpoint/assets\n"
          ]
        },
        {
          "name": "stderr",
          "output_type": "stream",
          "text": [
            "INFO:tensorflow:Assets written to: /Users/danielhuang/tinyML/Fine-tuning/model_checkpoint/assets\n"
          ]
        },
        {
          "name": "stdout",
          "output_type": "stream",
          "text": [
            "351/351 [==============================] - 21s 60ms/step - loss: 0.1180 - accuracy: 0.9563 - val_loss: 0.4691 - val_accuracy: 0.8740\n",
            "Epoch 70/182\n",
            "351/351 [==============================] - ETA: 0s - loss: 0.1163 - accuracy: 0.9579INFO:tensorflow:Assets written to: /Users/danielhuang/tinyML/Fine-tuning/model_checkpoint/assets\n"
          ]
        },
        {
          "name": "stderr",
          "output_type": "stream",
          "text": [
            "INFO:tensorflow:Assets written to: /Users/danielhuang/tinyML/Fine-tuning/model_checkpoint/assets\n"
          ]
        },
        {
          "name": "stdout",
          "output_type": "stream",
          "text": [
            "351/351 [==============================] - 21s 60ms/step - loss: 0.1163 - accuracy: 0.9579 - val_loss: 0.5315 - val_accuracy: 0.8563\n",
            "Epoch 71/182\n",
            "351/351 [==============================] - ETA: 0s - loss: 0.1145 - accuracy: 0.9587INFO:tensorflow:Assets written to: /Users/danielhuang/tinyML/Fine-tuning/model_checkpoint/assets\n"
          ]
        },
        {
          "name": "stderr",
          "output_type": "stream",
          "text": [
            "INFO:tensorflow:Assets written to: /Users/danielhuang/tinyML/Fine-tuning/model_checkpoint/assets\n"
          ]
        },
        {
          "name": "stdout",
          "output_type": "stream",
          "text": [
            "351/351 [==============================] - 21s 60ms/step - loss: 0.1145 - accuracy: 0.9587 - val_loss: 0.4991 - val_accuracy: 0.8664\n",
            "Epoch 72/182\n",
            "351/351 [==============================] - ETA: 0s - loss: 0.1126 - accuracy: 0.9596INFO:tensorflow:Assets written to: /Users/danielhuang/tinyML/Fine-tuning/model_checkpoint/assets\n"
          ]
        },
        {
          "name": "stderr",
          "output_type": "stream",
          "text": [
            "INFO:tensorflow:Assets written to: /Users/danielhuang/tinyML/Fine-tuning/model_checkpoint/assets\n"
          ]
        },
        {
          "name": "stdout",
          "output_type": "stream",
          "text": [
            "351/351 [==============================] - 21s 60ms/step - loss: 0.1126 - accuracy: 0.9596 - val_loss: 0.5134 - val_accuracy: 0.8658\n",
            "Epoch 73/182\n",
            "350/351 [============================>.] - ETA: 0s - loss: 0.1099 - accuracy: 0.9602INFO:tensorflow:Assets written to: /Users/danielhuang/tinyML/Fine-tuning/model_checkpoint/assets\n"
          ]
        },
        {
          "name": "stderr",
          "output_type": "stream",
          "text": [
            "INFO:tensorflow:Assets written to: /Users/danielhuang/tinyML/Fine-tuning/model_checkpoint/assets\n"
          ]
        },
        {
          "name": "stdout",
          "output_type": "stream",
          "text": [
            "351/351 [==============================] - 21s 60ms/step - loss: 0.1099 - accuracy: 0.9602 - val_loss: 0.5115 - val_accuracy: 0.8637\n",
            "Epoch 74/182\n",
            "351/351 [==============================] - ETA: 0s - loss: 0.1048 - accuracy: 0.9614INFO:tensorflow:Assets written to: /Users/danielhuang/tinyML/Fine-tuning/model_checkpoint/assets\n"
          ]
        },
        {
          "name": "stderr",
          "output_type": "stream",
          "text": [
            "INFO:tensorflow:Assets written to: /Users/danielhuang/tinyML/Fine-tuning/model_checkpoint/assets\n"
          ]
        },
        {
          "name": "stdout",
          "output_type": "stream",
          "text": [
            "351/351 [==============================] - 21s 60ms/step - loss: 0.1048 - accuracy: 0.9614 - val_loss: 0.4942 - val_accuracy: 0.8688\n",
            "Epoch 75/182\n",
            "350/351 [============================>.] - ETA: 0s - loss: 0.0996 - accuracy: 0.9639INFO:tensorflow:Assets written to: /Users/danielhuang/tinyML/Fine-tuning/model_checkpoint/assets\n"
          ]
        },
        {
          "name": "stderr",
          "output_type": "stream",
          "text": [
            "INFO:tensorflow:Assets written to: /Users/danielhuang/tinyML/Fine-tuning/model_checkpoint/assets\n"
          ]
        },
        {
          "name": "stdout",
          "output_type": "stream",
          "text": [
            "351/351 [==============================] - 21s 60ms/step - loss: 0.1000 - accuracy: 0.9637 - val_loss: 0.4852 - val_accuracy: 0.8729\n",
            "Epoch 76/182\n",
            "351/351 [==============================] - ETA: 0s - loss: 0.1039 - accuracy: 0.9624INFO:tensorflow:Assets written to: /Users/danielhuang/tinyML/Fine-tuning/model_checkpoint/assets\n"
          ]
        },
        {
          "name": "stderr",
          "output_type": "stream",
          "text": [
            "INFO:tensorflow:Assets written to: /Users/danielhuang/tinyML/Fine-tuning/model_checkpoint/assets\n"
          ]
        },
        {
          "name": "stdout",
          "output_type": "stream",
          "text": [
            "351/351 [==============================] - 21s 60ms/step - loss: 0.1039 - accuracy: 0.9624 - val_loss: 0.5889 - val_accuracy: 0.8500\n",
            "Epoch 77/182\n",
            "351/351 [==============================] - ETA: 0s - loss: 0.1021 - accuracy: 0.9629INFO:tensorflow:Assets written to: /Users/danielhuang/tinyML/Fine-tuning/model_checkpoint/assets\n"
          ]
        },
        {
          "name": "stderr",
          "output_type": "stream",
          "text": [
            "INFO:tensorflow:Assets written to: /Users/danielhuang/tinyML/Fine-tuning/model_checkpoint/assets\n"
          ]
        },
        {
          "name": "stdout",
          "output_type": "stream",
          "text": [
            "351/351 [==============================] - 21s 60ms/step - loss: 0.1021 - accuracy: 0.9629 - val_loss: 0.5722 - val_accuracy: 0.8670\n",
            "Epoch 78/182\n",
            "350/351 [============================>.] - ETA: 0s - loss: 0.0991 - accuracy: 0.9642INFO:tensorflow:Assets written to: /Users/danielhuang/tinyML/Fine-tuning/model_checkpoint/assets\n"
          ]
        },
        {
          "name": "stderr",
          "output_type": "stream",
          "text": [
            "INFO:tensorflow:Assets written to: /Users/danielhuang/tinyML/Fine-tuning/model_checkpoint/assets\n"
          ]
        },
        {
          "name": "stdout",
          "output_type": "stream",
          "text": [
            "351/351 [==============================] - 21s 60ms/step - loss: 0.0991 - accuracy: 0.9642 - val_loss: 0.4726 - val_accuracy: 0.8713\n",
            "Epoch 79/182\n",
            "351/351 [==============================] - ETA: 0s - loss: 0.1028 - accuracy: 0.9637INFO:tensorflow:Assets written to: /Users/danielhuang/tinyML/Fine-tuning/model_checkpoint/assets\n"
          ]
        },
        {
          "name": "stderr",
          "output_type": "stream",
          "text": [
            "INFO:tensorflow:Assets written to: /Users/danielhuang/tinyML/Fine-tuning/model_checkpoint/assets\n"
          ]
        },
        {
          "name": "stdout",
          "output_type": "stream",
          "text": [
            "351/351 [==============================] - 21s 61ms/step - loss: 0.1028 - accuracy: 0.9637 - val_loss: 0.4969 - val_accuracy: 0.8746\n",
            "Epoch 80/182\n",
            "350/351 [============================>.] - ETA: 0s - loss: 0.1038 - accuracy: 0.9627INFO:tensorflow:Assets written to: /Users/danielhuang/tinyML/Fine-tuning/model_checkpoint/assets\n"
          ]
        },
        {
          "name": "stderr",
          "output_type": "stream",
          "text": [
            "INFO:tensorflow:Assets written to: /Users/danielhuang/tinyML/Fine-tuning/model_checkpoint/assets\n"
          ]
        },
        {
          "name": "stdout",
          "output_type": "stream",
          "text": [
            "351/351 [==============================] - 22s 63ms/step - loss: 0.1036 - accuracy: 0.9628 - val_loss: 0.5730 - val_accuracy: 0.8567\n",
            "Epoch 81/182\n",
            "351/351 [==============================] - ETA: 0s - loss: 0.0952 - accuracy: 0.9658INFO:tensorflow:Assets written to: /Users/danielhuang/tinyML/Fine-tuning/model_checkpoint/assets\n"
          ]
        },
        {
          "name": "stderr",
          "output_type": "stream",
          "text": [
            "INFO:tensorflow:Assets written to: /Users/danielhuang/tinyML/Fine-tuning/model_checkpoint/assets\n"
          ]
        },
        {
          "name": "stdout",
          "output_type": "stream",
          "text": [
            "351/351 [==============================] - 22s 63ms/step - loss: 0.0952 - accuracy: 0.9658 - val_loss: 0.4873 - val_accuracy: 0.8770\n",
            "Epoch 82/182\n",
            "351/351 [==============================] - ETA: 0s - loss: 0.1014 - accuracy: 0.9639INFO:tensorflow:Assets written to: /Users/danielhuang/tinyML/Fine-tuning/model_checkpoint/assets\n"
          ]
        },
        {
          "name": "stderr",
          "output_type": "stream",
          "text": [
            "INFO:tensorflow:Assets written to: /Users/danielhuang/tinyML/Fine-tuning/model_checkpoint/assets\n"
          ]
        },
        {
          "name": "stdout",
          "output_type": "stream",
          "text": [
            "351/351 [==============================] - 21s 60ms/step - loss: 0.1014 - accuracy: 0.9639 - val_loss: 0.5289 - val_accuracy: 0.8670\n",
            "Epoch 83/182\n",
            "350/351 [============================>.] - ETA: 0s - loss: 0.0988 - accuracy: 0.9644INFO:tensorflow:Assets written to: /Users/danielhuang/tinyML/Fine-tuning/model_checkpoint/assets\n"
          ]
        },
        {
          "name": "stderr",
          "output_type": "stream",
          "text": [
            "INFO:tensorflow:Assets written to: /Users/danielhuang/tinyML/Fine-tuning/model_checkpoint/assets\n"
          ]
        },
        {
          "name": "stdout",
          "output_type": "stream",
          "text": [
            "351/351 [==============================] - 21s 60ms/step - loss: 0.0987 - accuracy: 0.9644 - val_loss: 0.5198 - val_accuracy: 0.8732\n",
            "Epoch 84/182\n",
            "351/351 [==============================] - ETA: 0s - loss: 0.0960 - accuracy: 0.9641INFO:tensorflow:Assets written to: /Users/danielhuang/tinyML/Fine-tuning/model_checkpoint/assets\n"
          ]
        },
        {
          "name": "stderr",
          "output_type": "stream",
          "text": [
            "INFO:tensorflow:Assets written to: /Users/danielhuang/tinyML/Fine-tuning/model_checkpoint/assets\n"
          ]
        },
        {
          "name": "stdout",
          "output_type": "stream",
          "text": [
            "351/351 [==============================] - 21s 60ms/step - loss: 0.0960 - accuracy: 0.9641 - val_loss: 0.5515 - val_accuracy: 0.8610\n",
            "Epoch 85/182\n",
            "351/351 [==============================] - ETA: 0s - loss: 0.0908 - accuracy: 0.9673INFO:tensorflow:Assets written to: /Users/danielhuang/tinyML/Fine-tuning/model_checkpoint/assets\n"
          ]
        },
        {
          "name": "stderr",
          "output_type": "stream",
          "text": [
            "INFO:tensorflow:Assets written to: /Users/danielhuang/tinyML/Fine-tuning/model_checkpoint/assets\n"
          ]
        },
        {
          "name": "stdout",
          "output_type": "stream",
          "text": [
            "351/351 [==============================] - 22s 61ms/step - loss: 0.0908 - accuracy: 0.9673 - val_loss: 0.4927 - val_accuracy: 0.8752\n",
            "Epoch 86/182\n",
            "351/351 [==============================] - ETA: 0s - loss: 0.0900 - accuracy: 0.9675INFO:tensorflow:Assets written to: /Users/danielhuang/tinyML/Fine-tuning/model_checkpoint/assets\n"
          ]
        },
        {
          "name": "stderr",
          "output_type": "stream",
          "text": [
            "INFO:tensorflow:Assets written to: /Users/danielhuang/tinyML/Fine-tuning/model_checkpoint/assets\n"
          ]
        },
        {
          "name": "stdout",
          "output_type": "stream",
          "text": [
            "351/351 [==============================] - 21s 60ms/step - loss: 0.0900 - accuracy: 0.9675 - val_loss: 0.5396 - val_accuracy: 0.8668\n",
            "Epoch 87/182\n",
            "351/351 [==============================] - ETA: 0s - loss: 0.0861 - accuracy: 0.9688INFO:tensorflow:Assets written to: /Users/danielhuang/tinyML/Fine-tuning/model_checkpoint/assets\n"
          ]
        },
        {
          "name": "stderr",
          "output_type": "stream",
          "text": [
            "INFO:tensorflow:Assets written to: /Users/danielhuang/tinyML/Fine-tuning/model_checkpoint/assets\n"
          ]
        },
        {
          "name": "stdout",
          "output_type": "stream",
          "text": [
            "351/351 [==============================] - 21s 61ms/step - loss: 0.0861 - accuracy: 0.9688 - val_loss: 0.5804 - val_accuracy: 0.8651\n",
            "Epoch 88/182\n",
            "350/351 [============================>.] - ETA: 0s - loss: 0.0906 - accuracy: 0.9673INFO:tensorflow:Assets written to: /Users/danielhuang/tinyML/Fine-tuning/model_checkpoint/assets\n"
          ]
        },
        {
          "name": "stderr",
          "output_type": "stream",
          "text": [
            "INFO:tensorflow:Assets written to: /Users/danielhuang/tinyML/Fine-tuning/model_checkpoint/assets\n"
          ]
        },
        {
          "name": "stdout",
          "output_type": "stream",
          "text": [
            "351/351 [==============================] - 21s 61ms/step - loss: 0.0906 - accuracy: 0.9673 - val_loss: 0.5634 - val_accuracy: 0.8565\n",
            "Epoch 89/182\n",
            "350/351 [============================>.] - ETA: 0s - loss: 0.0877 - accuracy: 0.9682INFO:tensorflow:Assets written to: /Users/danielhuang/tinyML/Fine-tuning/model_checkpoint/assets\n"
          ]
        },
        {
          "name": "stderr",
          "output_type": "stream",
          "text": [
            "INFO:tensorflow:Assets written to: /Users/danielhuang/tinyML/Fine-tuning/model_checkpoint/assets\n"
          ]
        },
        {
          "name": "stdout",
          "output_type": "stream",
          "text": [
            "351/351 [==============================] - 21s 61ms/step - loss: 0.0878 - accuracy: 0.9682 - val_loss: 0.4881 - val_accuracy: 0.8711\n",
            "Epoch 90/182\n",
            "350/351 [============================>.] - ETA: 0s - loss: 0.0856 - accuracy: 0.9685INFO:tensorflow:Assets written to: /Users/danielhuang/tinyML/Fine-tuning/model_checkpoint/assets\n"
          ]
        },
        {
          "name": "stderr",
          "output_type": "stream",
          "text": [
            "INFO:tensorflow:Assets written to: /Users/danielhuang/tinyML/Fine-tuning/model_checkpoint/assets\n"
          ]
        },
        {
          "name": "stdout",
          "output_type": "stream",
          "text": [
            "351/351 [==============================] - 21s 61ms/step - loss: 0.0856 - accuracy: 0.9684 - val_loss: 0.5195 - val_accuracy: 0.8697\n",
            "Epoch 91/182\n",
            "351/351 [==============================] - ETA: 0s - loss: 0.0813 - accuracy: 0.9706INFO:tensorflow:Assets written to: /Users/danielhuang/tinyML/Fine-tuning/model_checkpoint/assets\n"
          ]
        },
        {
          "name": "stderr",
          "output_type": "stream",
          "text": [
            "INFO:tensorflow:Assets written to: /Users/danielhuang/tinyML/Fine-tuning/model_checkpoint/assets\n"
          ]
        },
        {
          "name": "stdout",
          "output_type": "stream",
          "text": [
            "351/351 [==============================] - 21s 60ms/step - loss: 0.0813 - accuracy: 0.9706 - val_loss: 0.5833 - val_accuracy: 0.8672\n",
            "Epoch 92/182\n",
            "351/351 [==============================] - ETA: 0s - loss: 0.0711 - accuracy: 0.9756INFO:tensorflow:Assets written to: /Users/danielhuang/tinyML/Fine-tuning/model_checkpoint/assets\n"
          ]
        },
        {
          "name": "stderr",
          "output_type": "stream",
          "text": [
            "INFO:tensorflow:Assets written to: /Users/danielhuang/tinyML/Fine-tuning/model_checkpoint/assets\n"
          ]
        },
        {
          "name": "stdout",
          "output_type": "stream",
          "text": [
            "351/351 [==============================] - 23s 66ms/step - loss: 0.0711 - accuracy: 0.9756 - val_loss: 0.4324 - val_accuracy: 0.8851\n",
            "Epoch 93/182\n",
            "351/351 [==============================] - ETA: 0s - loss: 0.0474 - accuracy: 0.9839INFO:tensorflow:Assets written to: /Users/danielhuang/tinyML/Fine-tuning/model_checkpoint/assets\n"
          ]
        },
        {
          "name": "stderr",
          "output_type": "stream",
          "text": [
            "INFO:tensorflow:Assets written to: /Users/danielhuang/tinyML/Fine-tuning/model_checkpoint/assets\n"
          ]
        },
        {
          "name": "stdout",
          "output_type": "stream",
          "text": [
            "351/351 [==============================] - 22s 63ms/step - loss: 0.0474 - accuracy: 0.9839 - val_loss: 0.3834 - val_accuracy: 0.8976\n",
            "Epoch 94/182\n",
            "351/351 [==============================] - ETA: 0s - loss: 0.0408 - accuracy: 0.9864INFO:tensorflow:Assets written to: /Users/danielhuang/tinyML/Fine-tuning/model_checkpoint/assets\n"
          ]
        },
        {
          "name": "stderr",
          "output_type": "stream",
          "text": [
            "INFO:tensorflow:Assets written to: /Users/danielhuang/tinyML/Fine-tuning/model_checkpoint/assets\n"
          ]
        },
        {
          "name": "stdout",
          "output_type": "stream",
          "text": [
            "351/351 [==============================] - 20s 58ms/step - loss: 0.0408 - accuracy: 0.9864 - val_loss: 0.3991 - val_accuracy: 0.8955\n",
            "Epoch 95/182\n",
            "350/351 [============================>.] - ETA: 0s - loss: 0.0386 - accuracy: 0.9873INFO:tensorflow:Assets written to: /Users/danielhuang/tinyML/Fine-tuning/model_checkpoint/assets\n"
          ]
        },
        {
          "name": "stderr",
          "output_type": "stream",
          "text": [
            "INFO:tensorflow:Assets written to: /Users/danielhuang/tinyML/Fine-tuning/model_checkpoint/assets\n"
          ]
        },
        {
          "name": "stdout",
          "output_type": "stream",
          "text": [
            "351/351 [==============================] - 20s 58ms/step - loss: 0.0385 - accuracy: 0.9873 - val_loss: 0.4275 - val_accuracy: 0.9009\n",
            "Epoch 96/182\n",
            "351/351 [==============================] - ETA: 0s - loss: 0.0363 - accuracy: 0.9880INFO:tensorflow:Assets written to: /Users/danielhuang/tinyML/Fine-tuning/model_checkpoint/assets\n"
          ]
        },
        {
          "name": "stderr",
          "output_type": "stream",
          "text": [
            "INFO:tensorflow:Assets written to: /Users/danielhuang/tinyML/Fine-tuning/model_checkpoint/assets\n"
          ]
        },
        {
          "name": "stdout",
          "output_type": "stream",
          "text": [
            "351/351 [==============================] - 20s 58ms/step - loss: 0.0363 - accuracy: 0.9880 - val_loss: 0.3837 - val_accuracy: 0.8996\n",
            "Epoch 97/182\n",
            "351/351 [==============================] - ETA: 0s - loss: 0.0342 - accuracy: 0.9890INFO:tensorflow:Assets written to: /Users/danielhuang/tinyML/Fine-tuning/model_checkpoint/assets\n"
          ]
        },
        {
          "name": "stderr",
          "output_type": "stream",
          "text": [
            "INFO:tensorflow:Assets written to: /Users/danielhuang/tinyML/Fine-tuning/model_checkpoint/assets\n"
          ]
        },
        {
          "name": "stdout",
          "output_type": "stream",
          "text": [
            "351/351 [==============================] - 20s 58ms/step - loss: 0.0342 - accuracy: 0.9890 - val_loss: 0.4196 - val_accuracy: 0.8957\n",
            "Epoch 98/182\n",
            "351/351 [==============================] - ETA: 0s - loss: 0.0341 - accuracy: 0.9892INFO:tensorflow:Assets written to: /Users/danielhuang/tinyML/Fine-tuning/model_checkpoint/assets\n"
          ]
        },
        {
          "name": "stderr",
          "output_type": "stream",
          "text": [
            "INFO:tensorflow:Assets written to: /Users/danielhuang/tinyML/Fine-tuning/model_checkpoint/assets\n"
          ]
        },
        {
          "name": "stdout",
          "output_type": "stream",
          "text": [
            "351/351 [==============================] - 20s 58ms/step - loss: 0.0341 - accuracy: 0.9892 - val_loss: 0.4198 - val_accuracy: 0.8974\n",
            "Epoch 99/182\n",
            "351/351 [==============================] - ETA: 0s - loss: 0.0319 - accuracy: 0.9890INFO:tensorflow:Assets written to: /Users/danielhuang/tinyML/Fine-tuning/model_checkpoint/assets\n"
          ]
        },
        {
          "name": "stderr",
          "output_type": "stream",
          "text": [
            "INFO:tensorflow:Assets written to: /Users/danielhuang/tinyML/Fine-tuning/model_checkpoint/assets\n"
          ]
        },
        {
          "name": "stdout",
          "output_type": "stream",
          "text": [
            "351/351 [==============================] - 20s 58ms/step - loss: 0.0319 - accuracy: 0.9890 - val_loss: 0.3918 - val_accuracy: 0.9000\n",
            "Epoch 100/182\n",
            "351/351 [==============================] - ETA: 0s - loss: 0.0320 - accuracy: 0.9893INFO:tensorflow:Assets written to: /Users/danielhuang/tinyML/Fine-tuning/model_checkpoint/assets\n"
          ]
        },
        {
          "name": "stderr",
          "output_type": "stream",
          "text": [
            "INFO:tensorflow:Assets written to: /Users/danielhuang/tinyML/Fine-tuning/model_checkpoint/assets\n"
          ]
        },
        {
          "name": "stdout",
          "output_type": "stream",
          "text": [
            "351/351 [==============================] - 20s 58ms/step - loss: 0.0320 - accuracy: 0.9893 - val_loss: 0.4312 - val_accuracy: 0.8959\n",
            "Epoch 101/182\n",
            "350/351 [============================>.] - ETA: 0s - loss: 0.0284 - accuracy: 0.9913INFO:tensorflow:Assets written to: /Users/danielhuang/tinyML/Fine-tuning/model_checkpoint/assets\n"
          ]
        },
        {
          "name": "stderr",
          "output_type": "stream",
          "text": [
            "INFO:tensorflow:Assets written to: /Users/danielhuang/tinyML/Fine-tuning/model_checkpoint/assets\n"
          ]
        },
        {
          "name": "stdout",
          "output_type": "stream",
          "text": [
            "351/351 [==============================] - 20s 58ms/step - loss: 0.0285 - accuracy: 0.9913 - val_loss: 0.4563 - val_accuracy: 0.8902\n",
            "Epoch 102/182\n",
            "351/351 [==============================] - ETA: 0s - loss: 0.0293 - accuracy: 0.9910INFO:tensorflow:Assets written to: /Users/danielhuang/tinyML/Fine-tuning/model_checkpoint/assets\n"
          ]
        },
        {
          "name": "stderr",
          "output_type": "stream",
          "text": [
            "INFO:tensorflow:Assets written to: /Users/danielhuang/tinyML/Fine-tuning/model_checkpoint/assets\n"
          ]
        },
        {
          "name": "stdout",
          "output_type": "stream",
          "text": [
            "351/351 [==============================] - 20s 58ms/step - loss: 0.0293 - accuracy: 0.9910 - val_loss: 0.4059 - val_accuracy: 0.9054\n",
            "Epoch 103/182\n",
            "350/351 [============================>.] - ETA: 0s - loss: 0.0299 - accuracy: 0.9903INFO:tensorflow:Assets written to: /Users/danielhuang/tinyML/Fine-tuning/model_checkpoint/assets\n"
          ]
        },
        {
          "name": "stderr",
          "output_type": "stream",
          "text": [
            "INFO:tensorflow:Assets written to: /Users/danielhuang/tinyML/Fine-tuning/model_checkpoint/assets\n"
          ]
        },
        {
          "name": "stdout",
          "output_type": "stream",
          "text": [
            "351/351 [==============================] - 20s 58ms/step - loss: 0.0299 - accuracy: 0.9903 - val_loss: 0.4330 - val_accuracy: 0.8986\n",
            "Epoch 104/182\n",
            "351/351 [==============================] - ETA: 0s - loss: 0.0272 - accuracy: 0.9910INFO:tensorflow:Assets written to: /Users/danielhuang/tinyML/Fine-tuning/model_checkpoint/assets\n"
          ]
        },
        {
          "name": "stderr",
          "output_type": "stream",
          "text": [
            "INFO:tensorflow:Assets written to: /Users/danielhuang/tinyML/Fine-tuning/model_checkpoint/assets\n"
          ]
        },
        {
          "name": "stdout",
          "output_type": "stream",
          "text": [
            "351/351 [==============================] - 21s 58ms/step - loss: 0.0272 - accuracy: 0.9910 - val_loss: 0.4189 - val_accuracy: 0.8998\n",
            "Epoch 105/182\n",
            "351/351 [==============================] - ETA: 0s - loss: 0.0284 - accuracy: 0.9911INFO:tensorflow:Assets written to: /Users/danielhuang/tinyML/Fine-tuning/model_checkpoint/assets\n"
          ]
        },
        {
          "name": "stderr",
          "output_type": "stream",
          "text": [
            "INFO:tensorflow:Assets written to: /Users/danielhuang/tinyML/Fine-tuning/model_checkpoint/assets\n"
          ]
        },
        {
          "name": "stdout",
          "output_type": "stream",
          "text": [
            "351/351 [==============================] - 20s 57ms/step - loss: 0.0284 - accuracy: 0.9911 - val_loss: 0.4349 - val_accuracy: 0.8978\n",
            "Epoch 106/182\n",
            "350/351 [============================>.] - ETA: 0s - loss: 0.0254 - accuracy: 0.9921INFO:tensorflow:Assets written to: /Users/danielhuang/tinyML/Fine-tuning/model_checkpoint/assets\n"
          ]
        },
        {
          "name": "stderr",
          "output_type": "stream",
          "text": [
            "INFO:tensorflow:Assets written to: /Users/danielhuang/tinyML/Fine-tuning/model_checkpoint/assets\n"
          ]
        },
        {
          "name": "stdout",
          "output_type": "stream",
          "text": [
            "351/351 [==============================] - 20s 58ms/step - loss: 0.0254 - accuracy: 0.9921 - val_loss: 0.3961 - val_accuracy: 0.8978\n",
            "Epoch 107/182\n",
            "351/351 [==============================] - ETA: 0s - loss: 0.0266 - accuracy: 0.9914INFO:tensorflow:Assets written to: /Users/danielhuang/tinyML/Fine-tuning/model_checkpoint/assets\n"
          ]
        },
        {
          "name": "stderr",
          "output_type": "stream",
          "text": [
            "INFO:tensorflow:Assets written to: /Users/danielhuang/tinyML/Fine-tuning/model_checkpoint/assets\n"
          ]
        },
        {
          "name": "stdout",
          "output_type": "stream",
          "text": [
            "351/351 [==============================] - 20s 58ms/step - loss: 0.0266 - accuracy: 0.9914 - val_loss: 0.4088 - val_accuracy: 0.9044\n",
            "Epoch 108/182\n",
            "350/351 [============================>.] - ETA: 0s - loss: 0.0257 - accuracy: 0.9918INFO:tensorflow:Assets written to: /Users/danielhuang/tinyML/Fine-tuning/model_checkpoint/assets\n"
          ]
        },
        {
          "name": "stderr",
          "output_type": "stream",
          "text": [
            "INFO:tensorflow:Assets written to: /Users/danielhuang/tinyML/Fine-tuning/model_checkpoint/assets\n"
          ]
        },
        {
          "name": "stdout",
          "output_type": "stream",
          "text": [
            "351/351 [==============================] - 20s 58ms/step - loss: 0.0257 - accuracy: 0.9918 - val_loss: 0.3993 - val_accuracy: 0.9046\n",
            "Epoch 109/182\n",
            "351/351 [==============================] - ETA: 0s - loss: 0.0268 - accuracy: 0.9909INFO:tensorflow:Assets written to: /Users/danielhuang/tinyML/Fine-tuning/model_checkpoint/assets\n"
          ]
        },
        {
          "name": "stderr",
          "output_type": "stream",
          "text": [
            "INFO:tensorflow:Assets written to: /Users/danielhuang/tinyML/Fine-tuning/model_checkpoint/assets\n"
          ]
        },
        {
          "name": "stdout",
          "output_type": "stream",
          "text": [
            "351/351 [==============================] - 20s 57ms/step - loss: 0.0268 - accuracy: 0.9909 - val_loss: 0.4448 - val_accuracy: 0.8972\n",
            "Epoch 110/182\n",
            "350/351 [============================>.] - ETA: 0s - loss: 0.0243 - accuracy: 0.9923INFO:tensorflow:Assets written to: /Users/danielhuang/tinyML/Fine-tuning/model_checkpoint/assets\n"
          ]
        },
        {
          "name": "stderr",
          "output_type": "stream",
          "text": [
            "INFO:tensorflow:Assets written to: /Users/danielhuang/tinyML/Fine-tuning/model_checkpoint/assets\n"
          ]
        },
        {
          "name": "stdout",
          "output_type": "stream",
          "text": [
            "351/351 [==============================] - 20s 57ms/step - loss: 0.0243 - accuracy: 0.9923 - val_loss: 0.4690 - val_accuracy: 0.8968\n",
            "Epoch 111/182\n",
            "350/351 [============================>.] - ETA: 0s - loss: 0.0260 - accuracy: 0.9917INFO:tensorflow:Assets written to: /Users/danielhuang/tinyML/Fine-tuning/model_checkpoint/assets\n"
          ]
        },
        {
          "name": "stderr",
          "output_type": "stream",
          "text": [
            "INFO:tensorflow:Assets written to: /Users/danielhuang/tinyML/Fine-tuning/model_checkpoint/assets\n"
          ]
        },
        {
          "name": "stdout",
          "output_type": "stream",
          "text": [
            "351/351 [==============================] - 20s 58ms/step - loss: 0.0260 - accuracy: 0.9917 - val_loss: 0.4772 - val_accuracy: 0.8929\n",
            "Epoch 112/182\n",
            "351/351 [==============================] - ETA: 0s - loss: 0.0245 - accuracy: 0.9923INFO:tensorflow:Assets written to: /Users/danielhuang/tinyML/Fine-tuning/model_checkpoint/assets\n"
          ]
        },
        {
          "name": "stderr",
          "output_type": "stream",
          "text": [
            "INFO:tensorflow:Assets written to: /Users/danielhuang/tinyML/Fine-tuning/model_checkpoint/assets\n"
          ]
        },
        {
          "name": "stdout",
          "output_type": "stream",
          "text": [
            "351/351 [==============================] - 20s 58ms/step - loss: 0.0245 - accuracy: 0.9923 - val_loss: 0.4091 - val_accuracy: 0.9046\n",
            "Epoch 113/182\n",
            "350/351 [============================>.] - ETA: 0s - loss: 0.0226 - accuracy: 0.9925INFO:tensorflow:Assets written to: /Users/danielhuang/tinyML/Fine-tuning/model_checkpoint/assets\n"
          ]
        },
        {
          "name": "stderr",
          "output_type": "stream",
          "text": [
            "INFO:tensorflow:Assets written to: /Users/danielhuang/tinyML/Fine-tuning/model_checkpoint/assets\n"
          ]
        },
        {
          "name": "stdout",
          "output_type": "stream",
          "text": [
            "351/351 [==============================] - 20s 57ms/step - loss: 0.0225 - accuracy: 0.9925 - val_loss: 0.4327 - val_accuracy: 0.8988\n",
            "Epoch 114/182\n",
            "351/351 [==============================] - ETA: 0s - loss: 0.0244 - accuracy: 0.9921INFO:tensorflow:Assets written to: /Users/danielhuang/tinyML/Fine-tuning/model_checkpoint/assets\n"
          ]
        },
        {
          "name": "stderr",
          "output_type": "stream",
          "text": [
            "INFO:tensorflow:Assets written to: /Users/danielhuang/tinyML/Fine-tuning/model_checkpoint/assets\n"
          ]
        },
        {
          "name": "stdout",
          "output_type": "stream",
          "text": [
            "351/351 [==============================] - 20s 57ms/step - loss: 0.0244 - accuracy: 0.9921 - val_loss: 0.4784 - val_accuracy: 0.8957\n",
            "Epoch 115/182\n",
            "350/351 [============================>.] - ETA: 0s - loss: 0.0235 - accuracy: 0.9925INFO:tensorflow:Assets written to: /Users/danielhuang/tinyML/Fine-tuning/model_checkpoint/assets\n"
          ]
        },
        {
          "name": "stderr",
          "output_type": "stream",
          "text": [
            "INFO:tensorflow:Assets written to: /Users/danielhuang/tinyML/Fine-tuning/model_checkpoint/assets\n"
          ]
        },
        {
          "name": "stdout",
          "output_type": "stream",
          "text": [
            "351/351 [==============================] - 20s 57ms/step - loss: 0.0234 - accuracy: 0.9926 - val_loss: 0.4461 - val_accuracy: 0.8941\n",
            "Epoch 116/182\n",
            "351/351 [==============================] - ETA: 0s - loss: 0.0209 - accuracy: 0.9934INFO:tensorflow:Assets written to: /Users/danielhuang/tinyML/Fine-tuning/model_checkpoint/assets\n"
          ]
        },
        {
          "name": "stderr",
          "output_type": "stream",
          "text": [
            "INFO:tensorflow:Assets written to: /Users/danielhuang/tinyML/Fine-tuning/model_checkpoint/assets\n"
          ]
        },
        {
          "name": "stdout",
          "output_type": "stream",
          "text": [
            "351/351 [==============================] - 20s 57ms/step - loss: 0.0209 - accuracy: 0.9934 - val_loss: 0.4642 - val_accuracy: 0.8972\n",
            "Epoch 117/182\n",
            "351/351 [==============================] - ETA: 0s - loss: 0.0217 - accuracy: 0.9930INFO:tensorflow:Assets written to: /Users/danielhuang/tinyML/Fine-tuning/model_checkpoint/assets\n"
          ]
        },
        {
          "name": "stderr",
          "output_type": "stream",
          "text": [
            "INFO:tensorflow:Assets written to: /Users/danielhuang/tinyML/Fine-tuning/model_checkpoint/assets\n"
          ]
        },
        {
          "name": "stdout",
          "output_type": "stream",
          "text": [
            "351/351 [==============================] - 20s 57ms/step - loss: 0.0217 - accuracy: 0.9930 - val_loss: 0.4535 - val_accuracy: 0.8996\n",
            "Epoch 118/182\n",
            "351/351 [==============================] - ETA: 0s - loss: 0.0226 - accuracy: 0.9931INFO:tensorflow:Assets written to: /Users/danielhuang/tinyML/Fine-tuning/model_checkpoint/assets\n"
          ]
        },
        {
          "name": "stderr",
          "output_type": "stream",
          "text": [
            "INFO:tensorflow:Assets written to: /Users/danielhuang/tinyML/Fine-tuning/model_checkpoint/assets\n"
          ]
        },
        {
          "name": "stdout",
          "output_type": "stream",
          "text": [
            "351/351 [==============================] - 20s 57ms/step - loss: 0.0226 - accuracy: 0.9931 - val_loss: 0.4375 - val_accuracy: 0.8996\n",
            "Epoch 119/182\n",
            "351/351 [==============================] - ETA: 0s - loss: 0.0214 - accuracy: 0.9934INFO:tensorflow:Assets written to: /Users/danielhuang/tinyML/Fine-tuning/model_checkpoint/assets\n"
          ]
        },
        {
          "name": "stderr",
          "output_type": "stream",
          "text": [
            "INFO:tensorflow:Assets written to: /Users/danielhuang/tinyML/Fine-tuning/model_checkpoint/assets\n"
          ]
        },
        {
          "name": "stdout",
          "output_type": "stream",
          "text": [
            "351/351 [==============================] - 20s 57ms/step - loss: 0.0214 - accuracy: 0.9934 - val_loss: 0.4498 - val_accuracy: 0.8976\n",
            "Epoch 120/182\n",
            "351/351 [==============================] - ETA: 0s - loss: 0.0222 - accuracy: 0.9926INFO:tensorflow:Assets written to: /Users/danielhuang/tinyML/Fine-tuning/model_checkpoint/assets\n"
          ]
        },
        {
          "name": "stderr",
          "output_type": "stream",
          "text": [
            "INFO:tensorflow:Assets written to: /Users/danielhuang/tinyML/Fine-tuning/model_checkpoint/assets\n"
          ]
        },
        {
          "name": "stdout",
          "output_type": "stream",
          "text": [
            "351/351 [==============================] - 20s 58ms/step - loss: 0.0222 - accuracy: 0.9926 - val_loss: 0.4549 - val_accuracy: 0.8929\n",
            "Epoch 121/182\n",
            "350/351 [============================>.] - ETA: 0s - loss: 0.0205 - accuracy: 0.9936INFO:tensorflow:Assets written to: /Users/danielhuang/tinyML/Fine-tuning/model_checkpoint/assets\n"
          ]
        },
        {
          "name": "stderr",
          "output_type": "stream",
          "text": [
            "INFO:tensorflow:Assets written to: /Users/danielhuang/tinyML/Fine-tuning/model_checkpoint/assets\n"
          ]
        },
        {
          "name": "stdout",
          "output_type": "stream",
          "text": [
            "351/351 [==============================] - 20s 57ms/step - loss: 0.0206 - accuracy: 0.9936 - val_loss: 0.4699 - val_accuracy: 0.8936\n",
            "Epoch 122/182\n",
            "350/351 [============================>.] - ETA: 0s - loss: 0.0224 - accuracy: 0.9927INFO:tensorflow:Assets written to: /Users/danielhuang/tinyML/Fine-tuning/model_checkpoint/assets\n"
          ]
        },
        {
          "name": "stderr",
          "output_type": "stream",
          "text": [
            "INFO:tensorflow:Assets written to: /Users/danielhuang/tinyML/Fine-tuning/model_checkpoint/assets\n"
          ]
        },
        {
          "name": "stdout",
          "output_type": "stream",
          "text": [
            "351/351 [==============================] - 20s 57ms/step - loss: 0.0224 - accuracy: 0.9927 - val_loss: 0.4601 - val_accuracy: 0.8978\n",
            "Epoch 123/182\n",
            "350/351 [============================>.] - ETA: 0s - loss: 0.0217 - accuracy: 0.9931INFO:tensorflow:Assets written to: /Users/danielhuang/tinyML/Fine-tuning/model_checkpoint/assets\n"
          ]
        },
        {
          "name": "stderr",
          "output_type": "stream",
          "text": [
            "INFO:tensorflow:Assets written to: /Users/danielhuang/tinyML/Fine-tuning/model_checkpoint/assets\n"
          ]
        },
        {
          "name": "stdout",
          "output_type": "stream",
          "text": [
            "351/351 [==============================] - 20s 57ms/step - loss: 0.0217 - accuracy: 0.9931 - val_loss: 0.4521 - val_accuracy: 0.9017\n",
            "Epoch 124/182\n",
            "351/351 [==============================] - ETA: 0s - loss: 0.0210 - accuracy: 0.9936INFO:tensorflow:Assets written to: /Users/danielhuang/tinyML/Fine-tuning/model_checkpoint/assets\n"
          ]
        },
        {
          "name": "stderr",
          "output_type": "stream",
          "text": [
            "INFO:tensorflow:Assets written to: /Users/danielhuang/tinyML/Fine-tuning/model_checkpoint/assets\n"
          ]
        },
        {
          "name": "stdout",
          "output_type": "stream",
          "text": [
            "351/351 [==============================] - 20s 57ms/step - loss: 0.0210 - accuracy: 0.9936 - val_loss: 0.4294 - val_accuracy: 0.9031\n",
            "Epoch 125/182\n",
            "350/351 [============================>.] - ETA: 0s - loss: 0.0205 - accuracy: 0.9937INFO:tensorflow:Assets written to: /Users/danielhuang/tinyML/Fine-tuning/model_checkpoint/assets\n"
          ]
        },
        {
          "name": "stderr",
          "output_type": "stream",
          "text": [
            "INFO:tensorflow:Assets written to: /Users/danielhuang/tinyML/Fine-tuning/model_checkpoint/assets\n"
          ]
        },
        {
          "name": "stdout",
          "output_type": "stream",
          "text": [
            "351/351 [==============================] - 20s 57ms/step - loss: 0.0205 - accuracy: 0.9936 - val_loss: 0.4848 - val_accuracy: 0.8959\n",
            "Epoch 126/182\n",
            "351/351 [==============================] - ETA: 0s - loss: 0.0198 - accuracy: 0.9936INFO:tensorflow:Assets written to: /Users/danielhuang/tinyML/Fine-tuning/model_checkpoint/assets\n"
          ]
        },
        {
          "name": "stderr",
          "output_type": "stream",
          "text": [
            "INFO:tensorflow:Assets written to: /Users/danielhuang/tinyML/Fine-tuning/model_checkpoint/assets\n"
          ]
        },
        {
          "name": "stdout",
          "output_type": "stream",
          "text": [
            "351/351 [==============================] - 20s 57ms/step - loss: 0.0198 - accuracy: 0.9936 - val_loss: 0.4365 - val_accuracy: 0.9027\n",
            "Epoch 127/182\n",
            "350/351 [============================>.] - ETA: 0s - loss: 0.0203 - accuracy: 0.9935INFO:tensorflow:Assets written to: /Users/danielhuang/tinyML/Fine-tuning/model_checkpoint/assets\n"
          ]
        },
        {
          "name": "stderr",
          "output_type": "stream",
          "text": [
            "INFO:tensorflow:Assets written to: /Users/danielhuang/tinyML/Fine-tuning/model_checkpoint/assets\n"
          ]
        },
        {
          "name": "stdout",
          "output_type": "stream",
          "text": [
            "351/351 [==============================] - 20s 57ms/step - loss: 0.0202 - accuracy: 0.9935 - val_loss: 0.4414 - val_accuracy: 0.8986\n",
            "Epoch 128/182\n",
            "351/351 [==============================] - ETA: 0s - loss: 0.0200 - accuracy: 0.9936INFO:tensorflow:Assets written to: /Users/danielhuang/tinyML/Fine-tuning/model_checkpoint/assets\n"
          ]
        },
        {
          "name": "stderr",
          "output_type": "stream",
          "text": [
            "INFO:tensorflow:Assets written to: /Users/danielhuang/tinyML/Fine-tuning/model_checkpoint/assets\n"
          ]
        },
        {
          "name": "stdout",
          "output_type": "stream",
          "text": [
            "351/351 [==============================] - 25s 72ms/step - loss: 0.0200 - accuracy: 0.9936 - val_loss: 0.4270 - val_accuracy: 0.9066\n",
            "Epoch 129/182\n",
            "351/351 [==============================] - ETA: 0s - loss: 0.0213 - accuracy: 0.9929INFO:tensorflow:Assets written to: /Users/danielhuang/tinyML/Fine-tuning/model_checkpoint/assets\n"
          ]
        },
        {
          "name": "stderr",
          "output_type": "stream",
          "text": [
            "INFO:tensorflow:Assets written to: /Users/danielhuang/tinyML/Fine-tuning/model_checkpoint/assets\n"
          ]
        },
        {
          "name": "stdout",
          "output_type": "stream",
          "text": [
            "351/351 [==============================] - 22s 64ms/step - loss: 0.0213 - accuracy: 0.9929 - val_loss: 0.4510 - val_accuracy: 0.9037\n",
            "Epoch 130/182\n",
            "351/351 [==============================] - ETA: 0s - loss: 0.0192 - accuracy: 0.9943INFO:tensorflow:Assets written to: /Users/danielhuang/tinyML/Fine-tuning/model_checkpoint/assets\n"
          ]
        },
        {
          "name": "stderr",
          "output_type": "stream",
          "text": [
            "INFO:tensorflow:Assets written to: /Users/danielhuang/tinyML/Fine-tuning/model_checkpoint/assets\n"
          ]
        },
        {
          "name": "stdout",
          "output_type": "stream",
          "text": [
            "351/351 [==============================] - 23s 65ms/step - loss: 0.0192 - accuracy: 0.9943 - val_loss: 0.4608 - val_accuracy: 0.8990\n",
            "Epoch 131/182\n",
            "351/351 [==============================] - ETA: 0s - loss: 0.0198 - accuracy: 0.9935INFO:tensorflow:Assets written to: /Users/danielhuang/tinyML/Fine-tuning/model_checkpoint/assets\n"
          ]
        },
        {
          "name": "stderr",
          "output_type": "stream",
          "text": [
            "INFO:tensorflow:Assets written to: /Users/danielhuang/tinyML/Fine-tuning/model_checkpoint/assets\n"
          ]
        },
        {
          "name": "stdout",
          "output_type": "stream",
          "text": [
            "351/351 [==============================] - 24s 70ms/step - loss: 0.0198 - accuracy: 0.9935 - val_loss: 0.4547 - val_accuracy: 0.9054\n",
            "Epoch 132/182\n",
            "351/351 [==============================] - ETA: 0s - loss: 0.0184 - accuracy: 0.9942INFO:tensorflow:Assets written to: /Users/danielhuang/tinyML/Fine-tuning/model_checkpoint/assets\n"
          ]
        },
        {
          "name": "stderr",
          "output_type": "stream",
          "text": [
            "INFO:tensorflow:Assets written to: /Users/danielhuang/tinyML/Fine-tuning/model_checkpoint/assets\n"
          ]
        },
        {
          "name": "stdout",
          "output_type": "stream",
          "text": [
            "351/351 [==============================] - 23s 65ms/step - loss: 0.0184 - accuracy: 0.9942 - val_loss: 0.4835 - val_accuracy: 0.8968\n",
            "Epoch 133/182\n",
            "351/351 [==============================] - ETA: 0s - loss: 0.0189 - accuracy: 0.9942INFO:tensorflow:Assets written to: /Users/danielhuang/tinyML/Fine-tuning/model_checkpoint/assets\n"
          ]
        },
        {
          "name": "stderr",
          "output_type": "stream",
          "text": [
            "INFO:tensorflow:Assets written to: /Users/danielhuang/tinyML/Fine-tuning/model_checkpoint/assets\n"
          ]
        },
        {
          "name": "stdout",
          "output_type": "stream",
          "text": [
            "351/351 [==============================] - 23s 65ms/step - loss: 0.0189 - accuracy: 0.9942 - val_loss: 0.4744 - val_accuracy: 0.8970\n",
            "Epoch 134/182\n",
            "351/351 [==============================] - ETA: 0s - loss: 0.0173 - accuracy: 0.9946INFO:tensorflow:Assets written to: /Users/danielhuang/tinyML/Fine-tuning/model_checkpoint/assets\n"
          ]
        },
        {
          "name": "stderr",
          "output_type": "stream",
          "text": [
            "INFO:tensorflow:Assets written to: /Users/danielhuang/tinyML/Fine-tuning/model_checkpoint/assets\n"
          ]
        },
        {
          "name": "stdout",
          "output_type": "stream",
          "text": [
            "351/351 [==============================] - 21s 61ms/step - loss: 0.0173 - accuracy: 0.9946 - val_loss: 0.4586 - val_accuracy: 0.9005\n",
            "Epoch 135/182\n",
            "351/351 [==============================] - ETA: 0s - loss: 0.0189 - accuracy: 0.9940INFO:tensorflow:Assets written to: /Users/danielhuang/tinyML/Fine-tuning/model_checkpoint/assets\n"
          ]
        },
        {
          "name": "stderr",
          "output_type": "stream",
          "text": [
            "INFO:tensorflow:Assets written to: /Users/danielhuang/tinyML/Fine-tuning/model_checkpoint/assets\n"
          ]
        },
        {
          "name": "stdout",
          "output_type": "stream",
          "text": [
            "351/351 [==============================] - 21s 60ms/step - loss: 0.0189 - accuracy: 0.9940 - val_loss: 0.4761 - val_accuracy: 0.8974\n",
            "Epoch 136/182\n",
            "350/351 [============================>.] - ETA: 0s - loss: 0.0182 - accuracy: 0.9941INFO:tensorflow:Assets written to: /Users/danielhuang/tinyML/Fine-tuning/model_checkpoint/assets\n"
          ]
        },
        {
          "name": "stderr",
          "output_type": "stream",
          "text": [
            "INFO:tensorflow:Assets written to: /Users/danielhuang/tinyML/Fine-tuning/model_checkpoint/assets\n"
          ]
        },
        {
          "name": "stdout",
          "output_type": "stream",
          "text": [
            "351/351 [==============================] - 21s 60ms/step - loss: 0.0183 - accuracy: 0.9941 - val_loss: 0.4724 - val_accuracy: 0.8986\n",
            "Epoch 137/182\n",
            "351/351 [==============================] - ETA: 0s - loss: 0.0177 - accuracy: 0.9946INFO:tensorflow:Assets written to: /Users/danielhuang/tinyML/Fine-tuning/model_checkpoint/assets\n"
          ]
        },
        {
          "name": "stderr",
          "output_type": "stream",
          "text": [
            "INFO:tensorflow:Assets written to: /Users/danielhuang/tinyML/Fine-tuning/model_checkpoint/assets\n"
          ]
        },
        {
          "name": "stdout",
          "output_type": "stream",
          "text": [
            "351/351 [==============================] - 21s 59ms/step - loss: 0.0177 - accuracy: 0.9946 - val_loss: 0.4640 - val_accuracy: 0.9019\n",
            "Epoch 138/182\n",
            "351/351 [==============================] - ETA: 0s - loss: 0.0181 - accuracy: 0.9944INFO:tensorflow:Assets written to: /Users/danielhuang/tinyML/Fine-tuning/model_checkpoint/assets\n"
          ]
        },
        {
          "name": "stderr",
          "output_type": "stream",
          "text": [
            "INFO:tensorflow:Assets written to: /Users/danielhuang/tinyML/Fine-tuning/model_checkpoint/assets\n"
          ]
        },
        {
          "name": "stdout",
          "output_type": "stream",
          "text": [
            "351/351 [==============================] - 21s 60ms/step - loss: 0.0181 - accuracy: 0.9944 - val_loss: 0.4449 - val_accuracy: 0.9009\n",
            "Epoch 139/182\n",
            "351/351 [==============================] - ETA: 0s - loss: 0.0180 - accuracy: 0.9945INFO:tensorflow:Assets written to: /Users/danielhuang/tinyML/Fine-tuning/model_checkpoint/assets\n"
          ]
        },
        {
          "name": "stderr",
          "output_type": "stream",
          "text": [
            "INFO:tensorflow:Assets written to: /Users/danielhuang/tinyML/Fine-tuning/model_checkpoint/assets\n"
          ]
        },
        {
          "name": "stdout",
          "output_type": "stream",
          "text": [
            "351/351 [==============================] - 22s 61ms/step - loss: 0.0180 - accuracy: 0.9945 - val_loss: 0.4588 - val_accuracy: 0.8974\n",
            "Epoch 140/182\n",
            "351/351 [==============================] - ETA: 0s - loss: 0.0181 - accuracy: 0.9941INFO:tensorflow:Assets written to: /Users/danielhuang/tinyML/Fine-tuning/model_checkpoint/assets\n"
          ]
        },
        {
          "name": "stderr",
          "output_type": "stream",
          "text": [
            "INFO:tensorflow:Assets written to: /Users/danielhuang/tinyML/Fine-tuning/model_checkpoint/assets\n"
          ]
        },
        {
          "name": "stdout",
          "output_type": "stream",
          "text": [
            "351/351 [==============================] - 21s 60ms/step - loss: 0.0181 - accuracy: 0.9941 - val_loss: 0.4994 - val_accuracy: 0.8980\n",
            "Epoch 141/182\n",
            "351/351 [==============================] - ETA: 0s - loss: 0.0166 - accuracy: 0.9951INFO:tensorflow:Assets written to: /Users/danielhuang/tinyML/Fine-tuning/model_checkpoint/assets\n"
          ]
        },
        {
          "name": "stderr",
          "output_type": "stream",
          "text": [
            "INFO:tensorflow:Assets written to: /Users/danielhuang/tinyML/Fine-tuning/model_checkpoint/assets\n"
          ]
        },
        {
          "name": "stdout",
          "output_type": "stream",
          "text": [
            "351/351 [==============================] - 24s 69ms/step - loss: 0.0166 - accuracy: 0.9951 - val_loss: 0.4311 - val_accuracy: 0.9052\n",
            "Epoch 142/182\n",
            "351/351 [==============================] - ETA: 0s - loss: 0.0155 - accuracy: 0.9953INFO:tensorflow:Assets written to: /Users/danielhuang/tinyML/Fine-tuning/model_checkpoint/assets\n"
          ]
        },
        {
          "name": "stderr",
          "output_type": "stream",
          "text": [
            "INFO:tensorflow:Assets written to: /Users/danielhuang/tinyML/Fine-tuning/model_checkpoint/assets\n"
          ]
        },
        {
          "name": "stdout",
          "output_type": "stream",
          "text": [
            "351/351 [==============================] - 23s 65ms/step - loss: 0.0155 - accuracy: 0.9953 - val_loss: 0.4872 - val_accuracy: 0.8984\n",
            "Epoch 143/182\n",
            "351/351 [==============================] - ETA: 0s - loss: 0.0166 - accuracy: 0.9950INFO:tensorflow:Assets written to: /Users/danielhuang/tinyML/Fine-tuning/model_checkpoint/assets\n"
          ]
        },
        {
          "name": "stderr",
          "output_type": "stream",
          "text": [
            "INFO:tensorflow:Assets written to: /Users/danielhuang/tinyML/Fine-tuning/model_checkpoint/assets\n"
          ]
        },
        {
          "name": "stdout",
          "output_type": "stream",
          "text": [
            "351/351 [==============================] - 22s 62ms/step - loss: 0.0166 - accuracy: 0.9950 - val_loss: 0.4907 - val_accuracy: 0.8941\n",
            "Epoch 144/182\n",
            "351/351 [==============================] - ETA: 0s - loss: 0.0163 - accuracy: 0.9953INFO:tensorflow:Assets written to: /Users/danielhuang/tinyML/Fine-tuning/model_checkpoint/assets\n"
          ]
        },
        {
          "name": "stderr",
          "output_type": "stream",
          "text": [
            "INFO:tensorflow:Assets written to: /Users/danielhuang/tinyML/Fine-tuning/model_checkpoint/assets\n"
          ]
        },
        {
          "name": "stdout",
          "output_type": "stream",
          "text": [
            "351/351 [==============================] - 21s 61ms/step - loss: 0.0163 - accuracy: 0.9953 - val_loss: 0.4244 - val_accuracy: 0.9062\n",
            "Epoch 145/182\n",
            "350/351 [============================>.] - ETA: 0s - loss: 0.0163 - accuracy: 0.9955INFO:tensorflow:Assets written to: /Users/danielhuang/tinyML/Fine-tuning/model_checkpoint/assets\n"
          ]
        },
        {
          "name": "stderr",
          "output_type": "stream",
          "text": [
            "INFO:tensorflow:Assets written to: /Users/danielhuang/tinyML/Fine-tuning/model_checkpoint/assets\n"
          ]
        },
        {
          "name": "stdout",
          "output_type": "stream",
          "text": [
            "351/351 [==============================] - 21s 61ms/step - loss: 0.0163 - accuracy: 0.9955 - val_loss: 0.4909 - val_accuracy: 0.8929\n",
            "Epoch 146/182\n",
            "351/351 [==============================] - ETA: 0s - loss: 0.0168 - accuracy: 0.9948INFO:tensorflow:Assets written to: /Users/danielhuang/tinyML/Fine-tuning/model_checkpoint/assets\n"
          ]
        },
        {
          "name": "stderr",
          "output_type": "stream",
          "text": [
            "INFO:tensorflow:Assets written to: /Users/danielhuang/tinyML/Fine-tuning/model_checkpoint/assets\n"
          ]
        },
        {
          "name": "stdout",
          "output_type": "stream",
          "text": [
            "351/351 [==============================] - 21s 61ms/step - loss: 0.0168 - accuracy: 0.9948 - val_loss: 0.4985 - val_accuracy: 0.8992\n",
            "Epoch 147/182\n",
            "351/351 [==============================] - ETA: 0s - loss: 0.0166 - accuracy: 0.9946INFO:tensorflow:Assets written to: /Users/danielhuang/tinyML/Fine-tuning/model_checkpoint/assets\n"
          ]
        },
        {
          "name": "stderr",
          "output_type": "stream",
          "text": [
            "INFO:tensorflow:Assets written to: /Users/danielhuang/tinyML/Fine-tuning/model_checkpoint/assets\n"
          ]
        },
        {
          "name": "stdout",
          "output_type": "stream",
          "text": [
            "351/351 [==============================] - 22s 64ms/step - loss: 0.0166 - accuracy: 0.9946 - val_loss: 0.4958 - val_accuracy: 0.8963\n",
            "Epoch 148/182\n",
            "351/351 [==============================] - ETA: 0s - loss: 0.0172 - accuracy: 0.9944INFO:tensorflow:Assets written to: /Users/danielhuang/tinyML/Fine-tuning/model_checkpoint/assets\n"
          ]
        },
        {
          "name": "stderr",
          "output_type": "stream",
          "text": [
            "INFO:tensorflow:Assets written to: /Users/danielhuang/tinyML/Fine-tuning/model_checkpoint/assets\n"
          ]
        },
        {
          "name": "stdout",
          "output_type": "stream",
          "text": [
            "351/351 [==============================] - 23s 66ms/step - loss: 0.0172 - accuracy: 0.9944 - val_loss: 0.4601 - val_accuracy: 0.9025\n",
            "Epoch 149/182\n",
            "350/351 [============================>.] - ETA: 0s - loss: 0.0180 - accuracy: 0.9941INFO:tensorflow:Assets written to: /Users/danielhuang/tinyML/Fine-tuning/model_checkpoint/assets\n"
          ]
        },
        {
          "name": "stderr",
          "output_type": "stream",
          "text": [
            "INFO:tensorflow:Assets written to: /Users/danielhuang/tinyML/Fine-tuning/model_checkpoint/assets\n"
          ]
        },
        {
          "name": "stdout",
          "output_type": "stream",
          "text": [
            "351/351 [==============================] - 23s 66ms/step - loss: 0.0181 - accuracy: 0.9940 - val_loss: 0.4770 - val_accuracy: 0.9023\n",
            "Epoch 150/182\n",
            "350/351 [============================>.] - ETA: 0s - loss: 0.0156 - accuracy: 0.9953INFO:tensorflow:Assets written to: /Users/danielhuang/tinyML/Fine-tuning/model_checkpoint/assets\n"
          ]
        },
        {
          "name": "stderr",
          "output_type": "stream",
          "text": [
            "INFO:tensorflow:Assets written to: /Users/danielhuang/tinyML/Fine-tuning/model_checkpoint/assets\n"
          ]
        },
        {
          "name": "stdout",
          "output_type": "stream",
          "text": [
            "351/351 [==============================] - 23s 64ms/step - loss: 0.0156 - accuracy: 0.9953 - val_loss: 0.4671 - val_accuracy: 0.9031\n",
            "Epoch 151/182\n",
            "351/351 [==============================] - ETA: 0s - loss: 0.0163 - accuracy: 0.9949INFO:tensorflow:Assets written to: /Users/danielhuang/tinyML/Fine-tuning/model_checkpoint/assets\n"
          ]
        },
        {
          "name": "stderr",
          "output_type": "stream",
          "text": [
            "INFO:tensorflow:Assets written to: /Users/danielhuang/tinyML/Fine-tuning/model_checkpoint/assets\n"
          ]
        },
        {
          "name": "stdout",
          "output_type": "stream",
          "text": [
            "351/351 [==============================] - 22s 63ms/step - loss: 0.0163 - accuracy: 0.9949 - val_loss: 0.4590 - val_accuracy: 0.9015\n",
            "Epoch 152/182\n",
            "350/351 [============================>.] - ETA: 0s - loss: 0.0173 - accuracy: 0.9949INFO:tensorflow:Assets written to: /Users/danielhuang/tinyML/Fine-tuning/model_checkpoint/assets\n"
          ]
        },
        {
          "name": "stderr",
          "output_type": "stream",
          "text": [
            "INFO:tensorflow:Assets written to: /Users/danielhuang/tinyML/Fine-tuning/model_checkpoint/assets\n"
          ]
        },
        {
          "name": "stdout",
          "output_type": "stream",
          "text": [
            "351/351 [==============================] - 22s 62ms/step - loss: 0.0172 - accuracy: 0.9949 - val_loss: 0.4612 - val_accuracy: 0.8970\n",
            "Epoch 153/182\n",
            "351/351 [==============================] - ETA: 0s - loss: 0.0164 - accuracy: 0.9949INFO:tensorflow:Assets written to: /Users/danielhuang/tinyML/Fine-tuning/model_checkpoint/assets\n"
          ]
        },
        {
          "name": "stderr",
          "output_type": "stream",
          "text": [
            "INFO:tensorflow:Assets written to: /Users/danielhuang/tinyML/Fine-tuning/model_checkpoint/assets\n"
          ]
        },
        {
          "name": "stdout",
          "output_type": "stream",
          "text": [
            "351/351 [==============================] - 21s 61ms/step - loss: 0.0164 - accuracy: 0.9949 - val_loss: 0.4651 - val_accuracy: 0.9027\n",
            "Epoch 154/182\n",
            "351/351 [==============================] - ETA: 0s - loss: 0.0158 - accuracy: 0.9952INFO:tensorflow:Assets written to: /Users/danielhuang/tinyML/Fine-tuning/model_checkpoint/assets\n"
          ]
        },
        {
          "name": "stderr",
          "output_type": "stream",
          "text": [
            "INFO:tensorflow:Assets written to: /Users/danielhuang/tinyML/Fine-tuning/model_checkpoint/assets\n"
          ]
        },
        {
          "name": "stdout",
          "output_type": "stream",
          "text": [
            "351/351 [==============================] - 22s 62ms/step - loss: 0.0158 - accuracy: 0.9952 - val_loss: 0.4501 - val_accuracy: 0.9089\n",
            "Epoch 155/182\n",
            "351/351 [==============================] - ETA: 0s - loss: 0.0162 - accuracy: 0.9948INFO:tensorflow:Assets written to: /Users/danielhuang/tinyML/Fine-tuning/model_checkpoint/assets\n"
          ]
        },
        {
          "name": "stderr",
          "output_type": "stream",
          "text": [
            "INFO:tensorflow:Assets written to: /Users/danielhuang/tinyML/Fine-tuning/model_checkpoint/assets\n"
          ]
        },
        {
          "name": "stdout",
          "output_type": "stream",
          "text": [
            "351/351 [==============================] - 23s 65ms/step - loss: 0.0162 - accuracy: 0.9948 - val_loss: 0.4893 - val_accuracy: 0.8984\n",
            "Epoch 156/182\n",
            "351/351 [==============================] - ETA: 0s - loss: 0.0155 - accuracy: 0.9951INFO:tensorflow:Assets written to: /Users/danielhuang/tinyML/Fine-tuning/model_checkpoint/assets\n"
          ]
        },
        {
          "name": "stderr",
          "output_type": "stream",
          "text": [
            "INFO:tensorflow:Assets written to: /Users/danielhuang/tinyML/Fine-tuning/model_checkpoint/assets\n"
          ]
        },
        {
          "name": "stdout",
          "output_type": "stream",
          "text": [
            "351/351 [==============================] - 24s 68ms/step - loss: 0.0155 - accuracy: 0.9951 - val_loss: 0.4665 - val_accuracy: 0.9054\n",
            "Epoch 157/182\n",
            "351/351 [==============================] - ETA: 0s - loss: 0.0163 - accuracy: 0.9952INFO:tensorflow:Assets written to: /Users/danielhuang/tinyML/Fine-tuning/model_checkpoint/assets\n"
          ]
        },
        {
          "name": "stderr",
          "output_type": "stream",
          "text": [
            "INFO:tensorflow:Assets written to: /Users/danielhuang/tinyML/Fine-tuning/model_checkpoint/assets\n"
          ]
        },
        {
          "name": "stdout",
          "output_type": "stream",
          "text": [
            "351/351 [==============================] - 22s 63ms/step - loss: 0.0163 - accuracy: 0.9952 - val_loss: 0.4941 - val_accuracy: 0.8922\n",
            "Epoch 158/182\n",
            "351/351 [==============================] - ETA: 0s - loss: 0.0164 - accuracy: 0.9952INFO:tensorflow:Assets written to: /Users/danielhuang/tinyML/Fine-tuning/model_checkpoint/assets\n"
          ]
        },
        {
          "name": "stderr",
          "output_type": "stream",
          "text": [
            "INFO:tensorflow:Assets written to: /Users/danielhuang/tinyML/Fine-tuning/model_checkpoint/assets\n"
          ]
        },
        {
          "name": "stdout",
          "output_type": "stream",
          "text": [
            "351/351 [==============================] - 22s 61ms/step - loss: 0.0164 - accuracy: 0.9952 - val_loss: 0.4450 - val_accuracy: 0.9037\n",
            "Epoch 159/182\n",
            "350/351 [============================>.] - ETA: 0s - loss: 0.0154 - accuracy: 0.9951INFO:tensorflow:Assets written to: /Users/danielhuang/tinyML/Fine-tuning/model_checkpoint/assets\n"
          ]
        },
        {
          "name": "stderr",
          "output_type": "stream",
          "text": [
            "INFO:tensorflow:Assets written to: /Users/danielhuang/tinyML/Fine-tuning/model_checkpoint/assets\n"
          ]
        },
        {
          "name": "stdout",
          "output_type": "stream",
          "text": [
            "351/351 [==============================] - 21s 61ms/step - loss: 0.0154 - accuracy: 0.9951 - val_loss: 0.4619 - val_accuracy: 0.9029\n",
            "Epoch 160/182\n",
            "351/351 [==============================] - ETA: 0s - loss: 0.0162 - accuracy: 0.9952INFO:tensorflow:Assets written to: /Users/danielhuang/tinyML/Fine-tuning/model_checkpoint/assets\n"
          ]
        },
        {
          "name": "stderr",
          "output_type": "stream",
          "text": [
            "INFO:tensorflow:Assets written to: /Users/danielhuang/tinyML/Fine-tuning/model_checkpoint/assets\n"
          ]
        },
        {
          "name": "stdout",
          "output_type": "stream",
          "text": [
            "351/351 [==============================] - 22s 62ms/step - loss: 0.0162 - accuracy: 0.9952 - val_loss: 0.4671 - val_accuracy: 0.9029\n",
            "Epoch 161/182\n",
            "351/351 [==============================] - ETA: 0s - loss: 0.0167 - accuracy: 0.9949INFO:tensorflow:Assets written to: /Users/danielhuang/tinyML/Fine-tuning/model_checkpoint/assets\n"
          ]
        },
        {
          "name": "stderr",
          "output_type": "stream",
          "text": [
            "INFO:tensorflow:Assets written to: /Users/danielhuang/tinyML/Fine-tuning/model_checkpoint/assets\n"
          ]
        },
        {
          "name": "stdout",
          "output_type": "stream",
          "text": [
            "351/351 [==============================] - 22s 63ms/step - loss: 0.0167 - accuracy: 0.9949 - val_loss: 0.4732 - val_accuracy: 0.9016\n",
            "Epoch 162/182\n",
            "350/351 [============================>.] - ETA: 0s - loss: 0.0158 - accuracy: 0.9951INFO:tensorflow:Assets written to: /Users/danielhuang/tinyML/Fine-tuning/model_checkpoint/assets\n"
          ]
        },
        {
          "name": "stderr",
          "output_type": "stream",
          "text": [
            "INFO:tensorflow:Assets written to: /Users/danielhuang/tinyML/Fine-tuning/model_checkpoint/assets\n"
          ]
        },
        {
          "name": "stdout",
          "output_type": "stream",
          "text": [
            "351/351 [==============================] - 22s 62ms/step - loss: 0.0157 - accuracy: 0.9951 - val_loss: 0.4602 - val_accuracy: 0.9027\n",
            "Epoch 163/182\n",
            "350/351 [============================>.] - ETA: 0s - loss: 0.0175 - accuracy: 0.9948INFO:tensorflow:Assets written to: /Users/danielhuang/tinyML/Fine-tuning/model_checkpoint/assets\n"
          ]
        },
        {
          "name": "stderr",
          "output_type": "stream",
          "text": [
            "INFO:tensorflow:Assets written to: /Users/danielhuang/tinyML/Fine-tuning/model_checkpoint/assets\n"
          ]
        },
        {
          "name": "stdout",
          "output_type": "stream",
          "text": [
            "351/351 [==============================] - 22s 62ms/step - loss: 0.0175 - accuracy: 0.9948 - val_loss: 0.4662 - val_accuracy: 0.9005\n",
            "Epoch 164/182\n",
            "350/351 [============================>.] - ETA: 0s - loss: 0.0160 - accuracy: 0.9952INFO:tensorflow:Assets written to: /Users/danielhuang/tinyML/Fine-tuning/model_checkpoint/assets\n"
          ]
        },
        {
          "name": "stderr",
          "output_type": "stream",
          "text": [
            "INFO:tensorflow:Assets written to: /Users/danielhuang/tinyML/Fine-tuning/model_checkpoint/assets\n"
          ]
        },
        {
          "name": "stdout",
          "output_type": "stream",
          "text": [
            "351/351 [==============================] - 22s 61ms/step - loss: 0.0160 - accuracy: 0.9952 - val_loss: 0.4745 - val_accuracy: 0.8955\n",
            "Epoch 165/182\n",
            "351/351 [==============================] - ETA: 0s - loss: 0.0147 - accuracy: 0.9959INFO:tensorflow:Assets written to: /Users/danielhuang/tinyML/Fine-tuning/model_checkpoint/assets\n"
          ]
        },
        {
          "name": "stderr",
          "output_type": "stream",
          "text": [
            "INFO:tensorflow:Assets written to: /Users/danielhuang/tinyML/Fine-tuning/model_checkpoint/assets\n"
          ]
        },
        {
          "name": "stdout",
          "output_type": "stream",
          "text": [
            "351/351 [==============================] - 21s 61ms/step - loss: 0.0147 - accuracy: 0.9959 - val_loss: 0.4735 - val_accuracy: 0.8976\n",
            "Epoch 166/182\n",
            "350/351 [============================>.] - ETA: 0s - loss: 0.0166 - accuracy: 0.9951INFO:tensorflow:Assets written to: /Users/danielhuang/tinyML/Fine-tuning/model_checkpoint/assets\n"
          ]
        },
        {
          "name": "stderr",
          "output_type": "stream",
          "text": [
            "INFO:tensorflow:Assets written to: /Users/danielhuang/tinyML/Fine-tuning/model_checkpoint/assets\n"
          ]
        },
        {
          "name": "stdout",
          "output_type": "stream",
          "text": [
            "351/351 [==============================] - 22s 62ms/step - loss: 0.0166 - accuracy: 0.9951 - val_loss: 0.4623 - val_accuracy: 0.9048\n",
            "Epoch 167/182\n",
            "351/351 [==============================] - ETA: 0s - loss: 0.0169 - accuracy: 0.9949INFO:tensorflow:Assets written to: /Users/danielhuang/tinyML/Fine-tuning/model_checkpoint/assets\n"
          ]
        },
        {
          "name": "stderr",
          "output_type": "stream",
          "text": [
            "INFO:tensorflow:Assets written to: /Users/danielhuang/tinyML/Fine-tuning/model_checkpoint/assets\n"
          ]
        },
        {
          "name": "stdout",
          "output_type": "stream",
          "text": [
            "351/351 [==============================] - 22s 63ms/step - loss: 0.0169 - accuracy: 0.9949 - val_loss: 0.4940 - val_accuracy: 0.8994\n",
            "Epoch 168/182\n",
            "350/351 [============================>.] - ETA: 0s - loss: 0.0167 - accuracy: 0.9948INFO:tensorflow:Assets written to: /Users/danielhuang/tinyML/Fine-tuning/model_checkpoint/assets\n"
          ]
        },
        {
          "name": "stderr",
          "output_type": "stream",
          "text": [
            "INFO:tensorflow:Assets written to: /Users/danielhuang/tinyML/Fine-tuning/model_checkpoint/assets\n"
          ]
        },
        {
          "name": "stdout",
          "output_type": "stream",
          "text": [
            "351/351 [==============================] - 21s 61ms/step - loss: 0.0168 - accuracy: 0.9948 - val_loss: 0.4546 - val_accuracy: 0.9025\n",
            "Epoch 169/182\n",
            "351/351 [==============================] - ETA: 0s - loss: 0.0158 - accuracy: 0.9949INFO:tensorflow:Assets written to: /Users/danielhuang/tinyML/Fine-tuning/model_checkpoint/assets\n"
          ]
        },
        {
          "name": "stderr",
          "output_type": "stream",
          "text": [
            "INFO:tensorflow:Assets written to: /Users/danielhuang/tinyML/Fine-tuning/model_checkpoint/assets\n"
          ]
        },
        {
          "name": "stdout",
          "output_type": "stream",
          "text": [
            "351/351 [==============================] - 22s 61ms/step - loss: 0.0158 - accuracy: 0.9949 - val_loss: 0.4764 - val_accuracy: 0.9005\n",
            "Epoch 170/182\n",
            "350/351 [============================>.] - ETA: 0s - loss: 0.0180 - accuracy: 0.9948INFO:tensorflow:Assets written to: /Users/danielhuang/tinyML/Fine-tuning/model_checkpoint/assets\n"
          ]
        },
        {
          "name": "stderr",
          "output_type": "stream",
          "text": [
            "INFO:tensorflow:Assets written to: /Users/danielhuang/tinyML/Fine-tuning/model_checkpoint/assets\n"
          ]
        },
        {
          "name": "stdout",
          "output_type": "stream",
          "text": [
            "351/351 [==============================] - 21s 61ms/step - loss: 0.0179 - accuracy: 0.9948 - val_loss: 0.4617 - val_accuracy: 0.9011\n",
            "Epoch 171/182\n",
            "351/351 [==============================] - ETA: 0s - loss: 0.0156 - accuracy: 0.9950INFO:tensorflow:Assets written to: /Users/danielhuang/tinyML/Fine-tuning/model_checkpoint/assets\n"
          ]
        },
        {
          "name": "stderr",
          "output_type": "stream",
          "text": [
            "INFO:tensorflow:Assets written to: /Users/danielhuang/tinyML/Fine-tuning/model_checkpoint/assets\n"
          ]
        },
        {
          "name": "stdout",
          "output_type": "stream",
          "text": [
            "351/351 [==============================] - 23s 66ms/step - loss: 0.0156 - accuracy: 0.9950 - val_loss: 0.4681 - val_accuracy: 0.8982\n",
            "Epoch 172/182\n",
            "351/351 [==============================] - ETA: 0s - loss: 0.0163 - accuracy: 0.9948INFO:tensorflow:Assets written to: /Users/danielhuang/tinyML/Fine-tuning/model_checkpoint/assets\n"
          ]
        },
        {
          "name": "stderr",
          "output_type": "stream",
          "text": [
            "INFO:tensorflow:Assets written to: /Users/danielhuang/tinyML/Fine-tuning/model_checkpoint/assets\n"
          ]
        },
        {
          "name": "stdout",
          "output_type": "stream",
          "text": [
            "351/351 [==============================] - 22s 64ms/step - loss: 0.0163 - accuracy: 0.9948 - val_loss: 0.4796 - val_accuracy: 0.9009\n",
            "Epoch 173/182\n",
            "351/351 [==============================] - ETA: 0s - loss: 0.0153 - accuracy: 0.9959INFO:tensorflow:Assets written to: /Users/danielhuang/tinyML/Fine-tuning/model_checkpoint/assets\n"
          ]
        },
        {
          "name": "stderr",
          "output_type": "stream",
          "text": [
            "INFO:tensorflow:Assets written to: /Users/danielhuang/tinyML/Fine-tuning/model_checkpoint/assets\n"
          ]
        },
        {
          "name": "stdout",
          "output_type": "stream",
          "text": [
            "351/351 [==============================] - 23s 66ms/step - loss: 0.0153 - accuracy: 0.9959 - val_loss: 0.4579 - val_accuracy: 0.9029\n",
            "Epoch 174/182\n",
            "350/351 [============================>.] - ETA: 0s - loss: 0.0159 - accuracy: 0.9951INFO:tensorflow:Assets written to: /Users/danielhuang/tinyML/Fine-tuning/model_checkpoint/assets\n"
          ]
        },
        {
          "name": "stderr",
          "output_type": "stream",
          "text": [
            "INFO:tensorflow:Assets written to: /Users/danielhuang/tinyML/Fine-tuning/model_checkpoint/assets\n"
          ]
        },
        {
          "name": "stdout",
          "output_type": "stream",
          "text": [
            "351/351 [==============================] - 22s 62ms/step - loss: 0.0159 - accuracy: 0.9951 - val_loss: 0.4844 - val_accuracy: 0.9021\n",
            "Epoch 175/182\n",
            "351/351 [==============================] - ETA: 0s - loss: 0.0170 - accuracy: 0.9946INFO:tensorflow:Assets written to: /Users/danielhuang/tinyML/Fine-tuning/model_checkpoint/assets\n"
          ]
        },
        {
          "name": "stderr",
          "output_type": "stream",
          "text": [
            "INFO:tensorflow:Assets written to: /Users/danielhuang/tinyML/Fine-tuning/model_checkpoint/assets\n"
          ]
        },
        {
          "name": "stdout",
          "output_type": "stream",
          "text": [
            "351/351 [==============================] - 21s 61ms/step - loss: 0.0170 - accuracy: 0.9946 - val_loss: 0.5127 - val_accuracy: 0.8974\n",
            "Epoch 176/182\n",
            "351/351 [==============================] - ETA: 0s - loss: 0.0158 - accuracy: 0.9950INFO:tensorflow:Assets written to: /Users/danielhuang/tinyML/Fine-tuning/model_checkpoint/assets\n"
          ]
        },
        {
          "name": "stderr",
          "output_type": "stream",
          "text": [
            "INFO:tensorflow:Assets written to: /Users/danielhuang/tinyML/Fine-tuning/model_checkpoint/assets\n"
          ]
        },
        {
          "name": "stdout",
          "output_type": "stream",
          "text": [
            "351/351 [==============================] - 21s 60ms/step - loss: 0.0158 - accuracy: 0.9950 - val_loss: 0.4851 - val_accuracy: 0.8980\n",
            "Epoch 177/182\n",
            "350/351 [============================>.] - ETA: 0s - loss: 0.0147 - accuracy: 0.9958INFO:tensorflow:Assets written to: /Users/danielhuang/tinyML/Fine-tuning/model_checkpoint/assets\n"
          ]
        },
        {
          "name": "stderr",
          "output_type": "stream",
          "text": [
            "INFO:tensorflow:Assets written to: /Users/danielhuang/tinyML/Fine-tuning/model_checkpoint/assets\n"
          ]
        },
        {
          "name": "stdout",
          "output_type": "stream",
          "text": [
            "351/351 [==============================] - 23s 66ms/step - loss: 0.0147 - accuracy: 0.9958 - val_loss: 0.4776 - val_accuracy: 0.8972\n",
            "Epoch 178/182\n",
            "350/351 [============================>.] - ETA: 0s - loss: 0.0162 - accuracy: 0.9947INFO:tensorflow:Assets written to: /Users/danielhuang/tinyML/Fine-tuning/model_checkpoint/assets\n"
          ]
        },
        {
          "name": "stderr",
          "output_type": "stream",
          "text": [
            "INFO:tensorflow:Assets written to: /Users/danielhuang/tinyML/Fine-tuning/model_checkpoint/assets\n"
          ]
        },
        {
          "name": "stdout",
          "output_type": "stream",
          "text": [
            "351/351 [==============================] - 21s 61ms/step - loss: 0.0162 - accuracy: 0.9947 - val_loss: 0.4583 - val_accuracy: 0.8998\n",
            "Epoch 179/182\n",
            "351/351 [==============================] - ETA: 0s - loss: 0.0147 - accuracy: 0.9957INFO:tensorflow:Assets written to: /Users/danielhuang/tinyML/Fine-tuning/model_checkpoint/assets\n"
          ]
        },
        {
          "name": "stderr",
          "output_type": "stream",
          "text": [
            "INFO:tensorflow:Assets written to: /Users/danielhuang/tinyML/Fine-tuning/model_checkpoint/assets\n"
          ]
        },
        {
          "name": "stdout",
          "output_type": "stream",
          "text": [
            "351/351 [==============================] - 21s 60ms/step - loss: 0.0147 - accuracy: 0.9957 - val_loss: 0.4539 - val_accuracy: 0.9033\n",
            "Epoch 180/182\n",
            "350/351 [============================>.] - ETA: 0s - loss: 0.0173 - accuracy: 0.9942INFO:tensorflow:Assets written to: /Users/danielhuang/tinyML/Fine-tuning/model_checkpoint/assets\n"
          ]
        },
        {
          "name": "stderr",
          "output_type": "stream",
          "text": [
            "INFO:tensorflow:Assets written to: /Users/danielhuang/tinyML/Fine-tuning/model_checkpoint/assets\n"
          ]
        },
        {
          "name": "stdout",
          "output_type": "stream",
          "text": [
            "351/351 [==============================] - 23s 65ms/step - loss: 0.0173 - accuracy: 0.9942 - val_loss: 0.4526 - val_accuracy: 0.9029\n",
            "Epoch 181/182\n",
            "350/351 [============================>.] - ETA: 0s - loss: 0.0159 - accuracy: 0.9952INFO:tensorflow:Assets written to: /Users/danielhuang/tinyML/Fine-tuning/model_checkpoint/assets\n"
          ]
        },
        {
          "name": "stderr",
          "output_type": "stream",
          "text": [
            "INFO:tensorflow:Assets written to: /Users/danielhuang/tinyML/Fine-tuning/model_checkpoint/assets\n"
          ]
        },
        {
          "name": "stdout",
          "output_type": "stream",
          "text": [
            "351/351 [==============================] - 22s 62ms/step - loss: 0.0160 - accuracy: 0.9952 - val_loss: 0.5007 - val_accuracy: 0.9015\n",
            "Epoch 182/182\n",
            "350/351 [============================>.] - ETA: 0s - loss: 0.0161 - accuracy: 0.9949INFO:tensorflow:Assets written to: /Users/danielhuang/tinyML/Fine-tuning/model_checkpoint/assets\n"
          ]
        },
        {
          "name": "stderr",
          "output_type": "stream",
          "text": [
            "INFO:tensorflow:Assets written to: /Users/danielhuang/tinyML/Fine-tuning/model_checkpoint/assets\n"
          ]
        },
        {
          "name": "stdout",
          "output_type": "stream",
          "text": [
            "351/351 [==============================] - 21s 61ms/step - loss: 0.0160 - accuracy: 0.9950 - val_loss: 0.4894 - val_accuracy: 0.8968\n",
            "Test loss: 0.5740565657615662 / Test accuracy: 0.8959000110626221\n"
          ]
        }
      ],
      "source": [
        "if __name__ == \"__main__\": \n",
        "    training_process()"
      ]
    }
  ],
  "metadata": {
    "kernelspec": {
      "display_name": "venv-metal",
      "language": "python",
      "name": "python3"
    },
    "language_info": {
      "codemirror_mode": {
        "name": "ipython",
        "version": 3
      },
      "file_extension": ".py",
      "mimetype": "text/x-python",
      "name": "python",
      "nbconvert_exporter": "python",
      "pygments_lexer": "ipython3",
      "version": "3.10.9"
    }
  },
  "nbformat": 4,
  "nbformat_minor": 4
}
