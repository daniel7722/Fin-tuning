{
  "cells": [
    {
      "cell_type": "code",
      "execution_count": 14,
      "metadata": {
        "trusted": true
      },
      "outputs": [],
      "source": [
        "import os\n",
        "import numpy as np\n",
        "import scipy\n",
        "import tensorflow\n",
        "from tensorflow.keras import Model\n",
        "from tensorflow.keras.datasets import cifar10\n",
        "from tensorflow.keras.layers import Add, GlobalAveragePooling2D,\\\n",
        "\tDense, Flatten, Conv2D, Lambda,\tInput, BatchNormalization, Activation\n",
        "from tensorflow.keras.optimizers import schedules, SGD\n",
        "from tensorflow.keras.callbacks import TensorBoard, ModelCheckpoint"
      ]
    },
    {
      "cell_type": "markdown",
      "metadata": {},
      "source": [
        "# Set up Configuration "
      ]
    },
    {
      "cell_type": "code",
      "execution_count": 15,
      "metadata": {},
      "outputs": [],
      "source": [
        "# Model Configuration\n",
        "def model_configuration(): \n",
        "    \"\"\"\n",
        "    Get the model configuration\n",
        "    \"\"\"\n",
        "\n",
        "    # Load dataset for computing dataset size\n",
        "    (input_train, _), (_, _) = load_dataset()\n",
        "\n",
        "    # Generic config\n",
        "    width, height, channels = 32, 32, 3\n",
        "    batch_size = 128\n",
        "    num_classes = 10\n",
        "    validation_split = 0.1\n",
        "    verbose = 1\n",
        "    n = 3\n",
        "    init_fm_dim = 16\n",
        "    shortcut_type = \"identity\"\n",
        "    \n",
        "    # Dataset size\n",
        "    train_size = (1 - validation_split)  * len(input_train)\n",
        "    val_size = (validation_split) * len(input_train)\n",
        "\n",
        "    # Number of steps per epoch is dependent on batch size\n",
        "    maximum_number_iterations = 64000\n",
        "    steps_per_epoch = tensorflow.math.floor(train_size / batch_size)\n",
        "    val_steps_per_epoch = tensorflow.math.floor(val_size / batch_size)\n",
        "    epochs = tensorflow.cast(tensorflow.math.floor(maximum_number_iterations / steps_per_epoch), dtype=tensorflow.int64)\n",
        "\n",
        "    # Define loss function\n",
        "    loss = tensorflow.keras.losses.CategoricalCrossentropy(from_logits=True)\n",
        "\n",
        "    # Learning rate config\n",
        "    boundaries = [32000, 48000]\n",
        "    values = [0.1, 0.01, 0.001]\n",
        "    lr_schedule = schedules.PiecewiseConstantDecay(boundaries, values)\n",
        "\n",
        "    # Set layer init\n",
        "    initialiser = tensorflow.keras.initializers.HeNormal()\n",
        "\n",
        "    # Define optimiser\n",
        "    optimiser_momentum = 0.9\n",
        "    optimiser_additional_metrics = [\"accuracy\"]\n",
        "    optimiser = SGD(learning_rate=lr_schedule, momentum=optimiser_momentum)\n",
        "\n",
        "    # Load Tensorboard callback\n",
        "    tensorboard = TensorBoard(\n",
        "\t    log_dir=os.path.join(os.getcwd(), \"logs\"),\n",
        "\t    histogram_freq=1,\n",
        "\t    write_images=True\n",
        "\t)\n",
        "\n",
        "    # Save a model checkpoint after every epoch\n",
        "    checkpoint = ModelCheckpoint(\n",
        "        os.path.join(os.getcwd(), \"model_checkpoint\"),\n",
        "        save_freq=\"epoch\"\n",
        "    )\n",
        "\n",
        "    # Add callbacks to list\n",
        "    callbacks = [\n",
        "        tensorboard,\n",
        "        checkpoint\n",
        "    ]\n",
        "\n",
        "    #Create config dictionary\n",
        "    config = {\n",
        "        \"width\": width,\n",
        "        \"height\": height,\n",
        "        \"dim\": channels,\n",
        "        \"batch_size\": batch_size,\n",
        "        \"num_classes\": num_classes,\n",
        "        \"validation_split\": validation_split,\n",
        "        \"verbose\": verbose,\n",
        "        \"stack_n\": n,\n",
        "        \"initial_num_feature_maps\": init_fm_dim,\n",
        "        \"training_ds_size\": train_size,\n",
        "        \"steps_per_epoch\": steps_per_epoch,\n",
        "        \"val_steps_per_epoch\": val_steps_per_epoch,\n",
        "        \"num_epochs\": epochs,\n",
        "        \"loss\": loss,\n",
        "        \"optim\": optimiser,\n",
        "        \"optim_learning_rate_schedule\": lr_schedule,\n",
        "        \"optim_momentum\": optimiser_momentum,\n",
        "        \"optim_additional_metrics\": optimiser_additional_metrics,\n",
        "        \"initialiser\": initialiser,\n",
        "        \"callbacks\": callbacks,\n",
        "        \"shortcut_type\": shortcut_type,\n",
        "        \"name\": \"ResNet20\"\n",
        "    }\n",
        "    return config"
      ]
    },
    {
      "cell_type": "markdown",
      "metadata": {},
      "source": [
        "# Loading Dataset"
      ]
    },
    {
      "cell_type": "code",
      "execution_count": 16,
      "metadata": {},
      "outputs": [],
      "source": [
        "def load_dataset():\n",
        "\t\"\"\"\n",
        "\t\tLoad the CIFAR-10 dataset\n",
        "\t\"\"\"\n",
        "\treturn cifar10.load_data()"
      ]
    },
    {
      "cell_type": "markdown",
      "metadata": {},
      "source": [
        "# Preprocessing\n",
        "## Cropping image"
      ]
    },
    {
      "cell_type": "code",
      "execution_count": 17,
      "metadata": {},
      "outputs": [],
      "source": [
        "def random_crop(img, random_crop_size): \n",
        "    # Note: image_data_format is 'channel_last'\n",
        "    # SOURCE: https://jkjung-avt.github.io/keras-image-cropping/\n",
        "\n",
        "    assert img.shape[2] == 3\n",
        "    height, width = img.shape[0], img.shape[1]\n",
        "    dy, dx = random_crop_size\n",
        "    x = np.random.randint(0, width - dx + 1)\n",
        "    y = np.random.randint(0, height - dy + 1)\n",
        "    return img[y:(y+dy), x:(x+dx), :]\n",
        "\n",
        "def crop_generator(batches, crop_length):\n",
        "    \"\"\"\n",
        "    Take as input a Keras ImageGen (Iterator) and generate random crops from the image batches generated by the original iterator\n",
        "    SOURCE: https://jkjung-avt.github.io/keras-image-cropping/\n",
        "    \"\"\"\n",
        "\n",
        "    while True: \n",
        "        batch_x, batch_y = next(batches)\n",
        "        batch_crops = np.zeros((batch_x.shape[0], crop_length, crop_length, 3))\n",
        "        for i in range(batch_x.shape[0]):\n",
        "            batch_crops[i] = random_crop(batch_x[i], (crop_length, crop_length))\n",
        "        yield (batch_crops, batch_y)"
      ]
    },
    {
      "cell_type": "code",
      "execution_count": 18,
      "metadata": {},
      "outputs": [],
      "source": [
        "def preprocessed_dataset(): \n",
        "    \"\"\"\n",
        "    Load and preprocess the CIFAR-10 dataset\n",
        "    \"\"\"\n",
        "    (input_train, target_train), (input_test, target_test) = load_dataset()\n",
        "\n",
        "    # Retrieve shape from model configuration and unpack into components\n",
        "    config = model_configuration()\n",
        "    width, height, dim = config.get(\"width\"), config.get(\"height\"), config.get(\"dim\")\n",
        "    num_classes = config.get(\"num_classes\")\n",
        "\n",
        "    # Data augmentation: perform zero padding on datasets\n",
        "    paddings = tensorflow.constant([[0,0,], [4,4], [4,4], [0,0]])\n",
        "    input_train = tensorflow.pad(input_train, paddings, mode=\"CONSTANT\")\n",
        "\n",
        "    # Convert scalar targets to categorical ones\n",
        "    target_train = tensorflow.keras.utils.to_categorical(target_train, num_classes)\n",
        "    target_test = tensorflow.keras.utils.to_categorical(target_test, num_classes)\n",
        "\n",
        "    # Data generator for training data\n",
        "    train_generator = tensorflow.keras.preprocessing.image.ImageDataGenerator(\n",
        "        validation_split=config.get(\"validation_split\"),\n",
        "        horizontal_flip=True,\n",
        "        rescale=1./255,\n",
        "        preprocessing_function = tensorflow.keras.applications.resnet50.preprocess_input\n",
        "    )\n",
        "\n",
        "    # Generate training and validation batches\n",
        "    train_batches = train_generator.flow(input_train, target_train, batch_size=config.get(\"batch_size\"), subset=\"training\")\n",
        "    validation_batches = train_generator.flow(input_train, target_train, batch_size=config.get(\"batch_size\"), subset=\"validation\")\n",
        "    train_batches = crop_generator(train_batches, config.get(\"height\"))\n",
        "    validation_batches = crop_generator(validation_batches, config.get(\"height\"))\n",
        "\n",
        "    # Data generator for testing data\n",
        "    test_generator = tensorflow.keras.preprocessing.image.ImageDataGenerator(\n",
        "        rescale=1./255,\n",
        "        preprocessing_function = tensorflow.keras.applications.resnet50.preprocess_input\n",
        "    )\n",
        "\n",
        "    # Generate testing batches\n",
        "    test_batches = test_generator.flow(input_test, target_test, batch_size=config.get(\"batch_size\"))\n",
        "\n",
        "    return train_batches, validation_batches, test_batches"
      ]
    },
    {
      "cell_type": "markdown",
      "metadata": {},
      "source": [
        "# Creating the Residual Block"
      ]
    },
    {
      "cell_type": "code",
      "execution_count": 19,
      "metadata": {},
      "outputs": [],
      "source": [
        "def residual_block(x, number_of_filters, match_filter_size=False):\n",
        "    \"\"\"\n",
        "    Residual block for ResNet\n",
        "    \"\"\"\n",
        "    # Retrieve initialiser\n",
        "    config = model_configuration()\n",
        "    initialiser = config.get(\"initialiser\")\n",
        "\n",
        "    # Create skip connection\n",
        "    x_skip = x\n",
        "\n",
        "    # Perform the original mapping\n",
        "    if match_filter_size: \n",
        "        x = Conv2D(number_of_filters, kernel_size=(3, 3), strides=(2, 2), kernel_initializer=initialiser,padding=\"same\")(x_skip)\n",
        "    else: \n",
        "        x = Conv2D(number_of_filters, kernel_size=(3, 3), strides=(1, 1), kernel_initializer=initialiser, padding=\"same\")(x_skip)\n",
        "\n",
        "    x = BatchNormalization(axis=3)(x)\n",
        "    x = Activation(\"relu\")(x)\n",
        "    x = Conv2D(number_of_filters, kernel_size=(3, 3), kernel_initializer=initialiser, padding=\"same\")(x)\n",
        "    x = BatchNormalization(axis=3)(x)\n",
        "\n",
        "    # Perform matching of filter numbers if necessary\n",
        "    if match_filter_size and config.get(\"shortcut_type\") == \"identity\": \n",
        "        x_skip = Lambda(lambda x: tensorflow.pad(x[:, ::2, ::2, :], tensorflow.constant([[0, 0,], [0, 0], [0, 0], [number_of_filters//4, number_of_filters//4]]), mode=\"CONSTANT\"))(x_skip)\n",
        "        x_skip = BatchNormalization(axis=3)(x_skip)\n",
        "    elif match_filter_size and config.get(\"shortcut_type\") == \"projection\":\n",
        "        x_skip = Conv2D(number_of_filters, kernel_size=(1,1), kernel_initializer=initializer, strides=(2,2))(x_skip)\n",
        "    \n",
        "    # Add the skip connection to the regular mapping\n",
        "    x = Add()([x, x_skip])\n",
        "\n",
        "    # Nonlinearly activate the result\n",
        "    x = Activation(\"relu\")(x)\n",
        "\n",
        "    # Return the result\n",
        "    return x"
      ]
    },
    {
      "cell_type": "code",
      "execution_count": 20,
      "metadata": {},
      "outputs": [],
      "source": [
        "def ResidualBlocks(x):\n",
        "    \"\"\" \n",
        "    Set up the residual blocks\n",
        "    \"\"\"\n",
        "\n",
        "    # Retrieve values\n",
        "    config = model_configuration()\n",
        "\n",
        "    # Set initial filter size\n",
        "    filter_size = config.get(\"initial_num_feature_maps\")\n",
        "\n",
        "    # 6n/2n = 3, there are 3 groups of residual blocks\n",
        "    for layer_group in range(3): \n",
        "\n",
        "        # Each block in our code has 2 weighted layers, and each group has 2n such blocks, so we have n blocks per group\n",
        "        for block in range(config.get(\"stack_n\")):\n",
        "\n",
        "            # Perform filter size increase at every first layer in the 2nd block onwards. \n",
        "            if layer_group > 0 and block == 0: \n",
        "                filter_size *= 2\n",
        "                x = residual_block(x, filter_size, match_filter_size=True)\n",
        "            else:\n",
        "                x = residual_block(x, filter_size)\n",
        "\n",
        "    return x"
      ]
    },
    {
      "cell_type": "code",
      "execution_count": 21,
      "metadata": {},
      "outputs": [],
      "source": [
        "def model_base(shp): \n",
        "    \"\"\"\n",
        "    Base Structure of the model, with residual blocks attached\n",
        "    \"\"\"\n",
        "\n",
        "    # Get number of classes from model configuration\n",
        "    config = model_configuration()\n",
        "    initialiser = config.get(\"initialiser\")\n",
        "\n",
        "    # Define model structure\n",
        "    # logits are returned becase Softmax is pushed to loss function\n",
        "    inputs = Input(shape=shp)\n",
        "    x = Conv2D(config.get(\"initial_num_feature_maps\"), kernel_size=(3, 3), strides=(1,1), kernel_initializer=initialiser, padding=\"same\")(inputs)\n",
        "    x = BatchNormalization()(x)\n",
        "    x = Activation(\"relu\")(x)\n",
        "    x = ResidualBlocks(x)\n",
        "    x = GlobalAveragePooling2D()(x)\n",
        "    x = Flatten()(x)\n",
        "    outputs = Dense(config.get(\"num_classes\"), kernel_initializer=initialiser)(x)\n",
        "\n",
        "    return inputs, outputs"
      ]
    },
    {
      "cell_type": "markdown",
      "metadata": {},
      "source": [
        "# Model Initialisation"
      ]
    },
    {
      "cell_type": "code",
      "execution_count": 22,
      "metadata": {},
      "outputs": [],
      "source": [
        "def init_model(): \n",
        "    \"\"\"\n",
        "    Initilise a compiled ResNet model\n",
        "    \"\"\"\n",
        "\n",
        "    # Get shape from model configuration\n",
        "    config = model_configuration()\n",
        "\n",
        "    # Get model base\n",
        "    inputs, outputs = model_base((config.get(\"width\"), config.get(\"height\"), config.get(\"dim\")))\n",
        "\n",
        "    # Initialise and compile model\n",
        "    model = Model(inputs, outputs, name=config.get(\"name\"))\n",
        "    model.compile(loss=config.get(\"loss\"), optimizer=config.get(\"optim\"), metrics=config.get(\"optim_additional_metrics\"))\n",
        "\n",
        "    # Print model summary\n",
        "    model.summary()\n",
        "\n",
        "    return model"
      ]
    },
    {
      "cell_type": "markdown",
      "metadata": {},
      "source": [
        "# Training"
      ]
    },
    {
      "cell_type": "code",
      "execution_count": 23,
      "metadata": {
        "trusted": true
      },
      "outputs": [],
      "source": [
        "def train_model(model, train_batches, validation_batches): \n",
        "    \"\"\"\n",
        "    Train an initialised model\n",
        "    \"\"\"\n",
        "\n",
        "    # Get model configuration\n",
        "    config = model_configuration()\n",
        "\n",
        "    # Fit data to model\n",
        "    model.fit(\n",
        "        train_batches,\n",
        "        batch_size=config.get(\"batch_size\"),\n",
        "        epochs=config.get(\"num_epochs\"),\n",
        "        verbose=config.get(\"verbose\"),\n",
        "        callbacks=config.get(\"callbacks\"),\n",
        "        steps_per_epoch=config.get(\"steps_per_epoch\"),\n",
        "        validation_data=validation_batches,\n",
        "        validation_steps=config.get(\"val_steps_per_epoch\")\n",
        "    )\n",
        "    return model\n"
      ]
    },
    {
      "cell_type": "markdown",
      "metadata": {},
      "source": [
        "# Evaluation"
      ]
    },
    {
      "cell_type": "code",
      "execution_count": 24,
      "metadata": {},
      "outputs": [],
      "source": [
        "def evaluate_model(model, test_batches): \n",
        "    \"\"\"\n",
        "    Evaluate a trained model\n",
        "    \"\"\"\n",
        "\n",
        "    # Evaluate the model\n",
        "    score = model.evaluate(test_batches, verbose=0)\n",
        "    print(f'Test loss: {score[0]} / Test accuracy: {score[1]}')"
      ]
    },
    {
      "cell_type": "markdown",
      "metadata": {},
      "source": [
        "# Overall Process"
      ]
    },
    {
      "cell_type": "code",
      "execution_count": 25,
      "metadata": {},
      "outputs": [],
      "source": [
        "def training_process(): \n",
        "    \"\"\"\n",
        "    Run the training process for the ResNet model\n",
        "    \"\"\"\n",
        "\n",
        "    # Get dataset\n",
        "    train_batches, validation_batches, test_batches = preprocessed_dataset()\n",
        "\n",
        "    # Initialise ResNet\n",
        "    resnet = init_model()\n",
        "\n",
        "    # Train ResNet model\n",
        "    trained_resnet = train_model(resnet, train_batches, validation_batches)\n",
        "\n",
        "    # Evaluate ResNet model\n",
        "    evaluate_model(trained_resnet, test_batches)"
      ]
    },
    {
      "cell_type": "code",
      "execution_count": 26,
      "metadata": {},
      "outputs": [
        {
          "name": "stderr",
          "output_type": "stream",
          "text": [
            "WARNING:absl:At this time, the v2.11+ optimizer `tf.keras.optimizers.SGD` runs slowly on M1/M2 Macs, please use the legacy Keras optimizer instead, located at `tf.keras.optimizers.legacy.SGD`.\n",
            "WARNING:absl:At this time, the v2.11+ optimizer `tf.keras.optimizers.SGD` runs slowly on M1/M2 Macs, please use the legacy Keras optimizer instead, located at `tf.keras.optimizers.legacy.SGD`.\n",
            "WARNING:absl:At this time, the v2.11+ optimizer `tf.keras.optimizers.SGD` runs slowly on M1/M2 Macs, please use the legacy Keras optimizer instead, located at `tf.keras.optimizers.legacy.SGD`.\n",
            "WARNING:absl:At this time, the v2.11+ optimizer `tf.keras.optimizers.SGD` runs slowly on M1/M2 Macs, please use the legacy Keras optimizer instead, located at `tf.keras.optimizers.legacy.SGD`.\n",
            "WARNING:absl:At this time, the v2.11+ optimizer `tf.keras.optimizers.SGD` runs slowly on M1/M2 Macs, please use the legacy Keras optimizer instead, located at `tf.keras.optimizers.legacy.SGD`.\n",
            "/Users/danielhuang/venv-metal/lib/python3.10/site-packages/keras/src/initializers/initializers.py:120: UserWarning: The initializer HeNormal is unseeded and being called multiple times, which will return identical values each time (even if the initializer is unseeded). Please update your code to provide a seed to the initializer, or avoid using the same initializer instance more than once.\n",
            "  warnings.warn(\n",
            "WARNING:absl:At this time, the v2.11+ optimizer `tf.keras.optimizers.SGD` runs slowly on M1/M2 Macs, please use the legacy Keras optimizer instead, located at `tf.keras.optimizers.legacy.SGD`.\n",
            "WARNING:absl:At this time, the v2.11+ optimizer `tf.keras.optimizers.SGD` runs slowly on M1/M2 Macs, please use the legacy Keras optimizer instead, located at `tf.keras.optimizers.legacy.SGD`.\n",
            "WARNING:absl:At this time, the v2.11+ optimizer `tf.keras.optimizers.SGD` runs slowly on M1/M2 Macs, please use the legacy Keras optimizer instead, located at `tf.keras.optimizers.legacy.SGD`.\n",
            "WARNING:absl:At this time, the v2.11+ optimizer `tf.keras.optimizers.SGD` runs slowly on M1/M2 Macs, please use the legacy Keras optimizer instead, located at `tf.keras.optimizers.legacy.SGD`.\n",
            "WARNING:absl:At this time, the v2.11+ optimizer `tf.keras.optimizers.SGD` runs slowly on M1/M2 Macs, please use the legacy Keras optimizer instead, located at `tf.keras.optimizers.legacy.SGD`.\n",
            "WARNING:absl:At this time, the v2.11+ optimizer `tf.keras.optimizers.SGD` runs slowly on M1/M2 Macs, please use the legacy Keras optimizer instead, located at `tf.keras.optimizers.legacy.SGD`.\n",
            "WARNING:absl:At this time, the v2.11+ optimizer `tf.keras.optimizers.SGD` runs slowly on M1/M2 Macs, please use the legacy Keras optimizer instead, located at `tf.keras.optimizers.legacy.SGD`.\n",
            "WARNING:absl:At this time, the v2.11+ optimizer `tf.keras.optimizers.SGD` runs slowly on M1/M2 Macs, please use the legacy Keras optimizer instead, located at `tf.keras.optimizers.legacy.SGD`.\n"
          ]
        },
        {
          "name": "stdout",
          "output_type": "stream",
          "text": [
            "Model: \"ResNet20\"\n",
            "__________________________________________________________________________________________________\n",
            " Layer (type)                Output Shape                 Param #   Connected to                  \n",
            "==================================================================================================\n",
            " input_2 (InputLayer)        [(None, 32, 32, 3)]          0         []                            \n",
            "                                                                                                  \n",
            " conv2d_19 (Conv2D)          (None, 32, 32, 16)           448       ['input_2[0][0]']             \n",
            "                                                                                                  \n",
            " batch_normalization_21 (Ba  (None, 32, 32, 16)           64        ['conv2d_19[0][0]']           \n",
            " tchNormalization)                                                                                \n",
            "                                                                                                  \n",
            " activation_19 (Activation)  (None, 32, 32, 16)           0         ['batch_normalization_21[0][0]\n",
            "                                                                    ']                            \n",
            "                                                                                                  \n",
            " conv2d_20 (Conv2D)          (None, 32, 32, 16)           2320      ['activation_19[0][0]']       \n",
            "                                                                                                  \n",
            " batch_normalization_22 (Ba  (None, 32, 32, 16)           64        ['conv2d_20[0][0]']           \n",
            " tchNormalization)                                                                                \n",
            "                                                                                                  \n",
            " activation_20 (Activation)  (None, 32, 32, 16)           0         ['batch_normalization_22[0][0]\n",
            "                                                                    ']                            \n",
            "                                                                                                  \n",
            " conv2d_21 (Conv2D)          (None, 32, 32, 16)           2320      ['activation_20[0][0]']       \n",
            "                                                                                                  \n",
            " batch_normalization_23 (Ba  (None, 32, 32, 16)           64        ['conv2d_21[0][0]']           \n",
            " tchNormalization)                                                                                \n",
            "                                                                                                  \n",
            " add_9 (Add)                 (None, 32, 32, 16)           0         ['batch_normalization_23[0][0]\n",
            "                                                                    ',                            \n",
            "                                                                     'activation_19[0][0]']       \n",
            "                                                                                                  \n",
            " activation_21 (Activation)  (None, 32, 32, 16)           0         ['add_9[0][0]']               \n",
            "                                                                                                  \n",
            " conv2d_22 (Conv2D)          (None, 32, 32, 16)           2320      ['activation_21[0][0]']       \n",
            "                                                                                                  \n",
            " batch_normalization_24 (Ba  (None, 32, 32, 16)           64        ['conv2d_22[0][0]']           \n",
            " tchNormalization)                                                                                \n",
            "                                                                                                  \n",
            " activation_22 (Activation)  (None, 32, 32, 16)           0         ['batch_normalization_24[0][0]\n",
            "                                                                    ']                            \n",
            "                                                                                                  \n",
            " conv2d_23 (Conv2D)          (None, 32, 32, 16)           2320      ['activation_22[0][0]']       \n",
            "                                                                                                  \n",
            " batch_normalization_25 (Ba  (None, 32, 32, 16)           64        ['conv2d_23[0][0]']           \n",
            " tchNormalization)                                                                                \n",
            "                                                                                                  \n",
            " add_10 (Add)                (None, 32, 32, 16)           0         ['batch_normalization_25[0][0]\n",
            "                                                                    ',                            \n",
            "                                                                     'activation_21[0][0]']       \n",
            "                                                                                                  \n",
            " activation_23 (Activation)  (None, 32, 32, 16)           0         ['add_10[0][0]']              \n",
            "                                                                                                  \n",
            " conv2d_24 (Conv2D)          (None, 32, 32, 16)           2320      ['activation_23[0][0]']       \n",
            "                                                                                                  \n",
            " batch_normalization_26 (Ba  (None, 32, 32, 16)           64        ['conv2d_24[0][0]']           \n",
            " tchNormalization)                                                                                \n",
            "                                                                                                  \n",
            " activation_24 (Activation)  (None, 32, 32, 16)           0         ['batch_normalization_26[0][0]\n",
            "                                                                    ']                            \n",
            "                                                                                                  \n",
            " conv2d_25 (Conv2D)          (None, 32, 32, 16)           2320      ['activation_24[0][0]']       \n",
            "                                                                                                  \n",
            " batch_normalization_27 (Ba  (None, 32, 32, 16)           64        ['conv2d_25[0][0]']           \n",
            " tchNormalization)                                                                                \n",
            "                                                                                                  \n",
            " add_11 (Add)                (None, 32, 32, 16)           0         ['batch_normalization_27[0][0]\n",
            "                                                                    ',                            \n",
            "                                                                     'activation_23[0][0]']       \n",
            "                                                                                                  \n",
            " activation_25 (Activation)  (None, 32, 32, 16)           0         ['add_11[0][0]']              \n",
            "                                                                                                  \n",
            " conv2d_26 (Conv2D)          (None, 16, 16, 32)           4640      ['activation_25[0][0]']       \n",
            "                                                                                                  \n",
            " batch_normalization_28 (Ba  (None, 16, 16, 32)           128       ['conv2d_26[0][0]']           \n",
            " tchNormalization)                                                                                \n",
            "                                                                                                  \n",
            " activation_26 (Activation)  (None, 16, 16, 32)           0         ['batch_normalization_28[0][0]\n",
            "                                                                    ']                            \n",
            "                                                                                                  \n",
            " conv2d_27 (Conv2D)          (None, 16, 16, 32)           9248      ['activation_26[0][0]']       \n",
            "                                                                                                  \n",
            " lambda_2 (Lambda)           (None, 16, 16, 32)           0         ['activation_25[0][0]']       \n",
            "                                                                                                  \n",
            " batch_normalization_29 (Ba  (None, 16, 16, 32)           128       ['conv2d_27[0][0]']           \n",
            " tchNormalization)                                                                                \n",
            "                                                                                                  \n",
            " batch_normalization_30 (Ba  (None, 16, 16, 32)           128       ['lambda_2[0][0]']            \n",
            " tchNormalization)                                                                                \n",
            "                                                                                                  \n",
            " add_12 (Add)                (None, 16, 16, 32)           0         ['batch_normalization_29[0][0]\n",
            "                                                                    ',                            \n",
            "                                                                     'batch_normalization_30[0][0]\n",
            "                                                                    ']                            \n",
            "                                                                                                  \n",
            " activation_27 (Activation)  (None, 16, 16, 32)           0         ['add_12[0][0]']              \n",
            "                                                                                                  \n",
            " conv2d_28 (Conv2D)          (None, 16, 16, 32)           9248      ['activation_27[0][0]']       \n",
            "                                                                                                  \n",
            " batch_normalization_31 (Ba  (None, 16, 16, 32)           128       ['conv2d_28[0][0]']           \n",
            " tchNormalization)                                                                                \n",
            "                                                                                                  \n",
            " activation_28 (Activation)  (None, 16, 16, 32)           0         ['batch_normalization_31[0][0]\n",
            "                                                                    ']                            \n",
            "                                                                                                  \n",
            " conv2d_29 (Conv2D)          (None, 16, 16, 32)           9248      ['activation_28[0][0]']       \n",
            "                                                                                                  \n",
            " batch_normalization_32 (Ba  (None, 16, 16, 32)           128       ['conv2d_29[0][0]']           \n",
            " tchNormalization)                                                                                \n",
            "                                                                                                  \n",
            " add_13 (Add)                (None, 16, 16, 32)           0         ['batch_normalization_32[0][0]\n",
            "                                                                    ',                            \n",
            "                                                                     'activation_27[0][0]']       \n",
            "                                                                                                  \n",
            " activation_29 (Activation)  (None, 16, 16, 32)           0         ['add_13[0][0]']              \n",
            "                                                                                                  \n",
            " conv2d_30 (Conv2D)          (None, 16, 16, 32)           9248      ['activation_29[0][0]']       \n",
            "                                                                                                  \n",
            " batch_normalization_33 (Ba  (None, 16, 16, 32)           128       ['conv2d_30[0][0]']           \n",
            " tchNormalization)                                                                                \n",
            "                                                                                                  \n",
            " activation_30 (Activation)  (None, 16, 16, 32)           0         ['batch_normalization_33[0][0]\n",
            "                                                                    ']                            \n",
            "                                                                                                  \n",
            " conv2d_31 (Conv2D)          (None, 16, 16, 32)           9248      ['activation_30[0][0]']       \n",
            "                                                                                                  \n",
            " batch_normalization_34 (Ba  (None, 16, 16, 32)           128       ['conv2d_31[0][0]']           \n",
            " tchNormalization)                                                                                \n",
            "                                                                                                  \n",
            " add_14 (Add)                (None, 16, 16, 32)           0         ['batch_normalization_34[0][0]\n",
            "                                                                    ',                            \n",
            "                                                                     'activation_29[0][0]']       \n",
            "                                                                                                  \n",
            " activation_31 (Activation)  (None, 16, 16, 32)           0         ['add_14[0][0]']              \n",
            "                                                                                                  \n",
            " conv2d_32 (Conv2D)          (None, 8, 8, 64)             18496     ['activation_31[0][0]']       \n",
            "                                                                                                  \n",
            " batch_normalization_35 (Ba  (None, 8, 8, 64)             256       ['conv2d_32[0][0]']           \n",
            " tchNormalization)                                                                                \n",
            "                                                                                                  \n",
            " activation_32 (Activation)  (None, 8, 8, 64)             0         ['batch_normalization_35[0][0]\n",
            "                                                                    ']                            \n",
            "                                                                                                  \n",
            " conv2d_33 (Conv2D)          (None, 8, 8, 64)             36928     ['activation_32[0][0]']       \n",
            "                                                                                                  \n",
            " lambda_3 (Lambda)           (None, 8, 8, 64)             0         ['activation_31[0][0]']       \n",
            "                                                                                                  \n",
            " batch_normalization_36 (Ba  (None, 8, 8, 64)             256       ['conv2d_33[0][0]']           \n",
            " tchNormalization)                                                                                \n",
            "                                                                                                  \n",
            " batch_normalization_37 (Ba  (None, 8, 8, 64)             256       ['lambda_3[0][0]']            \n",
            " tchNormalization)                                                                                \n",
            "                                                                                                  \n",
            " add_15 (Add)                (None, 8, 8, 64)             0         ['batch_normalization_36[0][0]\n",
            "                                                                    ',                            \n",
            "                                                                     'batch_normalization_37[0][0]\n",
            "                                                                    ']                            \n",
            "                                                                                                  \n",
            " activation_33 (Activation)  (None, 8, 8, 64)             0         ['add_15[0][0]']              \n",
            "                                                                                                  \n",
            " conv2d_34 (Conv2D)          (None, 8, 8, 64)             36928     ['activation_33[0][0]']       \n",
            "                                                                                                  \n",
            " batch_normalization_38 (Ba  (None, 8, 8, 64)             256       ['conv2d_34[0][0]']           \n",
            " tchNormalization)                                                                                \n",
            "                                                                                                  \n",
            " activation_34 (Activation)  (None, 8, 8, 64)             0         ['batch_normalization_38[0][0]\n",
            "                                                                    ']                            \n",
            "                                                                                                  \n",
            " conv2d_35 (Conv2D)          (None, 8, 8, 64)             36928     ['activation_34[0][0]']       \n",
            "                                                                                                  \n",
            " batch_normalization_39 (Ba  (None, 8, 8, 64)             256       ['conv2d_35[0][0]']           \n",
            " tchNormalization)                                                                                \n",
            "                                                                                                  \n",
            " add_16 (Add)                (None, 8, 8, 64)             0         ['batch_normalization_39[0][0]\n",
            "                                                                    ',                            \n",
            "                                                                     'activation_33[0][0]']       \n",
            "                                                                                                  \n",
            " activation_35 (Activation)  (None, 8, 8, 64)             0         ['add_16[0][0]']              \n",
            "                                                                                                  \n",
            " conv2d_36 (Conv2D)          (None, 8, 8, 64)             36928     ['activation_35[0][0]']       \n",
            "                                                                                                  \n",
            " batch_normalization_40 (Ba  (None, 8, 8, 64)             256       ['conv2d_36[0][0]']           \n",
            " tchNormalization)                                                                                \n",
            "                                                                                                  \n",
            " activation_36 (Activation)  (None, 8, 8, 64)             0         ['batch_normalization_40[0][0]\n",
            "                                                                    ']                            \n",
            "                                                                                                  \n",
            " conv2d_37 (Conv2D)          (None, 8, 8, 64)             36928     ['activation_36[0][0]']       \n",
            "                                                                                                  \n",
            " batch_normalization_41 (Ba  (None, 8, 8, 64)             256       ['conv2d_37[0][0]']           \n",
            " tchNormalization)                                                                                \n",
            "                                                                                                  \n",
            " add_17 (Add)                (None, 8, 8, 64)             0         ['batch_normalization_41[0][0]\n",
            "                                                                    ',                            \n",
            "                                                                     'activation_35[0][0]']       \n",
            "                                                                                                  \n",
            " activation_37 (Activation)  (None, 8, 8, 64)             0         ['add_17[0][0]']              \n",
            "                                                                                                  \n",
            " global_average_pooling2d_1  (None, 64)                   0         ['activation_37[0][0]']       \n",
            "  (GlobalAveragePooling2D)                                                                        \n",
            "                                                                                                  \n",
            " flatten_1 (Flatten)         (None, 64)                   0         ['global_average_pooling2d_1[0\n",
            "                                                                    ][0]']                        \n",
            "                                                                                                  \n",
            " dense_1 (Dense)             (None, 10)                   650       ['flatten_1[0][0]']           \n",
            "                                                                                                  \n",
            "==================================================================================================\n",
            "Total params: 272170 (1.04 MB)\n",
            "Trainable params: 270602 (1.03 MB)\n",
            "Non-trainable params: 1568 (6.12 KB)\n",
            "__________________________________________________________________________________________________\n"
          ]
        },
        {
          "name": "stderr",
          "output_type": "stream",
          "text": [
            "WARNING:absl:At this time, the v2.11+ optimizer `tf.keras.optimizers.SGD` runs slowly on M1/M2 Macs, please use the legacy Keras optimizer instead, located at `tf.keras.optimizers.legacy.SGD`.\n"
          ]
        },
        {
          "name": "stdout",
          "output_type": "stream",
          "text": [
            "Epoch 1/182\n"
          ]
        },
        {
          "name": "stderr",
          "output_type": "stream",
          "text": [
            "2024-03-30 22:19:27.814396: I tensorflow/core/grappler/optimizers/custom_graph_optimizer_registry.cc:117] Plugin optimizer for device_type GPU is enabled.\n",
            "2024-03-30 22:19:28.053374: E tensorflow/core/grappler/optimizers/meta_optimizer.cc:961] model_pruner failed: INVALID_ARGUMENT: Graph does not contain terminal node SGD/AssignVariableOp.\n"
          ]
        },
        {
          "name": "stdout",
          "output_type": "stream",
          "text": [
            "351/351 [==============================] - ETA: 0s - loss: 1.6559 - accuracy: 0.3865INFO:tensorflow:Assets written to: /Users/danielhuang/tinyML/model_checkpoint/assets\n"
          ]
        },
        {
          "name": "stderr",
          "output_type": "stream",
          "text": [
            "INFO:tensorflow:Assets written to: /Users/danielhuang/tinyML/model_checkpoint/assets\n"
          ]
        },
        {
          "name": "stdout",
          "output_type": "stream",
          "text": [
            "351/351 [==============================] - 31s 72ms/step - loss: 1.6559 - accuracy: 0.3865 - val_loss: 2.3748 - val_accuracy: 0.3167\n",
            "Epoch 2/182\n",
            "351/351 [==============================] - ETA: 0s - loss: 1.1684 - accuracy: 0.5766INFO:tensorflow:Assets written to: /Users/danielhuang/tinyML/model_checkpoint/assets\n"
          ]
        },
        {
          "name": "stderr",
          "output_type": "stream",
          "text": [
            "INFO:tensorflow:Assets written to: /Users/danielhuang/tinyML/model_checkpoint/assets\n"
          ]
        },
        {
          "name": "stdout",
          "output_type": "stream",
          "text": [
            "351/351 [==============================] - 26s 68ms/step - loss: 1.1684 - accuracy: 0.5766 - val_loss: 1.6139 - val_accuracy: 0.4940\n",
            "Epoch 3/182\n",
            "351/351 [==============================] - ETA: 0s - loss: 0.9380 - accuracy: 0.6633INFO:tensorflow:Assets written to: /Users/danielhuang/tinyML/model_checkpoint/assets\n"
          ]
        },
        {
          "name": "stderr",
          "output_type": "stream",
          "text": [
            "INFO:tensorflow:Assets written to: /Users/danielhuang/tinyML/model_checkpoint/assets\n"
          ]
        },
        {
          "name": "stdout",
          "output_type": "stream",
          "text": [
            "351/351 [==============================] - 22s 64ms/step - loss: 0.9380 - accuracy: 0.6633 - val_loss: 1.5450 - val_accuracy: 0.5374\n",
            "Epoch 4/182\n",
            "351/351 [==============================] - ETA: 0s - loss: 0.8072 - accuracy: 0.7144INFO:tensorflow:Assets written to: /Users/danielhuang/tinyML/model_checkpoint/assets\n"
          ]
        },
        {
          "name": "stderr",
          "output_type": "stream",
          "text": [
            "INFO:tensorflow:Assets written to: /Users/danielhuang/tinyML/model_checkpoint/assets\n"
          ]
        },
        {
          "name": "stdout",
          "output_type": "stream",
          "text": [
            "351/351 [==============================] - 23s 64ms/step - loss: 0.8072 - accuracy: 0.7144 - val_loss: 0.8358 - val_accuracy: 0.7172\n",
            "Epoch 5/182\n",
            "351/351 [==============================] - ETA: 0s - loss: 0.7101 - accuracy: 0.7533INFO:tensorflow:Assets written to: /Users/danielhuang/tinyML/model_checkpoint/assets\n"
          ]
        },
        {
          "name": "stderr",
          "output_type": "stream",
          "text": [
            "INFO:tensorflow:Assets written to: /Users/danielhuang/tinyML/model_checkpoint/assets\n"
          ]
        },
        {
          "name": "stdout",
          "output_type": "stream",
          "text": [
            "351/351 [==============================] - 22s 63ms/step - loss: 0.7101 - accuracy: 0.7533 - val_loss: 0.7883 - val_accuracy: 0.7297\n",
            "Epoch 6/182\n",
            "351/351 [==============================] - ETA: 0s - loss: 0.6439 - accuracy: 0.7749INFO:tensorflow:Assets written to: /Users/danielhuang/tinyML/model_checkpoint/assets\n"
          ]
        },
        {
          "name": "stderr",
          "output_type": "stream",
          "text": [
            "INFO:tensorflow:Assets written to: /Users/danielhuang/tinyML/model_checkpoint/assets\n"
          ]
        },
        {
          "name": "stdout",
          "output_type": "stream",
          "text": [
            "351/351 [==============================] - 22s 62ms/step - loss: 0.6439 - accuracy: 0.7749 - val_loss: 0.8186 - val_accuracy: 0.7186\n",
            "Epoch 7/182\n",
            "350/351 [============================>.] - ETA: 0s - loss: 0.6001 - accuracy: 0.7913INFO:tensorflow:Assets written to: /Users/danielhuang/tinyML/model_checkpoint/assets\n"
          ]
        },
        {
          "name": "stderr",
          "output_type": "stream",
          "text": [
            "INFO:tensorflow:Assets written to: /Users/danielhuang/tinyML/model_checkpoint/assets\n"
          ]
        },
        {
          "name": "stdout",
          "output_type": "stream",
          "text": [
            "351/351 [==============================] - 22s 62ms/step - loss: 0.6004 - accuracy: 0.7913 - val_loss: 0.7140 - val_accuracy: 0.7576\n",
            "Epoch 8/182\n",
            "351/351 [==============================] - ETA: 0s - loss: 0.5564 - accuracy: 0.8066INFO:tensorflow:Assets written to: /Users/danielhuang/tinyML/model_checkpoint/assets\n"
          ]
        },
        {
          "name": "stderr",
          "output_type": "stream",
          "text": [
            "INFO:tensorflow:Assets written to: /Users/danielhuang/tinyML/model_checkpoint/assets\n"
          ]
        },
        {
          "name": "stdout",
          "output_type": "stream",
          "text": [
            "351/351 [==============================] - 22s 63ms/step - loss: 0.5564 - accuracy: 0.8066 - val_loss: 0.7596 - val_accuracy: 0.7414\n",
            "Epoch 9/182\n",
            "350/351 [============================>.] - ETA: 0s - loss: 0.5191 - accuracy: 0.8183INFO:tensorflow:Assets written to: /Users/danielhuang/tinyML/model_checkpoint/assets\n"
          ]
        },
        {
          "name": "stderr",
          "output_type": "stream",
          "text": [
            "INFO:tensorflow:Assets written to: /Users/danielhuang/tinyML/model_checkpoint/assets\n"
          ]
        },
        {
          "name": "stdout",
          "output_type": "stream",
          "text": [
            "351/351 [==============================] - 21s 60ms/step - loss: 0.5187 - accuracy: 0.8185 - val_loss: 0.7111 - val_accuracy: 0.7607\n",
            "Epoch 10/182\n",
            "351/351 [==============================] - ETA: 0s - loss: 0.4969 - accuracy: 0.8261INFO:tensorflow:Assets written to: /Users/danielhuang/tinyML/model_checkpoint/assets\n"
          ]
        },
        {
          "name": "stderr",
          "output_type": "stream",
          "text": [
            "INFO:tensorflow:Assets written to: /Users/danielhuang/tinyML/model_checkpoint/assets\n"
          ]
        },
        {
          "name": "stdout",
          "output_type": "stream",
          "text": [
            "351/351 [==============================] - 22s 62ms/step - loss: 0.4969 - accuracy: 0.8261 - val_loss: 0.6707 - val_accuracy: 0.7783\n",
            "Epoch 11/182\n",
            "351/351 [==============================] - ETA: 0s - loss: 0.4713 - accuracy: 0.8362INFO:tensorflow:Assets written to: /Users/danielhuang/tinyML/model_checkpoint/assets\n"
          ]
        },
        {
          "name": "stderr",
          "output_type": "stream",
          "text": [
            "INFO:tensorflow:Assets written to: /Users/danielhuang/tinyML/model_checkpoint/assets\n"
          ]
        },
        {
          "name": "stdout",
          "output_type": "stream",
          "text": [
            "351/351 [==============================] - 22s 62ms/step - loss: 0.4713 - accuracy: 0.8362 - val_loss: 0.5524 - val_accuracy: 0.8032\n",
            "Epoch 12/182\n",
            "350/351 [============================>.] - ETA: 0s - loss: 0.4515 - accuracy: 0.8424INFO:tensorflow:Assets written to: /Users/danielhuang/tinyML/model_checkpoint/assets\n"
          ]
        },
        {
          "name": "stderr",
          "output_type": "stream",
          "text": [
            "INFO:tensorflow:Assets written to: /Users/danielhuang/tinyML/model_checkpoint/assets\n"
          ]
        },
        {
          "name": "stdout",
          "output_type": "stream",
          "text": [
            "351/351 [==============================] - 21s 59ms/step - loss: 0.4515 - accuracy: 0.8425 - val_loss: 0.7316 - val_accuracy: 0.7562\n",
            "Epoch 13/182\n",
            "351/351 [==============================] - ETA: 0s - loss: 0.4332 - accuracy: 0.8498INFO:tensorflow:Assets written to: /Users/danielhuang/tinyML/model_checkpoint/assets\n"
          ]
        },
        {
          "name": "stderr",
          "output_type": "stream",
          "text": [
            "INFO:tensorflow:Assets written to: /Users/danielhuang/tinyML/model_checkpoint/assets\n"
          ]
        },
        {
          "name": "stdout",
          "output_type": "stream",
          "text": [
            "351/351 [==============================] - 22s 62ms/step - loss: 0.4332 - accuracy: 0.8498 - val_loss: 0.5565 - val_accuracy: 0.8075\n",
            "Epoch 14/182\n",
            "351/351 [==============================] - ETA: 0s - loss: 0.4156 - accuracy: 0.8555INFO:tensorflow:Assets written to: /Users/danielhuang/tinyML/model_checkpoint/assets\n"
          ]
        },
        {
          "name": "stderr",
          "output_type": "stream",
          "text": [
            "INFO:tensorflow:Assets written to: /Users/danielhuang/tinyML/model_checkpoint/assets\n"
          ]
        },
        {
          "name": "stdout",
          "output_type": "stream",
          "text": [
            "351/351 [==============================] - 21s 60ms/step - loss: 0.4156 - accuracy: 0.8555 - val_loss: 0.6514 - val_accuracy: 0.7824\n",
            "Epoch 15/182\n",
            "350/351 [============================>.] - ETA: 0s - loss: 0.3989 - accuracy: 0.8609INFO:tensorflow:Assets written to: /Users/danielhuang/tinyML/model_checkpoint/assets\n"
          ]
        },
        {
          "name": "stderr",
          "output_type": "stream",
          "text": [
            "INFO:tensorflow:Assets written to: /Users/danielhuang/tinyML/model_checkpoint/assets\n"
          ]
        },
        {
          "name": "stdout",
          "output_type": "stream",
          "text": [
            "351/351 [==============================] - 21s 60ms/step - loss: 0.3986 - accuracy: 0.8610 - val_loss: 0.5763 - val_accuracy: 0.8110\n",
            "Epoch 16/182\n",
            "351/351 [==============================] - ETA: 0s - loss: 0.3840 - accuracy: 0.8677INFO:tensorflow:Assets written to: /Users/danielhuang/tinyML/model_checkpoint/assets\n"
          ]
        },
        {
          "name": "stderr",
          "output_type": "stream",
          "text": [
            "INFO:tensorflow:Assets written to: /Users/danielhuang/tinyML/model_checkpoint/assets\n"
          ]
        },
        {
          "name": "stdout",
          "output_type": "stream",
          "text": [
            "351/351 [==============================] - 22s 61ms/step - loss: 0.3840 - accuracy: 0.8677 - val_loss: 0.6458 - val_accuracy: 0.7894\n",
            "Epoch 17/182\n",
            "351/351 [==============================] - ETA: 0s - loss: 0.3722 - accuracy: 0.8709INFO:tensorflow:Assets written to: /Users/danielhuang/tinyML/model_checkpoint/assets\n"
          ]
        },
        {
          "name": "stderr",
          "output_type": "stream",
          "text": [
            "INFO:tensorflow:Assets written to: /Users/danielhuang/tinyML/model_checkpoint/assets\n"
          ]
        },
        {
          "name": "stdout",
          "output_type": "stream",
          "text": [
            "351/351 [==============================] - 21s 60ms/step - loss: 0.3722 - accuracy: 0.8709 - val_loss: 0.5898 - val_accuracy: 0.8112\n",
            "Epoch 18/182\n",
            "350/351 [============================>.] - ETA: 0s - loss: 0.3587 - accuracy: 0.8751INFO:tensorflow:Assets written to: /Users/danielhuang/tinyML/model_checkpoint/assets\n"
          ]
        },
        {
          "name": "stderr",
          "output_type": "stream",
          "text": [
            "INFO:tensorflow:Assets written to: /Users/danielhuang/tinyML/model_checkpoint/assets\n"
          ]
        },
        {
          "name": "stdout",
          "output_type": "stream",
          "text": [
            "351/351 [==============================] - 21s 61ms/step - loss: 0.3589 - accuracy: 0.8749 - val_loss: 0.5810 - val_accuracy: 0.8144\n",
            "Epoch 19/182\n",
            "350/351 [============================>.] - ETA: 0s - loss: 0.3497 - accuracy: 0.8778INFO:tensorflow:Assets written to: /Users/danielhuang/tinyML/model_checkpoint/assets\n"
          ]
        },
        {
          "name": "stderr",
          "output_type": "stream",
          "text": [
            "INFO:tensorflow:Assets written to: /Users/danielhuang/tinyML/model_checkpoint/assets\n"
          ]
        },
        {
          "name": "stdout",
          "output_type": "stream",
          "text": [
            "351/351 [==============================] - 22s 62ms/step - loss: 0.3499 - accuracy: 0.8777 - val_loss: 0.5456 - val_accuracy: 0.8220\n",
            "Epoch 20/182\n",
            "351/351 [==============================] - ETA: 0s - loss: 0.3329 - accuracy: 0.8838INFO:tensorflow:Assets written to: /Users/danielhuang/tinyML/model_checkpoint/assets\n"
          ]
        },
        {
          "name": "stderr",
          "output_type": "stream",
          "text": [
            "INFO:tensorflow:Assets written to: /Users/danielhuang/tinyML/model_checkpoint/assets\n"
          ]
        },
        {
          "name": "stdout",
          "output_type": "stream",
          "text": [
            "351/351 [==============================] - 21s 60ms/step - loss: 0.3329 - accuracy: 0.8838 - val_loss: 0.6419 - val_accuracy: 0.7884\n",
            "Epoch 21/182\n",
            "351/351 [==============================] - ETA: 0s - loss: 0.3290 - accuracy: 0.8849INFO:tensorflow:Assets written to: /Users/danielhuang/tinyML/model_checkpoint/assets\n"
          ]
        },
        {
          "name": "stderr",
          "output_type": "stream",
          "text": [
            "INFO:tensorflow:Assets written to: /Users/danielhuang/tinyML/model_checkpoint/assets\n"
          ]
        },
        {
          "name": "stdout",
          "output_type": "stream",
          "text": [
            "351/351 [==============================] - 21s 61ms/step - loss: 0.3290 - accuracy: 0.8849 - val_loss: 0.5180 - val_accuracy: 0.8282\n",
            "Epoch 22/182\n",
            "351/351 [==============================] - ETA: 0s - loss: 0.3184 - accuracy: 0.8874INFO:tensorflow:Assets written to: /Users/danielhuang/tinyML/model_checkpoint/assets\n"
          ]
        },
        {
          "name": "stderr",
          "output_type": "stream",
          "text": [
            "INFO:tensorflow:Assets written to: /Users/danielhuang/tinyML/model_checkpoint/assets\n"
          ]
        },
        {
          "name": "stdout",
          "output_type": "stream",
          "text": [
            "351/351 [==============================] - 22s 62ms/step - loss: 0.3184 - accuracy: 0.8874 - val_loss: 0.5080 - val_accuracy: 0.8389\n",
            "Epoch 23/182\n",
            "351/351 [==============================] - ETA: 0s - loss: 0.3108 - accuracy: 0.8896INFO:tensorflow:Assets written to: /Users/danielhuang/tinyML/model_checkpoint/assets\n"
          ]
        },
        {
          "name": "stderr",
          "output_type": "stream",
          "text": [
            "INFO:tensorflow:Assets written to: /Users/danielhuang/tinyML/model_checkpoint/assets\n"
          ]
        },
        {
          "name": "stdout",
          "output_type": "stream",
          "text": [
            "351/351 [==============================] - 22s 61ms/step - loss: 0.3108 - accuracy: 0.8896 - val_loss: 0.4528 - val_accuracy: 0.8469\n",
            "Epoch 24/182\n",
            "351/351 [==============================] - ETA: 0s - loss: 0.2960 - accuracy: 0.8973INFO:tensorflow:Assets written to: /Users/danielhuang/tinyML/model_checkpoint/assets\n"
          ]
        },
        {
          "name": "stderr",
          "output_type": "stream",
          "text": [
            "INFO:tensorflow:Assets written to: /Users/danielhuang/tinyML/model_checkpoint/assets\n"
          ]
        },
        {
          "name": "stdout",
          "output_type": "stream",
          "text": [
            "351/351 [==============================] - 22s 63ms/step - loss: 0.2960 - accuracy: 0.8973 - val_loss: 0.5918 - val_accuracy: 0.8208\n",
            "Epoch 25/182\n",
            "351/351 [==============================] - ETA: 0s - loss: 0.2893 - accuracy: 0.8980INFO:tensorflow:Assets written to: /Users/danielhuang/tinyML/model_checkpoint/assets\n"
          ]
        },
        {
          "name": "stderr",
          "output_type": "stream",
          "text": [
            "INFO:tensorflow:Assets written to: /Users/danielhuang/tinyML/model_checkpoint/assets\n"
          ]
        },
        {
          "name": "stdout",
          "output_type": "stream",
          "text": [
            "351/351 [==============================] - 22s 61ms/step - loss: 0.2893 - accuracy: 0.8980 - val_loss: 0.4496 - val_accuracy: 0.8545\n",
            "Epoch 26/182\n",
            "351/351 [==============================] - ETA: 0s - loss: 0.2783 - accuracy: 0.9009INFO:tensorflow:Assets written to: /Users/danielhuang/tinyML/model_checkpoint/assets\n"
          ]
        },
        {
          "name": "stderr",
          "output_type": "stream",
          "text": [
            "INFO:tensorflow:Assets written to: /Users/danielhuang/tinyML/model_checkpoint/assets\n"
          ]
        },
        {
          "name": "stdout",
          "output_type": "stream",
          "text": [
            "351/351 [==============================] - 21s 60ms/step - loss: 0.2783 - accuracy: 0.9009 - val_loss: 0.5457 - val_accuracy: 0.8237\n",
            "Epoch 27/182\n",
            "351/351 [==============================] - ETA: 0s - loss: 0.2752 - accuracy: 0.9028INFO:tensorflow:Assets written to: /Users/danielhuang/tinyML/model_checkpoint/assets\n"
          ]
        },
        {
          "name": "stderr",
          "output_type": "stream",
          "text": [
            "INFO:tensorflow:Assets written to: /Users/danielhuang/tinyML/model_checkpoint/assets\n"
          ]
        },
        {
          "name": "stdout",
          "output_type": "stream",
          "text": [
            "351/351 [==============================] - 22s 63ms/step - loss: 0.2752 - accuracy: 0.9028 - val_loss: 0.4721 - val_accuracy: 0.8450\n",
            "Epoch 28/182\n",
            "351/351 [==============================] - ETA: 0s - loss: 0.2683 - accuracy: 0.9046INFO:tensorflow:Assets written to: /Users/danielhuang/tinyML/model_checkpoint/assets\n"
          ]
        },
        {
          "name": "stderr",
          "output_type": "stream",
          "text": [
            "INFO:tensorflow:Assets written to: /Users/danielhuang/tinyML/model_checkpoint/assets\n"
          ]
        },
        {
          "name": "stdout",
          "output_type": "stream",
          "text": [
            "351/351 [==============================] - 22s 62ms/step - loss: 0.2683 - accuracy: 0.9046 - val_loss: 0.5029 - val_accuracy: 0.8358\n",
            "Epoch 29/182\n",
            "351/351 [==============================] - ETA: 0s - loss: 0.2581 - accuracy: 0.9090INFO:tensorflow:Assets written to: /Users/danielhuang/tinyML/model_checkpoint/assets\n"
          ]
        },
        {
          "name": "stderr",
          "output_type": "stream",
          "text": [
            "INFO:tensorflow:Assets written to: /Users/danielhuang/tinyML/model_checkpoint/assets\n"
          ]
        },
        {
          "name": "stdout",
          "output_type": "stream",
          "text": [
            "351/351 [==============================] - 21s 60ms/step - loss: 0.2581 - accuracy: 0.9090 - val_loss: 0.4800 - val_accuracy: 0.8475\n",
            "Epoch 30/182\n",
            "351/351 [==============================] - ETA: 0s - loss: 0.2493 - accuracy: 0.9115INFO:tensorflow:Assets written to: /Users/danielhuang/tinyML/model_checkpoint/assets\n"
          ]
        },
        {
          "name": "stderr",
          "output_type": "stream",
          "text": [
            "INFO:tensorflow:Assets written to: /Users/danielhuang/tinyML/model_checkpoint/assets\n"
          ]
        },
        {
          "name": "stdout",
          "output_type": "stream",
          "text": [
            "351/351 [==============================] - 22s 63ms/step - loss: 0.2493 - accuracy: 0.9115 - val_loss: 0.6629 - val_accuracy: 0.8003\n",
            "Epoch 31/182\n",
            "350/351 [============================>.] - ETA: 0s - loss: 0.2489 - accuracy: 0.9121INFO:tensorflow:Assets written to: /Users/danielhuang/tinyML/model_checkpoint/assets\n"
          ]
        },
        {
          "name": "stderr",
          "output_type": "stream",
          "text": [
            "INFO:tensorflow:Assets written to: /Users/danielhuang/tinyML/model_checkpoint/assets\n"
          ]
        },
        {
          "name": "stdout",
          "output_type": "stream",
          "text": [
            "351/351 [==============================] - 21s 61ms/step - loss: 0.2491 - accuracy: 0.9120 - val_loss: 0.5722 - val_accuracy: 0.8298\n",
            "Epoch 32/182\n",
            "351/351 [==============================] - ETA: 0s - loss: 0.2426 - accuracy: 0.9137INFO:tensorflow:Assets written to: /Users/danielhuang/tinyML/model_checkpoint/assets\n"
          ]
        },
        {
          "name": "stderr",
          "output_type": "stream",
          "text": [
            "INFO:tensorflow:Assets written to: /Users/danielhuang/tinyML/model_checkpoint/assets\n"
          ]
        },
        {
          "name": "stdout",
          "output_type": "stream",
          "text": [
            "351/351 [==============================] - 22s 62ms/step - loss: 0.2426 - accuracy: 0.9137 - val_loss: 0.5122 - val_accuracy: 0.8461\n",
            "Epoch 33/182\n",
            "351/351 [==============================] - ETA: 0s - loss: 0.2326 - accuracy: 0.9180INFO:tensorflow:Assets written to: /Users/danielhuang/tinyML/model_checkpoint/assets\n"
          ]
        },
        {
          "name": "stderr",
          "output_type": "stream",
          "text": [
            "INFO:tensorflow:Assets written to: /Users/danielhuang/tinyML/model_checkpoint/assets\n"
          ]
        },
        {
          "name": "stdout",
          "output_type": "stream",
          "text": [
            "351/351 [==============================] - 22s 63ms/step - loss: 0.2326 - accuracy: 0.9180 - val_loss: 0.4534 - val_accuracy: 0.8627\n",
            "Epoch 34/182\n",
            "351/351 [==============================] - ETA: 0s - loss: 0.2304 - accuracy: 0.9174INFO:tensorflow:Assets written to: /Users/danielhuang/tinyML/model_checkpoint/assets\n"
          ]
        },
        {
          "name": "stderr",
          "output_type": "stream",
          "text": [
            "INFO:tensorflow:Assets written to: /Users/danielhuang/tinyML/model_checkpoint/assets\n"
          ]
        },
        {
          "name": "stdout",
          "output_type": "stream",
          "text": [
            "351/351 [==============================] - 22s 62ms/step - loss: 0.2304 - accuracy: 0.9174 - val_loss: 0.4959 - val_accuracy: 0.8415\n",
            "Epoch 35/182\n",
            "351/351 [==============================] - ETA: 0s - loss: 0.2283 - accuracy: 0.9184INFO:tensorflow:Assets written to: /Users/danielhuang/tinyML/model_checkpoint/assets\n"
          ]
        },
        {
          "name": "stderr",
          "output_type": "stream",
          "text": [
            "INFO:tensorflow:Assets written to: /Users/danielhuang/tinyML/model_checkpoint/assets\n"
          ]
        },
        {
          "name": "stdout",
          "output_type": "stream",
          "text": [
            "351/351 [==============================] - 21s 60ms/step - loss: 0.2283 - accuracy: 0.9184 - val_loss: 0.5199 - val_accuracy: 0.8422\n",
            "Epoch 36/182\n",
            "350/351 [============================>.] - ETA: 0s - loss: 0.2204 - accuracy: 0.9212INFO:tensorflow:Assets written to: /Users/danielhuang/tinyML/model_checkpoint/assets\n"
          ]
        },
        {
          "name": "stderr",
          "output_type": "stream",
          "text": [
            "INFO:tensorflow:Assets written to: /Users/danielhuang/tinyML/model_checkpoint/assets\n"
          ]
        },
        {
          "name": "stdout",
          "output_type": "stream",
          "text": [
            "351/351 [==============================] - 23s 65ms/step - loss: 0.2205 - accuracy: 0.9212 - val_loss: 0.5362 - val_accuracy: 0.8374\n",
            "Epoch 37/182\n",
            "350/351 [============================>.] - ETA: 0s - loss: 0.2063 - accuracy: 0.9276INFO:tensorflow:Assets written to: /Users/danielhuang/tinyML/model_checkpoint/assets\n"
          ]
        },
        {
          "name": "stderr",
          "output_type": "stream",
          "text": [
            "INFO:tensorflow:Assets written to: /Users/danielhuang/tinyML/model_checkpoint/assets\n"
          ]
        },
        {
          "name": "stdout",
          "output_type": "stream",
          "text": [
            "351/351 [==============================] - 21s 59ms/step - loss: 0.2062 - accuracy: 0.9277 - val_loss: 0.4194 - val_accuracy: 0.8635\n",
            "Epoch 38/182\n",
            "351/351 [==============================] - ETA: 0s - loss: 0.2149 - accuracy: 0.9232INFO:tensorflow:Assets written to: /Users/danielhuang/tinyML/model_checkpoint/assets\n"
          ]
        },
        {
          "name": "stderr",
          "output_type": "stream",
          "text": [
            "INFO:tensorflow:Assets written to: /Users/danielhuang/tinyML/model_checkpoint/assets\n"
          ]
        },
        {
          "name": "stdout",
          "output_type": "stream",
          "text": [
            "351/351 [==============================] - 21s 61ms/step - loss: 0.2149 - accuracy: 0.9232 - val_loss: 0.5362 - val_accuracy: 0.8417\n",
            "Epoch 39/182\n",
            "350/351 [============================>.] - ETA: 0s - loss: 0.2037 - accuracy: 0.9277INFO:tensorflow:Assets written to: /Users/danielhuang/tinyML/model_checkpoint/assets\n"
          ]
        },
        {
          "name": "stderr",
          "output_type": "stream",
          "text": [
            "INFO:tensorflow:Assets written to: /Users/danielhuang/tinyML/model_checkpoint/assets\n"
          ]
        },
        {
          "name": "stdout",
          "output_type": "stream",
          "text": [
            "351/351 [==============================] - 21s 59ms/step - loss: 0.2037 - accuracy: 0.9276 - val_loss: 0.5421 - val_accuracy: 0.8393\n",
            "Epoch 40/182\n",
            "351/351 [==============================] - ETA: 0s - loss: 0.2012 - accuracy: 0.9266INFO:tensorflow:Assets written to: /Users/danielhuang/tinyML/model_checkpoint/assets\n"
          ]
        },
        {
          "name": "stderr",
          "output_type": "stream",
          "text": [
            "INFO:tensorflow:Assets written to: /Users/danielhuang/tinyML/model_checkpoint/assets\n"
          ]
        },
        {
          "name": "stdout",
          "output_type": "stream",
          "text": [
            "351/351 [==============================] - 21s 59ms/step - loss: 0.2012 - accuracy: 0.9266 - val_loss: 0.4936 - val_accuracy: 0.8428\n",
            "Epoch 41/182\n",
            "350/351 [============================>.] - ETA: 0s - loss: 0.1913 - accuracy: 0.9325INFO:tensorflow:Assets written to: /Users/danielhuang/tinyML/model_checkpoint/assets\n"
          ]
        },
        {
          "name": "stderr",
          "output_type": "stream",
          "text": [
            "INFO:tensorflow:Assets written to: /Users/danielhuang/tinyML/model_checkpoint/assets\n"
          ]
        },
        {
          "name": "stdout",
          "output_type": "stream",
          "text": [
            "351/351 [==============================] - 20s 58ms/step - loss: 0.1912 - accuracy: 0.9325 - val_loss: 0.4371 - val_accuracy: 0.8658\n",
            "Epoch 42/182\n",
            "350/351 [============================>.] - ETA: 0s - loss: 0.1938 - accuracy: 0.9308INFO:tensorflow:Assets written to: /Users/danielhuang/tinyML/model_checkpoint/assets\n"
          ]
        },
        {
          "name": "stderr",
          "output_type": "stream",
          "text": [
            "INFO:tensorflow:Assets written to: /Users/danielhuang/tinyML/model_checkpoint/assets\n"
          ]
        },
        {
          "name": "stdout",
          "output_type": "stream",
          "text": [
            "351/351 [==============================] - 21s 59ms/step - loss: 0.1940 - accuracy: 0.9308 - val_loss: 0.4670 - val_accuracy: 0.8647\n",
            "Epoch 43/182\n",
            "350/351 [============================>.] - ETA: 0s - loss: 0.1872 - accuracy: 0.9327INFO:tensorflow:Assets written to: /Users/danielhuang/tinyML/model_checkpoint/assets\n"
          ]
        },
        {
          "name": "stderr",
          "output_type": "stream",
          "text": [
            "INFO:tensorflow:Assets written to: /Users/danielhuang/tinyML/model_checkpoint/assets\n"
          ]
        },
        {
          "name": "stdout",
          "output_type": "stream",
          "text": [
            "351/351 [==============================] - 21s 59ms/step - loss: 0.1877 - accuracy: 0.9326 - val_loss: 0.6661 - val_accuracy: 0.8163\n",
            "Epoch 44/182\n",
            "350/351 [============================>.] - ETA: 0s - loss: 0.1816 - accuracy: 0.9349INFO:tensorflow:Assets written to: /Users/danielhuang/tinyML/model_checkpoint/assets\n"
          ]
        },
        {
          "name": "stderr",
          "output_type": "stream",
          "text": [
            "INFO:tensorflow:Assets written to: /Users/danielhuang/tinyML/model_checkpoint/assets\n"
          ]
        },
        {
          "name": "stdout",
          "output_type": "stream",
          "text": [
            "351/351 [==============================] - 21s 59ms/step - loss: 0.1818 - accuracy: 0.9349 - val_loss: 0.5097 - val_accuracy: 0.8559\n",
            "Epoch 45/182\n",
            "351/351 [==============================] - ETA: 0s - loss: 0.1792 - accuracy: 0.9363INFO:tensorflow:Assets written to: /Users/danielhuang/tinyML/model_checkpoint/assets\n"
          ]
        },
        {
          "name": "stderr",
          "output_type": "stream",
          "text": [
            "INFO:tensorflow:Assets written to: /Users/danielhuang/tinyML/model_checkpoint/assets\n"
          ]
        },
        {
          "name": "stdout",
          "output_type": "stream",
          "text": [
            "351/351 [==============================] - 20s 58ms/step - loss: 0.1792 - accuracy: 0.9363 - val_loss: 0.4425 - val_accuracy: 0.8658\n",
            "Epoch 46/182\n",
            "350/351 [============================>.] - ETA: 0s - loss: 0.1755 - accuracy: 0.9369INFO:tensorflow:Assets written to: /Users/danielhuang/tinyML/model_checkpoint/assets\n"
          ]
        },
        {
          "name": "stderr",
          "output_type": "stream",
          "text": [
            "INFO:tensorflow:Assets written to: /Users/danielhuang/tinyML/model_checkpoint/assets\n"
          ]
        },
        {
          "name": "stdout",
          "output_type": "stream",
          "text": [
            "351/351 [==============================] - 20s 58ms/step - loss: 0.1755 - accuracy: 0.9369 - val_loss: 0.5889 - val_accuracy: 0.8346\n",
            "Epoch 47/182\n",
            "351/351 [==============================] - ETA: 0s - loss: 0.1766 - accuracy: 0.9357INFO:tensorflow:Assets written to: /Users/danielhuang/tinyML/model_checkpoint/assets\n"
          ]
        },
        {
          "name": "stderr",
          "output_type": "stream",
          "text": [
            "INFO:tensorflow:Assets written to: /Users/danielhuang/tinyML/model_checkpoint/assets\n"
          ]
        },
        {
          "name": "stdout",
          "output_type": "stream",
          "text": [
            "351/351 [==============================] - 21s 59ms/step - loss: 0.1766 - accuracy: 0.9357 - val_loss: 0.5151 - val_accuracy: 0.8424\n",
            "Epoch 48/182\n",
            "351/351 [==============================] - ETA: 0s - loss: 0.1670 - accuracy: 0.9399INFO:tensorflow:Assets written to: /Users/danielhuang/tinyML/model_checkpoint/assets\n"
          ]
        },
        {
          "name": "stderr",
          "output_type": "stream",
          "text": [
            "INFO:tensorflow:Assets written to: /Users/danielhuang/tinyML/model_checkpoint/assets\n"
          ]
        },
        {
          "name": "stdout",
          "output_type": "stream",
          "text": [
            "351/351 [==============================] - 21s 59ms/step - loss: 0.1670 - accuracy: 0.9399 - val_loss: 0.4924 - val_accuracy: 0.8498\n",
            "Epoch 49/182\n",
            "350/351 [============================>.] - ETA: 0s - loss: 0.1673 - accuracy: 0.9395INFO:tensorflow:Assets written to: /Users/danielhuang/tinyML/model_checkpoint/assets\n"
          ]
        },
        {
          "name": "stderr",
          "output_type": "stream",
          "text": [
            "INFO:tensorflow:Assets written to: /Users/danielhuang/tinyML/model_checkpoint/assets\n"
          ]
        },
        {
          "name": "stdout",
          "output_type": "stream",
          "text": [
            "351/351 [==============================] - 21s 58ms/step - loss: 0.1671 - accuracy: 0.9396 - val_loss: 0.4864 - val_accuracy: 0.8528\n",
            "Epoch 50/182\n",
            "350/351 [============================>.] - ETA: 0s - loss: 0.1618 - accuracy: 0.9404INFO:tensorflow:Assets written to: /Users/danielhuang/tinyML/model_checkpoint/assets\n"
          ]
        },
        {
          "name": "stderr",
          "output_type": "stream",
          "text": [
            "INFO:tensorflow:Assets written to: /Users/danielhuang/tinyML/model_checkpoint/assets\n"
          ]
        },
        {
          "name": "stdout",
          "output_type": "stream",
          "text": [
            "351/351 [==============================] - 21s 59ms/step - loss: 0.1616 - accuracy: 0.9405 - val_loss: 0.5488 - val_accuracy: 0.8352\n",
            "Epoch 51/182\n",
            "351/351 [==============================] - ETA: 0s - loss: 0.1604 - accuracy: 0.9427INFO:tensorflow:Assets written to: /Users/danielhuang/tinyML/model_checkpoint/assets\n"
          ]
        },
        {
          "name": "stderr",
          "output_type": "stream",
          "text": [
            "INFO:tensorflow:Assets written to: /Users/danielhuang/tinyML/model_checkpoint/assets\n"
          ]
        },
        {
          "name": "stdout",
          "output_type": "stream",
          "text": [
            "351/351 [==============================] - 385s 1s/step - loss: 0.1604 - accuracy: 0.9427 - val_loss: 0.6578 - val_accuracy: 0.8118\n",
            "Epoch 52/182\n",
            "350/351 [============================>.] - ETA: 0s - loss: 0.1536 - accuracy: 0.9454INFO:tensorflow:Assets written to: /Users/danielhuang/tinyML/model_checkpoint/assets\n"
          ]
        },
        {
          "name": "stderr",
          "output_type": "stream",
          "text": [
            "INFO:tensorflow:Assets written to: /Users/danielhuang/tinyML/model_checkpoint/assets\n"
          ]
        },
        {
          "name": "stdout",
          "output_type": "stream",
          "text": [
            "351/351 [==============================] - 24s 67ms/step - loss: 0.1537 - accuracy: 0.9454 - val_loss: 0.4889 - val_accuracy: 0.8656\n",
            "Epoch 53/182\n",
            "351/351 [==============================] - ETA: 0s - loss: 0.1558 - accuracy: 0.9439INFO:tensorflow:Assets written to: /Users/danielhuang/tinyML/model_checkpoint/assets\n"
          ]
        },
        {
          "name": "stderr",
          "output_type": "stream",
          "text": [
            "INFO:tensorflow:Assets written to: /Users/danielhuang/tinyML/model_checkpoint/assets\n"
          ]
        },
        {
          "name": "stdout",
          "output_type": "stream",
          "text": [
            "351/351 [==============================] - 23s 66ms/step - loss: 0.1558 - accuracy: 0.9439 - val_loss: 0.5409 - val_accuracy: 0.8475\n",
            "Epoch 54/182\n",
            "350/351 [============================>.] - ETA: 0s - loss: 0.1544 - accuracy: 0.9444INFO:tensorflow:Assets written to: /Users/danielhuang/tinyML/model_checkpoint/assets\n"
          ]
        },
        {
          "name": "stderr",
          "output_type": "stream",
          "text": [
            "INFO:tensorflow:Assets written to: /Users/danielhuang/tinyML/model_checkpoint/assets\n"
          ]
        },
        {
          "name": "stdout",
          "output_type": "stream",
          "text": [
            "351/351 [==============================] - 21s 60ms/step - loss: 0.1543 - accuracy: 0.9444 - val_loss: 0.4897 - val_accuracy: 0.8615\n",
            "Epoch 55/182\n",
            "351/351 [==============================] - ETA: 0s - loss: 0.1459 - accuracy: 0.9464INFO:tensorflow:Assets written to: /Users/danielhuang/tinyML/model_checkpoint/assets\n"
          ]
        },
        {
          "name": "stderr",
          "output_type": "stream",
          "text": [
            "INFO:tensorflow:Assets written to: /Users/danielhuang/tinyML/model_checkpoint/assets\n"
          ]
        },
        {
          "name": "stdout",
          "output_type": "stream",
          "text": [
            "351/351 [==============================] - 22s 62ms/step - loss: 0.1459 - accuracy: 0.9464 - val_loss: 0.4738 - val_accuracy: 0.8641\n",
            "Epoch 56/182\n",
            "351/351 [==============================] - ETA: 0s - loss: 0.1457 - accuracy: 0.9482INFO:tensorflow:Assets written to: /Users/danielhuang/tinyML/model_checkpoint/assets\n"
          ]
        },
        {
          "name": "stderr",
          "output_type": "stream",
          "text": [
            "INFO:tensorflow:Assets written to: /Users/danielhuang/tinyML/model_checkpoint/assets\n"
          ]
        },
        {
          "name": "stdout",
          "output_type": "stream",
          "text": [
            "351/351 [==============================] - 22s 61ms/step - loss: 0.1457 - accuracy: 0.9482 - val_loss: 0.6284 - val_accuracy: 0.8374\n",
            "Epoch 57/182\n",
            "351/351 [==============================] - ETA: 0s - loss: 0.1437 - accuracy: 0.9477INFO:tensorflow:Assets written to: /Users/danielhuang/tinyML/model_checkpoint/assets\n"
          ]
        },
        {
          "name": "stderr",
          "output_type": "stream",
          "text": [
            "INFO:tensorflow:Assets written to: /Users/danielhuang/tinyML/model_checkpoint/assets\n"
          ]
        },
        {
          "name": "stdout",
          "output_type": "stream",
          "text": [
            "351/351 [==============================] - 21s 60ms/step - loss: 0.1437 - accuracy: 0.9477 - val_loss: 0.5057 - val_accuracy: 0.8571\n",
            "Epoch 58/182\n",
            "351/351 [==============================] - ETA: 0s - loss: 0.1388 - accuracy: 0.9503INFO:tensorflow:Assets written to: /Users/danielhuang/tinyML/model_checkpoint/assets\n"
          ]
        },
        {
          "name": "stderr",
          "output_type": "stream",
          "text": [
            "INFO:tensorflow:Assets written to: /Users/danielhuang/tinyML/model_checkpoint/assets\n"
          ]
        },
        {
          "name": "stdout",
          "output_type": "stream",
          "text": [
            "351/351 [==============================] - 21s 61ms/step - loss: 0.1388 - accuracy: 0.9503 - val_loss: 0.4627 - val_accuracy: 0.8715\n",
            "Epoch 59/182\n",
            "350/351 [============================>.] - ETA: 0s - loss: 0.1410 - accuracy: 0.9496INFO:tensorflow:Assets written to: /Users/danielhuang/tinyML/model_checkpoint/assets\n"
          ]
        },
        {
          "name": "stderr",
          "output_type": "stream",
          "text": [
            "INFO:tensorflow:Assets written to: /Users/danielhuang/tinyML/model_checkpoint/assets\n"
          ]
        },
        {
          "name": "stdout",
          "output_type": "stream",
          "text": [
            "351/351 [==============================] - 21s 59ms/step - loss: 0.1411 - accuracy: 0.9496 - val_loss: 0.5053 - val_accuracy: 0.8688\n",
            "Epoch 60/182\n",
            "350/351 [============================>.] - ETA: 0s - loss: 0.1334 - accuracy: 0.9519INFO:tensorflow:Assets written to: /Users/danielhuang/tinyML/model_checkpoint/assets\n"
          ]
        },
        {
          "name": "stderr",
          "output_type": "stream",
          "text": [
            "INFO:tensorflow:Assets written to: /Users/danielhuang/tinyML/model_checkpoint/assets\n"
          ]
        },
        {
          "name": "stdout",
          "output_type": "stream",
          "text": [
            "351/351 [==============================] - 21s 61ms/step - loss: 0.1333 - accuracy: 0.9520 - val_loss: 0.4800 - val_accuracy: 0.8658\n",
            "Epoch 61/182\n",
            "350/351 [============================>.] - ETA: 0s - loss: 0.1307 - accuracy: 0.9538INFO:tensorflow:Assets written to: /Users/danielhuang/tinyML/model_checkpoint/assets\n"
          ]
        },
        {
          "name": "stderr",
          "output_type": "stream",
          "text": [
            "INFO:tensorflow:Assets written to: /Users/danielhuang/tinyML/model_checkpoint/assets\n"
          ]
        },
        {
          "name": "stdout",
          "output_type": "stream",
          "text": [
            "351/351 [==============================] - 21s 59ms/step - loss: 0.1306 - accuracy: 0.9538 - val_loss: 0.6310 - val_accuracy: 0.8407\n",
            "Epoch 62/182\n",
            "351/351 [==============================] - ETA: 0s - loss: 0.1304 - accuracy: 0.9537INFO:tensorflow:Assets written to: /Users/danielhuang/tinyML/model_checkpoint/assets\n"
          ]
        },
        {
          "name": "stderr",
          "output_type": "stream",
          "text": [
            "INFO:tensorflow:Assets written to: /Users/danielhuang/tinyML/model_checkpoint/assets\n"
          ]
        },
        {
          "name": "stdout",
          "output_type": "stream",
          "text": [
            "351/351 [==============================] - 22s 62ms/step - loss: 0.1304 - accuracy: 0.9537 - val_loss: 0.6213 - val_accuracy: 0.8493\n",
            "Epoch 63/182\n",
            "350/351 [============================>.] - ETA: 0s - loss: 0.1284 - accuracy: 0.9533INFO:tensorflow:Assets written to: /Users/danielhuang/tinyML/model_checkpoint/assets\n"
          ]
        },
        {
          "name": "stderr",
          "output_type": "stream",
          "text": [
            "INFO:tensorflow:Assets written to: /Users/danielhuang/tinyML/model_checkpoint/assets\n"
          ]
        },
        {
          "name": "stdout",
          "output_type": "stream",
          "text": [
            "351/351 [==============================] - 22s 62ms/step - loss: 0.1284 - accuracy: 0.9533 - val_loss: 0.6642 - val_accuracy: 0.8456\n",
            "Epoch 64/182\n",
            "351/351 [==============================] - ETA: 0s - loss: 0.1247 - accuracy: 0.9547INFO:tensorflow:Assets written to: /Users/danielhuang/tinyML/model_checkpoint/assets\n"
          ]
        },
        {
          "name": "stderr",
          "output_type": "stream",
          "text": [
            "INFO:tensorflow:Assets written to: /Users/danielhuang/tinyML/model_checkpoint/assets\n"
          ]
        },
        {
          "name": "stdout",
          "output_type": "stream",
          "text": [
            "351/351 [==============================] - 21s 60ms/step - loss: 0.1247 - accuracy: 0.9547 - val_loss: 0.4696 - val_accuracy: 0.8629\n",
            "Epoch 65/182\n",
            "351/351 [==============================] - ETA: 0s - loss: 0.1253 - accuracy: 0.9553INFO:tensorflow:Assets written to: /Users/danielhuang/tinyML/model_checkpoint/assets\n"
          ]
        },
        {
          "name": "stderr",
          "output_type": "stream",
          "text": [
            "INFO:tensorflow:Assets written to: /Users/danielhuang/tinyML/model_checkpoint/assets\n"
          ]
        },
        {
          "name": "stdout",
          "output_type": "stream",
          "text": [
            "351/351 [==============================] - 22s 62ms/step - loss: 0.1253 - accuracy: 0.9553 - val_loss: 0.5076 - val_accuracy: 0.8697\n",
            "Epoch 66/182\n",
            "351/351 [==============================] - ETA: 0s - loss: 0.1187 - accuracy: 0.9575INFO:tensorflow:Assets written to: /Users/danielhuang/tinyML/model_checkpoint/assets\n"
          ]
        },
        {
          "name": "stderr",
          "output_type": "stream",
          "text": [
            "INFO:tensorflow:Assets written to: /Users/danielhuang/tinyML/model_checkpoint/assets\n"
          ]
        },
        {
          "name": "stdout",
          "output_type": "stream",
          "text": [
            "351/351 [==============================] - 21s 60ms/step - loss: 0.1187 - accuracy: 0.9575 - val_loss: 0.5728 - val_accuracy: 0.8524\n",
            "Epoch 67/182\n",
            "350/351 [============================>.] - ETA: 0s - loss: 0.1164 - accuracy: 0.9579INFO:tensorflow:Assets written to: /Users/danielhuang/tinyML/model_checkpoint/assets\n"
          ]
        },
        {
          "name": "stderr",
          "output_type": "stream",
          "text": [
            "INFO:tensorflow:Assets written to: /Users/danielhuang/tinyML/model_checkpoint/assets\n"
          ]
        },
        {
          "name": "stdout",
          "output_type": "stream",
          "text": [
            "351/351 [==============================] - 22s 61ms/step - loss: 0.1163 - accuracy: 0.9579 - val_loss: 0.6336 - val_accuracy: 0.8352\n",
            "Epoch 68/182\n",
            "351/351 [==============================] - ETA: 0s - loss: 0.1215 - accuracy: 0.9564INFO:tensorflow:Assets written to: /Users/danielhuang/tinyML/model_checkpoint/assets\n"
          ]
        },
        {
          "name": "stderr",
          "output_type": "stream",
          "text": [
            "INFO:tensorflow:Assets written to: /Users/danielhuang/tinyML/model_checkpoint/assets\n"
          ]
        },
        {
          "name": "stdout",
          "output_type": "stream",
          "text": [
            "351/351 [==============================] - 22s 62ms/step - loss: 0.1215 - accuracy: 0.9564 - val_loss: 0.5489 - val_accuracy: 0.8600\n",
            "Epoch 69/182\n",
            "350/351 [============================>.] - ETA: 0s - loss: 0.1142 - accuracy: 0.9584INFO:tensorflow:Assets written to: /Users/danielhuang/tinyML/model_checkpoint/assets\n"
          ]
        },
        {
          "name": "stderr",
          "output_type": "stream",
          "text": [
            "INFO:tensorflow:Assets written to: /Users/danielhuang/tinyML/model_checkpoint/assets\n"
          ]
        },
        {
          "name": "stdout",
          "output_type": "stream",
          "text": [
            "351/351 [==============================] - 21s 60ms/step - loss: 0.1142 - accuracy: 0.9583 - val_loss: 0.5734 - val_accuracy: 0.8582\n",
            "Epoch 70/182\n",
            "351/351 [==============================] - ETA: 0s - loss: 0.1184 - accuracy: 0.9571INFO:tensorflow:Assets written to: /Users/danielhuang/tinyML/model_checkpoint/assets\n"
          ]
        },
        {
          "name": "stderr",
          "output_type": "stream",
          "text": [
            "INFO:tensorflow:Assets written to: /Users/danielhuang/tinyML/model_checkpoint/assets\n"
          ]
        },
        {
          "name": "stdout",
          "output_type": "stream",
          "text": [
            "351/351 [==============================] - 23s 65ms/step - loss: 0.1184 - accuracy: 0.9571 - val_loss: 0.6047 - val_accuracy: 0.8592\n",
            "Epoch 71/182\n",
            "351/351 [==============================] - ETA: 0s - loss: 0.1123 - accuracy: 0.9599INFO:tensorflow:Assets written to: /Users/danielhuang/tinyML/model_checkpoint/assets\n"
          ]
        },
        {
          "name": "stderr",
          "output_type": "stream",
          "text": [
            "INFO:tensorflow:Assets written to: /Users/danielhuang/tinyML/model_checkpoint/assets\n"
          ]
        },
        {
          "name": "stdout",
          "output_type": "stream",
          "text": [
            "351/351 [==============================] - 22s 64ms/step - loss: 0.1123 - accuracy: 0.9599 - val_loss: 0.9978 - val_accuracy: 0.7952\n",
            "Epoch 72/182\n",
            "350/351 [============================>.] - ETA: 0s - loss: 0.1045 - accuracy: 0.9626INFO:tensorflow:Assets written to: /Users/danielhuang/tinyML/model_checkpoint/assets\n"
          ]
        },
        {
          "name": "stderr",
          "output_type": "stream",
          "text": [
            "INFO:tensorflow:Assets written to: /Users/danielhuang/tinyML/model_checkpoint/assets\n"
          ]
        },
        {
          "name": "stdout",
          "output_type": "stream",
          "text": [
            "351/351 [==============================] - 22s 62ms/step - loss: 0.1045 - accuracy: 0.9626 - val_loss: 0.4946 - val_accuracy: 0.8703\n",
            "Epoch 73/182\n",
            "351/351 [==============================] - ETA: 0s - loss: 0.1072 - accuracy: 0.9612INFO:tensorflow:Assets written to: /Users/danielhuang/tinyML/model_checkpoint/assets\n"
          ]
        },
        {
          "name": "stderr",
          "output_type": "stream",
          "text": [
            "INFO:tensorflow:Assets written to: /Users/danielhuang/tinyML/model_checkpoint/assets\n"
          ]
        },
        {
          "name": "stdout",
          "output_type": "stream",
          "text": [
            "351/351 [==============================] - 22s 64ms/step - loss: 0.1072 - accuracy: 0.9612 - val_loss: 0.5371 - val_accuracy: 0.8690\n",
            "Epoch 74/182\n",
            "351/351 [==============================] - ETA: 0s - loss: 0.1137 - accuracy: 0.9593INFO:tensorflow:Assets written to: /Users/danielhuang/tinyML/model_checkpoint/assets\n"
          ]
        },
        {
          "name": "stderr",
          "output_type": "stream",
          "text": [
            "INFO:tensorflow:Assets written to: /Users/danielhuang/tinyML/model_checkpoint/assets\n"
          ]
        },
        {
          "name": "stdout",
          "output_type": "stream",
          "text": [
            "351/351 [==============================] - 21s 60ms/step - loss: 0.1137 - accuracy: 0.9593 - val_loss: 0.5577 - val_accuracy: 0.8446\n",
            "Epoch 75/182\n",
            "350/351 [============================>.] - ETA: 0s - loss: 0.1076 - accuracy: 0.9606INFO:tensorflow:Assets written to: /Users/danielhuang/tinyML/model_checkpoint/assets\n"
          ]
        },
        {
          "name": "stderr",
          "output_type": "stream",
          "text": [
            "INFO:tensorflow:Assets written to: /Users/danielhuang/tinyML/model_checkpoint/assets\n"
          ]
        },
        {
          "name": "stdout",
          "output_type": "stream",
          "text": [
            "351/351 [==============================] - 22s 62ms/step - loss: 0.1076 - accuracy: 0.9606 - val_loss: 0.5164 - val_accuracy: 0.8654\n",
            "Epoch 76/182\n",
            "351/351 [==============================] - ETA: 0s - loss: 0.1054 - accuracy: 0.9625INFO:tensorflow:Assets written to: /Users/danielhuang/tinyML/model_checkpoint/assets\n"
          ]
        },
        {
          "name": "stderr",
          "output_type": "stream",
          "text": [
            "INFO:tensorflow:Assets written to: /Users/danielhuang/tinyML/model_checkpoint/assets\n"
          ]
        },
        {
          "name": "stdout",
          "output_type": "stream",
          "text": [
            "351/351 [==============================] - 22s 64ms/step - loss: 0.1054 - accuracy: 0.9625 - val_loss: 0.4977 - val_accuracy: 0.8676\n",
            "Epoch 77/182\n",
            "351/351 [==============================] - ETA: 0s - loss: 0.1009 - accuracy: 0.9633INFO:tensorflow:Assets written to: /Users/danielhuang/tinyML/model_checkpoint/assets\n"
          ]
        },
        {
          "name": "stderr",
          "output_type": "stream",
          "text": [
            "INFO:tensorflow:Assets written to: /Users/danielhuang/tinyML/model_checkpoint/assets\n"
          ]
        },
        {
          "name": "stdout",
          "output_type": "stream",
          "text": [
            "351/351 [==============================] - 21s 60ms/step - loss: 0.1009 - accuracy: 0.9633 - val_loss: 0.5013 - val_accuracy: 0.8738\n",
            "Epoch 78/182\n",
            "351/351 [==============================] - ETA: 0s - loss: 0.0980 - accuracy: 0.9643INFO:tensorflow:Assets written to: /Users/danielhuang/tinyML/model_checkpoint/assets\n"
          ]
        },
        {
          "name": "stderr",
          "output_type": "stream",
          "text": [
            "INFO:tensorflow:Assets written to: /Users/danielhuang/tinyML/model_checkpoint/assets\n"
          ]
        },
        {
          "name": "stdout",
          "output_type": "stream",
          "text": [
            "351/351 [==============================] - 22s 63ms/step - loss: 0.0980 - accuracy: 0.9643 - val_loss: 0.4526 - val_accuracy: 0.8873\n",
            "Epoch 79/182\n",
            "350/351 [============================>.] - ETA: 0s - loss: 0.0957 - accuracy: 0.9652INFO:tensorflow:Assets written to: /Users/danielhuang/tinyML/model_checkpoint/assets\n"
          ]
        },
        {
          "name": "stderr",
          "output_type": "stream",
          "text": [
            "INFO:tensorflow:Assets written to: /Users/danielhuang/tinyML/model_checkpoint/assets\n"
          ]
        },
        {
          "name": "stdout",
          "output_type": "stream",
          "text": [
            "351/351 [==============================] - 21s 60ms/step - loss: 0.0957 - accuracy: 0.9652 - val_loss: 0.5033 - val_accuracy: 0.8676\n",
            "Epoch 80/182\n",
            "351/351 [==============================] - ETA: 0s - loss: 0.1006 - accuracy: 0.9636INFO:tensorflow:Assets written to: /Users/danielhuang/tinyML/model_checkpoint/assets\n"
          ]
        },
        {
          "name": "stderr",
          "output_type": "stream",
          "text": [
            "INFO:tensorflow:Assets written to: /Users/danielhuang/tinyML/model_checkpoint/assets\n"
          ]
        },
        {
          "name": "stdout",
          "output_type": "stream",
          "text": [
            "351/351 [==============================] - 22s 63ms/step - loss: 0.1006 - accuracy: 0.9636 - val_loss: 0.5030 - val_accuracy: 0.8705\n",
            "Epoch 81/182\n",
            "351/351 [==============================] - ETA: 0s - loss: 0.0947 - accuracy: 0.9665INFO:tensorflow:Assets written to: /Users/danielhuang/tinyML/model_checkpoint/assets\n"
          ]
        },
        {
          "name": "stderr",
          "output_type": "stream",
          "text": [
            "INFO:tensorflow:Assets written to: /Users/danielhuang/tinyML/model_checkpoint/assets\n"
          ]
        },
        {
          "name": "stdout",
          "output_type": "stream",
          "text": [
            "351/351 [==============================] - 22s 62ms/step - loss: 0.0947 - accuracy: 0.9665 - val_loss: 0.5340 - val_accuracy: 0.8706\n",
            "Epoch 82/182\n",
            "351/351 [==============================] - ETA: 0s - loss: 0.0943 - accuracy: 0.9660INFO:tensorflow:Assets written to: /Users/danielhuang/tinyML/model_checkpoint/assets\n"
          ]
        },
        {
          "name": "stderr",
          "output_type": "stream",
          "text": [
            "INFO:tensorflow:Assets written to: /Users/danielhuang/tinyML/model_checkpoint/assets\n"
          ]
        },
        {
          "name": "stdout",
          "output_type": "stream",
          "text": [
            "351/351 [==============================] - 21s 61ms/step - loss: 0.0943 - accuracy: 0.9660 - val_loss: 0.5143 - val_accuracy: 0.8766\n",
            "Epoch 83/182\n",
            "351/351 [==============================] - ETA: 0s - loss: 0.0934 - accuracy: 0.9669INFO:tensorflow:Assets written to: /Users/danielhuang/tinyML/model_checkpoint/assets\n"
          ]
        },
        {
          "name": "stderr",
          "output_type": "stream",
          "text": [
            "INFO:tensorflow:Assets written to: /Users/danielhuang/tinyML/model_checkpoint/assets\n"
          ]
        },
        {
          "name": "stdout",
          "output_type": "stream",
          "text": [
            "351/351 [==============================] - 22s 62ms/step - loss: 0.0934 - accuracy: 0.9669 - val_loss: 0.5294 - val_accuracy: 0.8651\n",
            "Epoch 84/182\n",
            "351/351 [==============================] - ETA: 0s - loss: 0.0893 - accuracy: 0.9679INFO:tensorflow:Assets written to: /Users/danielhuang/tinyML/model_checkpoint/assets\n"
          ]
        },
        {
          "name": "stderr",
          "output_type": "stream",
          "text": [
            "INFO:tensorflow:Assets written to: /Users/danielhuang/tinyML/model_checkpoint/assets\n"
          ]
        },
        {
          "name": "stdout",
          "output_type": "stream",
          "text": [
            "351/351 [==============================] - 22s 61ms/step - loss: 0.0893 - accuracy: 0.9679 - val_loss: 0.5050 - val_accuracy: 0.8713\n",
            "Epoch 85/182\n",
            "350/351 [============================>.] - ETA: 0s - loss: 0.0891 - accuracy: 0.9680INFO:tensorflow:Assets written to: /Users/danielhuang/tinyML/model_checkpoint/assets\n"
          ]
        },
        {
          "name": "stderr",
          "output_type": "stream",
          "text": [
            "INFO:tensorflow:Assets written to: /Users/danielhuang/tinyML/model_checkpoint/assets\n"
          ]
        },
        {
          "name": "stdout",
          "output_type": "stream",
          "text": [
            "351/351 [==============================] - 22s 63ms/step - loss: 0.0891 - accuracy: 0.9681 - val_loss: 0.5406 - val_accuracy: 0.8666\n",
            "Epoch 86/182\n",
            "350/351 [============================>.] - ETA: 0s - loss: 0.0876 - accuracy: 0.9693INFO:tensorflow:Assets written to: /Users/danielhuang/tinyML/model_checkpoint/assets\n"
          ]
        },
        {
          "name": "stderr",
          "output_type": "stream",
          "text": [
            "INFO:tensorflow:Assets written to: /Users/danielhuang/tinyML/model_checkpoint/assets\n"
          ]
        },
        {
          "name": "stdout",
          "output_type": "stream",
          "text": [
            "351/351 [==============================] - 22s 61ms/step - loss: 0.0875 - accuracy: 0.9693 - val_loss: 0.5197 - val_accuracy: 0.8721\n",
            "Epoch 87/182\n",
            "350/351 [============================>.] - ETA: 0s - loss: 0.0872 - accuracy: 0.9692INFO:tensorflow:Assets written to: /Users/danielhuang/tinyML/model_checkpoint/assets\n"
          ]
        },
        {
          "name": "stderr",
          "output_type": "stream",
          "text": [
            "INFO:tensorflow:Assets written to: /Users/danielhuang/tinyML/model_checkpoint/assets\n"
          ]
        },
        {
          "name": "stdout",
          "output_type": "stream",
          "text": [
            "351/351 [==============================] - 22s 62ms/step - loss: 0.0874 - accuracy: 0.9692 - val_loss: 0.5616 - val_accuracy: 0.8668\n",
            "Epoch 88/182\n",
            "351/351 [==============================] - ETA: 0s - loss: 0.0851 - accuracy: 0.9690INFO:tensorflow:Assets written to: /Users/danielhuang/tinyML/model_checkpoint/assets\n"
          ]
        },
        {
          "name": "stderr",
          "output_type": "stream",
          "text": [
            "INFO:tensorflow:Assets written to: /Users/danielhuang/tinyML/model_checkpoint/assets\n"
          ]
        },
        {
          "name": "stdout",
          "output_type": "stream",
          "text": [
            "351/351 [==============================] - 25s 71ms/step - loss: 0.0851 - accuracy: 0.9690 - val_loss: 0.5488 - val_accuracy: 0.8682\n",
            "Epoch 89/182\n",
            "351/351 [==============================] - ETA: 0s - loss: 0.0898 - accuracy: 0.9676INFO:tensorflow:Assets written to: /Users/danielhuang/tinyML/model_checkpoint/assets\n"
          ]
        },
        {
          "name": "stderr",
          "output_type": "stream",
          "text": [
            "INFO:tensorflow:Assets written to: /Users/danielhuang/tinyML/model_checkpoint/assets\n"
          ]
        },
        {
          "name": "stdout",
          "output_type": "stream",
          "text": [
            "351/351 [==============================] - 25s 70ms/step - loss: 0.0898 - accuracy: 0.9676 - val_loss: 0.6875 - val_accuracy: 0.8426\n",
            "Epoch 90/182\n",
            "351/351 [==============================] - ETA: 0s - loss: 0.0893 - accuracy: 0.9685INFO:tensorflow:Assets written to: /Users/danielhuang/tinyML/model_checkpoint/assets\n"
          ]
        },
        {
          "name": "stderr",
          "output_type": "stream",
          "text": [
            "INFO:tensorflow:Assets written to: /Users/danielhuang/tinyML/model_checkpoint/assets\n"
          ]
        },
        {
          "name": "stdout",
          "output_type": "stream",
          "text": [
            "351/351 [==============================] - 24s 69ms/step - loss: 0.0893 - accuracy: 0.9685 - val_loss: 0.5561 - val_accuracy: 0.8649\n",
            "Epoch 91/182\n",
            "351/351 [==============================] - ETA: 0s - loss: 0.0847 - accuracy: 0.9697INFO:tensorflow:Assets written to: /Users/danielhuang/tinyML/model_checkpoint/assets\n"
          ]
        },
        {
          "name": "stderr",
          "output_type": "stream",
          "text": [
            "INFO:tensorflow:Assets written to: /Users/danielhuang/tinyML/model_checkpoint/assets\n"
          ]
        },
        {
          "name": "stdout",
          "output_type": "stream",
          "text": [
            "351/351 [==============================] - 25s 70ms/step - loss: 0.0847 - accuracy: 0.9697 - val_loss: 0.5085 - val_accuracy: 0.8758\n",
            "Epoch 92/182\n",
            "351/351 [==============================] - ETA: 0s - loss: 0.0725 - accuracy: 0.9745INFO:tensorflow:Assets written to: /Users/danielhuang/tinyML/model_checkpoint/assets\n"
          ]
        },
        {
          "name": "stderr",
          "output_type": "stream",
          "text": [
            "INFO:tensorflow:Assets written to: /Users/danielhuang/tinyML/model_checkpoint/assets\n"
          ]
        },
        {
          "name": "stdout",
          "output_type": "stream",
          "text": [
            "351/351 [==============================] - 24s 68ms/step - loss: 0.0725 - accuracy: 0.9745 - val_loss: 0.3951 - val_accuracy: 0.8957\n",
            "Epoch 93/182\n",
            "351/351 [==============================] - ETA: 0s - loss: 0.0463 - accuracy: 0.9844INFO:tensorflow:Assets written to: /Users/danielhuang/tinyML/model_checkpoint/assets\n"
          ]
        },
        {
          "name": "stderr",
          "output_type": "stream",
          "text": [
            "INFO:tensorflow:Assets written to: /Users/danielhuang/tinyML/model_checkpoint/assets\n"
          ]
        },
        {
          "name": "stdout",
          "output_type": "stream",
          "text": [
            "351/351 [==============================] - 27s 77ms/step - loss: 0.0463 - accuracy: 0.9844 - val_loss: 0.4019 - val_accuracy: 0.8984\n",
            "Epoch 94/182\n",
            "351/351 [==============================] - ETA: 0s - loss: 0.0400 - accuracy: 0.9875INFO:tensorflow:Assets written to: /Users/danielhuang/tinyML/model_checkpoint/assets\n"
          ]
        },
        {
          "name": "stderr",
          "output_type": "stream",
          "text": [
            "INFO:tensorflow:Assets written to: /Users/danielhuang/tinyML/model_checkpoint/assets\n"
          ]
        },
        {
          "name": "stdout",
          "output_type": "stream",
          "text": [
            "351/351 [==============================] - 23s 66ms/step - loss: 0.0400 - accuracy: 0.9875 - val_loss: 0.4117 - val_accuracy: 0.8955\n",
            "Epoch 95/182\n",
            "351/351 [==============================] - ETA: 0s - loss: 0.0372 - accuracy: 0.9878INFO:tensorflow:Assets written to: /Users/danielhuang/tinyML/model_checkpoint/assets\n"
          ]
        },
        {
          "name": "stderr",
          "output_type": "stream",
          "text": [
            "INFO:tensorflow:Assets written to: /Users/danielhuang/tinyML/model_checkpoint/assets\n"
          ]
        },
        {
          "name": "stdout",
          "output_type": "stream",
          "text": [
            "351/351 [==============================] - 22s 63ms/step - loss: 0.0372 - accuracy: 0.9878 - val_loss: 0.4139 - val_accuracy: 0.9015\n",
            "Epoch 96/182\n",
            "351/351 [==============================] - ETA: 0s - loss: 0.0360 - accuracy: 0.9884INFO:tensorflow:Assets written to: /Users/danielhuang/tinyML/model_checkpoint/assets\n"
          ]
        },
        {
          "name": "stderr",
          "output_type": "stream",
          "text": [
            "INFO:tensorflow:Assets written to: /Users/danielhuang/tinyML/model_checkpoint/assets\n"
          ]
        },
        {
          "name": "stdout",
          "output_type": "stream",
          "text": [
            "351/351 [==============================] - 22s 64ms/step - loss: 0.0360 - accuracy: 0.9884 - val_loss: 0.4016 - val_accuracy: 0.9015\n",
            "Epoch 97/182\n",
            "351/351 [==============================] - ETA: 0s - loss: 0.0346 - accuracy: 0.9887INFO:tensorflow:Assets written to: /Users/danielhuang/tinyML/model_checkpoint/assets\n"
          ]
        },
        {
          "name": "stderr",
          "output_type": "stream",
          "text": [
            "INFO:tensorflow:Assets written to: /Users/danielhuang/tinyML/model_checkpoint/assets\n"
          ]
        },
        {
          "name": "stdout",
          "output_type": "stream",
          "text": [
            "351/351 [==============================] - 23s 66ms/step - loss: 0.0346 - accuracy: 0.9887 - val_loss: 0.4074 - val_accuracy: 0.9007\n",
            "Epoch 98/182\n",
            "350/351 [============================>.] - ETA: 0s - loss: 0.0315 - accuracy: 0.9901INFO:tensorflow:Assets written to: /Users/danielhuang/tinyML/model_checkpoint/assets\n"
          ]
        },
        {
          "name": "stderr",
          "output_type": "stream",
          "text": [
            "INFO:tensorflow:Assets written to: /Users/danielhuang/tinyML/model_checkpoint/assets\n"
          ]
        },
        {
          "name": "stdout",
          "output_type": "stream",
          "text": [
            "351/351 [==============================] - 21s 60ms/step - loss: 0.0314 - accuracy: 0.9901 - val_loss: 0.4199 - val_accuracy: 0.9005\n",
            "Epoch 99/182\n",
            "351/351 [==============================] - ETA: 0s - loss: 0.0311 - accuracy: 0.9903INFO:tensorflow:Assets written to: /Users/danielhuang/tinyML/model_checkpoint/assets\n"
          ]
        },
        {
          "name": "stderr",
          "output_type": "stream",
          "text": [
            "INFO:tensorflow:Assets written to: /Users/danielhuang/tinyML/model_checkpoint/assets\n"
          ]
        },
        {
          "name": "stdout",
          "output_type": "stream",
          "text": [
            "351/351 [==============================] - 22s 61ms/step - loss: 0.0311 - accuracy: 0.9903 - val_loss: 0.4074 - val_accuracy: 0.9015\n",
            "Epoch 100/182\n",
            "351/351 [==============================] - ETA: 0s - loss: 0.0303 - accuracy: 0.9905INFO:tensorflow:Assets written to: /Users/danielhuang/tinyML/model_checkpoint/assets\n"
          ]
        },
        {
          "name": "stderr",
          "output_type": "stream",
          "text": [
            "INFO:tensorflow:Assets written to: /Users/danielhuang/tinyML/model_checkpoint/assets\n"
          ]
        },
        {
          "name": "stdout",
          "output_type": "stream",
          "text": [
            "351/351 [==============================] - 22s 61ms/step - loss: 0.0303 - accuracy: 0.9905 - val_loss: 0.4143 - val_accuracy: 0.9023\n",
            "Epoch 101/182\n",
            "351/351 [==============================] - ETA: 0s - loss: 0.0300 - accuracy: 0.9900INFO:tensorflow:Assets written to: /Users/danielhuang/tinyML/model_checkpoint/assets\n"
          ]
        },
        {
          "name": "stderr",
          "output_type": "stream",
          "text": [
            "INFO:tensorflow:Assets written to: /Users/danielhuang/tinyML/model_checkpoint/assets\n"
          ]
        },
        {
          "name": "stdout",
          "output_type": "stream",
          "text": [
            "351/351 [==============================] - 21s 61ms/step - loss: 0.0300 - accuracy: 0.9900 - val_loss: 0.4424 - val_accuracy: 0.8937\n",
            "Epoch 102/182\n",
            "351/351 [==============================] - ETA: 0s - loss: 0.0278 - accuracy: 0.9910INFO:tensorflow:Assets written to: /Users/danielhuang/tinyML/model_checkpoint/assets\n"
          ]
        },
        {
          "name": "stderr",
          "output_type": "stream",
          "text": [
            "INFO:tensorflow:Assets written to: /Users/danielhuang/tinyML/model_checkpoint/assets\n"
          ]
        },
        {
          "name": "stdout",
          "output_type": "stream",
          "text": [
            "351/351 [==============================] - 23s 65ms/step - loss: 0.0278 - accuracy: 0.9910 - val_loss: 0.3856 - val_accuracy: 0.9029\n",
            "Epoch 103/182\n",
            "351/351 [==============================] - ETA: 0s - loss: 0.0268 - accuracy: 0.9915INFO:tensorflow:Assets written to: /Users/danielhuang/tinyML/model_checkpoint/assets\n"
          ]
        },
        {
          "name": "stderr",
          "output_type": "stream",
          "text": [
            "INFO:tensorflow:Assets written to: /Users/danielhuang/tinyML/model_checkpoint/assets\n"
          ]
        },
        {
          "name": "stdout",
          "output_type": "stream",
          "text": [
            "351/351 [==============================] - 23s 66ms/step - loss: 0.0268 - accuracy: 0.9915 - val_loss: 0.4429 - val_accuracy: 0.8947\n",
            "Epoch 104/182\n",
            "351/351 [==============================] - ETA: 0s - loss: 0.0262 - accuracy: 0.9916INFO:tensorflow:Assets written to: /Users/danielhuang/tinyML/model_checkpoint/assets\n"
          ]
        },
        {
          "name": "stderr",
          "output_type": "stream",
          "text": [
            "INFO:tensorflow:Assets written to: /Users/danielhuang/tinyML/model_checkpoint/assets\n"
          ]
        },
        {
          "name": "stdout",
          "output_type": "stream",
          "text": [
            "351/351 [==============================] - 23s 65ms/step - loss: 0.0262 - accuracy: 0.9916 - val_loss: 0.3989 - val_accuracy: 0.9056\n",
            "Epoch 105/182\n",
            "351/351 [==============================] - ETA: 0s - loss: 0.0260 - accuracy: 0.9921INFO:tensorflow:Assets written to: /Users/danielhuang/tinyML/model_checkpoint/assets\n"
          ]
        },
        {
          "name": "stderr",
          "output_type": "stream",
          "text": [
            "INFO:tensorflow:Assets written to: /Users/danielhuang/tinyML/model_checkpoint/assets\n"
          ]
        },
        {
          "name": "stdout",
          "output_type": "stream",
          "text": [
            "351/351 [==============================] - 24s 68ms/step - loss: 0.0260 - accuracy: 0.9921 - val_loss: 0.4540 - val_accuracy: 0.8990\n",
            "Epoch 106/182\n",
            "351/351 [==============================] - ETA: 0s - loss: 0.0251 - accuracy: 0.9923INFO:tensorflow:Assets written to: /Users/danielhuang/tinyML/model_checkpoint/assets\n"
          ]
        },
        {
          "name": "stderr",
          "output_type": "stream",
          "text": [
            "INFO:tensorflow:Assets written to: /Users/danielhuang/tinyML/model_checkpoint/assets\n"
          ]
        },
        {
          "name": "stdout",
          "output_type": "stream",
          "text": [
            "351/351 [==============================] - 23s 66ms/step - loss: 0.0251 - accuracy: 0.9923 - val_loss: 0.4352 - val_accuracy: 0.9000\n",
            "Epoch 107/182\n",
            "351/351 [==============================] - ETA: 0s - loss: 0.0259 - accuracy: 0.9914INFO:tensorflow:Assets written to: /Users/danielhuang/tinyML/model_checkpoint/assets\n"
          ]
        },
        {
          "name": "stderr",
          "output_type": "stream",
          "text": [
            "INFO:tensorflow:Assets written to: /Users/danielhuang/tinyML/model_checkpoint/assets\n"
          ]
        },
        {
          "name": "stdout",
          "output_type": "stream",
          "text": [
            "351/351 [==============================] - 23s 66ms/step - loss: 0.0259 - accuracy: 0.9914 - val_loss: 0.4209 - val_accuracy: 0.8998\n",
            "Epoch 108/182\n",
            "350/351 [============================>.] - ETA: 0s - loss: 0.0252 - accuracy: 0.9913INFO:tensorflow:Assets written to: /Users/danielhuang/tinyML/model_checkpoint/assets\n"
          ]
        },
        {
          "name": "stderr",
          "output_type": "stream",
          "text": [
            "INFO:tensorflow:Assets written to: /Users/danielhuang/tinyML/model_checkpoint/assets\n"
          ]
        },
        {
          "name": "stdout",
          "output_type": "stream",
          "text": [
            "351/351 [==============================] - 22s 63ms/step - loss: 0.0252 - accuracy: 0.9913 - val_loss: 0.4527 - val_accuracy: 0.8951\n",
            "Epoch 109/182\n",
            "351/351 [==============================] - ETA: 0s - loss: 0.0245 - accuracy: 0.9919INFO:tensorflow:Assets written to: /Users/danielhuang/tinyML/model_checkpoint/assets\n"
          ]
        },
        {
          "name": "stderr",
          "output_type": "stream",
          "text": [
            "INFO:tensorflow:Assets written to: /Users/danielhuang/tinyML/model_checkpoint/assets\n"
          ]
        },
        {
          "name": "stdout",
          "output_type": "stream",
          "text": [
            "351/351 [==============================] - 22s 63ms/step - loss: 0.0245 - accuracy: 0.9919 - val_loss: 0.4221 - val_accuracy: 0.9029\n",
            "Epoch 110/182\n",
            "351/351 [==============================] - ETA: 0s - loss: 0.0238 - accuracy: 0.9925INFO:tensorflow:Assets written to: /Users/danielhuang/tinyML/model_checkpoint/assets\n"
          ]
        },
        {
          "name": "stderr",
          "output_type": "stream",
          "text": [
            "INFO:tensorflow:Assets written to: /Users/danielhuang/tinyML/model_checkpoint/assets\n"
          ]
        },
        {
          "name": "stdout",
          "output_type": "stream",
          "text": [
            "351/351 [==============================] - 22s 63ms/step - loss: 0.0238 - accuracy: 0.9925 - val_loss: 0.4581 - val_accuracy: 0.8984\n",
            "Epoch 111/182\n",
            "350/351 [============================>.] - ETA: 0s - loss: 0.0235 - accuracy: 0.9924INFO:tensorflow:Assets written to: /Users/danielhuang/tinyML/model_checkpoint/assets\n"
          ]
        },
        {
          "name": "stderr",
          "output_type": "stream",
          "text": [
            "INFO:tensorflow:Assets written to: /Users/danielhuang/tinyML/model_checkpoint/assets\n"
          ]
        },
        {
          "name": "stdout",
          "output_type": "stream",
          "text": [
            "351/351 [==============================] - 21s 61ms/step - loss: 0.0235 - accuracy: 0.9924 - val_loss: 0.4257 - val_accuracy: 0.9027\n",
            "Epoch 112/182\n",
            "350/351 [============================>.] - ETA: 0s - loss: 0.0236 - accuracy: 0.9925INFO:tensorflow:Assets written to: /Users/danielhuang/tinyML/model_checkpoint/assets\n"
          ]
        },
        {
          "name": "stderr",
          "output_type": "stream",
          "text": [
            "INFO:tensorflow:Assets written to: /Users/danielhuang/tinyML/model_checkpoint/assets\n"
          ]
        },
        {
          "name": "stdout",
          "output_type": "stream",
          "text": [
            "351/351 [==============================] - 22s 62ms/step - loss: 0.0236 - accuracy: 0.9925 - val_loss: 0.4441 - val_accuracy: 0.9048\n",
            "Epoch 113/182\n",
            "350/351 [============================>.] - ETA: 0s - loss: 0.0226 - accuracy: 0.9931INFO:tensorflow:Assets written to: /Users/danielhuang/tinyML/model_checkpoint/assets\n"
          ]
        },
        {
          "name": "stderr",
          "output_type": "stream",
          "text": [
            "INFO:tensorflow:Assets written to: /Users/danielhuang/tinyML/model_checkpoint/assets\n"
          ]
        },
        {
          "name": "stdout",
          "output_type": "stream",
          "text": [
            "351/351 [==============================] - 21s 61ms/step - loss: 0.0225 - accuracy: 0.9931 - val_loss: 0.4541 - val_accuracy: 0.8984\n",
            "Epoch 114/182\n",
            "351/351 [==============================] - ETA: 0s - loss: 0.0212 - accuracy: 0.9937INFO:tensorflow:Assets written to: /Users/danielhuang/tinyML/model_checkpoint/assets\n"
          ]
        },
        {
          "name": "stderr",
          "output_type": "stream",
          "text": [
            "INFO:tensorflow:Assets written to: /Users/danielhuang/tinyML/model_checkpoint/assets\n"
          ]
        },
        {
          "name": "stdout",
          "output_type": "stream",
          "text": [
            "351/351 [==============================] - 21s 61ms/step - loss: 0.0212 - accuracy: 0.9937 - val_loss: 0.4653 - val_accuracy: 0.8974\n",
            "Epoch 115/182\n",
            "350/351 [============================>.] - ETA: 0s - loss: 0.0211 - accuracy: 0.9936INFO:tensorflow:Assets written to: /Users/danielhuang/tinyML/model_checkpoint/assets\n"
          ]
        },
        {
          "name": "stderr",
          "output_type": "stream",
          "text": [
            "INFO:tensorflow:Assets written to: /Users/danielhuang/tinyML/model_checkpoint/assets\n"
          ]
        },
        {
          "name": "stdout",
          "output_type": "stream",
          "text": [
            "351/351 [==============================] - 21s 60ms/step - loss: 0.0211 - accuracy: 0.9936 - val_loss: 0.4323 - val_accuracy: 0.9037\n",
            "Epoch 116/182\n",
            "351/351 [==============================] - ETA: 0s - loss: 0.0229 - accuracy: 0.9924INFO:tensorflow:Assets written to: /Users/danielhuang/tinyML/model_checkpoint/assets\n"
          ]
        },
        {
          "name": "stderr",
          "output_type": "stream",
          "text": [
            "INFO:tensorflow:Assets written to: /Users/danielhuang/tinyML/model_checkpoint/assets\n"
          ]
        },
        {
          "name": "stdout",
          "output_type": "stream",
          "text": [
            "351/351 [==============================] - 21s 60ms/step - loss: 0.0229 - accuracy: 0.9924 - val_loss: 0.4603 - val_accuracy: 0.8951\n",
            "Epoch 117/182\n",
            "350/351 [============================>.] - ETA: 0s - loss: 0.0213 - accuracy: 0.9934INFO:tensorflow:Assets written to: /Users/danielhuang/tinyML/model_checkpoint/assets\n"
          ]
        },
        {
          "name": "stderr",
          "output_type": "stream",
          "text": [
            "INFO:tensorflow:Assets written to: /Users/danielhuang/tinyML/model_checkpoint/assets\n"
          ]
        },
        {
          "name": "stdout",
          "output_type": "stream",
          "text": [
            "351/351 [==============================] - 22s 64ms/step - loss: 0.0213 - accuracy: 0.9934 - val_loss: 0.4508 - val_accuracy: 0.8974\n",
            "Epoch 118/182\n",
            "350/351 [============================>.] - ETA: 0s - loss: 0.0215 - accuracy: 0.9934INFO:tensorflow:Assets written to: /Users/danielhuang/tinyML/model_checkpoint/assets\n"
          ]
        },
        {
          "name": "stderr",
          "output_type": "stream",
          "text": [
            "INFO:tensorflow:Assets written to: /Users/danielhuang/tinyML/model_checkpoint/assets\n"
          ]
        },
        {
          "name": "stdout",
          "output_type": "stream",
          "text": [
            "351/351 [==============================] - 22s 63ms/step - loss: 0.0214 - accuracy: 0.9934 - val_loss: 0.4468 - val_accuracy: 0.9029\n",
            "Epoch 119/182\n",
            "351/351 [==============================] - ETA: 0s - loss: 0.0223 - accuracy: 0.9928INFO:tensorflow:Assets written to: /Users/danielhuang/tinyML/model_checkpoint/assets\n"
          ]
        },
        {
          "name": "stderr",
          "output_type": "stream",
          "text": [
            "INFO:tensorflow:Assets written to: /Users/danielhuang/tinyML/model_checkpoint/assets\n"
          ]
        },
        {
          "name": "stdout",
          "output_type": "stream",
          "text": [
            "351/351 [==============================] - 23s 65ms/step - loss: 0.0223 - accuracy: 0.9928 - val_loss: 0.4746 - val_accuracy: 0.8957\n",
            "Epoch 120/182\n",
            "350/351 [============================>.] - ETA: 0s - loss: 0.0200 - accuracy: 0.9940INFO:tensorflow:Assets written to: /Users/danielhuang/tinyML/model_checkpoint/assets\n"
          ]
        },
        {
          "name": "stderr",
          "output_type": "stream",
          "text": [
            "INFO:tensorflow:Assets written to: /Users/danielhuang/tinyML/model_checkpoint/assets\n"
          ]
        },
        {
          "name": "stdout",
          "output_type": "stream",
          "text": [
            "351/351 [==============================] - 22s 63ms/step - loss: 0.0200 - accuracy: 0.9940 - val_loss: 0.4624 - val_accuracy: 0.9021\n",
            "Epoch 121/182\n",
            "350/351 [============================>.] - ETA: 0s - loss: 0.0195 - accuracy: 0.9937INFO:tensorflow:Assets written to: /Users/danielhuang/tinyML/model_checkpoint/assets\n"
          ]
        },
        {
          "name": "stderr",
          "output_type": "stream",
          "text": [
            "INFO:tensorflow:Assets written to: /Users/danielhuang/tinyML/model_checkpoint/assets\n"
          ]
        },
        {
          "name": "stdout",
          "output_type": "stream",
          "text": [
            "351/351 [==============================] - 22s 62ms/step - loss: 0.0196 - accuracy: 0.9936 - val_loss: 0.4690 - val_accuracy: 0.8988\n",
            "Epoch 122/182\n",
            "351/351 [==============================] - ETA: 0s - loss: 0.0200 - accuracy: 0.9934INFO:tensorflow:Assets written to: /Users/danielhuang/tinyML/model_checkpoint/assets\n"
          ]
        },
        {
          "name": "stderr",
          "output_type": "stream",
          "text": [
            "INFO:tensorflow:Assets written to: /Users/danielhuang/tinyML/model_checkpoint/assets\n"
          ]
        },
        {
          "name": "stdout",
          "output_type": "stream",
          "text": [
            "351/351 [==============================] - 22s 64ms/step - loss: 0.0200 - accuracy: 0.9934 - val_loss: 0.4468 - val_accuracy: 0.8986\n",
            "Epoch 123/182\n",
            "350/351 [============================>.] - ETA: 0s - loss: 0.0202 - accuracy: 0.9939INFO:tensorflow:Assets written to: /Users/danielhuang/tinyML/model_checkpoint/assets\n"
          ]
        },
        {
          "name": "stderr",
          "output_type": "stream",
          "text": [
            "INFO:tensorflow:Assets written to: /Users/danielhuang/tinyML/model_checkpoint/assets\n"
          ]
        },
        {
          "name": "stdout",
          "output_type": "stream",
          "text": [
            "351/351 [==============================] - 22s 62ms/step - loss: 0.0202 - accuracy: 0.9940 - val_loss: 0.4477 - val_accuracy: 0.9035\n",
            "Epoch 124/182\n",
            "351/351 [==============================] - ETA: 0s - loss: 0.0198 - accuracy: 0.9939INFO:tensorflow:Assets written to: /Users/danielhuang/tinyML/model_checkpoint/assets\n"
          ]
        },
        {
          "name": "stderr",
          "output_type": "stream",
          "text": [
            "INFO:tensorflow:Assets written to: /Users/danielhuang/tinyML/model_checkpoint/assets\n"
          ]
        },
        {
          "name": "stdout",
          "output_type": "stream",
          "text": [
            "351/351 [==============================] - 23s 65ms/step - loss: 0.0198 - accuracy: 0.9939 - val_loss: 0.4485 - val_accuracy: 0.9019\n",
            "Epoch 125/182\n",
            "350/351 [============================>.] - ETA: 0s - loss: 0.0186 - accuracy: 0.9939INFO:tensorflow:Assets written to: /Users/danielhuang/tinyML/model_checkpoint/assets\n"
          ]
        },
        {
          "name": "stderr",
          "output_type": "stream",
          "text": [
            "INFO:tensorflow:Assets written to: /Users/danielhuang/tinyML/model_checkpoint/assets\n"
          ]
        },
        {
          "name": "stdout",
          "output_type": "stream",
          "text": [
            "351/351 [==============================] - 22s 63ms/step - loss: 0.0186 - accuracy: 0.9939 - val_loss: 0.4581 - val_accuracy: 0.9015\n",
            "Epoch 126/182\n",
            "351/351 [==============================] - ETA: 0s - loss: 0.0199 - accuracy: 0.9934INFO:tensorflow:Assets written to: /Users/danielhuang/tinyML/model_checkpoint/assets\n"
          ]
        },
        {
          "name": "stderr",
          "output_type": "stream",
          "text": [
            "INFO:tensorflow:Assets written to: /Users/danielhuang/tinyML/model_checkpoint/assets\n"
          ]
        },
        {
          "name": "stdout",
          "output_type": "stream",
          "text": [
            "351/351 [==============================] - 21s 61ms/step - loss: 0.0199 - accuracy: 0.9934 - val_loss: 0.4889 - val_accuracy: 0.8976\n",
            "Epoch 127/182\n",
            "350/351 [============================>.] - ETA: 0s - loss: 0.0190 - accuracy: 0.9940INFO:tensorflow:Assets written to: /Users/danielhuang/tinyML/model_checkpoint/assets\n"
          ]
        },
        {
          "name": "stderr",
          "output_type": "stream",
          "text": [
            "INFO:tensorflow:Assets written to: /Users/danielhuang/tinyML/model_checkpoint/assets\n"
          ]
        },
        {
          "name": "stdout",
          "output_type": "stream",
          "text": [
            "351/351 [==============================] - 22s 61ms/step - loss: 0.0190 - accuracy: 0.9940 - val_loss: 0.4700 - val_accuracy: 0.9000\n",
            "Epoch 128/182\n",
            "350/351 [============================>.] - ETA: 0s - loss: 0.0213 - accuracy: 0.9935INFO:tensorflow:Assets written to: /Users/danielhuang/tinyML/model_checkpoint/assets\n"
          ]
        },
        {
          "name": "stderr",
          "output_type": "stream",
          "text": [
            "INFO:tensorflow:Assets written to: /Users/danielhuang/tinyML/model_checkpoint/assets\n"
          ]
        },
        {
          "name": "stdout",
          "output_type": "stream",
          "text": [
            "351/351 [==============================] - 21s 61ms/step - loss: 0.0214 - accuracy: 0.9935 - val_loss: 0.4667 - val_accuracy: 0.8990\n",
            "Epoch 129/182\n",
            "351/351 [==============================] - ETA: 0s - loss: 0.0182 - accuracy: 0.9940INFO:tensorflow:Assets written to: /Users/danielhuang/tinyML/model_checkpoint/assets\n"
          ]
        },
        {
          "name": "stderr",
          "output_type": "stream",
          "text": [
            "INFO:tensorflow:Assets written to: /Users/danielhuang/tinyML/model_checkpoint/assets\n"
          ]
        },
        {
          "name": "stdout",
          "output_type": "stream",
          "text": [
            "351/351 [==============================] - 22s 63ms/step - loss: 0.0182 - accuracy: 0.9940 - val_loss: 0.4918 - val_accuracy: 0.8984\n",
            "Epoch 130/182\n",
            "350/351 [============================>.] - ETA: 0s - loss: 0.0173 - accuracy: 0.9948INFO:tensorflow:Assets written to: /Users/danielhuang/tinyML/model_checkpoint/assets\n"
          ]
        },
        {
          "name": "stderr",
          "output_type": "stream",
          "text": [
            "INFO:tensorflow:Assets written to: /Users/danielhuang/tinyML/model_checkpoint/assets\n"
          ]
        },
        {
          "name": "stdout",
          "output_type": "stream",
          "text": [
            "351/351 [==============================] - 23s 64ms/step - loss: 0.0173 - accuracy: 0.9948 - val_loss: 0.4850 - val_accuracy: 0.9025\n",
            "Epoch 131/182\n",
            "351/351 [==============================] - ETA: 0s - loss: 0.0186 - accuracy: 0.9942INFO:tensorflow:Assets written to: /Users/danielhuang/tinyML/model_checkpoint/assets\n"
          ]
        },
        {
          "name": "stderr",
          "output_type": "stream",
          "text": [
            "INFO:tensorflow:Assets written to: /Users/danielhuang/tinyML/model_checkpoint/assets\n"
          ]
        },
        {
          "name": "stdout",
          "output_type": "stream",
          "text": [
            "351/351 [==============================] - 24s 68ms/step - loss: 0.0186 - accuracy: 0.9942 - val_loss: 0.4452 - val_accuracy: 0.9058\n",
            "Epoch 132/182\n",
            "350/351 [============================>.] - ETA: 0s - loss: 0.0183 - accuracy: 0.9943INFO:tensorflow:Assets written to: /Users/danielhuang/tinyML/model_checkpoint/assets\n"
          ]
        },
        {
          "name": "stderr",
          "output_type": "stream",
          "text": [
            "INFO:tensorflow:Assets written to: /Users/danielhuang/tinyML/model_checkpoint/assets\n"
          ]
        },
        {
          "name": "stdout",
          "output_type": "stream",
          "text": [
            "351/351 [==============================] - 24s 67ms/step - loss: 0.0183 - accuracy: 0.9943 - val_loss: 0.4635 - val_accuracy: 0.9041\n",
            "Epoch 133/182\n",
            "351/351 [==============================] - ETA: 0s - loss: 0.0187 - accuracy: 0.9939INFO:tensorflow:Assets written to: /Users/danielhuang/tinyML/model_checkpoint/assets\n"
          ]
        },
        {
          "name": "stderr",
          "output_type": "stream",
          "text": [
            "INFO:tensorflow:Assets written to: /Users/danielhuang/tinyML/model_checkpoint/assets\n"
          ]
        },
        {
          "name": "stdout",
          "output_type": "stream",
          "text": [
            "351/351 [==============================] - 23s 64ms/step - loss: 0.0187 - accuracy: 0.9939 - val_loss: 0.4473 - val_accuracy: 0.8998\n",
            "Epoch 134/182\n",
            "351/351 [==============================] - ETA: 0s - loss: 0.0184 - accuracy: 0.9937INFO:tensorflow:Assets written to: /Users/danielhuang/tinyML/model_checkpoint/assets\n"
          ]
        },
        {
          "name": "stderr",
          "output_type": "stream",
          "text": [
            "INFO:tensorflow:Assets written to: /Users/danielhuang/tinyML/model_checkpoint/assets\n"
          ]
        },
        {
          "name": "stdout",
          "output_type": "stream",
          "text": [
            "351/351 [==============================] - 22s 63ms/step - loss: 0.0184 - accuracy: 0.9937 - val_loss: 0.4819 - val_accuracy: 0.8970\n",
            "Epoch 135/182\n",
            "351/351 [==============================] - ETA: 0s - loss: 0.0172 - accuracy: 0.9945INFO:tensorflow:Assets written to: /Users/danielhuang/tinyML/model_checkpoint/assets\n"
          ]
        },
        {
          "name": "stderr",
          "output_type": "stream",
          "text": [
            "INFO:tensorflow:Assets written to: /Users/danielhuang/tinyML/model_checkpoint/assets\n"
          ]
        },
        {
          "name": "stdout",
          "output_type": "stream",
          "text": [
            "351/351 [==============================] - 22s 62ms/step - loss: 0.0172 - accuracy: 0.9945 - val_loss: 0.4627 - val_accuracy: 0.8982\n",
            "Epoch 136/182\n",
            "351/351 [==============================] - ETA: 0s - loss: 0.0184 - accuracy: 0.9943INFO:tensorflow:Assets written to: /Users/danielhuang/tinyML/model_checkpoint/assets\n"
          ]
        },
        {
          "name": "stderr",
          "output_type": "stream",
          "text": [
            "INFO:tensorflow:Assets written to: /Users/danielhuang/tinyML/model_checkpoint/assets\n"
          ]
        },
        {
          "name": "stdout",
          "output_type": "stream",
          "text": [
            "351/351 [==============================] - 22s 62ms/step - loss: 0.0184 - accuracy: 0.9943 - val_loss: 0.4799 - val_accuracy: 0.9002\n",
            "Epoch 137/182\n",
            "350/351 [============================>.] - ETA: 0s - loss: 0.0179 - accuracy: 0.9942INFO:tensorflow:Assets written to: /Users/danielhuang/tinyML/model_checkpoint/assets\n"
          ]
        },
        {
          "name": "stderr",
          "output_type": "stream",
          "text": [
            "INFO:tensorflow:Assets written to: /Users/danielhuang/tinyML/model_checkpoint/assets\n"
          ]
        },
        {
          "name": "stdout",
          "output_type": "stream",
          "text": [
            "351/351 [==============================] - 21s 61ms/step - loss: 0.0179 - accuracy: 0.9942 - val_loss: 0.5113 - val_accuracy: 0.9035\n",
            "Epoch 138/182\n",
            "351/351 [==============================] - ETA: 0s - loss: 0.0170 - accuracy: 0.9943INFO:tensorflow:Assets written to: /Users/danielhuang/tinyML/model_checkpoint/assets\n"
          ]
        },
        {
          "name": "stderr",
          "output_type": "stream",
          "text": [
            "INFO:tensorflow:Assets written to: /Users/danielhuang/tinyML/model_checkpoint/assets\n"
          ]
        },
        {
          "name": "stdout",
          "output_type": "stream",
          "text": [
            "351/351 [==============================] - 22s 63ms/step - loss: 0.0170 - accuracy: 0.9943 - val_loss: 0.4837 - val_accuracy: 0.9023\n",
            "Epoch 139/182\n",
            "351/351 [==============================] - ETA: 0s - loss: 0.0167 - accuracy: 0.9948INFO:tensorflow:Assets written to: /Users/danielhuang/tinyML/model_checkpoint/assets\n"
          ]
        },
        {
          "name": "stderr",
          "output_type": "stream",
          "text": [
            "INFO:tensorflow:Assets written to: /Users/danielhuang/tinyML/model_checkpoint/assets\n"
          ]
        },
        {
          "name": "stdout",
          "output_type": "stream",
          "text": [
            "351/351 [==============================] - 22s 61ms/step - loss: 0.0167 - accuracy: 0.9948 - val_loss: 0.4777 - val_accuracy: 0.9062\n",
            "Epoch 140/182\n",
            "350/351 [============================>.] - ETA: 0s - loss: 0.0173 - accuracy: 0.9946INFO:tensorflow:Assets written to: /Users/danielhuang/tinyML/model_checkpoint/assets\n"
          ]
        },
        {
          "name": "stderr",
          "output_type": "stream",
          "text": [
            "INFO:tensorflow:Assets written to: /Users/danielhuang/tinyML/model_checkpoint/assets\n"
          ]
        },
        {
          "name": "stdout",
          "output_type": "stream",
          "text": [
            "351/351 [==============================] - 21s 61ms/step - loss: 0.0172 - accuracy: 0.9946 - val_loss: 0.4558 - val_accuracy: 0.8994\n",
            "Epoch 141/182\n",
            "350/351 [============================>.] - ETA: 0s - loss: 0.0158 - accuracy: 0.9949INFO:tensorflow:Assets written to: /Users/danielhuang/tinyML/model_checkpoint/assets\n"
          ]
        },
        {
          "name": "stderr",
          "output_type": "stream",
          "text": [
            "INFO:tensorflow:Assets written to: /Users/danielhuang/tinyML/model_checkpoint/assets\n"
          ]
        },
        {
          "name": "stdout",
          "output_type": "stream",
          "text": [
            "351/351 [==============================] - 21s 60ms/step - loss: 0.0159 - accuracy: 0.9949 - val_loss: 0.4217 - val_accuracy: 0.9101\n",
            "Epoch 142/182\n",
            "351/351 [==============================] - ETA: 0s - loss: 0.0160 - accuracy: 0.9950INFO:tensorflow:Assets written to: /Users/danielhuang/tinyML/model_checkpoint/assets\n"
          ]
        },
        {
          "name": "stderr",
          "output_type": "stream",
          "text": [
            "INFO:tensorflow:Assets written to: /Users/danielhuang/tinyML/model_checkpoint/assets\n"
          ]
        },
        {
          "name": "stdout",
          "output_type": "stream",
          "text": [
            "351/351 [==============================] - 23s 64ms/step - loss: 0.0160 - accuracy: 0.9950 - val_loss: 0.5022 - val_accuracy: 0.8990\n",
            "Epoch 143/182\n",
            "350/351 [============================>.] - ETA: 0s - loss: 0.0170 - accuracy: 0.9946INFO:tensorflow:Assets written to: /Users/danielhuang/tinyML/model_checkpoint/assets\n"
          ]
        },
        {
          "name": "stderr",
          "output_type": "stream",
          "text": [
            "INFO:tensorflow:Assets written to: /Users/danielhuang/tinyML/model_checkpoint/assets\n"
          ]
        },
        {
          "name": "stdout",
          "output_type": "stream",
          "text": [
            "351/351 [==============================] - 22s 64ms/step - loss: 0.0170 - accuracy: 0.9945 - val_loss: 0.4613 - val_accuracy: 0.9048\n",
            "Epoch 144/182\n",
            "351/351 [==============================] - ETA: 0s - loss: 0.0158 - accuracy: 0.9952INFO:tensorflow:Assets written to: /Users/danielhuang/tinyML/model_checkpoint/assets\n"
          ]
        },
        {
          "name": "stderr",
          "output_type": "stream",
          "text": [
            "INFO:tensorflow:Assets written to: /Users/danielhuang/tinyML/model_checkpoint/assets\n"
          ]
        },
        {
          "name": "stdout",
          "output_type": "stream",
          "text": [
            "351/351 [==============================] - 23s 65ms/step - loss: 0.0158 - accuracy: 0.9952 - val_loss: 0.4714 - val_accuracy: 0.9017\n",
            "Epoch 145/182\n",
            "351/351 [==============================] - ETA: 0s - loss: 0.0161 - accuracy: 0.9949INFO:tensorflow:Assets written to: /Users/danielhuang/tinyML/model_checkpoint/assets\n"
          ]
        },
        {
          "name": "stderr",
          "output_type": "stream",
          "text": [
            "INFO:tensorflow:Assets written to: /Users/danielhuang/tinyML/model_checkpoint/assets\n"
          ]
        },
        {
          "name": "stdout",
          "output_type": "stream",
          "text": [
            "351/351 [==============================] - 22s 63ms/step - loss: 0.0161 - accuracy: 0.9949 - val_loss: 0.4754 - val_accuracy: 0.9035\n",
            "Epoch 146/182\n",
            "351/351 [==============================] - ETA: 0s - loss: 0.0166 - accuracy: 0.9949INFO:tensorflow:Assets written to: /Users/danielhuang/tinyML/model_checkpoint/assets\n"
          ]
        },
        {
          "name": "stderr",
          "output_type": "stream",
          "text": [
            "INFO:tensorflow:Assets written to: /Users/danielhuang/tinyML/model_checkpoint/assets\n"
          ]
        },
        {
          "name": "stdout",
          "output_type": "stream",
          "text": [
            "351/351 [==============================] - 22s 62ms/step - loss: 0.0166 - accuracy: 0.9949 - val_loss: 0.4913 - val_accuracy: 0.9046\n",
            "Epoch 147/182\n",
            "351/351 [==============================] - ETA: 0s - loss: 0.0152 - accuracy: 0.9952INFO:tensorflow:Assets written to: /Users/danielhuang/tinyML/model_checkpoint/assets\n"
          ]
        },
        {
          "name": "stderr",
          "output_type": "stream",
          "text": [
            "INFO:tensorflow:Assets written to: /Users/danielhuang/tinyML/model_checkpoint/assets\n"
          ]
        },
        {
          "name": "stdout",
          "output_type": "stream",
          "text": [
            "351/351 [==============================] - 22s 63ms/step - loss: 0.0152 - accuracy: 0.9952 - val_loss: 0.4567 - val_accuracy: 0.9015\n",
            "Epoch 148/182\n",
            "351/351 [==============================] - ETA: 0s - loss: 0.0155 - accuracy: 0.9953INFO:tensorflow:Assets written to: /Users/danielhuang/tinyML/model_checkpoint/assets\n"
          ]
        },
        {
          "name": "stderr",
          "output_type": "stream",
          "text": [
            "INFO:tensorflow:Assets written to: /Users/danielhuang/tinyML/model_checkpoint/assets\n"
          ]
        },
        {
          "name": "stdout",
          "output_type": "stream",
          "text": [
            "351/351 [==============================] - 26s 73ms/step - loss: 0.0155 - accuracy: 0.9953 - val_loss: 0.4883 - val_accuracy: 0.9002\n",
            "Epoch 149/182\n",
            "350/351 [============================>.] - ETA: 0s - loss: 0.0166 - accuracy: 0.9951INFO:tensorflow:Assets written to: /Users/danielhuang/tinyML/model_checkpoint/assets\n"
          ]
        },
        {
          "name": "stderr",
          "output_type": "stream",
          "text": [
            "INFO:tensorflow:Assets written to: /Users/danielhuang/tinyML/model_checkpoint/assets\n"
          ]
        },
        {
          "name": "stdout",
          "output_type": "stream",
          "text": [
            "351/351 [==============================] - 25s 70ms/step - loss: 0.0166 - accuracy: 0.9951 - val_loss: 0.4773 - val_accuracy: 0.9041\n",
            "Epoch 150/182\n",
            "351/351 [==============================] - ETA: 0s - loss: 0.0154 - accuracy: 0.9951INFO:tensorflow:Assets written to: /Users/danielhuang/tinyML/model_checkpoint/assets\n"
          ]
        },
        {
          "name": "stderr",
          "output_type": "stream",
          "text": [
            "INFO:tensorflow:Assets written to: /Users/danielhuang/tinyML/model_checkpoint/assets\n"
          ]
        },
        {
          "name": "stdout",
          "output_type": "stream",
          "text": [
            "351/351 [==============================] - 22s 64ms/step - loss: 0.0154 - accuracy: 0.9951 - val_loss: 0.4526 - val_accuracy: 0.9070\n",
            "Epoch 151/182\n",
            "350/351 [============================>.] - ETA: 0s - loss: 0.0149 - accuracy: 0.9959INFO:tensorflow:Assets written to: /Users/danielhuang/tinyML/model_checkpoint/assets\n"
          ]
        },
        {
          "name": "stderr",
          "output_type": "stream",
          "text": [
            "INFO:tensorflow:Assets written to: /Users/danielhuang/tinyML/model_checkpoint/assets\n"
          ]
        },
        {
          "name": "stdout",
          "output_type": "stream",
          "text": [
            "351/351 [==============================] - 22s 62ms/step - loss: 0.0149 - accuracy: 0.9959 - val_loss: 0.5120 - val_accuracy: 0.9009\n",
            "Epoch 152/182\n",
            "350/351 [============================>.] - ETA: 0s - loss: 0.0162 - accuracy: 0.9951INFO:tensorflow:Assets written to: /Users/danielhuang/tinyML/model_checkpoint/assets\n"
          ]
        },
        {
          "name": "stderr",
          "output_type": "stream",
          "text": [
            "INFO:tensorflow:Assets written to: /Users/danielhuang/tinyML/model_checkpoint/assets\n"
          ]
        },
        {
          "name": "stdout",
          "output_type": "stream",
          "text": [
            "351/351 [==============================] - 22s 62ms/step - loss: 0.0161 - accuracy: 0.9951 - val_loss: 0.4865 - val_accuracy: 0.8947\n",
            "Epoch 153/182\n",
            "351/351 [==============================] - ETA: 0s - loss: 0.0151 - accuracy: 0.9957INFO:tensorflow:Assets written to: /Users/danielhuang/tinyML/model_checkpoint/assets\n"
          ]
        },
        {
          "name": "stderr",
          "output_type": "stream",
          "text": [
            "INFO:tensorflow:Assets written to: /Users/danielhuang/tinyML/model_checkpoint/assets\n"
          ]
        },
        {
          "name": "stdout",
          "output_type": "stream",
          "text": [
            "351/351 [==============================] - 22s 62ms/step - loss: 0.0151 - accuracy: 0.9957 - val_loss: 0.5052 - val_accuracy: 0.9013\n",
            "Epoch 154/182\n",
            "350/351 [============================>.] - ETA: 0s - loss: 0.0157 - accuracy: 0.9951INFO:tensorflow:Assets written to: /Users/danielhuang/tinyML/model_checkpoint/assets\n"
          ]
        },
        {
          "name": "stderr",
          "output_type": "stream",
          "text": [
            "INFO:tensorflow:Assets written to: /Users/danielhuang/tinyML/model_checkpoint/assets\n"
          ]
        },
        {
          "name": "stdout",
          "output_type": "stream",
          "text": [
            "351/351 [==============================] - 21s 60ms/step - loss: 0.0157 - accuracy: 0.9951 - val_loss: 0.4845 - val_accuracy: 0.9037\n",
            "Epoch 155/182\n",
            "350/351 [============================>.] - ETA: 0s - loss: 0.0164 - accuracy: 0.9948INFO:tensorflow:Assets written to: /Users/danielhuang/tinyML/model_checkpoint/assets\n"
          ]
        },
        {
          "name": "stderr",
          "output_type": "stream",
          "text": [
            "INFO:tensorflow:Assets written to: /Users/danielhuang/tinyML/model_checkpoint/assets\n"
          ]
        },
        {
          "name": "stdout",
          "output_type": "stream",
          "text": [
            "351/351 [==============================] - 21s 60ms/step - loss: 0.0165 - accuracy: 0.9948 - val_loss: 0.4711 - val_accuracy: 0.9025\n",
            "Epoch 156/182\n",
            "351/351 [==============================] - ETA: 0s - loss: 0.0168 - accuracy: 0.9949INFO:tensorflow:Assets written to: /Users/danielhuang/tinyML/model_checkpoint/assets\n"
          ]
        },
        {
          "name": "stderr",
          "output_type": "stream",
          "text": [
            "INFO:tensorflow:Assets written to: /Users/danielhuang/tinyML/model_checkpoint/assets\n"
          ]
        },
        {
          "name": "stdout",
          "output_type": "stream",
          "text": [
            "351/351 [==============================] - 21s 61ms/step - loss: 0.0168 - accuracy: 0.9949 - val_loss: 0.4765 - val_accuracy: 0.9007\n",
            "Epoch 157/182\n",
            "351/351 [==============================] - ETA: 0s - loss: 0.0156 - accuracy: 0.9952INFO:tensorflow:Assets written to: /Users/danielhuang/tinyML/model_checkpoint/assets\n"
          ]
        },
        {
          "name": "stderr",
          "output_type": "stream",
          "text": [
            "INFO:tensorflow:Assets written to: /Users/danielhuang/tinyML/model_checkpoint/assets\n"
          ]
        },
        {
          "name": "stdout",
          "output_type": "stream",
          "text": [
            "351/351 [==============================] - 23s 66ms/step - loss: 0.0156 - accuracy: 0.9952 - val_loss: 0.4551 - val_accuracy: 0.9015\n",
            "Epoch 158/182\n",
            "350/351 [============================>.] - ETA: 0s - loss: 0.0153 - accuracy: 0.9954INFO:tensorflow:Assets written to: /Users/danielhuang/tinyML/model_checkpoint/assets\n"
          ]
        },
        {
          "name": "stderr",
          "output_type": "stream",
          "text": [
            "INFO:tensorflow:Assets written to: /Users/danielhuang/tinyML/model_checkpoint/assets\n"
          ]
        },
        {
          "name": "stdout",
          "output_type": "stream",
          "text": [
            "351/351 [==============================] - 21s 61ms/step - loss: 0.0153 - accuracy: 0.9954 - val_loss: 0.4831 - val_accuracy: 0.8992\n",
            "Epoch 159/182\n",
            "350/351 [============================>.] - ETA: 0s - loss: 0.0149 - accuracy: 0.9956INFO:tensorflow:Assets written to: /Users/danielhuang/tinyML/model_checkpoint/assets\n"
          ]
        },
        {
          "name": "stderr",
          "output_type": "stream",
          "text": [
            "INFO:tensorflow:Assets written to: /Users/danielhuang/tinyML/model_checkpoint/assets\n"
          ]
        },
        {
          "name": "stdout",
          "output_type": "stream",
          "text": [
            "351/351 [==============================] - 21s 60ms/step - loss: 0.0149 - accuracy: 0.9956 - val_loss: 0.4721 - val_accuracy: 0.9019\n",
            "Epoch 160/182\n",
            "351/351 [==============================] - ETA: 0s - loss: 0.0157 - accuracy: 0.9951INFO:tensorflow:Assets written to: /Users/danielhuang/tinyML/model_checkpoint/assets\n"
          ]
        },
        {
          "name": "stderr",
          "output_type": "stream",
          "text": [
            "INFO:tensorflow:Assets written to: /Users/danielhuang/tinyML/model_checkpoint/assets\n"
          ]
        },
        {
          "name": "stdout",
          "output_type": "stream",
          "text": [
            "351/351 [==============================] - 21s 60ms/step - loss: 0.0157 - accuracy: 0.9951 - val_loss: 0.4824 - val_accuracy: 0.9011\n",
            "Epoch 161/182\n",
            "351/351 [==============================] - ETA: 0s - loss: 0.0152 - accuracy: 0.9951INFO:tensorflow:Assets written to: /Users/danielhuang/tinyML/model_checkpoint/assets\n"
          ]
        },
        {
          "name": "stderr",
          "output_type": "stream",
          "text": [
            "INFO:tensorflow:Assets written to: /Users/danielhuang/tinyML/model_checkpoint/assets\n"
          ]
        },
        {
          "name": "stdout",
          "output_type": "stream",
          "text": [
            "351/351 [==============================] - 21s 60ms/step - loss: 0.0152 - accuracy: 0.9951 - val_loss: 0.4792 - val_accuracy: 0.8982\n",
            "Epoch 162/182\n",
            "351/351 [==============================] - ETA: 0s - loss: 0.0159 - accuracy: 0.9949INFO:tensorflow:Assets written to: /Users/danielhuang/tinyML/model_checkpoint/assets\n"
          ]
        },
        {
          "name": "stderr",
          "output_type": "stream",
          "text": [
            "INFO:tensorflow:Assets written to: /Users/danielhuang/tinyML/model_checkpoint/assets\n"
          ]
        },
        {
          "name": "stdout",
          "output_type": "stream",
          "text": [
            "351/351 [==============================] - 21s 59ms/step - loss: 0.0159 - accuracy: 0.9949 - val_loss: 0.4853 - val_accuracy: 0.8982\n",
            "Epoch 163/182\n",
            "351/351 [==============================] - ETA: 0s - loss: 0.0154 - accuracy: 0.9953INFO:tensorflow:Assets written to: /Users/danielhuang/tinyML/model_checkpoint/assets\n"
          ]
        },
        {
          "name": "stderr",
          "output_type": "stream",
          "text": [
            "INFO:tensorflow:Assets written to: /Users/danielhuang/tinyML/model_checkpoint/assets\n"
          ]
        },
        {
          "name": "stdout",
          "output_type": "stream",
          "text": [
            "351/351 [==============================] - 21s 60ms/step - loss: 0.0154 - accuracy: 0.9953 - val_loss: 0.4878 - val_accuracy: 0.9005\n",
            "Epoch 164/182\n",
            "351/351 [==============================] - ETA: 0s - loss: 0.0151 - accuracy: 0.9956INFO:tensorflow:Assets written to: /Users/danielhuang/tinyML/model_checkpoint/assets\n"
          ]
        },
        {
          "name": "stderr",
          "output_type": "stream",
          "text": [
            "INFO:tensorflow:Assets written to: /Users/danielhuang/tinyML/model_checkpoint/assets\n"
          ]
        },
        {
          "name": "stdout",
          "output_type": "stream",
          "text": [
            "351/351 [==============================] - 22s 63ms/step - loss: 0.0151 - accuracy: 0.9956 - val_loss: 0.4619 - val_accuracy: 0.9041\n",
            "Epoch 165/182\n",
            "351/351 [==============================] - ETA: 0s - loss: 0.0150 - accuracy: 0.9955INFO:tensorflow:Assets written to: /Users/danielhuang/tinyML/model_checkpoint/assets\n"
          ]
        },
        {
          "name": "stderr",
          "output_type": "stream",
          "text": [
            "INFO:tensorflow:Assets written to: /Users/danielhuang/tinyML/model_checkpoint/assets\n"
          ]
        },
        {
          "name": "stdout",
          "output_type": "stream",
          "text": [
            "351/351 [==============================] - 22s 62ms/step - loss: 0.0150 - accuracy: 0.9955 - val_loss: 0.4891 - val_accuracy: 0.9015\n",
            "Epoch 166/182\n",
            "351/351 [==============================] - ETA: 0s - loss: 0.0143 - accuracy: 0.9957INFO:tensorflow:Assets written to: /Users/danielhuang/tinyML/model_checkpoint/assets\n"
          ]
        },
        {
          "name": "stderr",
          "output_type": "stream",
          "text": [
            "INFO:tensorflow:Assets written to: /Users/danielhuang/tinyML/model_checkpoint/assets\n"
          ]
        },
        {
          "name": "stdout",
          "output_type": "stream",
          "text": [
            "351/351 [==============================] - 21s 60ms/step - loss: 0.0143 - accuracy: 0.9957 - val_loss: 0.4424 - val_accuracy: 0.9019\n",
            "Epoch 167/182\n",
            "351/351 [==============================] - ETA: 0s - loss: 0.0150 - accuracy: 0.9957INFO:tensorflow:Assets written to: /Users/danielhuang/tinyML/model_checkpoint/assets\n"
          ]
        },
        {
          "name": "stderr",
          "output_type": "stream",
          "text": [
            "INFO:tensorflow:Assets written to: /Users/danielhuang/tinyML/model_checkpoint/assets\n"
          ]
        },
        {
          "name": "stdout",
          "output_type": "stream",
          "text": [
            "351/351 [==============================] - 22s 63ms/step - loss: 0.0150 - accuracy: 0.9957 - val_loss: 0.4773 - val_accuracy: 0.9007\n",
            "Epoch 168/182\n",
            "351/351 [==============================] - ETA: 0s - loss: 0.0155 - accuracy: 0.9953INFO:tensorflow:Assets written to: /Users/danielhuang/tinyML/model_checkpoint/assets\n"
          ]
        },
        {
          "name": "stderr",
          "output_type": "stream",
          "text": [
            "INFO:tensorflow:Assets written to: /Users/danielhuang/tinyML/model_checkpoint/assets\n"
          ]
        },
        {
          "name": "stdout",
          "output_type": "stream",
          "text": [
            "351/351 [==============================] - 23s 67ms/step - loss: 0.0155 - accuracy: 0.9953 - val_loss: 0.4818 - val_accuracy: 0.8992\n",
            "Epoch 169/182\n",
            "351/351 [==============================] - ETA: 0s - loss: 0.0156 - accuracy: 0.9953INFO:tensorflow:Assets written to: /Users/danielhuang/tinyML/model_checkpoint/assets\n"
          ]
        },
        {
          "name": "stderr",
          "output_type": "stream",
          "text": [
            "INFO:tensorflow:Assets written to: /Users/danielhuang/tinyML/model_checkpoint/assets\n"
          ]
        },
        {
          "name": "stdout",
          "output_type": "stream",
          "text": [
            "351/351 [==============================] - 23s 65ms/step - loss: 0.0156 - accuracy: 0.9953 - val_loss: 0.5134 - val_accuracy: 0.8968\n",
            "Epoch 170/182\n",
            "351/351 [==============================] - ETA: 0s - loss: 0.0153 - accuracy: 0.9953INFO:tensorflow:Assets written to: /Users/danielhuang/tinyML/model_checkpoint/assets\n"
          ]
        },
        {
          "name": "stderr",
          "output_type": "stream",
          "text": [
            "INFO:tensorflow:Assets written to: /Users/danielhuang/tinyML/model_checkpoint/assets\n"
          ]
        },
        {
          "name": "stdout",
          "output_type": "stream",
          "text": [
            "351/351 [==============================] - 23s 66ms/step - loss: 0.0153 - accuracy: 0.9953 - val_loss: 0.4689 - val_accuracy: 0.9060\n",
            "Epoch 171/182\n",
            "351/351 [==============================] - ETA: 0s - loss: 0.0154 - accuracy: 0.9955INFO:tensorflow:Assets written to: /Users/danielhuang/tinyML/model_checkpoint/assets\n"
          ]
        },
        {
          "name": "stderr",
          "output_type": "stream",
          "text": [
            "INFO:tensorflow:Assets written to: /Users/danielhuang/tinyML/model_checkpoint/assets\n"
          ]
        },
        {
          "name": "stdout",
          "output_type": "stream",
          "text": [
            "351/351 [==============================] - 24s 69ms/step - loss: 0.0154 - accuracy: 0.9955 - val_loss: 0.5280 - val_accuracy: 0.8953\n",
            "Epoch 172/182\n",
            "351/351 [==============================] - ETA: 0s - loss: 0.0154 - accuracy: 0.9952INFO:tensorflow:Assets written to: /Users/danielhuang/tinyML/model_checkpoint/assets\n"
          ]
        },
        {
          "name": "stderr",
          "output_type": "stream",
          "text": [
            "INFO:tensorflow:Assets written to: /Users/danielhuang/tinyML/model_checkpoint/assets\n"
          ]
        },
        {
          "name": "stdout",
          "output_type": "stream",
          "text": [
            "351/351 [==============================] - 23s 64ms/step - loss: 0.0154 - accuracy: 0.9952 - val_loss: 0.4584 - val_accuracy: 0.9054\n",
            "Epoch 173/182\n",
            "351/351 [==============================] - ETA: 0s - loss: 0.0152 - accuracy: 0.9952INFO:tensorflow:Assets written to: /Users/danielhuang/tinyML/model_checkpoint/assets\n"
          ]
        },
        {
          "name": "stderr",
          "output_type": "stream",
          "text": [
            "INFO:tensorflow:Assets written to: /Users/danielhuang/tinyML/model_checkpoint/assets\n"
          ]
        },
        {
          "name": "stdout",
          "output_type": "stream",
          "text": [
            "351/351 [==============================] - 22s 63ms/step - loss: 0.0152 - accuracy: 0.9952 - val_loss: 0.5014 - val_accuracy: 0.8986\n",
            "Epoch 174/182\n",
            "351/351 [==============================] - ETA: 0s - loss: 0.0157 - accuracy: 0.9948INFO:tensorflow:Assets written to: /Users/danielhuang/tinyML/model_checkpoint/assets\n"
          ]
        },
        {
          "name": "stderr",
          "output_type": "stream",
          "text": [
            "INFO:tensorflow:Assets written to: /Users/danielhuang/tinyML/model_checkpoint/assets\n"
          ]
        },
        {
          "name": "stdout",
          "output_type": "stream",
          "text": [
            "351/351 [==============================] - 24s 69ms/step - loss: 0.0157 - accuracy: 0.9948 - val_loss: 0.4724 - val_accuracy: 0.9027\n",
            "Epoch 175/182\n",
            "350/351 [============================>.] - ETA: 0s - loss: 0.0138 - accuracy: 0.9955INFO:tensorflow:Assets written to: /Users/danielhuang/tinyML/model_checkpoint/assets\n"
          ]
        },
        {
          "name": "stderr",
          "output_type": "stream",
          "text": [
            "INFO:tensorflow:Assets written to: /Users/danielhuang/tinyML/model_checkpoint/assets\n"
          ]
        },
        {
          "name": "stdout",
          "output_type": "stream",
          "text": [
            "351/351 [==============================] - 25s 71ms/step - loss: 0.0138 - accuracy: 0.9955 - val_loss: 0.5044 - val_accuracy: 0.9019\n",
            "Epoch 176/182\n",
            "351/351 [==============================] - ETA: 0s - loss: 0.0145 - accuracy: 0.9954INFO:tensorflow:Assets written to: /Users/danielhuang/tinyML/model_checkpoint/assets\n"
          ]
        },
        {
          "name": "stderr",
          "output_type": "stream",
          "text": [
            "INFO:tensorflow:Assets written to: /Users/danielhuang/tinyML/model_checkpoint/assets\n"
          ]
        },
        {
          "name": "stdout",
          "output_type": "stream",
          "text": [
            "351/351 [==============================] - 25s 70ms/step - loss: 0.0145 - accuracy: 0.9954 - val_loss: 0.4650 - val_accuracy: 0.9017\n",
            "Epoch 177/182\n",
            "351/351 [==============================] - ETA: 0s - loss: 0.0150 - accuracy: 0.9955INFO:tensorflow:Assets written to: /Users/danielhuang/tinyML/model_checkpoint/assets\n"
          ]
        },
        {
          "name": "stderr",
          "output_type": "stream",
          "text": [
            "INFO:tensorflow:Assets written to: /Users/danielhuang/tinyML/model_checkpoint/assets\n"
          ]
        },
        {
          "name": "stdout",
          "output_type": "stream",
          "text": [
            "351/351 [==============================] - 24s 69ms/step - loss: 0.0150 - accuracy: 0.9955 - val_loss: 0.4916 - val_accuracy: 0.8992\n",
            "Epoch 178/182\n",
            "351/351 [==============================] - ETA: 0s - loss: 0.0152 - accuracy: 0.9949INFO:tensorflow:Assets written to: /Users/danielhuang/tinyML/model_checkpoint/assets\n"
          ]
        },
        {
          "name": "stderr",
          "output_type": "stream",
          "text": [
            "INFO:tensorflow:Assets written to: /Users/danielhuang/tinyML/model_checkpoint/assets\n"
          ]
        },
        {
          "name": "stdout",
          "output_type": "stream",
          "text": [
            "351/351 [==============================] - 24s 68ms/step - loss: 0.0152 - accuracy: 0.9949 - val_loss: 0.4757 - val_accuracy: 0.8996\n",
            "Epoch 179/182\n",
            "351/351 [==============================] - ETA: 0s - loss: 0.0138 - accuracy: 0.9965INFO:tensorflow:Assets written to: /Users/danielhuang/tinyML/model_checkpoint/assets\n"
          ]
        },
        {
          "name": "stderr",
          "output_type": "stream",
          "text": [
            "INFO:tensorflow:Assets written to: /Users/danielhuang/tinyML/model_checkpoint/assets\n"
          ]
        },
        {
          "name": "stdout",
          "output_type": "stream",
          "text": [
            "351/351 [==============================] - 23s 66ms/step - loss: 0.0138 - accuracy: 0.9965 - val_loss: 0.5051 - val_accuracy: 0.8974\n",
            "Epoch 180/182\n",
            "351/351 [==============================] - ETA: 0s - loss: 0.0154 - accuracy: 0.9955INFO:tensorflow:Assets written to: /Users/danielhuang/tinyML/model_checkpoint/assets\n"
          ]
        },
        {
          "name": "stderr",
          "output_type": "stream",
          "text": [
            "INFO:tensorflow:Assets written to: /Users/danielhuang/tinyML/model_checkpoint/assets\n"
          ]
        },
        {
          "name": "stdout",
          "output_type": "stream",
          "text": [
            "351/351 [==============================] - 24s 67ms/step - loss: 0.0154 - accuracy: 0.9955 - val_loss: 0.4658 - val_accuracy: 0.9058\n",
            "Epoch 181/182\n",
            "351/351 [==============================] - ETA: 0s - loss: 0.0155 - accuracy: 0.9952INFO:tensorflow:Assets written to: /Users/danielhuang/tinyML/model_checkpoint/assets\n"
          ]
        },
        {
          "name": "stderr",
          "output_type": "stream",
          "text": [
            "INFO:tensorflow:Assets written to: /Users/danielhuang/tinyML/model_checkpoint/assets\n"
          ]
        },
        {
          "name": "stdout",
          "output_type": "stream",
          "text": [
            "351/351 [==============================] - 22s 63ms/step - loss: 0.0155 - accuracy: 0.9952 - val_loss: 0.4649 - val_accuracy: 0.9017\n",
            "Epoch 182/182\n",
            "351/351 [==============================] - ETA: 0s - loss: 0.0151 - accuracy: 0.9950INFO:tensorflow:Assets written to: /Users/danielhuang/tinyML/model_checkpoint/assets\n"
          ]
        },
        {
          "name": "stderr",
          "output_type": "stream",
          "text": [
            "INFO:tensorflow:Assets written to: /Users/danielhuang/tinyML/model_checkpoint/assets\n"
          ]
        },
        {
          "name": "stdout",
          "output_type": "stream",
          "text": [
            "351/351 [==============================] - 22s 63ms/step - loss: 0.0151 - accuracy: 0.9950 - val_loss: 0.4860 - val_accuracy: 0.9029\n",
            "Test loss: 0.576532244682312 / Test accuracy: 0.8963000178337097\n"
          ]
        }
      ],
      "source": [
        "if __name__ == \"__main__\": \n",
        "    training_process()"
      ]
    }
  ],
  "metadata": {
    "kernelspec": {
      "display_name": "venv-metal",
      "language": "python",
      "name": "python3"
    },
    "language_info": {
      "codemirror_mode": {
        "name": "ipython",
        "version": 3
      },
      "file_extension": ".py",
      "mimetype": "text/x-python",
      "name": "python",
      "nbconvert_exporter": "python",
      "pygments_lexer": "ipython3",
      "version": "3.10.9"
    }
  },
  "nbformat": 4,
  "nbformat_minor": 4
}
